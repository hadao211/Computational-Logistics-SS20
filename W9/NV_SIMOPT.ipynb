{
 "cells": [
  {
   "cell_type": "code",
   "execution_count": 82,
   "metadata": {},
   "outputs": [
    {
     "name": "stdout",
     "output_type": "stream",
     "text": [
      "     fun: -491.55417509589466\n",
      " message: 'terminated after reaching max number of iterations'\n",
      "    nfev: 1000\n",
      "     nit: 500\n",
      " success: True\n",
      "       x: array([124.84355236])\n"
     ]
    }
   ],
   "source": [
    "# Simulation Optimization of Newsvendor Problem\n",
    "\n",
    "import random\n",
    "import numpy as np\n",
    "from noisyopt import minimizeSPSA\n",
    "\n",
    "replications = 100 #change the confidence interval of demand distribution\n",
    "salesprice = 10\n",
    "procurementcost = 4\n",
    "salvagevalue = 1\n",
    "mu=100\n",
    "sigma=30\n",
    "\n",
    "def nvsim(x):\n",
    "  profit = []\n",
    "  for k in range(replications):\n",
    "    demand = random.normalvariate(mu,sigma)\n",
    "    profit.append(salesprice*min(x,demand)+salvagevalue*(max(0,x-demand))-procurementcost*x)\n",
    "  return -1.0*np.mean(profit)\n",
    "\n",
    "res = minimizeSPSA(nvsim, x0=[100], niter=500, paired=False, disp=False)\n",
    "#if bad starting point => worse solution\n",
    "#more interations, near optimal solution\n",
    "print(res)\n"
   ]
  },
  {
   "cell_type": "code",
   "execution_count": null,
   "metadata": {},
   "outputs": [],
   "source": []
  },
  {
   "cell_type": "code",
   "execution_count": null,
   "metadata": {},
   "outputs": [],
   "source": []
  }
 ],
 "metadata": {
  "kernelspec": {
   "display_name": "Python 3",
   "language": "python",
   "name": "python3"
  },
  "language_info": {
   "codemirror_mode": {
    "name": "ipython",
    "version": 3
   },
   "file_extension": ".py",
   "mimetype": "text/x-python",
   "name": "python",
   "nbconvert_exporter": "python",
   "pygments_lexer": "ipython3",
   "version": "3.7.3"
  }
 },
 "nbformat": 4,
 "nbformat_minor": 4
}
