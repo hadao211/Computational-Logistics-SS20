{
 "cells": [
  {
   "cell_type": "code",
   "execution_count": 2,
   "metadata": {},
   "outputs": [
    {
     "name": "stdout",
     "output_type": "stream",
     "text": [
      "Gurobi Optimizer version 9.0.2 build v9.0.2rc0 (win64)\n",
      "Optimize a model with 7 rows, 12 columns and 24 nonzeros\n",
      "Model fingerprint: 0x4fdb1405\n",
      "Coefficient statistics:\n",
      "  Matrix range     [1e+00, 1e+00]\n",
      "  Objective range  [2e+00, 9e+00]\n",
      "  Bounds range     [0e+00, 0e+00]\n",
      "  RHS range        [3e+00, 8e+00]\n",
      "Presolve time: 0.00s\n",
      "Presolved: 7 rows, 12 columns, 24 nonzeros\n",
      "\n",
      "Iteration    Objective       Primal Inf.    Dual Inf.      Time\n",
      "       0    6.4000000e+01   1.000000e+01   0.000000e+00      0s\n",
      "       4    8.3000000e+01   0.000000e+00   0.000000e+00      0s\n",
      "\n",
      "Solved in 4 iterations and 0.01 seconds\n",
      "Optimal objective  8.300000000e+01\n",
      "Objective: 83.0\n",
      "0.0\n",
      "5.0\n",
      "0.0\n",
      "0.0\n",
      "3.0\n",
      "0.0\n",
      "0.0\n",
      "5.0\n",
      "0.0\n",
      "1.0\n",
      "6.0\n",
      "0.0\n"
     ]
    }
   ],
   "source": [
    "# Transportation Problem with Gurobi\n",
    "\n",
    "import numpy as np\n",
    "import gurobipy as gp\n",
    "from gurobipy import GRB\n",
    "\n",
    "capacity = [5,8,7]\n",
    "demand = [3,6,6,5]\n",
    "cost = [[4,5,2,7],[5,8,6,2],[8,9,4,3]]\n",
    "\n",
    "m = gp.Model(\"Transportation problem\")\n",
    "\n",
    "# Create variables\n",
    "transport = {}\n",
    "for i in range(3):\n",
    "   for j in range(4):\n",
    "       transport[i,j] = m.addVar(obj=cost[i][j]) #continuous, > 0, no ub, obj coef = cost\n",
    "\n",
    "# supply constraints\n",
    "for i in range(3):\n",
    "   m.addConstr(sum(transport[i,j] for j in range(4)) <= capacity[i]) #given i, bounded by capacity\n",
    "    \n",
    "# Demand constraints\n",
    "for j in range(4):\n",
    "   m.addConstr(sum(transport[i,j] for i in range(3)) == demand[j]) #fulfill demand\n",
    "\n",
    "m.optimize()\n",
    "\n",
    "print(\"Objective: \"+str(m.objVal))\n",
    "for v in m.getVars():\n",
    "  print(v.x)\n"
   ]
  },
  {
   "cell_type": "code",
   "execution_count": null,
   "metadata": {},
   "outputs": [],
   "source": []
  }
 ],
 "metadata": {
  "kernelspec": {
   "display_name": "Python 3",
   "language": "python",
   "name": "python3"
  },
  "language_info": {
   "codemirror_mode": {
    "name": "ipython",
    "version": 3
   },
   "file_extension": ".py",
   "mimetype": "text/x-python",
   "name": "python",
   "nbconvert_exporter": "python",
   "pygments_lexer": "ipython3",
   "version": "3.7.3"
  }
 },
 "nbformat": 4,
 "nbformat_minor": 4
}
