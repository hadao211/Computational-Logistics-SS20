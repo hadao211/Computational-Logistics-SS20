{
 "cells": [
  {
   "cell_type": "code",
   "execution_count": 12,
   "metadata": {},
   "outputs": [
    {
     "name": "stdout",
     "output_type": "stream",
     "text": [
      "Gurobi Optimizer version 9.0.2 build v9.0.2rc0 (win64)\n",
      "Optimize a model with 32 rows, 42 columns and 132 nonzeros\n",
      "Model fingerprint: 0x7d239509\n",
      "Variable types: 6 continuous, 36 integer (36 binary)\n",
      "Coefficient statistics:\n",
      "  Matrix range     [1e+00, 6e+00]\n",
      "  Objective range  [1e+00, 1e+02]\n",
      "  Bounds range     [1e+00, 1e+00]\n",
      "  RHS range        [1e+00, 5e+00]\n",
      "Found heuristic solution: objective 24.0000000\n",
      "Presolve removed 0 rows and 7 columns\n",
      "Presolve time: 0.00s\n",
      "Presolved: 32 rows, 35 columns, 120 nonzeros\n",
      "Variable types: 5 continuous, 30 integer (30 binary)\n",
      "\n",
      "Root relaxation: objective 1.725000e+01, 18 iterations, 0.00 seconds\n",
      "\n",
      "    Nodes    |    Current Node    |     Objective Bounds      |     Work\n",
      " Expl Unexpl |  Obj  Depth IntInf | Incumbent    BestBd   Gap | It/Node Time\n",
      "\n",
      "     0     0   17.25000    0    6   24.00000   17.25000  28.1%     -    0s\n",
      "H    0     0                      22.0000000   17.25000  21.6%     -    0s\n",
      "H    0     0                      18.0000000   17.25000  4.17%     -    0s\n",
      "     0     0   17.25000    0    6   18.00000   17.25000  4.17%     -    0s\n",
      "\n",
      "Explored 1 nodes (18 simplex iterations) in 0.03 seconds\n",
      "Thread count was 8 (of 8 available processors)\n",
      "\n",
      "Solution count 3: 18 22 24 \n",
      "\n",
      "Optimal solution found (tolerance 1.00e-04)\n",
      "Best objective 1.800000000000e+01, best bound 1.800000000000e+01, gap 0.0000%\n",
      "Objective: 18.0\n",
      "0 -> 3: 1\n",
      "1 -> 5: 1\n",
      "2 -> 4: 1\n",
      "3 -> 1: 1\n",
      "4 -> 0: 1\n",
      "5 -> 2: 1\n"
     ]
    }
   ],
   "source": [
    "# Travelling salesman - Gurobi\n",
    "\n",
    "import numpy as np\n",
    "import gurobipy as gp\n",
    "from gurobipy import GRB\n",
    "\n",
    "distance = [[100, 3, 5, 2, 6, 4], [2, 100, 7, 5, 1, 3],[2, 4, 100, 3, 2, 6], [5, 3, 6, 100, 4, 4],[1, 4, 5, 2, 100, 6],[6, 5, 7, 3, 3, 100]]\n",
    "\n",
    "m = gp.Model(\"Travelling Salesman Problem\")\n",
    "\n",
    "# Create variables\n",
    "travel = {}\n",
    "z = {}\n",
    "for i in range(6):\n",
    "   z[i] = m.addVar(name='aux_%s' % (i)) \n",
    "   for j in range(6):\n",
    "       travel[i,j] = m.addVar(vtype=GRB.BINARY, obj=distance[i][j]) #travel ~ transportation, distance ~ cost\n",
    "\n",
    "# arrival constraints\n",
    "for i in range(6):\n",
    "   m.addConstr(sum(travel[i,j] for j in range(6)) == 1)\n",
    "    \n",
    "# departure constraints\n",
    "for j in range(6):\n",
    "   m.addConstr(sum(travel[i,j] for i in range(6)) == 1)\n",
    "\n",
    "# subtourelimination\n",
    "\n",
    "for i in range(1,6):\n",
    "  for j in range(1,6):\n",
    "    if i != j:\n",
    "        m.addConstr(z[i]-z[j]+6*travel[i,j] <= 5)\n",
    "\n",
    "m.optimize()\n",
    "\n",
    "print(\"Objective: \"+str(m.objVal))\n",
    "\n",
    "solution = m.getAttr ('x', travel)\n",
    "for i in range(6):\n",
    "    for j in range(6):\n",
    "       if solution[i,j] > 0:\n",
    "          print ('%s -> %s: %g' % (i,j,solution[i,j]))"
   ]
  },
  {
   "cell_type": "code",
   "execution_count": null,
   "metadata": {},
   "outputs": [],
   "source": []
  }
 ],
 "metadata": {
  "kernelspec": {
   "display_name": "Python 3",
   "language": "python",
   "name": "python3"
  },
  "language_info": {
   "codemirror_mode": {
    "name": "ipython",
    "version": 3
   },
   "file_extension": ".py",
   "mimetype": "text/x-python",
   "name": "python",
   "nbconvert_exporter": "python",
   "pygments_lexer": "ipython3",
   "version": "3.7.3"
  }
 },
 "nbformat": 4,
 "nbformat_minor": 4
}
