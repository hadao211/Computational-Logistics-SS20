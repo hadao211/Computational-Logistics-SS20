{
 "cells": [
  {
   "cell_type": "code",
   "execution_count": null,
   "metadata": {},
   "outputs": [],
   "source": [
    "bigM =  max(capacity[i], sum(demand))\n",
    "y0 = [y[i].x for i in y.keys()]\n",
    "bigM\n",
    "\n",
    "model0 = gp.Model()\n",
    "x0 = {}\n",
    "for i in range(locations):\n",
    "    for j in range(customers):\n",
    "        x0[i,j] = model0.addVar(obj=varcost[i][j])\n",
    "\n",
    "#demand constraint\n",
    "demand_constr = {} \n",
    "for j in range(customers):\n",
    "    demand_constr[j] = model0.addConstr(sum(x0[i,j] for i in range(locations)) >= demand[j])\n",
    "        \n",
    "#capacity constraint\n",
    "cap_constr = {}\n",
    "for i in range(locations):\n",
    "    cap_constr[i] = model0.addConstr(sum(x0[i,j] for j in range(customers)) <= capacity[i])\n",
    "\n",
    "#logical constraint\n",
    "log_constr = {}\n",
    "for i in range(locations):\n",
    "    log_constr[i] = model0.addConstr(sum(x0[i,j] for j in range(customers)) <= y0[i] * sum(demand))\n",
    "\n",
    "model0.optimize()\n",
    "\n",
    "print(\"Objective: \" + str(model0.objVal))\n",
    "\n",
    "print(\"Solution:\")\n",
    "import pandas as pd\n",
    "index = ['Source ' + str(x) for x in range(locations)]\n",
    "columns = ['Customer ' + str(x) for x in range(customers)]\n",
    "\n",
    "solution = pd.DataFrame(index=index, columns=columns)\n",
    "\n",
    "for i in range(locations):\n",
    "    for j in range(customers):\n",
    "        solution.iloc[i,j] = x0[i,j].x\n",
    "\n",
    "print(solution)"
   ]
  }
 ],
 "metadata": {
  "kernelspec": {
   "display_name": "Python 3",
   "language": "python",
   "name": "python3"
  },
  "language_info": {
   "codemirror_mode": {
    "name": "ipython",
    "version": 3
   },
   "file_extension": ".py",
   "mimetype": "text/x-python",
   "name": "python",
   "nbconvert_exporter": "python",
   "pygments_lexer": "ipython3",
   "version": "3.7.3"
  }
 },
 "nbformat": 4,
 "nbformat_minor": 2
}
