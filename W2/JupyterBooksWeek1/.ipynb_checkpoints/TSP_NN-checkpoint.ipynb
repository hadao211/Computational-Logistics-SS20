{
 "cells": [
  {
   "cell_type": "code",
   "execution_count": 1,
   "metadata": {},
   "outputs": [
    {
     "name": "stdout",
     "output_type": "stream",
     "text": [
      "[0, 3, 1, 4, 2, 5, 0]\n",
      "23\n"
     ]
    }
   ],
   "source": [
    "# Travelling salesman - Nearest Neighbor\n",
    "distance = [[100, 3, 5, 2, 6, 4], [2, 100, 7, 5, 1, 3],[2, 4, 100, 3, 2, 6], [5, 3, 6, 100, 4, 4],[1, 4, 5, 2, 100, 6],[6, 5, 7, 3, 3, 100]]\n",
    "position = 0\n",
    "tour = [0]\n",
    "length = 0\n",
    "for i in range(5):\n",
    "  nn = 0\n",
    "  nd = 100 #starting distance => maximum value\n",
    "  for j in range(6):  \n",
    "    if (j not in tour) and (distance[position][j]<nd): #node not in the tour yet\n",
    "      nd = distance[position][j]\n",
    "      nn = j\n",
    "  tour.append(nn) # append the list\n",
    "  length = length + nd\n",
    "  position = nn\n",
    "tour.append(0)\n",
    "length = length + distance[position][0]\n",
    "print(tour)\n",
    "print(length)"
   ]
  },
  {
   "cell_type": "code",
   "execution_count": null,
   "metadata": {},
   "outputs": [],
   "source": []
  }
 ],
 "metadata": {
  "kernelspec": {
   "display_name": "Python 3",
   "language": "python",
   "name": "python3"
  },
  "language_info": {
   "codemirror_mode": {
    "name": "ipython",
    "version": 3
   },
   "file_extension": ".py",
   "mimetype": "text/x-python",
   "name": "python",
   "nbconvert_exporter": "python",
   "pygments_lexer": "ipython3",
   "version": "3.7.3"
  }
 },
 "nbformat": 4,
 "nbformat_minor": 4
}
