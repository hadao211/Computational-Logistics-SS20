{
 "cells": [
  {
   "cell_type": "code",
   "execution_count": 18,
   "metadata": {},
   "outputs": [
    {
     "name": "stdout",
     "output_type": "stream",
     "text": [
      "Transportation quantities: \n",
      "[[3. 2. 0. 0.]\n",
      " [0. 4. 4. 0.]\n",
      " [0. 0. 2. 5.]]\n",
      "Total cost: 101.0\n"
     ]
    },
    {
     "data": {
      "text/plain": [
       "'Digraph.gv.pdf'"
      ]
     },
     "execution_count": 18,
     "metadata": {},
     "output_type": "execute_result"
    }
   ],
   "source": [
    "# Transportation Problem\n",
    "import numpy as np\n",
    "capacity = [5,8,7]\n",
    "demand = [3,6,6,5]\n",
    "cost = [[4,5,2,7],[5,8,6,2],[8,9,4,3]] # list of list\n",
    "transport = np.zeros((3,4)) # matrix\n",
    "# North-West corner rule\n",
    "rc = capacity\n",
    "rd = demand\n",
    "tc = 0\n",
    "for i in range(3):\n",
    "  for j in range(4):\n",
    "    if (rc[i] > 0 and rd[j] > 0):\n",
    "      transport[i,j] = min(rc[i],rd[j]) #[i,j] for matrix\n",
    "      rc[i] = rc[i]-transport[i,j]\n",
    "      rd[j] = rd[j]-transport[i,j]\n",
    "      tc = tc+transport[i,j]*cost[i][j] #[][] for list of list\n",
    "print(\"Transportation quantities: \")\n",
    "print(transport)\n",
    "print(\"Total cost: \"+str(tc))\n",
    "\n",
    "# conda install python-graphviz\n",
    "\n",
    "from graphviz import Digraph\n",
    "\n",
    "f = Digraph(comment='TPP')\n",
    "\n",
    "for i in range(3):\n",
    "  f.node('C'+str(i+1))\n",
    "for j in range(4):\n",
    "  f.node('D'+str(j+1))\n",
    "\n",
    "for i in range(3):\n",
    "  for j in range(4):\n",
    "    if transport[i,j]>0:\n",
    "      f.edge('C'+str(i+1),'D'+str(j+1),label=str(transport[i,j]))\n",
    "\n",
    "f.view()\n",
    "\n",
    "\n",
    "    "
   ]
  },
  {
   "cell_type": "code",
   "execution_count": null,
   "metadata": {},
   "outputs": [],
   "source": []
  }
 ],
 "metadata": {
  "kernelspec": {
   "display_name": "Python 3",
   "language": "python",
   "name": "python3"
  },
  "language_info": {
   "codemirror_mode": {
    "name": "ipython",
    "version": 3
   },
   "file_extension": ".py",
   "mimetype": "text/x-python",
   "name": "python",
   "nbconvert_exporter": "python",
   "pygments_lexer": "ipython3",
   "version": "3.7.3"
  }
 },
 "nbformat": 4,
 "nbformat_minor": 4
}
