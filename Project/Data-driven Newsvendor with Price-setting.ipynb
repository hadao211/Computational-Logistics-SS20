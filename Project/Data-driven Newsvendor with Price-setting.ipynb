{
 "cells": [
  {
   "cell_type": "code",
   "execution_count": 1,
   "metadata": {},
   "outputs": [],
   "source": [
    "# Data-driven Newsvendor with Pricing\n",
    "import numpy as np\n",
    "import pandas as pd\n",
    "import gurobipy as gp\n",
    "from gurobipy import GRB\n",
    "from sklearn import linear_model\n",
    "import matplotlib.pyplot as plt\n",
    "%matplotlib inline"
   ]
  },
  {
   "cell_type": "code",
   "execution_count": 2,
   "metadata": {},
   "outputs": [],
   "source": [
    "#Initalization\n",
    "a = 0 #y-intercept or market size\n",
    "b = 0 #coefficient of price\n",
    "p = [] #price sampling\n",
    "D = [] #demand sampling\n",
    "u = [] #estimation error term sampling\n",
    "sigma = 0 #std of estimation error terms sampling\n"
   ]
  },
  {
   "cell_type": "code",
   "execution_count": 3,
   "metadata": {},
   "outputs": [],
   "source": [
    "#Parameters for example illustration\n",
    "n = 200 #sample size\n",
    "cv = 0.3 #coefficient of variance\n",
    "c = 0.5 #procurement cost per unit\n",
    "alpha = 0.9 #non-stockout probability\n",
    "\n",
    "#Sampling range\n",
    "lbp = 1 #lower bound of price\n",
    "ubp = 1.5 #upper bound of price\n",
    "lba = 1500 #lb of a\n",
    "uba = 2000 #up of a\n",
    "lbb = 500 #lb of b\n",
    "ubb = 1000 #ub of b"
   ]
  },
  {
   "cell_type": "code",
   "execution_count": null,
   "metadata": {},
   "outputs": [],
   "source": []
  },
  {
   "cell_type": "markdown",
   "metadata": {},
   "source": [
    "# IMPLEMENTATION"
   ]
  },
  {
   "cell_type": "markdown",
   "metadata": {},
   "source": [
    "We can divide the main problem into two subproblems as follows:  \n",
    "1) to learn the relationship between demand/ ordering quantity and price   \n",
    "2) to find optimal quantity and price   \n"
   ]
  },
  {
   "cell_type": "code",
   "execution_count": null,
   "metadata": {},
   "outputs": [],
   "source": []
  },
  {
   "cell_type": "markdown",
   "metadata": {},
   "source": [
    "## DEMAND/ ORDERING QUANTITY ESTIMATION (BEUTEL 2012)"
   ]
  },
  {
   "cell_type": "markdown",
   "metadata": {},
   "source": [
    "**Reference:** Beutel, A. L., & Minner, S. (2012). *Safety stock planning under causal demand forecasting*. International Journal of Production Economics, 140(2), 637-645."
   ]
  },
  {
   "cell_type": "markdown",
   "metadata": {},
   "source": [
    "### Function to generate sampling of demand and price:\n",
    "Demand is presented here as a function of price p: D(p) = a - b\\*p + u.  \n",
    "The true demand function is built by randomly choose a, b, p and D with some assumptions. In more detail:\n",
    "- market size a ~ U(1500, 2000)\n",
    "- slope b ~ U(500, 1000)\n",
    "- uniformly chosen sample of price p (with size = sampleSize) in range [1, 1.5] \n",
    "- D equals to the sum of prediction value plus estimation error u ~ N(0, sigma). Sigma is chosen so that the coefficient of variation at mean price p equals coefVar.\n",
    "\n",
    "It should be noticed that here we will focus on the case that demand is relatively elastic with price. The reason is that in case of relatively price elasticity, demand responds weakly with the changes of price. Therefore, the vendor has the incentive to increase price as much as possible while only facing a little decrease in demand quantity. Combining with a ratio between overage and underage cost that is low enough (co < cu), it may lead to an ordering quantity function increasing with price increase and an unbound problem in price-setting newsvendor problem. Therefore, in the sampling generation function, we will reject the sample with relatively low price elasticity (<1) by checking the arc elasticity over the defined price range from OLS linear regression demand function.\n"
   ]
  },
  {
   "cell_type": "code",
   "execution_count": 4,
   "metadata": {},
   "outputs": [],
   "source": [
    "# Demand - Price generation\n",
    "def samplingDemand(sampleSize, coefVar):\n",
    "    \n",
    "    global a, b, p, D, u, sigma\n",
    "    a = 0; b = 0; p = []; D = []; u = []; sigma = 0;\n",
    "    \n",
    "    lowElasticity = True\n",
    "    while lowElasticity:\n",
    "        a = np.random.uniform(low = lba, high = uba)\n",
    "        b = np.random.uniform(low = lbb, high = ubb)\n",
    "        p = np.random.uniform(size = [sampleSize, 1])*(ubp - lbp) + lbp # uniformly chosen in price range [1, 1.5]\n",
    "\n",
    "        meanP = np.mean(p)\n",
    "        sigma = (a - b*meanP)*coefVar\n",
    "        u = np.zeros(shape = (sampleSize,))\n",
    "        D = np.repeat(-1, repeats = sampleSize)\n",
    "        for i in range(sampleSize):\n",
    "            while D[i] < 0:\n",
    "                u[i] = np.random.normal(loc = 0, scale = sigma)\n",
    "                D[i] = a - b*p[i] + u[i]\n",
    " \n",
    "\n",
    "        #check Arc price elasticity\n",
    "        # OLS Linear regression for comparison\n",
    "        reg = linear_model.LinearRegression().fit(p, D)\n",
    "        coef2 = reg.coef_\n",
    "        coef1 = reg.intercept_\n",
    "        Q1 = coef1 + coef2*lbp\n",
    "        Q2 = coef1 + coef2*ubp\n",
    "        arcElasticity = ((lbp + ubp) / (Q1 + Q2)) * ((Q2 - Q1) / (ubp - lbp))\n",
    "        if abs(arcElasticity) >= 1: lowElasticity = False\n",
    "    \n",
    "    return coef1, coef2"
   ]
  },
  {
   "cell_type": "markdown",
   "metadata": {},
   "source": [
    "Sampling example:"
   ]
  },
  {
   "cell_type": "code",
   "execution_count": 5,
   "metadata": {},
   "outputs": [
    {
     "data": {
      "text/plain": [
       "Text(0.5, 1.0, 'Demand sampling')"
      ]
     },
     "execution_count": 5,
     "metadata": {},
     "output_type": "execute_result"
    },
    {
     "data": {
      "image/png": "[encoded data removed]",
      "text/plain": [
       "<Figure size 432x288 with 1 Axes>"
      ]
     },
     "metadata": {
      "needs_background": "light"
     },
     "output_type": "display_data"
    }
   ],
   "source": [
    "coef1, coef2 = samplingDemand(sampleSize = n, coefVar = cv)\n",
    "plt.plot(p,D, 'o', label = 'D(p) = ' + str(round(a,0)) + ' - ' + str(round(b,2)) + 'p + u')\n",
    "plt.plot(p, coef1 + coef2*p, label = 'Demand prediction with OLS Linear regression')\n",
    "plt.legend(loc = 8)\n",
    "plt.xlabel('Price')\n",
    "plt.ylabel('Demand')\n",
    "plt.legend()\n",
    "plt.title('Demand sampling')"
   ]
  },
  {
   "cell_type": "code",
   "execution_count": null,
   "metadata": {},
   "outputs": [],
   "source": []
  },
  {
   "cell_type": "markdown",
   "metadata": {},
   "source": [
    "### Optimization model to find the ordering quantity as a function of price\n",
    "Here we use the approach presented in Beutel (2012) that integrates demand estimation and ordering optimization in a single model (instead of sequential steps) to learn about the relationship between ordering quantity and price. The main idea is to predict the ordering quantity by exploring historical data of demand-price with consideration of the overage and underage costs during estimating (i.e. different weights applied to the positive/negative errors in regression).  \n",
    "  \n",
    "There is a slight difference in two models below to the base models in Beutel (2012). In her models, Beutel assumes fixed holding cost and penalty cost, representing the overage and underage cost respectively. In other words, these costs are **independent with selling price**. However, here we will define the overage and underage cost as in the traditional newsvendor model, i.e.:     \n",
    "- overage cost (co) = procurement cost (c)\n",
    "- underage cost (cu) = selling price - procurement cost (p-c)\n",
    "\n",
    "Therefore, the underage cost and so the critical fractile **depends on the selling price**. This modification is to match with the model in the second step and is more logical especially when considering the context of price-setting newsvendor, since it causes the trade-off characteristic in price decision. For example, increasing price affects the total cost (expected profit) in both positive way by decreasing underage cost (increasing revenue) per unit and negative way by decreasing demand.\n"
   ]
  },
  {
   "cell_type": "code",
   "execution_count": null,
   "metadata": {},
   "outputs": [],
   "source": []
  },
  {
   "cell_type": "markdown",
   "metadata": {},
   "source": [
    "Two following models assume ordering quantity is a linear function of the price: *q = beta0 + beta1 * p*. The decision variables in these models are the coefficients beta0 and beta1, as well as the waste (overage) and shortage (underage) for each demand observation. The objective function is considered as a cost minimization objective or with a service level constraint in each model."
   ]
  },
  {
   "cell_type": "markdown",
   "metadata": {},
   "source": [
    "#### The cost model"
   ]
  },
  {
   "cell_type": "code",
   "execution_count": 6,
   "metadata": {},
   "outputs": [],
   "source": [
    "# Cost model\n",
    "def costModel(sampleSize, procurementCost):\n",
    "    \n",
    "    baseCostModel = gp.Model(\"Base Cost model\")\n",
    "\n",
    "    #### Variables\n",
    "    betaC0 = baseCostModel.addVar(lb = - GRB.INFINITY, vtype = GRB.CONTINUOUS) # ~ a\n",
    "    betaC1 = baseCostModel.addVar(lb = - GRB.INFINITY, vtype = GRB.CONTINUOUS) # ~ b\n",
    "\n",
    "    waste = {} # = q - D (overage)\n",
    "    shortage = {} # = D - q (underage)\n",
    "    sales = {} # = min(D, q)\n",
    "    for i in range(sampleSize):\n",
    "        #overage cost per unit = c(co)\n",
    "        waste[i] = baseCostModel.addVar(lb = 0, vtype = GRB.CONTINUOUS, obj = procurementCost) \n",
    "        #underage cost per unit = p-c (cu)\n",
    "        shortage[i] = baseCostModel.addVar(lb = 0, vtype = GRB.CONTINUOUS, obj = p[i] - procurementCost)\n",
    "\n",
    "        sales[i] = baseCostModel.addVar(lb = 0, vtype = GRB.CONTINUOUS)\n",
    "\n",
    "    #### Constraints\n",
    "    for i in range(sampleSize):\n",
    "        baseCostModel.addConstr(shortage[i] == D[i] - sales[i])\n",
    "        baseCostModel.addConstr(waste[i] >= betaC0 + betaC1 * p[i] - D[i])\n",
    "        baseCostModel.addConstr(sales[i] <= D[i])\n",
    "        baseCostModel.addConstr(sales[i] <= betaC0 + betaC1 * p[i])\n",
    "        \n",
    "    baseCostModel.Params.OutputFlag = 0\n",
    "    baseCostModel.optimize()\n",
    "    obj = baseCostModel.objVal; beta0 = betaC0.x; beta1 = betaC1.x;\n",
    "    baseCostModel.dispose()\n",
    "    \n",
    "    return obj, beta0, beta1"
   ]
  },
  {
   "cell_type": "code",
   "execution_count": null,
   "metadata": {},
   "outputs": [],
   "source": []
  },
  {
   "cell_type": "markdown",
   "metadata": {},
   "source": [
    "Example of ordering quantity function with Cost model"
   ]
  },
  {
   "cell_type": "code",
   "execution_count": 7,
   "metadata": {},
   "outputs": [
    {
     "name": "stdout",
     "output_type": "stream",
     "text": [
      "Using license file C:\\Users\\hadao\\gurobi.lic\n",
      "Academic license - for non-commercial use only\n",
      "Objective: 21316.996052831353\n",
      "Estimation of a: 1870.1263400661758\n",
      "Estimation of b: -833.7790939455431\n",
      "\n",
      "Ordering quantity - price function: D =  1870.0 + -833.78 * p\n"
     ]
    },
    {
     "data": {
      "image/png": "[encoded data removed]",
      "text/plain": [
       "<Figure size 432x288 with 1 Axes>"
      ]
     },
     "metadata": {
      "needs_background": "light"
     },
     "output_type": "display_data"
    }
   ],
   "source": [
    "objC, betaC0, betaC1 = costModel(sampleSize = n, procurementCost = c)\n",
    "print(\"Objective:\",objC)\n",
    "print('Estimation of a:', betaC0)\n",
    "print('Estimation of b:', betaC1)\n",
    "\n",
    "print('\\nOrdering quantity - price function: D = ', round(betaC0,0),'+', round(betaC1,2),'* p')\n",
    "\n",
    "\n",
    "#Plot\n",
    "plt.plot(p,D,'o')\n",
    "plt.plot(p, betaC0 + betaC1*p, label='Ordering quantity function')\n",
    "plt.plot(p, coef1 + coef2*p, label = 'Demand prediction with OLS Linear regression')\n",
    "plt.legend(loc = 8)\n",
    "plt.xlabel('Price')\n",
    "plt.ylabel('Demand')\n",
    "plt.title('Cost model')\n",
    "plt.show()"
   ]
  },
  {
   "cell_type": "code",
   "execution_count": null,
   "metadata": {},
   "outputs": [],
   "source": []
  },
  {
   "cell_type": "markdown",
   "metadata": {},
   "source": [
    "#### The service level model"
   ]
  },
  {
   "cell_type": "code",
   "execution_count": 8,
   "metadata": {},
   "outputs": [],
   "source": [
    "# Service level model\n",
    "def SLModel(sampleSize, procurementCost, nonStockOut):\n",
    "    \n",
    "    baseSLModel = gp.Model(\"Base Service level model\")\n",
    "\n",
    "    #### Variables\n",
    "    betaSL0 = baseSLModel.addVar(lb = - GRB.INFINITY, vtype = GRB.CONTINUOUS) # ~ a\n",
    "    betaSL1 = baseSLModel.addVar(lb = - GRB.INFINITY, vtype = GRB.CONTINUOUS) # ~ b\n",
    "\n",
    "    waste = {}\n",
    "    sales = {}\n",
    "    unfulfilled = {} # binary variable = 1 if D > q (underage, unfulfilled demand existing), = 0 otherwise\n",
    "    for i in range(sampleSize):\n",
    "        waste[i] = baseSLModel.addVar(lb = 0, vtype = GRB.CONTINUOUS, obj = procurementCost)   \n",
    "        sales[i] = baseSLModel.addVar(lb = 0, vtype = GRB.CONTINUOUS)\n",
    "        unfulfilled[i] = baseSLModel.addVar(vtype = GRB.BINARY)\n",
    "\n",
    "    #### Constraints\n",
    "    for i in range(sampleSize):\n",
    "        baseSLModel.addConstr(waste[i] >= betaSL0 + betaSL1 * p[i] - D[i])\n",
    "        baseSLModel.addConstr(sales[i] <= D[i])\n",
    "        baseSLModel.addConstr(sales[i] <= betaSL0 + betaSL1 * p[i])\n",
    "\n",
    "        #if D < q then unfulfilled must equal to 1\n",
    "        baseSLModel.addConstr(D[i] - unfulfilled[i]*np.max(D) <= betaSL0 + betaSL1 * p[i])\n",
    "\n",
    "    #non-stockout (alpha level)    \n",
    "    baseSLModel.addConstr(sum(unfulfilled[i] for i in range(sampleSize)) <= sampleSize*(1-nonStockOut)) \n",
    "\n",
    "    #fillrate (beta level)\n",
    "    #baseSLModel.addConstr( sum(sales[i] for i in range(sampleSize)) >= fillRate * sum(D[i] for i in range(sampleSize)) )\n",
    "\n",
    "    baseSLModel.Params.OutputFlag = 0\n",
    "    baseSLModel.optimize()\n",
    "    obj = baseSLModel.objVal; beta0 = betaSL0.x; beta1 = betaSL1.x;\n",
    "    baseSLModel.dispose()\n",
    "    \n",
    "    return obj, beta0, beta1"
   ]
  },
  {
   "cell_type": "code",
   "execution_count": null,
   "metadata": {},
   "outputs": [],
   "source": []
  },
  {
   "cell_type": "markdown",
   "metadata": {},
   "source": [
    "Example of ordering quantity function with Service level model (alpha level)"
   ]
  },
  {
   "cell_type": "code",
   "execution_count": 9,
   "metadata": {
    "scrolled": false
   },
   "outputs": [
    {
     "name": "stdout",
     "output_type": "stream",
     "text": [
      "Objective: 25851.408900537524\n",
      "Estimation of a: 2454.5882325387847\n",
      "Estimation of b: -1161.379976876837\n",
      "\n",
      "Ordering quantity - price function: D =  2455.0 + -1161.38 * p\n"
     ]
    },
    {
     "data": {
      "image/png": "[encoded data removed]",
      "text/plain": [
       "<Figure size 432x288 with 1 Axes>"
      ]
     },
     "metadata": {
      "needs_background": "light"
     },
     "output_type": "display_data"
    }
   ],
   "source": [
    "objSL, betaSL0, betaSL1 = SLModel(sampleSize = n, procurementCost = c, nonStockOut = alpha)\n",
    "print(\"Objective:\",objSL)\n",
    "print('Estimation of a:', betaSL0)\n",
    "print('Estimation of b:', betaSL1)\n",
    "\n",
    "print('\\nOrdering quantity - price function: D = ', round(betaSL0,0),'+', round(betaSL1,2),'* p')\n",
    "\n",
    "\n",
    "# OLS Linear regression for comparison\n",
    "reg = linear_model.LinearRegression().fit(p, D)\n",
    "coef2 = reg.coef_\n",
    "coef1 = reg.intercept_\n",
    "\n",
    "#Plot\n",
    "plt.plot(p,D,'o')\n",
    "plt.plot(p, betaSL0 + betaSL1*p, label='Ordering quantity function (alpha level = ' +str(alpha)+')' )\n",
    "plt.plot(p, coef1 + coef2*p, label = 'Demand prediction with OLS Linear regression')\n",
    "plt.legend(loc = 8)\n",
    "plt.xlabel('Price')\n",
    "plt.ylabel('Demand')\n",
    "plt.title('Service Level model (alpha level)')\n",
    "plt.show()"
   ]
  },
  {
   "cell_type": "code",
   "execution_count": null,
   "metadata": {},
   "outputs": [],
   "source": []
  },
  {
   "cell_type": "code",
   "execution_count": null,
   "metadata": {},
   "outputs": [],
   "source": []
  },
  {
   "cell_type": "markdown",
   "metadata": {},
   "source": [
    "## PRICE AND QUANTITY-SETTING NEWSVENDOR"
   ]
  },
  {
   "cell_type": "markdown",
   "metadata": {},
   "source": [
    "**Reference:**   \n",
    "Kyparisis, G.J. & Koulamas, C. (2018). *The price-setting newsvendor problem with nonnegative linear additive demand.* European Journal of Operational Research, 269(2), 695-698.   \n",
    "DeYong, G. D. (2020). *The price-setting newsvendor: review and extensions.* International Journal of Production Research, 58(6), 1776-1804."
   ]
  },
  {
   "cell_type": "markdown",
   "metadata": {},
   "source": [
    " ### Basic approach"
   ]
  },
  {
   "cell_type": "markdown",
   "metadata": {},
   "source": [
    "From the previous model, we obtain the ordering quantity function of price: *q = beta0 + beta1 * p*. It means that at a certain selling price p, we can calculate a corresponding ordering quantity q, which also represents the estimated demand level at that selling price. So if the relationship between demand and price is captured completely, the expected profit is:  \n",
    "$\\Pi(p)  = p*q(p) - c*q(p) = beta1*p^2 + (beta0 - beta1*c)*p - beta0*c$  \n",
    "By taking the first-order derivative, we can find the optimal price p* as $\\frac{1}{2\\beta_{1}}(-\\beta_{0}+\\beta_{1}*c) $   (1)  and so, the optimal ordering quantity q*.   \n",
    "\n",
    "Below is the optimization model of this approach (hereinafter called as \"Basic approach\"). The optimal price from this model is similar to the one calculated from equation (1)."
   ]
  },
  {
   "cell_type": "markdown",
   "metadata": {},
   "source": [
    "To make the problem logical, the lower bound of price is procurement cost per unit (p >= c) and the upper bound is -beta0/beta1 so that the expected demand is non-negative."
   ]
  },
  {
   "cell_type": "code",
   "execution_count": 10,
   "metadata": {},
   "outputs": [],
   "source": [
    "#Price-setting \n",
    "def NV_Price(procurementCost, beta0, beta1):\n",
    "    pricingNV = gp.Model(\"Pricing NV model\")\n",
    "\n",
    "    #### Variables\n",
    "    price = pricingNV.addVar(lb = procurementCost, ub = -beta0/beta1, vtype = GRB.CONTINUOUS)\n",
    "    quantity = pricingNV.addVar()\n",
    "\n",
    "    pricingNV.addConstr(quantity == beta0 + beta1*price)\n",
    "\n",
    "    pricingNV.setObjective( price * quantity - procurementCost*quantity) #maximize expected profit\n",
    "    pricingNV.modelSense = 0 #maximization\n",
    "\n",
    "    pricingNV.Params.OutputFlag = 0\n",
    "    pricingNV.Params.NonConvex = 2 #enable Quadratic Optimization mode of Gurobi\n",
    "    pricingNV.optimize()\n",
    "    \n",
    "    return pricingNV.objVal, price.x, quantity.x"
   ]
  },
  {
   "cell_type": "code",
   "execution_count": null,
   "metadata": {},
   "outputs": [],
   "source": []
  },
  {
   "cell_type": "markdown",
   "metadata": {},
   "source": [
    "Example with results from Cost model:"
   ]
  },
  {
   "cell_type": "code",
   "execution_count": 11,
   "metadata": {},
   "outputs": [
    {
     "name": "stdout",
     "output_type": "stream",
     "text": [
      "\n",
      "\n",
      "\n",
      "Optimal price from LP model: 1.371475912292615\n",
      "Optimal price from equation (1): 1.371475912292615\n"
     ]
    }
   ],
   "source": [
    "objVal, price, quantity = NV_Price(procurementCost = c, beta0 = betaC0, beta1 = betaC1)\n",
    "\n",
    "print('\\n\\n')\n",
    "print('Optimal price from LP model:', price)\n",
    "print('Optimal price from equation (1):', 0.5*(-betaC0+betaC1*c)/betaC1)"
   ]
  },
  {
   "cell_type": "code",
   "execution_count": null,
   "metadata": {},
   "outputs": [],
   "source": []
  },
  {
   "cell_type": "markdown",
   "metadata": {},
   "source": [
    "### Data-driven approach"
   ]
  },
  {
   "cell_type": "markdown",
   "metadata": {},
   "source": [
    "However, another approach is proposed here to make the solution more data-driven and robust. Using error terms obtained from historical data, we can generate the distribution of estimated demand at a certain price and then solve a data-driven quantity-setting newsvendor problem with this given price. In detail, demands at certain price p have the form of d(p) = beta0 + beta1 * p + u, with E[d(p)] = beta0 + beta1 * p, which is the estimated demand level from the previous model. u are error terms of all observations, which are independent with prices according to previously-mentioned assumptions.\n"
   ]
  },
  {
   "cell_type": "code",
   "execution_count": 12,
   "metadata": {},
   "outputs": [],
   "source": [
    "#Newsvendor with Price-setting\n",
    "def DDNV_Price(sampleSize, procurementCost, beta0, beta1):\n",
    "\n",
    "    M = beta0*2\n",
    "    \n",
    "    pricingNV = gp.Model(\"Pricing NV model\")\n",
    "\n",
    "    #### Variables\n",
    "     #same price range to avoid extrapolation ?\n",
    "    price = pricingNV.addVar(lb = procurementCost, ub = -beta0/beta1, vtype = GRB.CONTINUOUS)\n",
    "    quantity = pricingNV.addVar()\n",
    "\n",
    "    sales = {}\n",
    "    z = {} #binary variable = 1 if D = a - bp + u > 0, =0 otherwise ==> to ensure demand not negative: D = max(0, a-bp+u)\n",
    "\n",
    "    for t in range(sampleSize):\n",
    "        sales[t] = pricingNV.addVar()\n",
    "        z[t] = pricingNV.addVar(vtype = GRB.BINARY)\n",
    "\n",
    "    for t in range(sampleSize):\n",
    "        pricingNV.addConstr(M*z[t] >= beta0 + beta1*price + u[t] ) #if a-bp+u > 0, z must equal to 1\n",
    "        pricingNV.addConstr(sales[t] <= 0 + M*z[t] )\n",
    "        pricingNV.addConstr(sales[t] <= beta0 + beta1*price + u[t] + M*(1-z[t]) )\n",
    "        pricingNV.addConstr(sales[t] <= quantity)\n",
    "\n",
    "    pricingNV.setObjective( price * sum(sales[t] for t in range(sampleSize)) / sampleSize - procurementCost*quantity) #maximize expected profit\n",
    "    pricingNV.modelSense = 0 #maximization\n",
    "    \n",
    "    pricingNV.Params.OutputFlag = 0\n",
    "\n",
    "    pricingNV.Params.NonConvex = 2 #enable Quadratic Optimization mode of Gurobi\n",
    "    pricingNV.optimize()\n",
    "\n",
    "    \n",
    "    return pricingNV.objVal, price.x, quantity.x"
   ]
  },
  {
   "cell_type": "code",
   "execution_count": null,
   "metadata": {},
   "outputs": [],
   "source": []
  },
  {
   "cell_type": "markdown",
   "metadata": {},
   "source": [
    "Example run with results from Cost model"
   ]
  },
  {
   "cell_type": "code",
   "execution_count": 13,
   "metadata": {},
   "outputs": [
    {
     "name": "stdout",
     "output_type": "stream",
     "text": [
      "Objective:  522.2095949031229\n",
      "Optimal price: 1.3453257400250487\n",
      "Optima ordering quantity: 841.3100392772712\n"
     ]
    }
   ],
   "source": [
    "objValDD, priceDD, quantityDD = DDNV_Price(sampleSize = n, procurementCost = c, beta0 = betaC0, beta1 = betaC1)\n",
    "\n",
    "print(\"Objective: \", objValDD)\n",
    "print('Optimal price:', priceDD)\n",
    "print('Optima ordering quantity:', quantityDD)"
   ]
  },
  {
   "cell_type": "code",
   "execution_count": null,
   "metadata": {},
   "outputs": [],
   "source": []
  },
  {
   "cell_type": "code",
   "execution_count": 14,
   "metadata": {},
   "outputs": [],
   "source": [
    "# method to combine two steps"
   ]
  },
  {
   "cell_type": "code",
   "execution_count": 15,
   "metadata": {},
   "outputs": [],
   "source": [
    "def DDNV_main(sampleSize, procurementCost, estimationModel = 'cost', nonStockOut = None):\n",
    "\n",
    "    if estimationModel == 'service' and nonStockOut is not None:\n",
    "        (estObjVal, estBeta0, estBeta1) = SLModel(sampleSize, procurementCost)\n",
    "    else:                \n",
    "        (estObjVal, estBeta0, estBeta1) = costModel(sampleSize, procurementCost)\n",
    "    print('\\nOrdering quantity parameters:', estBeta0, estBeta1)\n",
    "\n",
    "    (optV, optP, optQ) = NV_Price(procurementCost, estBeta0, estBeta1)\n",
    "    print('Basic approach', optV, optP, optQ)\n",
    "\n",
    "    (optVDD, optPDD, optQDD) = DDNV_Price(sampleSize, procurementCost, estBeta0, estBeta1)\n",
    "    print('Data-driven approach', optVDD, optPDD, optQDD,'\\n')\n",
    "\n",
    "        \n",
    "    return optV, optP, optQ, optVDD, optPDD, optQDD\n"
   ]
  },
  {
   "cell_type": "code",
   "execution_count": 16,
   "metadata": {},
   "outputs": [
    {
     "name": "stdout",
     "output_type": "stream",
     "text": [
      "\n",
      "Ordering quantity parameters: 1870.1263400661758 -833.7790939455431\n",
      "Basic approach 633.2304300191344 1.371475912292615 726.6183965467021\n",
      "Data-driven approach 522.2095949031229 1.3453257400250487 841.3100392772712 \n",
      "\n"
     ]
    },
    {
     "data": {
      "text/plain": [
       "(633.2304300191344,\n",
       " 1.371475912292615,\n",
       " 726.6183965467021,\n",
       " 522.2095949031229,\n",
       " 1.3453257400250487,\n",
       " 841.3100392772712)"
      ]
     },
     "execution_count": 16,
     "metadata": {},
     "output_type": "execute_result"
    }
   ],
   "source": [
    "DDNV_main(sampleSize = n, procurementCost = c, estimationModel = 'cost', nonStockOut = None)"
   ]
  },
  {
   "cell_type": "code",
   "execution_count": null,
   "metadata": {},
   "outputs": [],
   "source": []
  },
  {
   "cell_type": "code",
   "execution_count": null,
   "metadata": {},
   "outputs": [],
   "source": []
  },
  {
   "cell_type": "markdown",
   "metadata": {},
   "source": [
    "# ANALYSIS"
   ]
  },
  {
   "cell_type": "markdown",
   "metadata": {},
   "source": [
    "## Sensitivity analysis"
   ]
  },
  {
   "cell_type": "markdown",
   "metadata": {},
   "source": [
    "### 1. Procurement cost's effect       "
   ]
  },
  {
   "cell_type": "markdown",
   "metadata": {},
   "source": [
    "Here we want to learn about the influence of procurement cost (c) on the optimal price and ordering quantity. To do so, for a certain sampling set, we run the model with different procurement costs from 0.1 to 0.9 (since c < p). Then this test is done for multiple times to get the average optimal price and ordering quantity over all test instances."
   ]
  },
  {
   "cell_type": "code",
   "execution_count": 17,
   "metadata": {},
   "outputs": [
    {
     "name": "stdout",
     "output_type": "stream",
     "text": [
      "Test run =  0\n",
      "Considering c = 0.1\n",
      "\n",
      "Ordering quantity parameters: 2104.4513257499098 -610.248960283761\n",
      "Basic approach 1710.6098680376595 1.774256379536768 1021.7132148607668\n",
      "Data-driven approach 1615.3482791039287 1.7557369549065318 1466.620074162419 \n",
      "\n",
      "Considering c = 0.2\n",
      "\n",
      "Ordering quantity parameters: 1875.3916046364545 -513.6545873279745\n",
      "Basic approach 1529.3964024479021 1.9255376773642972 886.3303435854299\n",
      "Data-driven approach 1390.5410950729636 1.8856735807542144 1238.4139422506532 \n",
      "\n",
      "Considering c = 0.30000000000000004\n",
      "\n",
      "Ordering quantity parameters: 1674.1324626591268 -437.14350165339494\n",
      "Basic approach 1361.5759567753857 2.0648545687252637 771.4947060815543\n",
      "Data-driven approach 1185.6140796657376 2.0118120706801546 1094.1192084773284 \n",
      "\n",
      "Considering c = 0.4\n",
      "\n",
      "Ordering quantity parameters: 1675.3656562580736 -504.1073558605236\n",
      "Basic approach 1077.0814055064864 1.861715145376309 736.8613569569321\n",
      "Data-driven approach 885.3395160669155 1.8023701814772342 975.080130703696 \n",
      "\n",
      "Considering c = 0.5\n",
      "\n",
      "Ordering quantity parameters: 1628.0393733718504 -523.9145016527045\n",
      "Basic approach 890.498525833647 1.8037261979160242 683.041061272749\n",
      "Data-driven approach 688.2876300658723 1.7257396362940682 847.8853874655513 \n",
      "\n",
      "Considering c = 0.6000000000000001\n",
      "\n",
      "Ordering quantity parameters: 1453.9778896288194 -426.6788520770861\n",
      "Basic approach 840.8745240618257 2.003831678733091 598.9852891912838\n",
      "Data-driven approach 612.9275809022772 1.9204306923549463 745.1937373086153 \n",
      "\n",
      "Considering c = 0.7000000000000001\n",
      "\n",
      "Ordering quantity parameters: 1561.255245667136 -567.7093342988691\n",
      "Basic approach 596.5055614132914 1.7250480671550994 581.9293558289638\n",
      "Data-driven approach 389.92502034100056 1.6339095003100732 649.4836247985633 \n",
      "\n",
      "Considering c = 0.8\n",
      "\n",
      "Ordering quantity parameters: 1516.4606453603215 -574.0284236358272\n",
      "Basic approach 486.80167427885425 1.7208933416182093 528.6189532258298\n",
      "Data-driven approach 283.4843728083862 1.6219583144345247 555.3999479958906 \n",
      "\n",
      "Considering c = 0.9\n",
      "\n",
      "Ordering quantity parameters: 1365.7082350973506 -487.95827928364076\n",
      "Basic approach 439.83631686224135 1.8494108646976053 463.2728918710369\n",
      "Data-driven approach 227.10175273971973 1.704687113494189 452.09695070880366 \n",
      "\n",
      "Test run =  1\n",
      "Considering c = 0.1\n",
      "\n",
      "Ordering quantity parameters: 2158.267626276703 -934.3554239113109\n",
      "Basic approach 1140.7681235465081 1.2049500174366017 1032.4160419427856\n",
      "Data-driven approach 1109.083786572023 1.2049500174366012 1338.124470393887 \n",
      "\n",
      "Considering c = 0.2\n",
      "\n",
      "Ordering quantity parameters: 2184.994894643916 -1023.9533142984379\n",
      "Basic approach 957.3700150242651 1.1669406818322405 990.1021158921142\n",
      "Data-driven approach 900.1851431201984 1.1617184711391317 1211.8240946185642 \n",
      "\n",
      "Considering c = 0.30000000000000004\n",
      "\n",
      "Ordering quantity parameters: 1833.469339710489 -808.86235378298\n",
      "Basic approach 782.1721644175365 1.2833630073989162 795.4053167877978\n",
      "Data-driven approach 704.580832681335 1.2686758028176222 957.5834970230799 \n",
      "\n",
      "Considering c = 0.4\n",
      "\n",
      "Ordering quantity parameters: 1850.5435964765868 -850.6491550652937\n",
      "Basic approach 670.3579110955882 1.2877243487854542 755.1419672252346\n",
      "Data-driven approach 579.981142091195 1.2647296868461673 876.4516942519691 \n",
      "\n",
      "Considering c = 0.5\n",
      "\n",
      "Ordering quantity parameters: 1993.9287010765372 -1016.2498538650314\n",
      "Basic approach 543.0782712697473 1.2310228722263374 742.9018870720106\n",
      "Data-driven approach 448.3708567602215 1.1990168405141672 809.1259080215686 \n",
      "\n",
      "Considering c = 0.6000000000000001\n",
      "\n",
      "Ordering quantity parameters: 1963.9210314423208 -1020.0696798277366\n",
      "Basic approach 447.9050478598426 1.2626406265569898 675.9396117728393\n",
      "Data-driven approach 348.75135606179924 1.2229849253114253 713.7101197883347 \n",
      "\n",
      "Considering c = 0.7000000000000001\n",
      "\n",
      "Ordering quantity parameters: 1841.0026676761706 -947.7208828843845\n",
      "Basic approach 365.80843358006433 1.3212789392553461 588.799024828551\n",
      "Data-driven approach 262.952201629738 1.273303315013534 612.7264423023134 \n",
      "\n",
      "Considering c = 0.8\n",
      "\n",
      "Ordering quantity parameters: 1588.965429059033 -787.0926525476586\n",
      "Basic approach 292.2908150480279 1.4093890623396592 479.64565351045286\n",
      "Data-driven approach 184.87519142877036 1.3498539398997398 481.85270894316227 \n",
      "\n",
      "Considering c = 0.9\n",
      "\n",
      "Ordering quantity parameters: 1176.7455631764979 -500.92944381853675\n",
      "Basic approach 262.9831283238072 1.6245621840535864 362.95453186990744\n",
      "Data-driven approach 142.1406021641602 1.5449613190736442 363.3062276007008 \n",
      "\n",
      "Test run =  2\n",
      "Considering c = 0.1\n",
      "\n",
      "Ordering quantity parameters: 1766.7940745895135 -460.5788959670832\n",
      "Basic approach 1607.180140183413 1.9680145791089207 860.3680924964028\n",
      "Data-driven approach 1632.0844020318568 2.0061192172032243 1269.2990608869661 \n",
      "\n",
      "Considering c = 0.2\n",
      "\n",
      "Ordering quantity parameters: 1595.1921149213026 -388.4287539880887\n",
      "Basic approach 1482.141539157592 2.1533908709680896 758.7531820618425\n",
      "Data-driven approach 1473.3082348070866 2.2058359132907865 1116.6122386369466 \n",
      "\n",
      "Considering c = 0.30000000000000004\n",
      "\n",
      "Ordering quantity parameters: 1587.6265615709053 -436.97381223361384\n",
      "Basic approach 1213.7412192309462 1.9666152262714225 728.2672089504108\n",
      "Data-driven approach 1165.4274291861516 1.996415667918244 1030.1339862559403 \n",
      "\n",
      "Considering c = 0.4\n",
      "\n",
      "Ordering quantity parameters: 1346.5827964485125 -298.67680733176564\n",
      "Basic approach 1260.3958559926266 2.454247339253143 613.5560367579034\n",
      "Data-driven approach 1192.185394365274 2.4929880880794224 901.4177976454934 \n",
      "\n",
      "Considering c = 0.5\n",
      "\n",
      "Ordering quantity parameters: 1470.6020385058794 -462.7877074624376\n",
      "Basic approach 829.5579703449395 1.838851664372742 619.6040923873304\n",
      "Data-driven approach 729.6812968789216 1.8388516643727422 816.9770967159635 \n",
      "\n",
      "Considering c = 0.6000000000000001\n",
      "\n",
      "Ordering quantity parameters: 1589.8869843741588 -597.9875661106461\n",
      "Basic approach 633.6225106016268 1.6293645842127602 615.5472223538856\n",
      "Data-driven approach 520.7196974872633 1.6025501093095535 732.7501286928862 \n",
      "\n",
      "Considering c = 0.7000000000000001\n",
      "\n",
      "Ordering quantity parameters: 1537.3007855867047 -594.4125842978673\n",
      "Basic approach 528.7221071822196 1.643126042580842 560.6059882890988\n",
      "Data-driven approach 407.105667913157 1.6019023625494822 645.938728255764 \n",
      "\n",
      "Considering c = 0.8\n",
      "\n",
      "Ordering quantity parameters: 1314.9325504814126 -455.95623521592347\n",
      "Basic approach 495.01373527443224 1.841950398878426 475.0837811543369\n",
      "Data-driven approach 358.9435910874646 1.795601486957026 553.5191655019273 \n",
      "\n",
      "Considering c = 0.9\n",
      "\n",
      "Ordering quantity parameters: 1259.6979667354137 -456.1787579995407\n",
      "Basic approach 395.14870853254973 1.8307065154233704 424.5685422679136\n",
      "Data-driven approach 257.3102106384126 1.7619495410025487 468.74913325968487 \n",
      "\n",
      "Test run =  3\n",
      "Considering c = 0.1\n",
      "\n",
      "Ordering quantity parameters: 1809.2732947107233 -984.7512512903417\n",
      "Basic approach 743.0379939119058 0.968644831545018 855.3990847908447\n",
      "Data-driven approach 733.7270339715495 0.9705320123494324 1013.6669189116186 \n",
      "\n",
      "Considering c = 0.2\n",
      "\n",
      "Ordering quantity parameters: 1738.6658096410458 -965.0006691937753\n",
      "Basic approach 618.9328302096795 1.0008624890869975 772.8328379011457\n",
      "Data-driven approach 596.1276643325567 1.0008624890869977 884.7465309315728 \n",
      "\n",
      "Considering c = 0.30000000000000004\n",
      "\n",
      "Ordering quantity parameters: 1612.4096239062262 -900.5524808736017\n",
      "Basic approach 500.14259876738845 1.0452335694761905 671.1219398220728\n",
      "Data-driven approach 468.3908649931992 1.0401085418406635 750.437779219463 \n",
      "\n",
      "Considering c = 0.4\n",
      "\n",
      "Ordering quantity parameters: 1538.2683770574101 -856.0377022050731\n",
      "Basic approach 417.6408066752811 1.098481674986379 597.9266480876903\n",
      "Data-driven approach 379.0110847201222 1.087735385989836 655.8626311241195 \n",
      "\n",
      "Considering c = 0.5\n",
      "\n",
      "Ordering quantity parameters: 1500.4324106064564 -852.1149435264365\n",
      "Basic approach 338.651938328142 1.130416675006889 537.1874694216192\n",
      "Data-driven approach 295.5219040536357 1.113787840804694 577.0891010770267 \n",
      "\n",
      "Considering c = 0.6000000000000001\n",
      "\n",
      "Ordering quantity parameters: 1471.4555205710876 -837.8252242966695\n",
      "Basic approach 280.03951726844747 1.1781399019147059 484.38019299654286\n",
      "Data-driven approach 233.62361674536373 1.1567322021534212 510.7046671544431 \n",
      "\n",
      "Considering c = 0.7000000000000001\n",
      "\n",
      "Ordering quantity parameters: 1397.1816648044748 -795.5499084103395\n",
      "Basic approach 221.89009927734418 1.2281232013440304 420.1483644586188\n"
     ]
    },
    {
     "name": "stdout",
     "output_type": "stream",
     "text": [
      "Data-driven approach 173.59014921001216 1.1988443783093274 430.8705005228138 \n",
      "\n",
      "Considering c = 0.8\n",
      "\n",
      "Ordering quantity parameters: 1316.617999609747 -759.539912771807\n",
      "Basic approach 165.44925360076581 1.2667207459875158 354.49303469615074\n",
      "Data-driven approach 117.36642938000799 1.2296289808178065 354.85076814890476 \n",
      "\n",
      "Considering c = 0.9\n",
      "\n",
      "Ordering quantity parameters: 1269.6256312138362 -749.5932770025805\n",
      "Basic approach 118.0690623852384 1.2968763462572153 297.4958409557569\n",
      "Data-driven approach 72.52034665909801 1.2466950000961576 279.6674758501964 \n",
      "\n",
      "Test run =  4\n",
      "Considering c = 0.1\n",
      "\n",
      "Ordering quantity parameters: 1812.23216098864 -600.3480737376732\n",
      "Basic approach 1278.5064616350003 1.5593178776321925 876.0986768074365\n",
      "Data-driven approach 1221.1953606292952 1.5496136549354937 1205.300073221458 \n",
      "\n",
      "Considering c = 0.2\n",
      "\n",
      "Ordering quantity parameters: 1747.4923936541388 -633.8107111724487\n",
      "Basic approach 1036.1005666059584 1.4785601622458828 810.3651257098245\n",
      "Data-driven approach 951.1223138157277 1.4595977415529682 1082.0962694944342 \n",
      "\n",
      "Considering c = 0.30000000000000004\n",
      "\n",
      "Ordering quantity parameters: 1683.6960343750466 -631.2619962762891\n",
      "Basic approach 884.3335299716574 1.4835952776397856 747.1587177460798\n",
      "Data-driven approach 777.6671093836696 1.454891433860989 943.2181842529521 \n",
      "\n",
      "Considering c = 0.4\n",
      "\n",
      "Ordering quantity parameters: 1741.1859422663606 -712.0577997625473\n",
      "Basic approach 744.6701205518671 1.4226436834530853 728.181411180671\n",
      "Data-driven approach 626.1833588279928 1.3895370148269672 873.3679483667643 \n",
      "\n",
      "Considering c = 0.5\n",
      "\n",
      "Ordering quantity parameters: 1508.9960420669167 -578.4483801023022\n",
      "Basic approach 643.0320414705095 1.5543480576434852 609.8859260078829\n",
      "Data-driven approach 506.7460356429474 1.5064005019923155 741.9261003123063 \n",
      "\n",
      "Considering c = 0.6000000000000001\n",
      "\n",
      "Ordering quantity parameters: 1482.5679573079317 -595.5716009500256\n",
      "Basic approach 531.4773619427854 1.5446597142501546 562.612498368958\n",
      "Data-driven approach 388.14127287063934 1.4822410117914664 651.4677736569122 \n",
      "\n",
      "Considering c = 0.7000000000000001\n",
      "\n",
      "Ordering quantity parameters: 1246.0727178432085 -457.5159879485907\n",
      "Basic approach 468.35903267260517 1.7117805176933238 462.90576313959764\n",
      "Data-driven approach 308.4839406737176 1.6292419855312277 540.4980452794028 \n",
      "\n",
      "Considering c = 0.8\n",
      "\n",
      "Ordering quantity parameters: 1196.709112525346 -460.4287863467051\n",
      "Basic approach 372.582247545576 1.699559397687418 414.183041723991\n",
      "Data-driven approach 213.19020434244766 1.5937833413491755 454.95457466669217 \n",
      "\n",
      "Considering c = 0.9\n",
      "\n",
      "Ordering quantity parameters: 1143.2746026275406 -452.35841104343456\n",
      "Basic approach 299.49692655283786 1.7136822646785779 368.0760163442246\n",
      "Data-driven approach 143.35365065892782 1.5759111509391335 363.6281771550734 \n",
      "\n",
      "Test run =  5\n",
      "Considering c = 0.1\n",
      "\n",
      "Ordering quantity parameters: 1654.9632368614816 -464.45932049250376\n",
      "Basic approach 1392.6558288984552 1.8316019227546023 804.2586524061156\n",
      "Data-driven approach 1351.6479703964135 1.8336598070085368 1151.890286516094 \n",
      "\n",
      "Considering c = 0.2\n",
      "\n",
      "Ordering quantity parameters: 1498.9058372252355 -406.4271411003463\n",
      "Basic approach 1236.1672122751982 1.9440031258335146 708.8102045025834\n",
      "Data-driven approach 1162.3892622204348 1.9255326027280097 1006.1154193409009 \n",
      "\n",
      "Considering c = 0.30000000000000004\n",
      "\n",
      "Ordering quantity parameters: 1325.2689829816566 -332.7259426469058\n",
      "Basic approach 1128.3540382323395 2.141532389147145 612.7256000937924\n",
      "Data-driven approach 1026.0194841987154 2.1245800866315627 861.4200249153683 \n",
      "\n",
      "Considering c = 0.4\n",
      "\n",
      "Ordering quantity parameters: 1183.8855801334635 -265.26596864000174\n",
      "Basic approach 1094.7578331701932 2.4315067141917104 538.8895963387313\n",
      "Data-driven approach 965.5507218980403 2.3952642310141177 763.2140033219837 \n",
      "\n",
      "Considering c = 0.5\n",
      "\n",
      "Ordering quantity parameters: 1350.8545695039948 -447.90672096932235\n",
      "Basic approach 708.800669557386 1.7579641655974574 563.4506045096668\n",
      "Data-driven approach 578.8653451228978 1.714752295328351 690.53679929378 \n",
      "\n",
      "Considering c = 0.6000000000000001\n",
      "\n",
      "Ordering quantity parameters: 1188.070527574097 -349.04301787017187\n",
      "Basic approach 685.9795446320584 2.0018969965702125 489.3223584259971\n",
      "Data-driven approach 535.9334229397117 1.9368945554837618 600.3125878140371 \n",
      "\n",
      "Considering c = 0.7000000000000001\n",
      "\n",
      "Ordering quantity parameters: 1188.5970575033548 -374.81533088884845\n",
      "Basic approach 572.2119241500045 1.9355768955403714 463.1131629405805\n",
      "Data-driven approach 418.8124474164336 1.8672263725740705 549.8886629608227 \n",
      "\n",
      "Considering c = 0.8\n",
      "\n",
      "Ordering quantity parameters: 1085.606329937278 -330.206037087517\n",
      "Basic approach 510.8675058706568 2.043831741406883 410.7207501336321\n",
      "Data-driven approach 347.70027605015594 1.9793022946591416 479.70758053198995 \n",
      "\n",
      "Considering c = 0.9\n",
      "\n",
      "Ordering quantity parameters: 1004.7350604294969 -299.1216934320217\n",
      "Basic approach 452.1552820208509 2.1294754150083612 367.7627681703387\n",
      "Data-driven approach 283.00724773966084 2.0434604440457647 412.5703527667588 \n",
      "\n",
      "Test run =  6\n",
      "Considering c = 0.1\n",
      "\n",
      "Ordering quantity parameters: 2464.181405598925 -1019.6186364181053\n",
      "Basic approach 1368.1784946592297 1.2583838592120735 1181.1097709785574\n",
      "Data-driven approach 1276.1833888312092 1.2375640148246214 1533.8705463429926 \n",
      "\n",
      "Considering c = 0.2\n",
      "\n",
      "Ordering quantity parameters: 1777.4995294454613 -584.4749013775564\n",
      "Basic approach 1179.5234757833455 1.6205952601694698 830.3022745849753\n"
     ]
    },
    {
     "ename": "KeyboardInterrupt",
     "evalue": "",
     "output_type": "error",
     "traceback": [
      "\u001b[1;31m---------------------------------------------------------------------------\u001b[0m",
      "\u001b[1;31mKeyboardInterrupt\u001b[0m                         Traceback (most recent call last)",
      "\u001b[1;32m<ipython-input-17-d8683b327f2c>\u001b[0m in \u001b[0;36m<module>\u001b[1;34m\u001b[0m\n\u001b[0;32m     13\u001b[0m     \u001b[1;32mfor\u001b[0m \u001b[0mi\u001b[0m \u001b[1;32min\u001b[0m \u001b[0mrange\u001b[0m\u001b[1;33m(\u001b[0m\u001b[0mlen\u001b[0m\u001b[1;33m(\u001b[0m\u001b[0mcostSet\u001b[0m\u001b[1;33m)\u001b[0m\u001b[1;33m)\u001b[0m\u001b[1;33m:\u001b[0m\u001b[1;33m\u001b[0m\u001b[1;33m\u001b[0m\u001b[0m\n\u001b[0;32m     14\u001b[0m         \u001b[0mprint\u001b[0m\u001b[1;33m(\u001b[0m\u001b[1;34m'Considering c ='\u001b[0m\u001b[1;33m,\u001b[0m \u001b[0mcostSet\u001b[0m\u001b[1;33m[\u001b[0m\u001b[0mi\u001b[0m\u001b[1;33m]\u001b[0m\u001b[1;33m)\u001b[0m\u001b[1;33m\u001b[0m\u001b[1;33m\u001b[0m\u001b[0m\n\u001b[1;32m---> 15\u001b[1;33m         \u001b[0moptV\u001b[0m\u001b[1;33m,\u001b[0m \u001b[0moptP\u001b[0m\u001b[1;33m,\u001b[0m \u001b[0moptQ\u001b[0m\u001b[1;33m,\u001b[0m \u001b[0moptVDD\u001b[0m\u001b[1;33m,\u001b[0m \u001b[0moptPDD\u001b[0m\u001b[1;33m,\u001b[0m \u001b[0moptQDD\u001b[0m \u001b[1;33m=\u001b[0m \u001b[0mDDNV_main\u001b[0m\u001b[1;33m(\u001b[0m\u001b[0msampleSize\u001b[0m\u001b[1;33m=\u001b[0m\u001b[0mn\u001b[0m\u001b[1;33m,\u001b[0m \u001b[0mprocurementCost\u001b[0m\u001b[1;33m=\u001b[0m\u001b[0mcostSet\u001b[0m\u001b[1;33m[\u001b[0m\u001b[0mi\u001b[0m\u001b[1;33m]\u001b[0m\u001b[1;33m,\u001b[0m \u001b[0mestimationModel\u001b[0m \u001b[1;33m=\u001b[0m \u001b[1;34m'cost'\u001b[0m\u001b[1;33m,\u001b[0m \u001b[0mnonStockOut\u001b[0m \u001b[1;33m=\u001b[0m \u001b[1;32mNone\u001b[0m\u001b[1;33m)\u001b[0m\u001b[1;33m\u001b[0m\u001b[1;33m\u001b[0m\u001b[0m\n\u001b[0m\u001b[0;32m     16\u001b[0m \u001b[1;33m\u001b[0m\u001b[0m\n\u001b[0;32m     17\u001b[0m         \u001b[0moptPrice\u001b[0m\u001b[1;33m[\u001b[0m\u001b[0mi\u001b[0m\u001b[1;33m,\u001b[0m\u001b[0mj\u001b[0m\u001b[1;33m]\u001b[0m \u001b[1;33m=\u001b[0m \u001b[0moptP\u001b[0m\u001b[1;33m\u001b[0m\u001b[1;33m\u001b[0m\u001b[0m\n",
      "\u001b[1;32m<ipython-input-15-2875ca44da62>\u001b[0m in \u001b[0;36mDDNV_main\u001b[1;34m(sampleSize, procurementCost, estimationModel, nonStockOut)\u001b[0m\n\u001b[0;32m     10\u001b[0m     \u001b[0mprint\u001b[0m\u001b[1;33m(\u001b[0m\u001b[1;34m'Basic approach'\u001b[0m\u001b[1;33m,\u001b[0m \u001b[0moptV\u001b[0m\u001b[1;33m,\u001b[0m \u001b[0moptP\u001b[0m\u001b[1;33m,\u001b[0m \u001b[0moptQ\u001b[0m\u001b[1;33m)\u001b[0m\u001b[1;33m\u001b[0m\u001b[1;33m\u001b[0m\u001b[0m\n\u001b[0;32m     11\u001b[0m \u001b[1;33m\u001b[0m\u001b[0m\n\u001b[1;32m---> 12\u001b[1;33m     \u001b[1;33m(\u001b[0m\u001b[0moptVDD\u001b[0m\u001b[1;33m,\u001b[0m \u001b[0moptPDD\u001b[0m\u001b[1;33m,\u001b[0m \u001b[0moptQDD\u001b[0m\u001b[1;33m)\u001b[0m \u001b[1;33m=\u001b[0m \u001b[0mDDNV_Price\u001b[0m\u001b[1;33m(\u001b[0m\u001b[0msampleSize\u001b[0m\u001b[1;33m,\u001b[0m \u001b[0mprocurementCost\u001b[0m\u001b[1;33m,\u001b[0m \u001b[0mestBeta0\u001b[0m\u001b[1;33m,\u001b[0m \u001b[0mestBeta1\u001b[0m\u001b[1;33m)\u001b[0m\u001b[1;33m\u001b[0m\u001b[1;33m\u001b[0m\u001b[0m\n\u001b[0m\u001b[0;32m     13\u001b[0m     \u001b[0mprint\u001b[0m\u001b[1;33m(\u001b[0m\u001b[1;34m'Data-driven approach'\u001b[0m\u001b[1;33m,\u001b[0m \u001b[0moptVDD\u001b[0m\u001b[1;33m,\u001b[0m \u001b[0moptPDD\u001b[0m\u001b[1;33m,\u001b[0m \u001b[0moptQDD\u001b[0m\u001b[1;33m,\u001b[0m\u001b[1;34m'\\n'\u001b[0m\u001b[1;33m)\u001b[0m\u001b[1;33m\u001b[0m\u001b[1;33m\u001b[0m\u001b[0m\n\u001b[0;32m     14\u001b[0m \u001b[1;33m\u001b[0m\u001b[0m\n",
      "\u001b[1;32m<ipython-input-12-37e403f8d665>\u001b[0m in \u001b[0;36mDDNV_Price\u001b[1;34m(sampleSize, procurementCost, beta0, beta1)\u001b[0m\n\u001b[0;32m     33\u001b[0m \u001b[1;33m\u001b[0m\u001b[0m\n\u001b[0;32m     34\u001b[0m \u001b[1;33m\u001b[0m\u001b[0m\n\u001b[1;32m---> 35\u001b[1;33m     \u001b[1;32mreturn\u001b[0m \u001b[0mpricingNV\u001b[0m\u001b[1;33m.\u001b[0m\u001b[0mobjVal\u001b[0m\u001b[1;33m,\u001b[0m \u001b[0mprice\u001b[0m\u001b[1;33m.\u001b[0m\u001b[0mx\u001b[0m\u001b[1;33m,\u001b[0m \u001b[0mquantity\u001b[0m\u001b[1;33m.\u001b[0m\u001b[0mx\u001b[0m\u001b[1;33m\u001b[0m\u001b[1;33m\u001b[0m\u001b[0m\n\u001b[0m",
      "\u001b[1;31mKeyboardInterrupt\u001b[0m: "
     ]
    }
   ],
   "source": [
    "testRep = 50\n",
    "costSet = [0.1*(i+1) for i in range(9)]\n",
    "resultCost = pd.DataFrame(index = range(len(costSet)), columns = ['Procurement cost', 'Avg. opt. price (Basic)', 'Avg. opt. order qty (Basic)', 'Avg. opt. price (DD)', 'Avg. opt. order qty (DD)' ])\n",
    "\n",
    "optPrice = np.zeros(shape=(len(costSet),testRep))\n",
    "optQty = np.zeros(shape=(len(costSet),testRep))\n",
    "optPriceDD = np.zeros(shape=(len(costSet),testRep))\n",
    "optQtyDD = np.zeros(shape=(len(costSet),testRep))\n",
    "for j in range(testRep):\n",
    "    print('Test run = ', j)\n",
    "    samplingDemand(sampleSize=n, coefVar=cv)\n",
    "    \n",
    "    for i in range(len(costSet)):\n",
    "        print('Considering c =', costSet[i])\n",
    "        optV, optP, optQ, optVDD, optPDD, optQDD = DDNV_main(sampleSize=n, procurementCost=costSet[i], estimationModel = 'cost', nonStockOut = None)\n",
    "        \n",
    "        optPrice[i,j] = optP\n",
    "        optQty[i,j] = optQ\n",
    "        optPriceDD[i,j] = optPDD\n",
    "        optQtyDD[i,j] = optQDD    \n",
    "\n",
    "for i in range(len(costSet)):\n",
    "    resultCost.iloc[i,:] = [costSet[i], np.mean(optPrice[i,:]), np.mean(optQty[i,:]), \n",
    "                            np.mean(optPriceDD[i,:]), np.mean(optQtyDD[i,:])]"
   ]
  },
  {
   "cell_type": "code",
   "execution_count": null,
   "metadata": {},
   "outputs": [],
   "source": [
    "resultCost"
   ]
  },
  {
   "cell_type": "markdown",
   "metadata": {},
   "source": [
    "**Comment:** In general, when the procurement cost increases, the optimal price also increases to cover up the increase in cost, leading to the decrease in optimal ordering quantity. We can see that in general, the increase speed in optimal price in Data-driven approach is slower than that of Basic approach. It is because in Basic approach, the optimal price is calculated from a fixed equation so the change in cost is shown completely; meanwhile, in Data-driven approach, this influence is affected by the stochastic demand."
   ]
  },
  {
   "cell_type": "code",
   "execution_count": null,
   "metadata": {},
   "outputs": [],
   "source": []
  },
  {
   "cell_type": "code",
   "execution_count": null,
   "metadata": {},
   "outputs": [],
   "source": []
  },
  {
   "cell_type": "markdown",
   "metadata": {},
   "source": [
    "To generate out-of-sample demand observations, for a chosen price p, we will randomly draw 100,000 demands in the same way as in the sampling demand set (D = a - b * p + u, with u ~ N(0,sigma)). This out-of-sample set will be used to evaluate the performance of the solution, which will be done for a significant number of times to obtain the average performance."
   ]
  },
  {
   "cell_type": "code",
   "execution_count": null,
   "metadata": {},
   "outputs": [],
   "source": [
    "def outOfSampleError(testSize):\n",
    "    testU = np.random.normal(loc = 0, scale = sigma, size =(testSize,) )\n",
    "    return testU"
   ]
  },
  {
   "cell_type": "code",
   "execution_count": null,
   "metadata": {},
   "outputs": [],
   "source": [
    "def outOfSampleDemand(testU, chosenPrice):\n",
    "    testD = a - b*chosenPrice + testU\n",
    "    for i in range(len(testD)):\n",
    "        if testD[i]<=0: testD[i] = 0\n",
    "            \n",
    "    return testD"
   ]
  },
  {
   "cell_type": "code",
   "execution_count": null,
   "metadata": {},
   "outputs": [],
   "source": [
    "def testEvaluation(testD, chosenPrice, chosenQty, procurementCost):\n",
    "    return sum( [chosenPrice * min(testD[i], chosenQty) for i in range(len(testD))] ) / len(testD) - procurementCost*chosenQty   \n",
    "    "
   ]
  },
  {
   "cell_type": "code",
   "execution_count": null,
   "metadata": {},
   "outputs": [],
   "source": []
  },
  {
   "cell_type": "markdown",
   "metadata": {},
   "source": [
    "### 2. Sample size's effect       "
   ]
  },
  {
   "cell_type": "markdown",
   "metadata": {},
   "source": [
    "Here we want to learn about the effect of sample size on performance of solution. To do so, from the same demand sampling set, we take subsets with different sizes and solve the problem with these subsets. The solutions are evaluated by generating out-of-sample demand based on each chosen price solution with same error terms. Then this test is done for multiple times to get the average objective value (i.e. expected profit)."
   ]
  },
  {
   "cell_type": "code",
   "execution_count": null,
   "metadata": {},
   "outputs": [],
   "source": [
    "import copy\n",
    "\n",
    "testRep = 500\n",
    "\n",
    "# Run the model with different sample sizes: 50, 100, 200, 500 and 700\n",
    "sampleSizeSet = [50, 100, 200, 500, 700]\n",
    "resultSize = pd.DataFrame(index = range(len(sampleSizeSet)), columns = ['Sample size', 'Avg. out-of-sample profit'])\n",
    "optVal = np.zeros(shape=(len(sampleSizeSet),testRep))\n",
    "for j in range(testRep):\n",
    "    print('Test run = ', j)\n",
    "    samplingDemand(sampleSize=max(sampleSizeSet), coefVar=cv)\n",
    "    demandPool = copy.deepcopy(D)\n",
    "    pricePool = copy.deepcopy(p)\n",
    "    errorPool = copy.deepcopy(u)\n",
    "    \n",
    "    testU = outOfSampleError(testSize = 100000)\n",
    "    \n",
    "    for i in range(len(sampleSizeSet)):\n",
    "        print('Considering n =', sampleSizeSet[i])\n",
    "        if sampleSizeSet[i] != max(sampleSizeSet):\n",
    "            lowElasticity = True\n",
    "            while lowElasticity:\n",
    "                idx = np.random.choice(max(sampleSizeSet), size = sampleSizeSet[i], replace = False)\n",
    "                for k in range(len(idx)): \n",
    "                    D[k] = demandPool[k] \n",
    "                    p[k] = pricePool[k] \n",
    "                    u[k] = errorPool[k]\n",
    "                \n",
    "                reg = linear_model.LinearRegression().fit(p, D)\n",
    "                coef2 = reg.coef_\n",
    "                coef1 = reg.intercept_\n",
    "                Q1 = coef1 + coef2*min(p)\n",
    "                Q2 = coef1 + coef2*max(p)\n",
    "                arcElasticity = ( (min(p) + max(p)) / (Q1 + Q2)) * ((Q2 - Q1) / (max(p) - min(p)) )\n",
    "                if abs(arcElasticity) >= 1: lowElasticity = False\n",
    "\n",
    "        else:\n",
    "            D = demandPool; p = pricePool; u = errorPool;\n",
    "        \n",
    "        optV, optP, optQ, optVDD, optPDD, optQDD = DDNV_main(sampleSize=sampleSizeSet[i], procurementCost=c, estimationModel = 'cost', nonStockOut = None)\n",
    "        \n",
    "        testD = outOfSampleDemand(testU, chosenPrice = optPDD)\n",
    "        testV = testEvaluation(testD, chosenPrice = optPDD, chosenQty = optQDD, procurementCost = c)\n",
    "        \n",
    "        optVal[i,j] = testV\n",
    "        \n",
    "for i in range(len(sampleSizeSet)):\n",
    "    resultSize.iloc[i,:] = [sampleSizeSet[i], np.mean(optVal[i,:])]"
   ]
  },
  {
   "cell_type": "code",
   "execution_count": null,
   "metadata": {},
   "outputs": [],
   "source": [
    "resultSize"
   ]
  },
  {
   "cell_type": "markdown",
   "metadata": {},
   "source": [
    "**Comment:** As expected, the more historical data we have, the higher the out-of-sample profit is, which means better solution we have. With more data, the relationship between demand and price is capture more correctly and so the estimated demand is nearer to the true demand. "
   ]
  },
  {
   "cell_type": "code",
   "execution_count": null,
   "metadata": {},
   "outputs": [],
   "source": []
  },
  {
   "cell_type": "code",
   "execution_count": null,
   "metadata": {},
   "outputs": [],
   "source": []
  },
  {
   "cell_type": "markdown",
   "metadata": {},
   "source": [
    "## Basic approach vs Data-driven approach in Price and Quantity-setting Newsvendor"
   ]
  },
  {
   "cell_type": "markdown",
   "metadata": {},
   "source": [
    "Here we want to compare the performance of Basic approach with Data-driven approach to solve the Price and Quantity-setting Newsvendor. In basic approach, the vendor takes the optimal price as given from the ordering quantity function, while in Data-driven approach, the vendor use the historical data to make the solution more robust.\n",
    "\n",
    "For a certain sampling set, we runs both approaches to obtain the solution of optimal price and ordering quantity. Two solutions are evaluated with the same out-of-sample demand set to get the profit of each solution when dealing with unknown demand. Then this test is done for multiple times to get the average performance of each solution."
   ]
  },
  {
   "cell_type": "code",
   "execution_count": null,
   "metadata": {},
   "outputs": [],
   "source": [
    "testRep = 500\n",
    "\n",
    "resultDD = pd.DataFrame(index = range(testRep), columns = ['Out-of-sample profit (Basic)', 'Out-of-sample profit (Data-driven)'])\n",
    "\n",
    "for j in range(testRep):\n",
    "    print('Test run = ', j)\n",
    "    samplingDemand(sampleSize=n, coefVar=cv)\n",
    "    testU = outOfSampleError(testSize = 100000)\n",
    "    \n",
    "    optV, optP, optQ, optVDD, optPDD, optQDD = DDNV_main(sampleSize=n, procurementCost=c, estimationModel = 'cost', nonStockOut = None)\n",
    "\n",
    "    #Basic approach\n",
    "    testD = outOfSampleDemand(testU, chosenPrice = optP)\n",
    "    testV = testEvaluation(testD, chosenPrice = optP, chosenQty = optQ, procurementCost = c)\n",
    "    \n",
    "    #Data-driven approach\n",
    "    testDDD = outOfSampleDemand(testU, chosenPrice = optPDD)\n",
    "    testVDD = testEvaluation(testDDD, chosenPrice = optPDD, chosenQty = optQDD, procurementCost = c)\n",
    "    \n",
    "    resultDD.iloc[j,:] = [testV, testVDD]\n",
    "    \n",
    "print(resultDD)\n",
    "print('\\n\\nThe average out-of-sample profit from Basic approach:', np.mean(resultDD.iloc[:,0]) )\n",
    "print('The average out-of-sample profit from Data-driven approach:', np.mean(resultDD.iloc[:,1]) )"
   ]
  },
  {
   "cell_type": "code",
   "execution_count": null,
   "metadata": {},
   "outputs": [],
   "source": []
  },
  {
   "cell_type": "code",
   "execution_count": null,
   "metadata": {},
   "outputs": [],
   "source": []
  },
  {
   "cell_type": "code",
   "execution_count": null,
   "metadata": {},
   "outputs": [],
   "source": []
  },
  {
   "cell_type": "code",
   "execution_count": null,
   "metadata": {},
   "outputs": [],
   "source": []
  },
  {
   "cell_type": "code",
   "execution_count": null,
   "metadata": {},
   "outputs": [],
   "source": []
  }
 ],
 "metadata": {
  "kernelspec": {
   "display_name": "Python 3",
   "language": "python",
   "name": "python3"
  },
  "language_info": {
   "codemirror_mode": {
    "name": "ipython",
    "version": 3
   },
   "file_extension": ".py",
   "mimetype": "text/x-python",
   "name": "python",
   "nbconvert_exporter": "python",
   "pygments_lexer": "ipython3",
   "version": "3.7.3"
  }
 },
 "nbformat": 4,
 "nbformat_minor": 2
}
