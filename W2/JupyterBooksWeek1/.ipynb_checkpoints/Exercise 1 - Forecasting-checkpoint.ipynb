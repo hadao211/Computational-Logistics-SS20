{
 "cells": [
  {
   "cell_type": "code",
   "execution_count": 1,
   "metadata": {},
   "outputs": [],
   "source": [
    "# Part a) \n",
    "# define Exponential Smoothing function \n",
    "def exp_smoothing (observations, starting, alpha):\n",
    "    \"A function to calculate Exponential Smoothing forecast\"\n",
    "    \n",
    "    import numpy as np\n",
    "    \n",
    "    periods = len(observations)\n",
    "    forecast = np.zeros(periods)\n",
    "    forecast[0] = start\n",
    "    \n",
    "    for i in range(periods - 1): \n",
    "        forecast[i+1] = alpha * observations[i] + (1 - alpha) * forecast[i]\n",
    "    \n",
    "    return forecast;"
   ]
  },
  {
   "cell_type": "code",
   "execution_count": 2,
   "metadata": {},
   "outputs": [
    {
     "name": "stdout",
     "output_type": "stream",
     "text": [
      "The forecast result is: \n",
      "[100.      90.      92.5     83.75    71.875   95.9375]\n"
     ]
    }
   ],
   "source": [
    "# apply Exponential Smoothing function with data\n",
    "start = 100\n",
    "alpha = 0.5\n",
    "demand = [80, 95, 75, 60, 120, 100]\n",
    "\n",
    "print(\"The forecast result is: \")\n",
    "print(exp_smoothing(demand, start, alpha))"
   ]
  },
  {
   "cell_type": "code",
   "execution_count": null,
   "metadata": {},
   "outputs": [],
   "source": []
  },
  {
   "cell_type": "code",
   "execution_count": 3,
   "metadata": {},
   "outputs": [],
   "source": [
    "# Part b\n",
    "# define Moving Average function\n",
    "def mov_avg (observations, n):\n",
    "    \"A function to calculate forecast by Moving Average over n periods\"\n",
    "    \n",
    "    import numpy as np\n",
    "    \n",
    "    # if number of observations < n => show error\n",
    "    if len(observations) < n:\n",
    "        print(\"The number of observations is not enough to forecast !\")\n",
    "    else:\n",
    "        max_p = len(observations) - n + 1 #number of forecast periods, can only calculate a^ from period n\n",
    "        forecast = np.empty(max_p)\n",
    "\n",
    "        for i in range(max_p):\n",
    "            start_p = i \n",
    "            end_p = n + i\n",
    "            forecast[i] = np.mean(observations[start_p : end_p])\n",
    "            \n",
    "        print(\"The forecast in period\", n+1, \"onwards is: \")\n",
    "        print(forecast)\n",
    "        return forecast;"
   ]
  },
  {
   "cell_type": "code",
   "execution_count": 4,
   "metadata": {},
   "outputs": [
    {
     "name": "stdout",
     "output_type": "stream",
     "text": [
      "The forecast in period 4 onwards is: \n",
      "[83.33333333 76.66666667 85.         93.33333333]\n"
     ]
    }
   ],
   "source": [
    "# apply Moving Average function with data\n",
    "demand = [80, 95, 75, 60, 120, 100]\n",
    "forecast = mov_avg(demand, 3)"
   ]
  },
  {
   "cell_type": "code",
   "execution_count": 5,
   "metadata": {},
   "outputs": [
    {
     "data": {
      "text/plain": [
       "<Figure size 640x480 with 1 Axes>"
      ]
     },
     "metadata": {},
     "output_type": "display_data"
    }
   ],
   "source": [
    "# visualize the result\n",
    "import matplotlib.pyplot as plt\n",
    "import numpy as np\n",
    "\n",
    "plt.plot([3,4,5,6],demand[2:6],'bo-')\n",
    "plt.plot([3,4,5,6],forecast,'go-')\n",
    "plt.xticks(np.arange(3, 7, 1))\n",
    "plt.xlabel(\"Period\")\n",
    "plt.ylabel(\"Forecast\")\n",
    "plt.show()"
   ]
  },
  {
   "cell_type": "code",
   "execution_count": null,
   "metadata": {},
   "outputs": [],
   "source": []
  }
 ],
 "metadata": {
  "kernelspec": {
   "display_name": "Python 3",
   "language": "python",
   "name": "python3"
  },
  "language_info": {
   "codemirror_mode": {
    "name": "ipython",
    "version": 3
   },
   "file_extension": ".py",
   "mimetype": "text/x-python",
   "name": "python",
   "nbconvert_exporter": "python",
   "pygments_lexer": "ipython3",
   "version": "3.7.3"
  }
 },
 "nbformat": 4,
 "nbformat_minor": 2
}
