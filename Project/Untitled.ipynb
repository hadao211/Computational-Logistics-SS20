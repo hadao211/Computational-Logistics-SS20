{
 "cells": [
  {
   "cell_type": "code",
   "execution_count": null,
   "metadata": {},
   "outputs": [],
   "source": [
    "testRep = 50\n",
    "\n",
    "resultOLS = pd.DataFrame(index = range(testRep), columns = ['In-sample profit (OLS)', 'In-sample profit (Integrated)', \n",
    "                                                            'Out-of-sample profit (OLS)', 'Out-of-sample profit (Integrated)'])\n",
    "\n",
    "for i in range(testRep):\n",
    "    print('Test run = ', i)\n",
    "    coef1, coef2 = samplingDemand(sampleSize=n, coefVar=cv)\n",
    "    coef2=coef2[0]\n",
    "    testU = outOfSampleError(testSize = 100000)\n",
    "\n",
    "    optV, optP, optQ, optVDD, optPDD, optQDD = DDNV_main(sampleSize=n, procurementCost=c, \n",
    "                                                         estimationModel = 'cost', nonStockOut = None, priceUpperBound = ubp)\n",
    "\n",
    "    (optV_OLS, optP_OLS, optQ_OLS) = NV_Price(procurementCost = c, beta0 = coef1, beta1 = coef2, priceUpperBound = ubp)\n",
    "    \n",
    "    (optVDD_OLS, optPDD_OLS, optQDD_OLS) = DDNV_Price(sampleSize = n, procurementCost = c, \n",
    "                                                      beta0 = coef1, beta1 = coef2, priceUpperBound = ubp)\n",
    "    \n",
    "    testD = outOfSampleDemand(testU, chosenPrice = optP)\n",
    "    testV = testEvaluation(testD, chosenPrice = optP, chosenQty = optQ, procurementCost = c)\n",
    "\n",
    "    #Data-driven approach\n",
    "    testD_OLS = outOfSampleDemand(testU, chosenPrice = optP_OLS)\n",
    "    testV_OLS = testEvaluation(testD_OLS, chosenPrice = optP_OLS, chosenQty = optQ_OLS, procurementCost = c)\n",
    "\n",
    "    resultOLS.iloc[i,:] = [optV_OLS, optV, testV_OLS, testV]\n",
    "print(resultOLS)"
   ]
  },
  {
   "cell_type": "code",
   "execution_count": null,
   "metadata": {},
   "outputs": [],
   "source": [
    "print('Avg. in-sample profit (OLS)', np.mean(resultOLS.iloc[:,0]))\n",
    "print('Avg. in-sample profit (Integrated)', np.mean(resultOLS.iloc[:,1]))\n",
    "print('Avg. out-of-sample profit (OLS)', np.mean(resultOLS.iloc[:,2]))\n",
    "print('Avg. out-of-sample profit (Integrated)', np.mean(resultOLS.iloc[:,3]))"
   ]
  },
  {
   "cell_type": "code",
   "execution_count": null,
   "metadata": {},
   "outputs": [],
   "source": [
    "testRep = 50\n",
    "\n",
    "resultOLS1 = pd.DataFrame(index = range(testRep), columns = ['Avg. in-sample profit (OLS)', 'Avg. in-sample profit (Integrated)', 'Avg. out-of-sample profit (OLS)', 'Avg. out-of-sample profit (Integrated)'])\n",
    "\n",
    "for i in range(testRep):\n",
    "    print('Test run = ', i)\n",
    "    coef1, coef2 = samplingDemand(sampleSize=n, coefVar=cv)\n",
    "    coef2=coef2[0]\n",
    "    testU = outOfSampleError(testSize = 100000)\n",
    "\n",
    "    optV, optP, optQ, optVDD, optPDD, optQDD = DDNV_main(sampleSize=n, procurementCost=c, \n",
    "                                                         estimationModel = 'cost', nonStockOut = None, priceUpperBound = ubp)\n",
    "\n",
    "    (optV_OLS, optP_OLS, optQ_OLS) = NV_Price(procurementCost = c, beta0 = coef1, beta1 = coef2, priceUpperBound = ubp)\n",
    "    \n",
    "    (optVDD_OLS, optPDD_OLS, optQDD_OLS) = DDNV_Price(sampleSize = n, procurementCost = c, \n",
    "                                                      beta0 = coef1, beta1 = coef2, priceUpperBound = ubp)\n",
    "    \n",
    "    testD = outOfSampleDemand(testU, chosenPrice = optPDD)\n",
    "    testV = testEvaluation(testD, chosenPrice = optPDD, chosenQty = optQDD, procurementCost = c)\n",
    "\n",
    "    #Data-driven approach\n",
    "    testD_OLS = outOfSampleDemand(testU, chosenPrice = optPDD_OLS)\n",
    "    testV_OLS = testEvaluation(testD_OLS, chosenPrice = optPDD_OLS, chosenQty = optQDD_OLS, procurementCost = c)\n",
    "\n",
    "    resultOLS1.iloc[i,:] = [optV_OLS, optV, testV_OLS, testV]\n",
    "print(resultOLS1)"
   ]
  },
  {
   "cell_type": "code",
   "execution_count": null,
   "metadata": {},
   "outputs": [],
   "source": [
    "print('Avg. in-sample profit (OLS)', np.mean(resultOLS1.iloc[:,0]))\n",
    "print('Avg. in-sample profit (Integrated)', np.mean(resultOLS1.iloc[:,1]))\n",
    "print('Avg. out-of-sample profit (OLS)', np.mean(resultOLS1.iloc[:,2]))\n",
    "print('Avg. out-of-sample profit (Integrated)', np.mean(resultOLS1.iloc[:,3]))"
   ]
  },
  {
   "cell_type": "code",
   "execution_count": null,
   "metadata": {},
   "outputs": [],
   "source": []
  },
  {
   "cell_type": "code",
   "execution_count": null,
   "metadata": {},
   "outputs": [],
   "source": [
    "3500068914, 4116709428, 4116709565, 4116709448, 2066200532, 3700031613"
   ]
  },
  {
   "cell_type": "code",
   "execution_count": null,
   "metadata": {},
   "outputs": [],
   "source": [
    "2066200532"
   ]
  },
  {
   "cell_type": "code",
   "execution_count": null,
   "metadata": {},
   "outputs": [],
   "source": []
  },
  {
   "cell_type": "code",
   "execution_count": null,
   "metadata": {},
   "outputs": [],
   "source": [
    "import copy\n",
    "\n",
    "testRep = 20\n",
    "\n",
    "# Run the model with different sample sizes: 100, 200, 500 and 700\n",
    "sampleSizeSet = [50, 100, 200, 500, 700]\n",
    "resultSize = pd.DataFrame(index = range(len(sampleSizeSet)), columns = ['Sample size', 'Avg. out-of-sample profit'])\n",
    "optValOutSample = np.zeros(shape=(len(sampleSizeSet),testRep))\n",
    "\n",
    "for j in range(testRep):\n",
    "    print('Test run = ', j)\n",
    "    samplingDemand(sampleSize=max(sampleSizeSet), coefVar=cv)\n",
    "    demandPool = copy.deepcopy(D)\n",
    "    pricePool = copy.deepcopy(p)\n",
    "    errorPool = copy.deepcopy(u)\n",
    "    \n",
    "    testU = outOfSampleError(testSize = 100000)\n",
    "    \n",
    "    for i in range(len(sampleSizeSet)):\n",
    "        print('Considering n =', sampleSizeSet[i])\n",
    "        if sampleSizeSet[i] != max(sampleSizeSet):\n",
    "            lowElasticity = True\n",
    "            while lowElasticity:\n",
    "                idx = np.random.choice(range(max(sampleSizeSet)), size = sampleSizeSet[i], replace = False)\n",
    "                D = demandPool[idx]; p = pricePool[idx]; u = errorPool[idx];\n",
    "                \n",
    "                reg = linear_model.LinearRegression().fit(p, D)\n",
    "                coef2 = reg.coef_\n",
    "                coef1 = reg.intercept_\n",
    "                Q1 = coef1 + coef2*min(p)\n",
    "                Q2 = coef1 + coef2*max(p)\n",
    "                arcElasticity = ( (min(p) + max(p)) / (Q1 + Q2)) * ((Q2 - Q1) / (max(p) - min(p)) )\n",
    "                if abs(arcElasticity) >= 1: lowElasticity = False\n",
    "\n",
    "        else:\n",
    "            D = demandPool; p = pricePool; u = errorPool;\n",
    "        \n",
    "        optV, optP, optQ, optVDD, optPDD, optQDD = DDNV_main(sampleSize=sampleSizeSet[i], procurementCost=c, \n",
    "                                                             estimationModel = 'service', nonStockOut = alpha, priceUpperBound=ubp)\n",
    "        \n",
    "        testD = outOfSampleDemand(testU, chosenPrice = optPDD)\n",
    "        testV = testEvaluation(testD, chosenPrice = optPDD, chosenQty = optQDD, procurementCost = c)\n",
    "        \n",
    "        optValOutSample[i,j] = testV\n",
    "        \n",
    "for i in range(len(sampleSizeSet)):\n",
    "    resultSize.iloc[i,:] = [sampleSizeSet[i], np.mean(optValOutSample[i,:])]"
   ]
  },
  {
   "cell_type": "code",
   "execution_count": null,
   "metadata": {},
   "outputs": [],
   "source": []
  }
 ],
 "metadata": {
  "kernelspec": {
   "display_name": "Python 3",
   "language": "python",
   "name": "python3"
  },
  "language_info": {
   "codemirror_mode": {
    "name": "ipython",
    "version": 3
   },
   "file_extension": ".py",
   "mimetype": "text/x-python",
   "name": "python",
   "nbconvert_exporter": "python",
   "pygments_lexer": "ipython3",
   "version": "3.7.7"
  }
 },
 "nbformat": 4,
 "nbformat_minor": 4
}
