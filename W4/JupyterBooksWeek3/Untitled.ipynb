{
 "cells": [
  {
   "cell_type": "code",
   "execution_count": null,
   "metadata": {},
   "outputs": [],
   "source": [
    "# Time constraint            \n",
    "for i in range(1,nodes):\n",
    "    for j in range(1,nodes):\n",
    "        if i!= j:\n",
    "            model.addConstr(sum( time[i1,i] for i1 in range(nodes) if i1!=i ) \n",
    "                            - sum( time[j,j1] for j1 in range(nodes) if j1!=j ) >= distance[i][j] * tourOrder[i,j])\n",
    "\n",
    "for i in range(nodes):\n",
    "    for j in range(nodes):\n",
    "        if i!=j:\n",
    "            model.addConstr( distance[i][j] * tourOrder[i,j] <= time[i,j] )\n",
    "            model.addConstr( time[i,j] <= timeRes - sum(distance[i1][i] * tourOrder[i1,i] for i in range(nodes) if i1!=i))\n",
    "                \n",
    "                \n",
    "                \n",
    "                \n",
    "#        model.addConstr(sum( distance[i][j] * tourOrder[i,j] for i in range(nodes) for j in range(nodes)) <= timeRes ) #time window/distance constraint\n",
    "\n",
    "# "
   ]
  }
 ],
 "metadata": {
  "kernelspec": {
   "display_name": "Python 3",
   "language": "python",
   "name": "python3"
  },
  "language_info": {
   "codemirror_mode": {
    "name": "ipython",
    "version": 3
   },
   "file_extension": ".py",
   "mimetype": "text/x-python",
   "name": "python",
   "nbconvert_exporter": "python",
   "pygments_lexer": "ipython3",
   "version": "3.7.3"
  }
 },
 "nbformat": 4,
 "nbformat_minor": 2
}
