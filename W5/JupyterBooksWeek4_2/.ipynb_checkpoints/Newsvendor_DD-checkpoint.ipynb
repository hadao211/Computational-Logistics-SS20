{
 "cells": [
  {
   "cell_type": "code",
   "execution_count": 1,
   "metadata": {},
   "outputs": [
    {
     "name": "stdout",
     "output_type": "stream",
     "text": [
      "Using license file C:\\Users\\sminn\\gurobi.lic\n",
      "Academic license - for non-commercial use only\n",
      "Gurobi Optimizer version 9.0.2 build v9.0.2rc0 (win64)\n",
      "Optimize a model with 20 rows, 11 columns and 30 nonzeros\n",
      "Model fingerprint: 0x03bbc781\n",
      "Coefficient statistics:\n",
      "  Matrix range     [1e+00, 1e+00]\n",
      "  Objective range  [1e+00, 7e+00]\n",
      "  Bounds range     [0e+00, 0e+00]\n",
      "  RHS range        [3e+01, 1e+02]\n",
      "Presolve removed 10 rows and 0 columns\n",
      "Presolve time: 0.01s\n",
      "Presolved: 10 rows, 11 columns, 20 nonzeros\n",
      "\n",
      "Iteration    Objective       Primal Inf.    Dual Inf.      Time\n",
      "       0    2.8000000e+02   3.500000e+01   0.000000e+00      0s\n",
      "       4    1.8400000e+02   0.000000e+00   0.000000e+00      0s\n",
      "\n",
      "Solved in 4 iterations and 0.01 seconds\n",
      "Optimal objective  1.840000000e+02\n",
      "Objective: 184.0\n",
      "87.0\n",
      "87.0\n",
      "87.0\n",
      "32.0\n",
      "87.0\n",
      "87.0\n",
      "87.0\n",
      "87.0\n",
      "65.0\n",
      "87.0\n",
      "87.0\n"
     ]
    }
   ],
   "source": [
    "import gurobipy as gp\n",
    "from gurobipy import GRB\n",
    "\n",
    "demand = [87, 113, 32, 133, 141, 88, 91, 65, 128, 87]\n",
    "price = 10\n",
    "procurementcost = 7\n",
    "periods = 10\n",
    "\n",
    "m = gp.Model(\"Newsvendor\")\n",
    "\n",
    "# Create variables\n",
    "sales = {}\n",
    "quantity = m.addVar(obj=-procurementcost)\n",
    "for t in range(periods):\n",
    "   sales[t] = m.addVar(obj=price/periods)\n",
    "\n",
    "# set maximization objective\n",
    "m.modelsense=0\n",
    "\n",
    "for t in range(periods):\n",
    "   m.addConstr(sales[t] <= demand[t])\n",
    "   m.addConstr(sales[t] <= quantity)\n",
    "\n",
    "m.optimize()\n",
    "\n",
    "print(\"Objective: \"+str(m.objVal))\n",
    "for v in m.getVars():\n",
    "  print(v.x)\n",
    "\n",
    "m.dispose()\n"
   ]
  },
  {
   "cell_type": "code",
   "execution_count": null,
   "metadata": {},
   "outputs": [],
   "source": []
  },
  {
   "cell_type": "code",
   "execution_count": null,
   "metadata": {},
   "outputs": [],
   "source": []
  }
 ],
 "metadata": {
  "kernelspec": {
   "display_name": "Python 3",
   "language": "python",
   "name": "python3"
  },
  "language_info": {
   "codemirror_mode": {
    "name": "ipython",
    "version": 3
   },
   "file_extension": ".py",
   "mimetype": "text/x-python",
   "name": "python",
   "nbconvert_exporter": "python",
   "pygments_lexer": "ipython3",
   "version": "3.7.3"
  }
 },
 "nbformat": 4,
 "nbformat_minor": 4
}
