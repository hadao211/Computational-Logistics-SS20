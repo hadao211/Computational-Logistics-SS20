{
 "cells": [
  {
   "cell_type": "code",
   "execution_count": 2,
   "metadata": {},
   "outputs": [
    {
     "name": "stdout",
     "output_type": "stream",
     "text": [
      "Gurobi Optimizer version 9.0.2 build v9.0.2rc0 (win64)\n",
      "Optimize a model with 2 rows, 3 columns and 5 nonzeros\n",
      "Model fingerprint: 0xf43f5bdf\n",
      "Variable types: 0 continuous, 3 integer (3 binary)\n",
      "Coefficient statistics:\n",
      "  Matrix range     [1e+00, 3e+00]\n",
      "  Objective range  [1e+00, 2e+00]\n",
      "  Bounds range     [1e+00, 1e+00]\n",
      "  RHS range        [1e+00, 4e+00]\n",
      "Found heuristic solution: objective 2.0000000\n",
      "Presolve removed 2 rows and 3 columns\n",
      "Presolve time: 0.01s\n",
      "Presolve: All rows and columns removed\n",
      "\n",
      "Explored 0 nodes (0 simplex iterations) in 0.02 seconds\n",
      "Thread count was 1 (of 8 available processors)\n",
      "\n",
      "Solution count 2: 3 \n",
      "\n",
      "Optimal solution found (tolerance 1.00e-04)\n",
      "Best objective 3.000000000000e+00, best bound 3.000000000000e+00, gap 0.0000%\n",
      "P1 1\n",
      "y 0\n",
      "z 1\n",
      "Obj: 3\n"
     ]
    }
   ],
   "source": [
    "# Production planning example in Gurobipy\n",
    "\n",
    "import gurobipy as gp\n",
    "from gurobipy import GRB\n",
    "\n",
    "m = gp.Model(\"DB-LP\") #create model\n",
    "\n",
    "# Create variables\n",
    "x = m.addVar (vtype = GRB.BINARY , name =\"x\") #no need to create every variable to all entry\n",
    "y = m.addVar (vtype = GRB.BINARY , name =\"y\")\n",
    "z = m.addVar (vtype = GRB.BINARY , name =\"z\")\n",
    "\n",
    "# Set objective\n",
    "m.setObjective (x+y+2*z, GRB.MAXIMIZE) #can set coef 1, 1, 2 in step of creating variables\n",
    "\n",
    "# Add constraint : x + 2 y + 3 z <= 4\n",
    "m.addConstr (x+2*y+3*z <= 4,\"c0\")\n",
    "\n",
    "# Add constraint : x + y >= 1\n",
    "m.addConstr (x+y >= 1,\"c1\")\n",
    "\n",
    "# Optimize model\n",
    "m.optimize()\n",
    "\n",
    "# Solution output\n",
    "\n",
    "for v in m.getVars():\n",
    "  print (\"%s %g\" % (v.varName,v.x))\n",
    "print (\"Obj: %g\" % m.objVal)"
   ]
  },
  {
   "cell_type": "code",
   "execution_count": null,
   "metadata": {},
   "outputs": [],
   "source": []
  }
 ],
 "metadata": {
  "kernelspec": {
   "display_name": "Python 3",
   "language": "python",
   "name": "python3"
  },
  "language_info": {
   "codemirror_mode": {
    "name": "ipython",
    "version": 3
   },
   "file_extension": ".py",
   "mimetype": "text/x-python",
   "name": "python",
   "nbconvert_exporter": "python",
   "pygments_lexer": "ipython3",
   "version": "3.7.3"
  }
 },
 "nbformat": 4,
 "nbformat_minor": 4
}
