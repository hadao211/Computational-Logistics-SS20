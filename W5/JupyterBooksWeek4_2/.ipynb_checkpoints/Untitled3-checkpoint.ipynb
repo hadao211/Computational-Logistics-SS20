{
 "cells": [
  {
   "cell_type": "code",
   "execution_count": 2,
   "metadata": {},
   "outputs": [],
   "source": [
    "# Benders decomposition for Fixed Charge Transportation Problem\n",
    "\n",
    "import gurobipy as gp\n",
    "from gurobipy import *\n",
    "import numpy as np"
   ]
  },
  {
   "cell_type": "code",
   "execution_count": 3,
   "metadata": {},
   "outputs": [],
   "source": [
    "capacity = [5,8,7]\n",
    "demand = [3,6,6,5]\n",
    "\n",
    "locations = len(capacity)\n",
    "customers = len(demand)\n",
    "\n",
    "varcost = [[4,5,2,7],[5,8,6,2],[8,9,4,3]]\n",
    "fixcost = [[2,10,1,5],[7,2,7,8],[4,0,3,9]]"
   ]
  },
  {
   "cell_type": "code",
   "execution_count": 4,
   "metadata": {},
   "outputs": [
    {
     "data": {
      "text/plain": [
       "[[3, 5, 5, 5], [3, 6, 6, 5], [3, 6, 6, 5]]"
      ]
     },
     "execution_count": 4,
     "metadata": {},
     "output_type": "execute_result"
    }
   ],
   "source": [
    "bigM = [[min(capacity[i], demand[j]) for j in range(customers)] for i in range(locations)]\n",
    "bigM"
   ]
  },
  {
   "cell_type": "code",
   "execution_count": null,
   "metadata": {},
   "outputs": [],
   "source": [
    "# Define Benders subproblem\n",
    "        \n",
    "def subproblem(model, where):\n",
    "    if where == GRB.Callback.MIPSOL:\n",
    "        \n",
    "        v_y = model.cbGetSolution(model._y)\n",
    "        print('\\nCurrent y: ', v_y)\n",
    "        \n",
    "        LB = model.cbGetSolution(model._z)\n",
    "        print('Current LB: ', LB, '\\n')\n",
    "        \n",
    "        bsp = gp.Model(\"Subproblem\")\n",
    "        v = {}\n",
    "        for j in range(customers): v[j] = bsp.addVar(obj = demand[j])\n",
    "        w = {}\n",
    "        for i in range(locations):\n",
    "            for j in range(customers):\n",
    "                w[i,j] = bsp.addVar(obj = - v_y[i,j] * M[i][j])\n",
    "        u = {}\n",
    "        for i in range(locations): u[i] = bsp.addVar(obj = - capacity[i])\n",
    "        \n",
    "        bsp.addConstr()\n",
    "        \n",
    "        bsp.modelSense = -1\n",
    "        bsp.optimize()\n",
    "        \n",
    "        print('\\n\\n',bsp.Status,'\\n\\n')\n",
    "        \n",
    "\n",
    "                       "
   ]
  }
 ],
 "metadata": {
  "kernelspec": {
   "display_name": "Python 3",
   "language": "python",
   "name": "python3"
  },
  "language_info": {
   "codemirror_mode": {
    "name": "ipython",
    "version": 3
   },
   "file_extension": ".py",
   "mimetype": "text/x-python",
   "name": "python",
   "nbconvert_exporter": "python",
   "pygments_lexer": "ipython3",
   "version": "3.7.3"
  }
 },
 "nbformat": 4,
 "nbformat_minor": 2
}
