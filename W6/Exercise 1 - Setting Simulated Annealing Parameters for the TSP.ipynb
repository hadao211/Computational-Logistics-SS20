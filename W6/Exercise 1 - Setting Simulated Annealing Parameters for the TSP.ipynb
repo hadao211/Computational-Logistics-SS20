{
 "cells": [
  {
   "cell_type": "code",
   "execution_count": 1,
   "metadata": {},
   "outputs": [],
   "source": [
    "# define function to download data\n",
    "def load_data(url, filename):\n",
    "    import urllib.request\n",
    "    from zipfile import ZipFile\n",
    "    \n",
    "    response = urllib.request.urlretrieve(\n",
    "        url,filename)\n",
    "    #unzip\n",
    "    with ZipFile(filename, 'r') as zip_ref:\n",
    "        zip_ref.extractall()"
   ]
  },
  {
   "cell_type": "code",
   "execution_count": 2,
   "metadata": {},
   "outputs": [],
   "source": [
    "# define fuction to read data from xml file\n",
    "def import_data(filename):\n",
    "    import xml.etree.ElementTree as et \n",
    "    xtree = et.parse(filename)\n",
    "    xroot = xtree.getroot()\n",
    "    \n",
    "    return xroot;"
   ]
  },
  {
   "cell_type": "code",
   "execution_count": 3,
   "metadata": {},
   "outputs": [],
   "source": [
    "# define function to create distance matrix\n",
    "def dist_matrix(cities, xroot):\n",
    "    #create distance matrix\n",
    "    import numpy as np\n",
    "    distance = np.zeros((cities,cities))\n",
    "    \n",
    "    #import data\n",
    "    import xml.etree.ElementTree as et\n",
    "    from_node = 0\n",
    "    for child in xroot.iter('vertex'):\n",
    "        for child1 in child:\n",
    "            dist = float(child1.attrib.get('cost'))\n",
    "            to_node = int(child1.text)\n",
    "            distance[from_node, to_node] = dist\n",
    "\n",
    "        from_node += 1\n",
    "    \n",
    "    max_distance = np.nanmax(distance)\n",
    "    for i in range(cities):#\n",
    "        distance[i,i] = max_distance*10 #very large number for distance to itself => no revisited \n",
    "\n",
    "    return distance "
   ]
  },
  {
   "cell_type": "code",
   "execution_count": null,
   "metadata": {},
   "outputs": [],
   "source": []
  },
  {
   "cell_type": "code",
   "execution_count": 4,
   "metadata": {},
   "outputs": [],
   "source": [
    "# define function to calculate the length of the tour \n",
    "def totalcost(tour, distance):\n",
    "    length = 0\n",
    "    for i in range(len(tour)-1):\n",
    "        length += distance[tour[i]][tour[i+1]]\n",
    "    return length"
   ]
  },
  {
   "cell_type": "code",
   "execution_count": null,
   "metadata": {},
   "outputs": [],
   "source": []
  },
  {
   "cell_type": "code",
   "execution_count": 5,
   "metadata": {},
   "outputs": [],
   "source": [
    "# starting tour option"
   ]
  },
  {
   "cell_type": "code",
   "execution_count": 6,
   "metadata": {},
   "outputs": [],
   "source": [
    "# define function to execute random tour\n",
    "def random_tour(cities, distance):\n",
    "    import numpy as np\n",
    "    \n",
    "    temp = [x for x in range(1,cities)]\n",
    "    np.random.shuffle(temp)\n",
    "    tour = [0] + temp + [0]\n",
    "    length = totalcost(tour, distance)\n",
    "    \n",
    "    return (tour, length)"
   ]
  },
  {
   "cell_type": "code",
   "execution_count": 7,
   "metadata": {},
   "outputs": [],
   "source": [
    "# define function to execute nearest neighbor        \n",
    "def nearest_neighbor(cities, distance):\n",
    "    import numpy as np\n",
    "\n",
    "    position = 0\n",
    "    tour = [0]\n",
    "    length = 0\n",
    "    for i in range(cities-1):\n",
    "        nn = 0\n",
    "        nd = np.nanmax(distance)+1\n",
    "        for j in range(cities):  \n",
    "            if (j not in tour) and (distance[position,j]<nd) and (i!=j):\n",
    "                nd = distance[position,j]\n",
    "                nn = j\n",
    "        tour.append(nn)\n",
    "        length = length + nd\n",
    "        position = nn\n",
    "    tour.append(0)\n",
    "    length = length + distance[position,0]\n",
    "    \n",
    "    return (tour, length)"
   ]
  },
  {
   "cell_type": "code",
   "execution_count": 8,
   "metadata": {},
   "outputs": [],
   "source": [
    "# define function to execute successive insertion\n",
    "def succ_insert(cities, distance):\n",
    "    import numpy as np\n",
    "\n",
    "    tour = [0, 0] #start and end at node 0\n",
    "    length = 0 #total length of current tour\n",
    "    \n",
    "    for i in range(1, cities) : #add nodes in order of 1 -> nodes-1\n",
    "        length_change = np.zeros(len(tour) - 1) #list of change in length for each possible position to insert new node\n",
    "\n",
    "        for position in range(len(tour) - 1): #iterate through possible positions in current tour\n",
    "            temp_tour = tour[: position+1] + [i] + tour[position+1 :]\n",
    "\n",
    "            #calculate the change in length between current tour and temp tour\n",
    "            pre_ins_node = tour[position]\n",
    "            nex_ins_node = tour[position + 1]\n",
    "            if pre_ins_node == nex_ins_node:\n",
    "                length_change[position] = distance[pre_ins_node][i] + distance[i][nex_ins_node]\n",
    "            else:\n",
    "                length_change[position] = distance[pre_ins_node][i] + distance[i][nex_ins_node] - distance[pre_ins_node][nex_ins_node]\n",
    "\n",
    "        min_position = np.argmin(length_change) #get the position which create the shortest length change\n",
    "        length += length_change[min_position]\n",
    "        tour = tour[: min_position+1] + [i] + tour[min_position+1 :]\n",
    "        \n",
    "    return (tour, length)"
   ]
  },
  {
   "cell_type": "code",
   "execution_count": null,
   "metadata": {},
   "outputs": [],
   "source": []
  },
  {
   "cell_type": "code",
   "execution_count": 9,
   "metadata": {},
   "outputs": [],
   "source": [
    "#neighborhood definition options"
   ]
  },
  {
   "cell_type": "code",
   "execution_count": 10,
   "metadata": {},
   "outputs": [],
   "source": [
    "#exchange\n",
    "def random_exchange(tour, distance):\n",
    "    [i,j] = np.random.choice(range(1,len(tour)-1), size = 2, replace = False) #start = end = depot\n",
    "    \n",
    "    delta = distance[tour[i-1],tour[i]] + distance[tour[i],tour[i+1]] + distance[tour[j-1],tour[j]] + distance[tour[j],tour[j+1]] - distance[tour[i-1],tour[j]] - distance[tour[j],tour[i+1]] - distance[tour[j-1],tour[i]] - distance[tour[i],tour[j+1]]\n",
    "    #improvement = positive delta\n",
    "    \n",
    "    #exchange node i and j\n",
    "    new_tour = copy.deepcopy(tour)\n",
    "    new_tour[i] = tour[j]\n",
    "    new_tour[j] = tour[i]\n",
    "    \n",
    "    return(new_tour, delta)\n"
   ]
  },
  {
   "cell_type": "code",
   "execution_count": 11,
   "metadata": {},
   "outputs": [],
   "source": [
    "# define function to swap 2 edges of nodes with index m and n (starting index 0)  \n",
    "def tour_swap (tour, m, n):\n",
    "    new_tour = copy.deepcopy(tour)\n",
    "    new_tour[m:n+1] = reversed(new_tour[m:n+1])\n",
    "    return new_tour"
   ]
  },
  {
   "cell_type": "code",
   "execution_count": 12,
   "metadata": {},
   "outputs": [],
   "source": [
    "#2opt\n",
    "def random_2opt(tour, distance):\n",
    "    i = np.random.randint(1,len(tour)-2)\n",
    "    j = np.random.randint(i+1,len(tour)-1)\n",
    "    \n",
    "    new_tour = tour_swap(tour, i, j)\n",
    "    delta = totalcost(tour[(i-1):(j+2)], distance) - totalcost(new_tour[(i-1):(j+2)], distance) #improvement = positive delta\n",
    "    \n",
    "    return(new_tour, delta)"
   ]
  },
  {
   "cell_type": "code",
   "execution_count": null,
   "metadata": {},
   "outputs": [],
   "source": []
  },
  {
   "cell_type": "code",
   "execution_count": null,
   "metadata": {},
   "outputs": [],
   "source": []
  },
  {
   "cell_type": "code",
   "execution_count": 22,
   "metadata": {},
   "outputs": [],
   "source": [
    "#main function\n",
    "def SA (tour, length, distance, initial=0.01, cool_factor=0.95, eval_times=10000, neighbor = 'two_opt', \n",
    "        TimeLimit = None, non_improvement = None, max_iteration = None, min_temp = None):\n",
    "\n",
    "    best = length\n",
    "    besttour = tour\n",
    "    best_iter = 0\n",
    "    temperature = initial*length\n",
    "    print(tour)\n",
    "    print(best)\n",
    "    \n",
    "    #time limit condition\n",
    "    from time import process_time \n",
    "    start_time = process_time()\n",
    "     \n",
    "    #max iteration condition\n",
    "    iteration = 0\n",
    "    non_iter = 0\n",
    "    \n",
    "    terminated = False\n",
    "    while not terminated: #termination condition \n",
    "        \n",
    "        improvement = False\n",
    "        iteration += 1 \n",
    "        \n",
    "        #evaluation at given alpha\n",
    "        for k in range(eval_times):\n",
    "            next_tour = []\n",
    "            if neighbor == 'exchange':\n",
    "                (next_tour, delta) = random_exchange(tour, distance) #end = depot\n",
    "            elif neighbor == 'two_opt':\n",
    "                (next_tour, delta) = random_2opt(tour, distance)\n",
    "            else:\n",
    "                print('Invalid neighborhood definition')\n",
    "                break\n",
    "                \n",
    "            if delta > 0 or (np.random.random() < math.exp(delta/temperature)): \n",
    "                #print('****', length, delta)\n",
    "                length = length - delta\n",
    "                tour = next_tour\n",
    "            if length < best:\n",
    "                best = length\n",
    "                besttour=tour\n",
    "                best_iter = iteration\n",
    "                improvement = True\n",
    "                #print(best, '   ', temperature)\n",
    "               \n",
    "        temperature = cool_factor*temperature\n",
    "\n",
    "        if (TimeLimit is not None): #time elapsed termination\n",
    "            runtime = process_time() - start_time\n",
    "            if (runtime >= TimeLimit): \n",
    "                print('Reach TimeLimit')\n",
    "                terminated = True\n",
    "                \n",
    "        elif (non_improvement is not None): #max iteration without new best solution\n",
    "            if improvement: \n",
    "                non_iter = 0\n",
    "            else: non_iter += 1\n",
    "            if non_iter >= non_improvement:\n",
    "                print('Reach max number of iteration without new best solution')\n",
    "                terminated = True\n",
    "        \n",
    "        elif (max_iteration is not None):\n",
    "            if iteration >= max_iteration:\n",
    "                print('Reach max number of iteration')\n",
    "                terminated = True\n",
    "                \n",
    "        elif (min_temp is not None):\n",
    "            if  temperature < min_temp : \n",
    "                print('Reach min temperature')\n",
    "                terminated = True\n",
    "                \n",
    "        else: \n",
    "            if  temperature < (0.95**100) * initial*length: #default option \n",
    "                print('Reach default min temperature')\n",
    "                terminated = True\n",
    "    \n",
    "    print(\"Terminate\")\n",
    "    print(besttour)\n",
    "    print(best)\n",
    "    \n",
    "    return (best, iteration, best_iter)"
   ]
  },
  {
   "cell_type": "code",
   "execution_count": null,
   "metadata": {},
   "outputs": [],
   "source": []
  },
  {
   "cell_type": "code",
   "execution_count": 14,
   "metadata": {},
   "outputs": [],
   "source": [
    "import numpy as np\n",
    "import pandas as pd\n",
    "import math\n",
    "import random\n",
    "import copy"
   ]
  },
  {
   "cell_type": "code",
   "execution_count": 15,
   "metadata": {},
   "outputs": [],
   "source": [
    "# 120 cities\n",
    "cities = 120\n",
    "\n",
    "di = pd.read_excel(\"gr120.xlsx\",sheet_name=\"DistanceMatrix\")\n",
    "distance=di.values\n",
    "\n",
    "for i in range(cities):\n",
    "    distance[i,i] = 10000"
   ]
  },
  {
   "cell_type": "code",
   "execution_count": 16,
   "metadata": {},
   "outputs": [],
   "source": [
    "# Medium size data set: # of nodes = 152\n",
    "url1 = 'http://comopt.ifi.uni-heidelberg.de/software/TSPLIB95/XML-TSPLIB/instances/pr152.xml.zip'\n",
    "zip1 = 'pr152.xml.zip'\n",
    "file1 = 'pr152.xml'\n",
    "cities1 = 152\n",
    "\n",
    "load_data(url1, zip1)\n",
    "xroot1 = import_data(file1)\n",
    "distance1 = dist_matrix(cities1, xroot1)"
   ]
  },
  {
   "cell_type": "code",
   "execution_count": 17,
   "metadata": {},
   "outputs": [],
   "source": [
    "# Larger size data set: # of nodes = 264\n",
    "url2 = 'http://comopt.ifi.uni-heidelberg.de/software/TSPLIB95/XML-TSPLIB/instances/pr264.xml.zip'\n",
    "zip2 = 'pr264.xml.zip'\n",
    "file2 = 'pr264.xml'\n",
    "cities2 = 264\n",
    "\n",
    "load_data(url2, zip2)\n",
    "xroot2 = import_data(file2)\n",
    "distance2 = dist_matrix(cities2, xroot2)"
   ]
  },
  {
   "cell_type": "code",
   "execution_count": 18,
   "metadata": {},
   "outputs": [],
   "source": [
    "dataset = ((cities, distance), (cities1, distance1), (cities2, distance2))\n",
    "index = ['Dataset 1', 'Dataset 2', 'Dataset 3']"
   ]
  },
  {
   "cell_type": "code",
   "execution_count": null,
   "metadata": {},
   "outputs": [],
   "source": []
  },
  {
   "cell_type": "markdown",
   "metadata": {},
   "source": [
    "**Notation**  \n",
    "Dataset 1 = Example with 120 cities  \n",
    "Dataset 2 = Example with 152 cities  \n",
    "Dataset 3 = Example with 264 cities  "
   ]
  },
  {
   "cell_type": "markdown",
   "metadata": {},
   "source": [
    "### Comparision between Starting solution  \n",
    "Run 3 starting solution strategies: random, nearest neighbor, successive insertion with 3 datasets, the other parameters are default (initial = 0.01, cooling factor = 0.95, number of evaluation each iteration = 10000, neighborhood definition = 'two_opt'). The termination condition is set as TimeLimit = 60 seconds per dataset per strategy. "
   ]
  },
  {
   "cell_type": "code",
   "execution_count": 23,
   "metadata": {},
   "outputs": [
    {
     "name": "stdout",
     "output_type": "stream",
     "text": [
      "[0, 10, 8, 12, 14, 103, 52, 41, 13, 36, 6, 109, 62, 61, 46, 39, 116, 25, 101, 11, 58, 63, 95, 75, 45, 70, 50, 102, 22, 43, 48, 30, 40, 105, 21, 115, 16, 37, 72, 19, 34, 108, 119, 57, 31, 87, 27, 3, 15, 96, 85, 114, 55, 65, 104, 80, 7, 68, 73, 118, 29, 110, 47, 93, 98, 76, 28, 60, 51, 67, 78, 26, 42, 35, 20, 71, 84, 88, 112, 64, 106, 53, 9, 56, 91, 94, 17, 100, 82, 83, 5, 92, 74, 66, 117, 107, 44, 32, 86, 111, 54, 97, 4, 79, 18, 59, 81, 38, 49, 69, 89, 113, 23, 2, 99, 77, 90, 33, 24, 1, 0]\n",
      "54019\n",
      "Reach TimeLimit\n",
      "Terminate\n",
      "[0, 28, 15, 59, 23, 110, 95, 89, 70, 46, 88, 47, 101, 100, 109, 111, 105, 103, 61, 36, 98, 9, 34, 83, 35, 5, 54, 53, 7, 69, 115, 25, 3, 33, 71, 39, 104, 60, 119, 31, 91, 85, 13, 86, 73, 74, 49, 45, 97, 41, 16, 48, 117, 12, 50, 22, 8, 10, 114, 1, 20, 108, 87, 63, 92, 52, 26, 4, 62, 76, 94, 96, 11, 38, 82, 66, 56, 72, 113, 79, 81, 2, 118, 102, 37, 6, 55, 40, 43, 106, 19, 112, 68, 64, 57, 78, 51, 32, 99, 90, 67, 42, 107, 24, 18, 17, 84, 116, 65, 30, 21, 80, 93, 77, 44, 27, 29, 14, 58, 75, 0]\n",
      "7993\n",
      "[0, 105, 8, 93, 1, 83, 55, 149, 26, 39, 58, 148, 64, 42, 118, 94, 117, 70, 102, 146, 51, 108, 144, 138, 38, 78, 18, 129, 142, 12, 112, 71, 23, 62, 81, 16, 14, 140, 84, 95, 114, 33, 22, 109, 36, 150, 131, 48, 120, 25, 31, 44, 69, 46, 37, 79, 127, 104, 28, 86, 98, 17, 82, 113, 32, 34, 125, 3, 147, 151, 11, 87, 67, 97, 30, 5, 132, 27, 57, 91, 92, 76, 47, 72, 100, 85, 9, 29, 134, 74, 73, 141, 61, 107, 35, 116, 77, 56, 124, 90, 101, 75, 66, 133, 7, 54, 52, 119, 128, 49, 21, 20, 130, 126, 139, 68, 41, 122, 115, 135, 121, 6, 50, 59, 40, 4, 24, 80, 110, 2, 19, 63, 45, 60, 145, 96, 111, 15, 143, 136, 10, 106, 13, 53, 103, 89, 137, 99, 88, 65, 43, 123, 0]\n",
      "1049119.3665738495\n",
      "Reach TimeLimit\n",
      "Terminate\n",
      "[0, 15, 33, 36, 12, 29, 30, 13, 3, 27, 26, 38, 4, 24, 22, 11, 37, 28, 68, 65, 87, 102, 101, 64, 54, 67, 55, 66, 43, 99, 69, 44, 51, 45, 52, 93, 47, 74, 48, 49, 97, 90, 115, 94, 114, 91, 92, 75, 46, 76, 73, 50, 72, 77, 95, 53, 70, 71, 78, 111, 62, 41, 61, 86, 40, 57, 63, 106, 58, 85, 109, 84, 108, 107, 83, 59, 82, 104, 105, 60, 103, 110, 81, 42, 56, 141, 116, 137, 136, 142, 117, 138, 139, 140, 133, 119, 132, 135, 118, 145, 144, 134, 143, 120, 147, 148, 130, 129, 121, 128, 131, 146, 126, 122, 125, 123, 149, 124, 127, 151, 150, 100, 112, 79, 96, 89, 113, 88, 98, 80, 16, 6, 18, 9, 7, 8, 39, 17, 23, 19, 20, 25, 10, 21, 5, 2, 35, 34, 32, 31, 14, 1, 0]\n",
      "156927.70357077933\n",
      "[0, 31, 101, 234, 43, 64, 196, 24, 6, 28, 56, 66, 18, 241, 131, 25, 261, 237, 49, 93, 211, 179, 239, 238, 41, 213, 83, 17, 67, 69, 141, 187, 22, 200, 223, 102, 21, 92, 230, 11, 119, 86, 225, 143, 20, 142, 243, 253, 68, 189, 96, 40, 108, 91, 161, 38, 197, 118, 145, 148, 221, 157, 191, 153, 155, 259, 84, 110, 218, 44, 228, 97, 186, 199, 215, 33, 262, 173, 227, 248, 156, 188, 169, 164, 167, 146, 5, 260, 150, 81, 183, 63, 159, 39, 184, 30, 249, 51, 10, 105, 53, 125, 70, 256, 123, 231, 23, 19, 37, 194, 240, 175, 79, 217, 176, 124, 116, 1, 117, 202, 106, 214, 192, 59, 3, 236, 57, 246, 9, 77, 115, 88, 75, 205, 14, 130, 219, 247, 255, 224, 27, 166, 242, 129, 201, 137, 182, 165, 132, 47, 180, 135, 170, 254, 34, 172, 122, 163, 127, 168, 147, 103, 29, 42, 216, 26, 244, 251, 162, 233, 120, 62, 71, 113, 210, 4, 48, 263, 8, 78, 45, 207, 222, 174, 52, 152, 12, 99, 190, 158, 133, 54, 87, 16, 204, 220, 73, 121, 55, 15, 139, 203, 154, 112, 82, 149, 107, 89, 232, 126, 58, 178, 206, 85, 171, 32, 98, 109, 250, 100, 198, 134, 128, 151, 74, 7, 257, 94, 111, 181, 95, 258, 61, 177, 50, 193, 60, 229, 35, 252, 226, 245, 72, 195, 104, 209, 46, 235, 185, 65, 160, 76, 90, 13, 212, 208, 2, 144, 36, 140, 80, 138, 136, 114, 0]\n",
      "1165234.0459955053\n",
      "Reach TimeLimit\n",
      "Terminate\n",
      "[0, 33, 90, 28, 66, 190, 116, 55, 54, 49, 78, 42, 129, 81, 6, 125, 144, 207, 197, 45, 118, 117, 251, 238, 79, 13, 62, 44, 220, 157, 158, 219, 173, 152, 150, 263, 193, 259, 172, 161, 168, 256, 203, 10, 5, 97, 107, 115, 86, 82, 32, 121, 52, 39, 102, 16, 95, 103, 26, 41, 127, 51, 112, 105, 119, 56, 50, 4, 104, 244, 217, 221, 3, 15, 1, 98, 184, 160, 101, 84, 93, 25, 8, 30, 58, 234, 139, 187, 145, 233, 208, 253, 163, 213, 189, 195, 212, 215, 166, 180, 198, 248, 134, 209, 138, 142, 175, 165, 154, 210, 239, 137, 191, 146, 135, 236, 229, 235, 228, 226, 201, 132, 186, 196, 140, 247, 89, 114, 99, 70, 19, 24, 17, 64, 72, 34, 100, 14, 130, 159, 214, 177, 194, 200, 74, 170, 174, 136, 176, 245, 246, 205, 242, 231, 257, 133, 185, 241, 218, 167, 69, 18, 21, 92, 131, 73, 71, 260, 148, 169, 225, 155, 178, 179, 230, 156, 222, 227, 149, 224, 113, 68, 38, 67, 40, 120, 126, 60, 27, 29, 37, 59, 91, 77, 106, 108, 31, 2, 88, 22, 35, 36, 94, 80, 23, 20, 85, 162, 262, 202, 211, 223, 188, 171, 261, 237, 192, 249, 164, 147, 141, 181, 111, 110, 63, 76, 96, 7, 11, 9, 254, 206, 204, 128, 53, 87, 199, 252, 255, 258, 250, 143, 243, 109, 75, 124, 122, 48, 65, 83, 182, 216, 12, 183, 240, 57, 123, 153, 151, 232, 61, 43, 47, 46, 0]\n",
      "530284.3518024081\n",
      "[0, 75, 28, 29, 31, 91, 27, 119, 60, 15, 59, 23, 110, 95, 89, 53, 7, 69, 115, 33, 25, 3, 118, 102, 8, 22, 10, 50, 114, 1, 81, 2, 79, 26, 4, 62, 72, 56, 82, 66, 36, 61, 98, 103, 35, 83, 5, 54, 88, 109, 111, 105, 113, 100, 101, 47, 46, 70, 39, 71, 104, 73, 86, 13, 74, 43, 45, 49, 97, 41, 16, 117, 48, 19, 106, 68, 64, 42, 107, 24, 18, 17, 84, 21, 65, 30, 116, 85, 93, 77, 44, 80, 14, 58, 55, 40, 6, 37, 52, 92, 108, 20, 63, 76, 94, 96, 11, 87, 38, 34, 9, 112, 67, 78, 57, 99, 32, 51, 90, 12, 0]\n",
      "9351\n",
      "Reach TimeLimit\n",
      "Terminate\n",
      "[0, 60, 15, 59, 23, 110, 95, 89, 53, 7, 69, 115, 33, 3, 25, 70, 46, 47, 101, 100, 113, 109, 111, 35, 88, 54, 5, 83, 34, 9, 98, 103, 105, 61, 36, 66, 72, 56, 82, 38, 62, 4, 76, 94, 11, 96, 87, 108, 20, 92, 63, 52, 26, 79, 2, 118, 102, 22, 8, 81, 1, 114, 10, 50, 12, 48, 117, 16, 49, 97, 41, 40, 55, 6, 37, 71, 39, 104, 73, 86, 13, 74, 43, 45, 19, 106, 112, 68, 64, 67, 90, 57, 99, 32, 51, 78, 42, 107, 24, 18, 17, 84, 116, 30, 65, 21, 80, 93, 85, 77, 44, 27, 91, 31, 119, 28, 29, 14, 58, 75, 0]\n",
      "7029\n",
      "[0, 34, 35, 33, 15, 1, 14, 31, 32, 36, 2, 30, 29, 28, 37, 27, 26, 12, 3, 13, 4, 25, 24, 23, 11, 5, 10, 21, 22, 38, 6, 19, 20, 18, 9, 7, 8, 16, 17, 39, 40, 59, 60, 61, 62, 63, 58, 57, 41, 82, 104, 105, 106, 85, 83, 84, 107, 108, 109, 103, 110, 111, 102, 101, 100, 87, 80, 67, 66, 55, 54, 43, 65, 64, 56, 42, 81, 86, 88, 99, 112, 113, 98, 97, 96, 89, 78, 70, 71, 52, 51, 45, 69, 68, 53, 44, 79, 90, 95, 114, 115, 94, 93, 92, 91, 76, 73, 75, 49, 48, 47, 74, 72, 50, 46, 77, 122, 127, 126, 150, 149, 151, 125, 124, 121, 128, 129, 148, 147, 146, 130, 131, 120, 119, 132, 133, 145, 144, 143, 134, 135, 118, 117, 136, 137, 142, 141, 140, 138, 139, 116, 123, 0]\n",
      "92477.31337859033\n",
      "Reach TimeLimit\n",
      "Terminate\n",
      "[0, 34, 35, 33, 36, 32, 31, 45, 51, 52, 71, 70, 69, 68, 53, 44, 79, 88, 99, 112, 113, 98, 89, 97, 96, 78, 90, 95, 114, 115, 77, 46, 50, 72, 74, 73, 49, 48, 47, 75, 76, 91, 94, 93, 92, 123, 124, 125, 151, 149, 150, 126, 127, 122, 121, 128, 129, 148, 147, 146, 130, 131, 120, 119, 132, 144, 133, 145, 143, 134, 135, 118, 117, 136, 137, 142, 141, 140, 138, 139, 116, 109, 108, 107, 84, 83, 85, 106, 105, 104, 82, 63, 62, 61, 60, 59, 40, 41, 57, 58, 86, 103, 110, 111, 81, 87, 102, 101, 100, 80, 66, 43, 54, 55, 67, 65, 64, 56, 42, 39, 17, 16, 8, 7, 9, 18, 20, 19, 6, 10, 21, 22, 38, 5, 11, 23, 24, 25, 4, 12, 26, 27, 37, 3, 13, 28, 29, 30, 2, 14, 1, 15, 0]\n",
      "74686.59879259461\n",
      "[0, 39, 40, 38, 37, 36, 60, 59, 120, 119, 118, 117, 116, 115, 62, 61, 35, 34, 33, 32, 31, 30, 64, 63, 114, 113, 112, 111, 110, 109, 66, 65, 29, 28, 27, 26, 25, 24, 68, 67, 108, 107, 106, 105, 104, 103, 70, 69, 23, 22, 21, 20, 19, 18, 72, 71, 102, 101, 100, 99, 98, 97, 74, 73, 17, 16, 15, 14, 13, 12, 76, 75, 96, 95, 94, 93, 92, 91, 78, 77, 11, 10, 9, 8, 7, 6, 80, 79, 90, 89, 88, 87, 86, 85, 82, 81, 5, 4, 3, 2, 1, 83, 84, 131, 130, 129, 128, 41, 42, 43, 44, 45, 47, 46, 48, 56, 57, 121, 122, 123, 124, 125, 126, 54, 55, 49, 50, 51, 52, 53, 127, 58, 145, 146, 147, 144, 164, 163, 162, 224, 223, 237, 236, 239, 238, 222, 221, 167, 166, 165, 143, 142, 170, 169, 168, 220, 219, 241, 240, 243, 242, 218, 217, 173, 172, 171, 141, 140, 174, 175, 176, 215, 216, 244, 245, 246, 247, 213, 214, 177, 178, 179, 139, 138, 180, 181, 182, 211, 212, 248, 249, 250, 251, 209, 210, 183, 184, 185, 137, 136, 186, 187, 188, 207, 208, 252, 253, 254, 255, 205, 206, 189, 190, 191, 135, 134, 194, 193, 192, 204, 203, 257, 256, 259, 258, 202, 201, 197, 196, 195, 133, 132, 198, 200, 199, 260, 261, 262, 263, 161, 160, 159, 158, 157, 154, 148, 155, 156, 226, 227, 234, 235, 232, 233, 228, 229, 151, 152, 153, 149, 150, 230, 231, 225, 0]\n",
      "58022.856841092\n"
     ]
    },
    {
     "name": "stdout",
     "output_type": "stream",
     "text": [
      "Reach TimeLimit\n",
      "Terminate\n",
      "[0, 39, 40, 38, 37, 36, 60, 59, 120, 119, 118, 117, 116, 115, 62, 61, 35, 34, 33, 32, 31, 30, 64, 63, 114, 113, 112, 111, 110, 109, 66, 65, 29, 28, 27, 26, 25, 24, 68, 67, 108, 107, 106, 105, 104, 103, 70, 69, 23, 22, 21, 20, 19, 18, 72, 71, 102, 101, 100, 99, 98, 97, 74, 73, 17, 16, 15, 14, 13, 12, 76, 75, 96, 95, 94, 93, 92, 91, 78, 77, 11, 10, 9, 8, 7, 6, 80, 79, 90, 89, 88, 87, 86, 85, 82, 81, 5, 4, 3, 2, 1, 83, 84, 131, 130, 129, 128, 41, 42, 43, 44, 45, 47, 46, 48, 56, 57, 121, 122, 123, 124, 125, 126, 54, 55, 49, 50, 51, 52, 53, 127, 58, 145, 146, 147, 144, 164, 163, 162, 224, 223, 237, 236, 239, 238, 222, 221, 167, 166, 165, 143, 142, 170, 169, 168, 220, 219, 241, 240, 243, 242, 218, 217, 173, 172, 171, 141, 140, 174, 175, 176, 215, 216, 244, 245, 246, 247, 213, 214, 177, 178, 179, 139, 138, 180, 181, 182, 211, 212, 248, 249, 250, 251, 209, 210, 183, 184, 185, 137, 136, 186, 187, 188, 207, 208, 252, 253, 254, 255, 205, 206, 189, 190, 191, 135, 134, 194, 193, 192, 204, 203, 257, 256, 259, 258, 202, 201, 197, 196, 195, 133, 132, 198, 200, 199, 260, 261, 262, 263, 161, 160, 159, 158, 157, 154, 148, 155, 156, 226, 227, 234, 235, 232, 233, 228, 229, 151, 152, 153, 149, 150, 230, 231, 225, 0]\n",
      "58022.856841092\n",
      "[0, 60, 15, 59, 23, 110, 95, 89, 53, 7, 69, 115, 33, 25, 70, 46, 88, 111, 35, 34, 9, 98, 105, 66, 36, 61, 103, 83, 5, 54, 47, 109, 100, 101, 2, 81, 79, 52, 26, 4, 62, 113, 72, 56, 82, 38, 94, 96, 11, 76, 63, 87, 108, 20, 92, 1, 114, 10, 50, 12, 22, 8, 102, 118, 3, 39, 104, 71, 37, 6, 55, 40, 41, 97, 117, 48, 16, 49, 45, 19, 106, 112, 68, 64, 42, 67, 90, 78, 57, 99, 32, 51, 107, 24, 18, 17, 84, 116, 30, 65, 80, 93, 21, 85, 74, 43, 86, 73, 13, 77, 44, 27, 91, 31, 58, 14, 29, 119, 28, 75, 0]\n",
      "7779.0\n",
      "Reach TimeLimit\n",
      "Terminate\n",
      "[0, 15, 60, 28, 119, 27, 73, 104, 71, 39, 33, 3, 25, 69, 115, 7, 59, 23, 110, 95, 89, 53, 70, 46, 47, 101, 100, 113, 72, 105, 111, 109, 88, 54, 5, 35, 83, 34, 9, 103, 98, 61, 36, 66, 56, 82, 38, 62, 4, 26, 79, 2, 81, 52, 63, 76, 94, 11, 96, 87, 108, 20, 92, 1, 114, 10, 50, 22, 8, 102, 118, 37, 6, 55, 40, 43, 86, 13, 85, 74, 45, 49, 97, 41, 16, 48, 12, 117, 19, 106, 112, 68, 64, 67, 90, 57, 99, 32, 51, 78, 42, 107, 24, 18, 17, 84, 116, 30, 65, 21, 80, 93, 77, 44, 91, 31, 29, 14, 58, 75, 0]\n",
      "7130.0\n",
      "[0, 34, 35, 15, 33, 36, 32, 14, 31, 30, 29, 13, 28, 37, 27, 12, 26, 25, 24, 11, 23, 38, 22, 10, 21, 47, 48, 49, 75, 73, 76, 74, 72, 50, 46, 92, 93, 94, 91, 77, 115, 114, 95, 90, 78, 45, 51, 52, 71, 70, 69, 68, 53, 44, 96, 97, 98, 89, 79, 113, 112, 99, 88, 80, 43, 54, 55, 67, 66, 65, 64, 56, 42, 100, 101, 102, 87, 81, 111, 110, 103, 86, 82, 41, 57, 58, 63, 62, 61, 60, 59, 104, 105, 106, 85, 83, 109, 123, 124, 125, 151, 149, 150, 126, 127, 122, 121, 128, 129, 148, 147, 146, 130, 131, 120, 119, 132, 133, 145, 144, 143, 134, 135, 118, 117, 136, 137, 142, 141, 140, 138, 139, 116, 108, 107, 84, 40, 19, 20, 9, 18, 39, 17, 16, 8, 7, 6, 5, 4, 3, 2, 1, 0]\n",
      "91334.72161657987\n",
      "Reach TimeLimit\n",
      "Terminate\n",
      "[0, 15, 1, 36, 32, 31, 14, 2, 30, 29, 28, 13, 3, 37, 27, 26, 12, 4, 24, 25, 23, 11, 5, 10, 6, 9, 7, 8, 16, 17, 39, 18, 20, 19, 21, 22, 38, 44, 53, 68, 69, 70, 51, 45, 52, 71, 78, 96, 97, 98, 89, 79, 113, 112, 99, 88, 80, 66, 67, 54, 43, 55, 65, 64, 42, 56, 81, 87, 101, 100, 102, 111, 110, 103, 86, 82, 63, 58, 57, 41, 62, 61, 60, 59, 40, 83, 84, 107, 108, 109, 85, 106, 105, 104, 116, 139, 138, 140, 137, 142, 141, 136, 117, 118, 135, 134, 143, 144, 145, 133, 132, 119, 120, 131, 130, 146, 147, 148, 129, 128, 121, 122, 127, 126, 150, 149, 151, 125, 124, 123, 115, 114, 95, 90, 77, 91, 94, 93, 92, 76, 75, 73, 49, 47, 48, 74, 72, 50, 46, 33, 35, 34, 0]\n",
      "75544.55386645159\n",
      "[0, 38, 33, 32, 31, 27, 25, 26, 21, 19, 20, 15, 13, 14, 9, 7, 8, 3, 2, 1, 4, 5, 81, 83, 84, 87, 86, 85, 82, 6, 80, 79, 90, 89, 88, 93, 92, 91, 78, 77, 11, 10, 12, 76, 75, 96, 95, 94, 131, 132, 198, 133, 195, 196, 197, 200, 199, 259, 258, 202, 201, 194, 134, 135, 191, 190, 193, 192, 204, 203, 257, 256, 205, 206, 189, 255, 254, 260, 261, 262, 253, 252, 208, 207, 188, 187, 186, 136, 137, 185, 184, 183, 210, 209, 251, 250, 249, 248, 212, 211, 182, 181, 180, 138, 139, 179, 178, 177, 214, 213, 247, 246, 245, 244, 216, 215, 176, 175, 174, 140, 141, 171, 172, 173, 217, 218, 242, 243, 240, 241, 219, 220, 170, 142, 143, 165, 166, 169, 168, 167, 221, 222, 238, 239, 263, 236, 237, 223, 224, 162, 163, 164, 144, 146, 147, 145, 161, 160, 225, 159, 158, 157, 148, 154, 155, 156, 226, 227, 234, 235, 232, 231, 233, 228, 229, 152, 151, 230, 150, 153, 149, 130, 129, 99, 98, 97, 74, 73, 17, 16, 18, 72, 71, 102, 101, 100, 105, 104, 103, 70, 69, 23, 22, 24, 68, 67, 108, 107, 106, 111, 112, 113, 114, 110, 109, 66, 65, 29, 28, 30, 64, 63, 35, 34, 61, 62, 115, 116, 117, 128, 118, 119, 120, 59, 60, 36, 37, 39, 41, 42, 43, 44, 45, 48, 56, 57, 121, 122, 123, 124, 127, 125, 126, 49, 55, 54, 53, 52, 50, 51, 47, 46, 58, 40, 0]\n",
      "57260.05492393449\n",
      "Reach TimeLimit\n",
      "Terminate\n",
      "[0, 38, 33, 32, 31, 27, 25, 26, 21, 19, 20, 15, 13, 14, 9, 7, 8, 3, 2, 1, 4, 5, 81, 83, 84, 87, 86, 85, 82, 6, 80, 79, 90, 89, 88, 93, 92, 91, 78, 77, 11, 10, 12, 76, 75, 96, 95, 94, 131, 132, 198, 133, 195, 196, 197, 200, 199, 259, 258, 202, 201, 194, 134, 135, 191, 190, 193, 192, 204, 203, 257, 256, 205, 206, 189, 255, 254, 260, 261, 262, 253, 252, 208, 207, 188, 187, 186, 136, 137, 185, 184, 183, 210, 209, 251, 250, 249, 248, 212, 211, 182, 181, 180, 138, 139, 179, 178, 177, 214, 213, 247, 246, 245, 244, 216, 215, 176, 175, 174, 140, 141, 171, 172, 173, 217, 218, 242, 243, 240, 241, 219, 220, 170, 142, 143, 165, 166, 169, 168, 167, 221, 222, 238, 239, 263, 236, 237, 223, 224, 162, 163, 164, 144, 146, 147, 145, 161, 160, 225, 159, 158, 157, 148, 154, 155, 156, 226, 227, 234, 235, 232, 231, 233, 228, 229, 152, 151, 230, 150, 153, 149, 130, 129, 99, 98, 97, 74, 73, 17, 16, 18, 72, 71, 102, 101, 100, 105, 104, 103, 70, 69, 23, 22, 24, 68, 67, 108, 107, 106, 111, 112, 113, 114, 110, 109, 66, 65, 29, 28, 30, 64, 63, 35, 34, 61, 62, 115, 116, 117, 128, 118, 119, 120, 59, 60, 36, 37, 39, 41, 42, 43, 44, 45, 48, 56, 57, 121, 122, 123, 124, 127, 125, 126, 49, 55, 54, 53, 52, 50, 51, 47, 46, 58, 40, 0]\n",
      "57260.05492393449\n"
     ]
    }
   ],
   "source": [
    "import pandas as pd\n",
    "value = pd.DataFrame(index = index, columns = ['random', 'nearest neighbor', 'successive insertion'])\n",
    "\n",
    "#random starting tour\n",
    "for i in range(3):\n",
    "    (start_tour, start_length) = random_tour(dataset[i][0], dataset[i][1])\n",
    "    result = SA (start_tour, start_length, dataset[i][1], initial=0.01, cool_factor=0.95, eval_times=10000, neighbor = 'two_opt', TimeLimit = 60)\n",
    "    value.iloc[i,0] = result\n",
    "\n",
    "#nearest neighbor\n",
    "for i in range(3):\n",
    "    (start_tour, start_length) = nearest_neighbor(dataset[i][0], dataset[i][1])\n",
    "    result = SA (start_tour, start_length, dataset[i][1], initial=0.01, cool_factor=0.95, eval_times=10000, neighbor = 'two_opt', TimeLimit = 60)\n",
    "    value.iloc[i,1] = result\n",
    "\n",
    "#successive insertion\n",
    "for i in range(3):\n",
    "    (start_tour, start_length) = succ_insert(dataset[i][0], dataset[i][1])\n",
    "    result = SA (start_tour, start_length, dataset[i][1], initial=0.01, cool_factor=0.95, eval_times=10000, neighbor = 'two_opt', TimeLimit = 60)\n",
    "    value.iloc[i,2] = result\n"
   ]
  },
  {
   "cell_type": "markdown",
   "metadata": {},
   "source": [
    "Then we test 2 times and compare the results obtained from each strategy for each dataset. Each time, the result includes 3 information, which are (objective value, total number of iteration, run before that best solution is found)."
   ]
  },
  {
   "cell_type": "code",
   "execution_count": 21,
   "metadata": {},
   "outputs": [
    {
     "name": "stdout",
     "output_type": "stream",
     "text": [
      "                                 random             nearest neighbor  \\\n",
      "Dataset 1                (8037, 61, 61)               (7095, 60, 60)   \n",
      "Dataset 2  (139474.69752937893, 53, 51)  (79435.48153405348, 47, 47)   \n",
      "Dataset 3   (447623.8695958158, 32, 32)     (58022.856841092, 31, 0)   \n",
      "\n",
      "                 successive insertion  \n",
      "Dataset 1            (7105.0, 61, 61)  \n",
      "Dataset 2  (75694.2438165863, 51, 51)  \n",
      "Dataset 3  (57260.05492393449, 30, 0)  \n"
     ]
    }
   ],
   "source": [
    "value1=value\n",
    "print(value1)"
   ]
  },
  {
   "cell_type": "code",
   "execution_count": 25,
   "metadata": {},
   "outputs": [
    {
     "name": "stdout",
     "output_type": "stream",
     "text": [
      "                                 random             nearest neighbor  \\\n",
      "Dataset 1                (7993, 63, 63)               (7029, 65, 54)   \n",
      "Dataset 2  (156927.70357077933, 50, 50)  (74686.59879259461, 53, 53)   \n",
      "Dataset 3   (530284.3518024081, 28, 28)     (58022.856841092, 33, 0)   \n",
      "\n",
      "                  successive insertion  \n",
      "Dataset 1             (7130.0, 66, 59)  \n",
      "Dataset 2  (75544.55386645159, 56, 50)  \n",
      "Dataset 3   (57260.05492393449, 32, 0)  \n"
     ]
    }
   ],
   "source": [
    "value2=value\n",
    "print(value2)"
   ]
  },
  {
   "cell_type": "markdown",
   "metadata": {},
   "source": [
    "#### Comment:\n",
    "The performance of Nearest neighbor and Successive insertion is approximately the same. The Successive insertion works slightly worse than Nearest neighbor in dataset 1. In dataset 2, there is a mixed result, 1 test Successive insertion finds better solution and 1 test find worse one. In both tests, Successive insertion realizes tsolution quicker (fewer iterations needed) than Nearest neighbor.\n",
    "However, the performance of Random starting tour is very different from the other two strategies. Random tour works worse in all datasets and in both tests, especially in large datasets. In general, the random starting tour is an unstable strategy. Therefore, it is safer to use heuristic starting tour than random one."
   ]
  },
  {
   "cell_type": "code",
   "execution_count": null,
   "metadata": {},
   "outputs": [],
   "source": []
  },
  {
   "cell_type": "markdown",
   "metadata": {},
   "source": [
    "### **Comparision between Neighborhood definition**   \n",
    "Run 3 Neighborhood definitions: 2-opt and random_exchange with 3 datasets. The starting solution is chosen as successive insertion, based on the previous comparision. The other parameters are default (initial = 0.01, cooling factor = 0.95, number of evaluation each iteration = 10000). The termination condition is set as TimeLimit = 60 seconds per dataset per definition."
   ]
  },
  {
   "cell_type": "code",
   "execution_count": 26,
   "metadata": {},
   "outputs": [],
   "source": [
    "start = []\n",
    "for i in range(3):\n",
    "    (start_tour, start_length) = succ_insert(dataset[i][0], dataset[i][1])\n",
    "    start.append((start_tour, start_length))\n"
   ]
  },
  {
   "cell_type": "code",
   "execution_count": 30,
   "metadata": {
    "scrolled": true
   },
   "outputs": [
    {
     "name": "stdout",
     "output_type": "stream",
     "text": [
      "[0, 60, 15, 59, 23, 110, 95, 89, 53, 7, 69, 115, 33, 25, 70, 46, 88, 111, 35, 34, 9, 98, 105, 66, 36, 61, 103, 83, 5, 54, 47, 109, 100, 101, 2, 81, 79, 52, 26, 4, 62, 113, 72, 56, 82, 38, 94, 96, 11, 76, 63, 87, 108, 20, 92, 1, 114, 10, 50, 12, 22, 8, 102, 118, 3, 39, 104, 71, 37, 6, 55, 40, 41, 97, 117, 48, 16, 49, 45, 19, 106, 112, 68, 64, 42, 67, 90, 78, 57, 99, 32, 51, 107, 24, 18, 17, 84, 116, 30, 65, 80, 93, 21, 85, 74, 43, 86, 73, 13, 77, 44, 27, 91, 31, 58, 14, 29, 119, 28, 75, 0]\n",
      "7779.0\n",
      "Reach TimeLimit\n",
      "Terminate\n",
      "[0, 60, 15, 59, 23, 110, 95, 89, 53, 7, 69, 115, 33, 3, 25, 70, 46, 47, 101, 100, 109, 111, 103, 35, 88, 54, 5, 83, 34, 9, 98, 61, 36, 66, 105, 113, 72, 56, 82, 38, 62, 76, 94, 11, 96, 87, 108, 20, 114, 1, 92, 63, 52, 4, 26, 79, 81, 2, 118, 102, 8, 22, 10, 50, 12, 48, 117, 16, 97, 41, 40, 55, 6, 37, 71, 39, 104, 73, 86, 13, 74, 43, 49, 45, 19, 106, 112, 68, 64, 67, 90, 57, 99, 32, 51, 78, 42, 107, 24, 18, 17, 84, 116, 30, 65, 21, 80, 93, 85, 77, 44, 27, 91, 31, 119, 28, 29, 14, 58, 75, 0]\n",
      "7004.0\n",
      "[0, 34, 35, 15, 33, 36, 32, 14, 31, 30, 29, 13, 28, 37, 27, 12, 26, 25, 24, 11, 23, 38, 22, 10, 21, 47, 48, 49, 75, 73, 76, 74, 72, 50, 46, 92, 93, 94, 91, 77, 115, 114, 95, 90, 78, 45, 51, 52, 71, 70, 69, 68, 53, 44, 96, 97, 98, 89, 79, 113, 112, 99, 88, 80, 43, 54, 55, 67, 66, 65, 64, 56, 42, 100, 101, 102, 87, 81, 111, 110, 103, 86, 82, 41, 57, 58, 63, 62, 61, 60, 59, 104, 105, 106, 85, 83, 109, 123, 124, 125, 151, 149, 150, 126, 127, 122, 121, 128, 129, 148, 147, 146, 130, 131, 120, 119, 132, 133, 145, 144, 143, 134, 135, 118, 117, 136, 137, 142, 141, 140, 138, 139, 116, 108, 107, 84, 40, 19, 20, 9, 18, 39, 17, 16, 8, 7, 6, 5, 4, 3, 2, 1, 0]\n",
      "91334.72161657987\n",
      "Reach TimeLimit\n",
      "Terminate\n",
      "[0, 15, 1, 36, 32, 31, 14, 2, 30, 29, 28, 13, 3, 37, 27, 26, 12, 4, 25, 24, 23, 11, 5, 38, 22, 21, 10, 6, 19, 20, 18, 9, 7, 8, 16, 17, 39, 40, 59, 60, 58, 41, 57, 63, 62, 61, 82, 85, 83, 84, 107, 108, 109, 106, 105, 104, 86, 81, 42, 56, 64, 65, 66, 55, 54, 43, 67, 80, 87, 100, 101, 102, 111, 110, 103, 116, 139, 138, 140, 141, 142, 137, 136, 117, 118, 135, 134, 143, 145, 144, 133, 132, 119, 120, 131, 130, 146, 147, 148, 129, 128, 121, 122, 127, 126, 150, 149, 151, 125, 124, 123, 115, 114, 95, 96, 97, 98, 89, 113, 112, 99, 88, 79, 44, 53, 68, 69, 70, 51, 45, 52, 71, 78, 90, 77, 91, 94, 93, 92, 76, 75, 49, 47, 48, 73, 74, 72, 50, 46, 33, 35, 34, 0]\n",
      "75215.47128658224\n",
      "[0, 38, 33, 32, 31, 27, 25, 26, 21, 19, 20, 15, 13, 14, 9, 7, 8, 3, 2, 1, 4, 5, 81, 83, 84, 87, 86, 85, 82, 6, 80, 79, 90, 89, 88, 93, 92, 91, 78, 77, 11, 10, 12, 76, 75, 96, 95, 94, 131, 132, 198, 133, 195, 196, 197, 200, 199, 259, 258, 202, 201, 194, 134, 135, 191, 190, 193, 192, 204, 203, 257, 256, 205, 206, 189, 255, 254, 260, 261, 262, 253, 252, 208, 207, 188, 187, 186, 136, 137, 185, 184, 183, 210, 209, 251, 250, 249, 248, 212, 211, 182, 181, 180, 138, 139, 179, 178, 177, 214, 213, 247, 246, 245, 244, 216, 215, 176, 175, 174, 140, 141, 171, 172, 173, 217, 218, 242, 243, 240, 241, 219, 220, 170, 142, 143, 165, 166, 169, 168, 167, 221, 222, 238, 239, 263, 236, 237, 223, 224, 162, 163, 164, 144, 146, 147, 145, 161, 160, 225, 159, 158, 157, 148, 154, 155, 156, 226, 227, 234, 235, 232, 231, 233, 228, 229, 152, 151, 230, 150, 153, 149, 130, 129, 99, 98, 97, 74, 73, 17, 16, 18, 72, 71, 102, 101, 100, 105, 104, 103, 70, 69, 23, 22, 24, 68, 67, 108, 107, 106, 111, 112, 113, 114, 110, 109, 66, 65, 29, 28, 30, 64, 63, 35, 34, 61, 62, 115, 116, 117, 128, 118, 119, 120, 59, 60, 36, 37, 39, 41, 42, 43, 44, 45, 48, 56, 57, 121, 122, 123, 124, 127, 125, 126, 49, 55, 54, 53, 52, 50, 51, 47, 46, 58, 40, 0]\n",
      "57260.05492393449\n",
      "Reach TimeLimit\n",
      "Terminate\n",
      "[0, 38, 33, 32, 31, 27, 25, 26, 21, 19, 20, 15, 13, 14, 9, 7, 8, 3, 2, 1, 4, 5, 81, 83, 84, 87, 86, 85, 82, 6, 80, 79, 90, 89, 88, 93, 92, 91, 78, 77, 11, 10, 12, 76, 75, 96, 95, 94, 131, 132, 198, 133, 195, 196, 197, 200, 199, 259, 258, 202, 201, 194, 134, 135, 191, 190, 193, 192, 204, 203, 257, 256, 205, 206, 189, 255, 254, 260, 261, 262, 253, 252, 208, 207, 188, 187, 186, 136, 137, 185, 184, 183, 210, 209, 251, 250, 249, 248, 212, 211, 182, 181, 180, 138, 139, 179, 178, 177, 214, 213, 247, 246, 245, 244, 216, 215, 176, 175, 174, 140, 141, 171, 172, 173, 217, 218, 242, 243, 240, 241, 219, 220, 170, 142, 143, 165, 166, 169, 168, 167, 221, 222, 238, 239, 263, 236, 237, 223, 224, 162, 163, 164, 144, 146, 147, 145, 161, 160, 225, 159, 158, 157, 148, 154, 155, 156, 226, 227, 234, 235, 232, 231, 233, 228, 229, 152, 151, 230, 150, 153, 149, 130, 129, 99, 98, 97, 74, 73, 17, 16, 18, 72, 71, 102, 101, 100, 105, 104, 103, 70, 69, 23, 22, 24, 68, 67, 108, 107, 106, 111, 112, 113, 114, 110, 109, 66, 65, 29, 28, 30, 64, 63, 35, 34, 61, 62, 115, 116, 117, 128, 118, 119, 120, 59, 60, 36, 37, 39, 41, 42, 43, 44, 45, 48, 56, 57, 121, 122, 123, 124, 127, 125, 126, 49, 55, 54, 53, 52, 50, 51, 47, 46, 58, 40, 0]\n",
      "57260.05492393449\n",
      "[0, 60, 15, 59, 23, 110, 95, 89, 53, 7, 69, 115, 33, 25, 70, 46, 88, 111, 35, 34, 9, 98, 105, 66, 36, 61, 103, 83, 5, 54, 47, 109, 100, 101, 2, 81, 79, 52, 26, 4, 62, 113, 72, 56, 82, 38, 94, 96, 11, 76, 63, 87, 108, 20, 92, 1, 114, 10, 50, 12, 22, 8, 102, 118, 3, 39, 104, 71, 37, 6, 55, 40, 41, 97, 117, 48, 16, 49, 45, 19, 106, 112, 68, 64, 42, 67, 90, 78, 57, 99, 32, 51, 107, 24, 18, 17, 84, 116, 30, 65, 80, 93, 21, 85, 74, 43, 86, 73, 13, 77, 44, 27, 91, 31, 58, 14, 29, 119, 28, 75, 0]\n",
      "7779.0\n",
      "Reach TimeLimit\n",
      "Terminate\n",
      "[0, 60, 15, 59, 23, 110, 95, 89, 53, 7, 69, 115, 33, 25, 70, 46, 88, 111, 35, 34, 9, 98, 61, 66, 36, 105, 103, 83, 5, 54, 47, 109, 100, 101, 2, 81, 79, 52, 26, 4, 62, 113, 72, 56, 82, 38, 94, 96, 11, 76, 63, 87, 108, 20, 92, 1, 114, 10, 50, 12, 22, 8, 102, 118, 3, 39, 104, 71, 37, 6, 55, 40, 41, 97, 117, 48, 16, 49, 45, 19, 106, 112, 68, 64, 42, 67, 90, 78, 57, 99, 32, 51, 107, 24, 18, 17, 84, 116, 30, 65, 80, 93, 21, 85, 74, 43, 86, 73, 13, 77, 44, 27, 91, 31, 58, 14, 29, 119, 28, 75, 0]\n",
      "7753.0\n",
      "[0, 34, 35, 15, 33, 36, 32, 14, 31, 30, 29, 13, 28, 37, 27, 12, 26, 25, 24, 11, 23, 38, 22, 10, 21, 47, 48, 49, 75, 73, 76, 74, 72, 50, 46, 92, 93, 94, 91, 77, 115, 114, 95, 90, 78, 45, 51, 52, 71, 70, 69, 68, 53, 44, 96, 97, 98, 89, 79, 113, 112, 99, 88, 80, 43, 54, 55, 67, 66, 65, 64, 56, 42, 100, 101, 102, 87, 81, 111, 110, 103, 86, 82, 41, 57, 58, 63, 62, 61, 60, 59, 104, 105, 106, 85, 83, 109, 123, 124, 125, 151, 149, 150, 126, 127, 122, 121, 128, 129, 148, 147, 146, 130, 131, 120, 119, 132, 133, 145, 144, 143, 134, 135, 118, 117, 136, 137, 142, 141, 140, 138, 139, 116, 108, 107, 84, 40, 19, 20, 9, 18, 39, 17, 16, 8, 7, 6, 5, 4, 3, 2, 1, 0]\n",
      "91334.72161657987\n",
      "Reach TimeLimit\n",
      "Terminate\n",
      "[0, 34, 35, 15, 33, 36, 32, 14, 31, 30, 29, 13, 28, 37, 27, 12, 26, 25, 24, 11, 23, 38, 22, 10, 21, 47, 48, 49, 75, 73, 76, 74, 72, 50, 46, 92, 93, 94, 91, 77, 115, 114, 95, 90, 78, 45, 51, 52, 71, 70, 69, 68, 53, 44, 96, 97, 98, 89, 79, 113, 112, 99, 88, 80, 43, 54, 55, 67, 66, 65, 64, 56, 42, 100, 101, 102, 87, 81, 111, 110, 103, 86, 82, 41, 57, 58, 63, 62, 61, 60, 59, 104, 105, 106, 85, 83, 109, 123, 124, 125, 151, 149, 150, 126, 127, 122, 121, 128, 129, 148, 147, 146, 130, 131, 120, 119, 132, 133, 145, 144, 143, 134, 135, 118, 117, 136, 137, 142, 141, 140, 138, 139, 116, 108, 107, 84, 40, 19, 20, 9, 18, 39, 17, 16, 8, 7, 6, 5, 4, 3, 2, 1, 0]\n",
      "91334.72161657987\n",
      "[0, 38, 33, 32, 31, 27, 25, 26, 21, 19, 20, 15, 13, 14, 9, 7, 8, 3, 2, 1, 4, 5, 81, 83, 84, 87, 86, 85, 82, 6, 80, 79, 90, 89, 88, 93, 92, 91, 78, 77, 11, 10, 12, 76, 75, 96, 95, 94, 131, 132, 198, 133, 195, 196, 197, 200, 199, 259, 258, 202, 201, 194, 134, 135, 191, 190, 193, 192, 204, 203, 257, 256, 205, 206, 189, 255, 254, 260, 261, 262, 253, 252, 208, 207, 188, 187, 186, 136, 137, 185, 184, 183, 210, 209, 251, 250, 249, 248, 212, 211, 182, 181, 180, 138, 139, 179, 178, 177, 214, 213, 247, 246, 245, 244, 216, 215, 176, 175, 174, 140, 141, 171, 172, 173, 217, 218, 242, 243, 240, 241, 219, 220, 170, 142, 143, 165, 166, 169, 168, 167, 221, 222, 238, 239, 263, 236, 237, 223, 224, 162, 163, 164, 144, 146, 147, 145, 161, 160, 225, 159, 158, 157, 148, 154, 155, 156, 226, 227, 234, 235, 232, 231, 233, 228, 229, 152, 151, 230, 150, 153, 149, 130, 129, 99, 98, 97, 74, 73, 17, 16, 18, 72, 71, 102, 101, 100, 105, 104, 103, 70, 69, 23, 22, 24, 68, 67, 108, 107, 106, 111, 112, 113, 114, 110, 109, 66, 65, 29, 28, 30, 64, 63, 35, 34, 61, 62, 115, 116, 117, 128, 118, 119, 120, 59, 60, 36, 37, 39, 41, 42, 43, 44, 45, 48, 56, 57, 121, 122, 123, 124, 127, 125, 126, 49, 55, 54, 53, 52, 50, 51, 47, 46, 58, 40, 0]\n",
      "57260.05492393449\n"
     ]
    },
    {
     "name": "stdout",
     "output_type": "stream",
     "text": [
      "Reach TimeLimit\n",
      "Terminate\n",
      "[0, 38, 33, 32, 31, 27, 25, 26, 21, 19, 20, 15, 13, 14, 9, 7, 8, 3, 2, 1, 4, 5, 81, 83, 84, 87, 86, 85, 82, 6, 80, 79, 90, 89, 88, 93, 92, 91, 78, 77, 11, 10, 12, 76, 75, 96, 95, 94, 131, 132, 198, 133, 195, 196, 197, 200, 199, 259, 258, 202, 201, 194, 134, 135, 191, 190, 193, 192, 204, 203, 257, 256, 205, 206, 189, 255, 254, 260, 261, 262, 253, 252, 208, 207, 188, 187, 186, 136, 137, 185, 184, 183, 210, 209, 251, 250, 249, 248, 212, 211, 182, 181, 180, 138, 139, 179, 178, 177, 214, 213, 247, 246, 245, 244, 216, 215, 176, 175, 174, 140, 141, 171, 172, 173, 217, 218, 242, 243, 240, 241, 219, 220, 170, 142, 143, 165, 166, 169, 168, 167, 221, 222, 238, 239, 263, 236, 237, 223, 224, 162, 163, 164, 144, 146, 147, 145, 161, 160, 225, 159, 158, 157, 148, 154, 155, 156, 226, 227, 234, 235, 232, 231, 233, 228, 229, 152, 151, 230, 150, 153, 149, 130, 129, 99, 98, 97, 74, 73, 17, 16, 18, 72, 71, 102, 101, 100, 105, 104, 103, 70, 69, 23, 22, 24, 68, 67, 108, 107, 106, 111, 112, 113, 114, 110, 109, 66, 65, 29, 28, 30, 64, 63, 35, 34, 61, 62, 115, 116, 117, 128, 118, 119, 120, 59, 60, 36, 37, 39, 41, 42, 43, 44, 45, 48, 56, 57, 121, 122, 123, 124, 127, 125, 126, 49, 55, 54, 53, 52, 50, 51, 47, 46, 58, 40, 0]\n",
      "57260.05492393449\n"
     ]
    }
   ],
   "source": [
    "import pandas as pd\n",
    "value = pd.DataFrame(index = index, columns = ['two opt', 'exchange'])\n",
    "\n",
    "#two opt\n",
    "for i in range(3):\n",
    "    result = SA (start[i][0], start[i][1], dataset[i][1], initial=0.01, cool_factor=0.95, eval_times=10000, neighbor = 'two_opt', TimeLimit = 60)\n",
    "    value.iloc[i,0] = result\n",
    "\n",
    "#exchange\n",
    "for i in range(3):\n",
    "    result = SA (start[i][0], start[i][1], dataset[i][1], initial=0.01, cool_factor=0.95, eval_times=10000, neighbor = 'exchange', TimeLimit = 60)\n",
    "    value.iloc[i,1] = result\n"
   ]
  },
  {
   "cell_type": "markdown",
   "metadata": {},
   "source": [
    "Then we test 2 times and compare the results obtained from each definition for each dataset. Each time, the result includes 3 information, which are (objective value, total number of iteration run, the iteration that best solution is found)."
   ]
  },
  {
   "cell_type": "code",
   "execution_count": 29,
   "metadata": {},
   "outputs": [
    {
     "name": "stdout",
     "output_type": "stream",
     "text": [
      "                               two opt                    exchange\n",
      "Dataset 1             (6992.0, 64, 56)             (7779.0, 44, 0)\n",
      "Dataset 2  (74974.69599370731, 52, 51)  (91334.72161657987, 40, 0)\n",
      "Dataset 3   (57260.05492393449, 30, 0)  (57260.05492393449, 29, 0)\n"
     ]
    }
   ],
   "source": [
    "value3=value\n",
    "print(value3)"
   ]
  },
  {
   "cell_type": "code",
   "execution_count": 33,
   "metadata": {},
   "outputs": [
    {
     "name": "stdout",
     "output_type": "stream",
     "text": [
      "                               two opt                    exchange\n",
      "Dataset 1             (7004.0, 63, 47)             (7753.0, 45, 1)\n",
      "Dataset 2  (75215.47128658224, 54, 54)  (91334.72161657987, 40, 0)\n",
      "Dataset 3   (57260.05492393449, 32, 0)  (57260.05492393449, 29, 0)\n"
     ]
    }
   ],
   "source": [
    "value4=value\n",
    "print(value4)"
   ]
  },
  {
   "cell_type": "markdown",
   "metadata": {},
   "source": [
    "#### **Comment:**  \n",
    "The performance of 2-opt is better than that of Exchange in dataset 1 and 2 in both two tests. In dataset 3, because of large solution space, both approaches seem to stuck in the starting solution and may need more time to jump out. Noticeably, for exchange definition, there nearly isn't any improvement from the starting solution in all three datasets (except for the dataset 1 in second test), suggessting that this approach in general may need longer time to start showing effective."
   ]
  },
  {
   "cell_type": "code",
   "execution_count": null,
   "metadata": {},
   "outputs": [],
   "source": []
  },
  {
   "cell_type": "markdown",
   "metadata": {},
   "source": [
    "### **Comparision between Cooling schedules: Initial temperature**  \n",
    "Run 3 settings of Initial temperature to: 0.1, 0.01 and 0.001 (\\*starting_length) with 3 datasets. The starting solution, neighborhood definition are chosen as successive insertion and two_opt, based on the previous comparisions. The other parameters are default (cooling factor = 0.95, number of evaluation each iteration = 10000). This time, to focus more on the effect of temperature, the termination condition is set as the maximum number of iterations = 70, 60, 30 for dataset 1, 2, 3 respectively. So for each dataset, the range of temperature explored in each setting case will be solely depends on the initial setting and is the same in each time we test."
   ]
  },
  {
   "cell_type": "code",
   "execution_count": null,
   "metadata": {},
   "outputs": [],
   "source": []
  },
  {
   "cell_type": "code",
   "execution_count": 40,
   "metadata": {},
   "outputs": [
    {
     "name": "stdout",
     "output_type": "stream",
     "text": [
      "[0, 60, 15, 59, 23, 110, 95, 89, 53, 7, 69, 115, 33, 25, 70, 46, 88, 111, 35, 34, 9, 98, 105, 66, 36, 61, 103, 83, 5, 54, 47, 109, 100, 101, 2, 81, 79, 52, 26, 4, 62, 113, 72, 56, 82, 38, 94, 96, 11, 76, 63, 87, 108, 20, 92, 1, 114, 10, 50, 12, 22, 8, 102, 118, 3, 39, 104, 71, 37, 6, 55, 40, 41, 97, 117, 48, 16, 49, 45, 19, 106, 112, 68, 64, 42, 67, 90, 78, 57, 99, 32, 51, 107, 24, 18, 17, 84, 116, 30, 65, 80, 93, 21, 85, 74, 43, 86, 73, 13, 77, 44, 27, 91, 31, 58, 14, 29, 119, 28, 75, 0]\n",
      "7779.0\n",
      "Reach max number of iteration\n",
      "Terminate\n",
      "[0, 60, 15, 59, 23, 110, 95, 89, 53, 7, 69, 115, 33, 25, 70, 46, 88, 111, 35, 34, 9, 98, 105, 66, 36, 61, 103, 83, 5, 54, 47, 109, 100, 101, 2, 81, 79, 52, 26, 4, 62, 113, 72, 56, 82, 38, 94, 96, 11, 76, 63, 87, 108, 20, 92, 1, 114, 10, 50, 12, 22, 8, 102, 118, 3, 39, 104, 71, 37, 6, 55, 40, 41, 97, 117, 48, 16, 49, 45, 19, 106, 112, 68, 64, 42, 67, 90, 78, 57, 99, 32, 51, 107, 24, 18, 17, 84, 116, 30, 65, 80, 93, 21, 85, 74, 43, 86, 73, 13, 77, 44, 27, 91, 31, 58, 14, 29, 119, 28, 75, 0]\n",
      "7779.0\n",
      "[0, 60, 15, 59, 23, 110, 95, 89, 53, 7, 69, 115, 33, 25, 70, 46, 88, 111, 35, 34, 9, 98, 105, 66, 36, 61, 103, 83, 5, 54, 47, 109, 100, 101, 2, 81, 79, 52, 26, 4, 62, 113, 72, 56, 82, 38, 94, 96, 11, 76, 63, 87, 108, 20, 92, 1, 114, 10, 50, 12, 22, 8, 102, 118, 3, 39, 104, 71, 37, 6, 55, 40, 41, 97, 117, 48, 16, 49, 45, 19, 106, 112, 68, 64, 42, 67, 90, 78, 57, 99, 32, 51, 107, 24, 18, 17, 84, 116, 30, 65, 80, 93, 21, 85, 74, 43, 86, 73, 13, 77, 44, 27, 91, 31, 58, 14, 29, 119, 28, 75, 0]\n",
      "7779.0\n",
      "Reach max number of iteration\n",
      "Terminate\n",
      "[0, 75, 58, 14, 29, 28, 119, 31, 91, 27, 44, 77, 85, 93, 80, 21, 65, 30, 116, 84, 17, 18, 24, 107, 42, 78, 51, 32, 99, 57, 90, 67, 64, 68, 112, 106, 19, 117, 12, 48, 16, 41, 97, 49, 45, 43, 74, 13, 86, 73, 55, 40, 6, 37, 71, 39, 104, 115, 7, 69, 33, 3, 25, 70, 46, 47, 101, 2, 81, 118, 102, 8, 22, 50, 10, 114, 1, 92, 20, 108, 87, 96, 11, 94, 76, 63, 52, 79, 26, 4, 62, 38, 82, 56, 72, 113, 100, 109, 111, 35, 103, 105, 66, 36, 61, 98, 9, 34, 83, 5, 88, 54, 89, 53, 95, 110, 23, 59, 15, 60, 0]\n",
      "7127.0\n",
      "[0, 60, 15, 59, 23, 110, 95, 89, 53, 7, 69, 115, 33, 25, 70, 46, 88, 111, 35, 34, 9, 98, 105, 66, 36, 61, 103, 83, 5, 54, 47, 109, 100, 101, 2, 81, 79, 52, 26, 4, 62, 113, 72, 56, 82, 38, 94, 96, 11, 76, 63, 87, 108, 20, 92, 1, 114, 10, 50, 12, 22, 8, 102, 118, 3, 39, 104, 71, 37, 6, 55, 40, 41, 97, 117, 48, 16, 49, 45, 19, 106, 112, 68, 64, 42, 67, 90, 78, 57, 99, 32, 51, 107, 24, 18, 17, 84, 116, 30, 65, 80, 93, 21, 85, 74, 43, 86, 73, 13, 77, 44, 27, 91, 31, 58, 14, 29, 119, 28, 75, 0]\n",
      "7779.0\n",
      "Reach max number of iteration\n",
      "Terminate\n",
      "[0, 75, 58, 14, 77, 44, 91, 31, 29, 28, 119, 27, 73, 86, 13, 43, 74, 85, 93, 80, 21, 65, 30, 116, 84, 17, 18, 24, 107, 42, 78, 51, 32, 99, 57, 90, 67, 64, 68, 112, 106, 19, 45, 49, 48, 117, 16, 97, 41, 40, 55, 6, 37, 71, 104, 39, 33, 3, 118, 102, 8, 22, 12, 50, 10, 114, 1, 92, 20, 108, 87, 96, 11, 94, 63, 76, 38, 62, 4, 79, 26, 52, 81, 2, 101, 100, 109, 111, 35, 105, 113, 72, 56, 82, 66, 36, 61, 98, 103, 9, 34, 83, 5, 54, 88, 47, 46, 70, 25, 69, 115, 7, 53, 89, 95, 110, 23, 59, 15, 60, 0]\n",
      "7352.0\n",
      "[0, 34, 35, 15, 33, 36, 32, 14, 31, 30, 29, 13, 28, 37, 27, 12, 26, 25, 24, 11, 23, 38, 22, 10, 21, 47, 48, 49, 75, 73, 76, 74, 72, 50, 46, 92, 93, 94, 91, 77, 115, 114, 95, 90, 78, 45, 51, 52, 71, 70, 69, 68, 53, 44, 96, 97, 98, 89, 79, 113, 112, 99, 88, 80, 43, 54, 55, 67, 66, 65, 64, 56, 42, 100, 101, 102, 87, 81, 111, 110, 103, 86, 82, 41, 57, 58, 63, 62, 61, 60, 59, 104, 105, 106, 85, 83, 109, 123, 124, 125, 151, 149, 150, 126, 127, 122, 121, 128, 129, 148, 147, 146, 130, 131, 120, 119, 132, 133, 145, 144, 143, 134, 135, 118, 117, 136, 137, 142, 141, 140, 138, 139, 116, 108, 107, 84, 40, 19, 20, 9, 18, 39, 17, 16, 8, 7, 6, 5, 4, 3, 2, 1, 0]\n",
      "91334.72161657987\n",
      "Reach max number of iteration\n",
      "Terminate\n",
      "[0, 34, 35, 15, 33, 36, 32, 14, 31, 30, 29, 13, 28, 37, 27, 12, 26, 25, 24, 11, 23, 38, 22, 10, 21, 47, 48, 49, 75, 73, 76, 74, 72, 50, 46, 92, 93, 94, 91, 77, 115, 114, 95, 90, 78, 45, 51, 52, 71, 70, 69, 68, 53, 44, 96, 97, 98, 89, 79, 113, 112, 99, 88, 80, 43, 54, 55, 67, 66, 65, 64, 56, 42, 100, 101, 102, 87, 81, 111, 110, 103, 86, 82, 41, 57, 58, 63, 62, 61, 60, 59, 104, 105, 106, 85, 83, 109, 123, 124, 125, 151, 149, 150, 126, 127, 122, 121, 128, 129, 148, 147, 146, 130, 131, 120, 119, 132, 133, 145, 144, 143, 134, 135, 118, 117, 136, 137, 142, 141, 140, 138, 139, 116, 108, 107, 84, 40, 19, 20, 9, 18, 39, 17, 16, 8, 7, 6, 5, 4, 3, 2, 1, 0]\n",
      "91334.72161657987\n",
      "[0, 34, 35, 15, 33, 36, 32, 14, 31, 30, 29, 13, 28, 37, 27, 12, 26, 25, 24, 11, 23, 38, 22, 10, 21, 47, 48, 49, 75, 73, 76, 74, 72, 50, 46, 92, 93, 94, 91, 77, 115, 114, 95, 90, 78, 45, 51, 52, 71, 70, 69, 68, 53, 44, 96, 97, 98, 89, 79, 113, 112, 99, 88, 80, 43, 54, 55, 67, 66, 65, 64, 56, 42, 100, 101, 102, 87, 81, 111, 110, 103, 86, 82, 41, 57, 58, 63, 62, 61, 60, 59, 104, 105, 106, 85, 83, 109, 123, 124, 125, 151, 149, 150, 126, 127, 122, 121, 128, 129, 148, 147, 146, 130, 131, 120, 119, 132, 133, 145, 144, 143, 134, 135, 118, 117, 136, 137, 142, 141, 140, 138, 139, 116, 108, 107, 84, 40, 19, 20, 9, 18, 39, 17, 16, 8, 7, 6, 5, 4, 3, 2, 1, 0]\n",
      "91334.72161657987\n",
      "Reach max number of iteration\n",
      "Terminate\n",
      "[0, 34, 35, 33, 46, 50, 72, 74, 49, 48, 47, 75, 73, 76, 92, 93, 91, 94, 123, 124, 125, 151, 149, 150, 126, 127, 122, 121, 128, 129, 148, 147, 146, 130, 131, 120, 119, 132, 133, 145, 144, 143, 134, 135, 118, 117, 136, 137, 142, 141, 140, 138, 139, 116, 109, 108, 107, 84, 83, 85, 106, 105, 104, 82, 60, 59, 40, 61, 62, 63, 58, 57, 41, 86, 103, 110, 111, 81, 87, 102, 101, 100, 80, 65, 64, 56, 42, 43, 54, 55, 66, 67, 88, 99, 112, 113, 79, 89, 98, 97, 96, 78, 90, 95, 114, 115, 77, 45, 51, 52, 71, 70, 69, 68, 53, 44, 38, 22, 21, 19, 20, 18, 39, 17, 16, 8, 7, 9, 6, 10, 5, 11, 23, 24, 25, 4, 12, 26, 27, 37, 3, 13, 28, 29, 30, 2, 14, 31, 32, 36, 1, 15, 0]\n",
      "76293.13032675172\n",
      "[0, 34, 35, 15, 33, 36, 32, 14, 31, 30, 29, 13, 28, 37, 27, 12, 26, 25, 24, 11, 23, 38, 22, 10, 21, 47, 48, 49, 75, 73, 76, 74, 72, 50, 46, 92, 93, 94, 91, 77, 115, 114, 95, 90, 78, 45, 51, 52, 71, 70, 69, 68, 53, 44, 96, 97, 98, 89, 79, 113, 112, 99, 88, 80, 43, 54, 55, 67, 66, 65, 64, 56, 42, 100, 101, 102, 87, 81, 111, 110, 103, 86, 82, 41, 57, 58, 63, 62, 61, 60, 59, 104, 105, 106, 85, 83, 109, 123, 124, 125, 151, 149, 150, 126, 127, 122, 121, 128, 129, 148, 147, 146, 130, 131, 120, 119, 132, 133, 145, 144, 143, 134, 135, 118, 117, 136, 137, 142, 141, 140, 138, 139, 116, 108, 107, 84, 40, 19, 20, 9, 18, 39, 17, 16, 8, 7, 6, 5, 4, 3, 2, 1, 0]\n",
      "91334.72161657987\n",
      "Reach max number of iteration\n",
      "Terminate\n",
      "[0, 15, 1, 36, 32, 31, 14, 2, 30, 29, 28, 13, 3, 37, 27, 26, 12, 4, 25, 24, 23, 11, 5, 38, 22, 21, 10, 6, 19, 20, 18, 9, 7, 8, 16, 17, 39, 40, 59, 60, 61, 41, 57, 58, 63, 62, 82, 104, 105, 106, 85, 83, 84, 107, 108, 109, 116, 139, 138, 140, 141, 142, 137, 136, 117, 118, 135, 134, 143, 144, 145, 133, 132, 119, 120, 131, 130, 146, 147, 148, 129, 128, 121, 122, 127, 126, 150, 149, 151, 125, 124, 123, 96, 97, 98, 89, 113, 112, 99, 100, 101, 102, 111, 110, 103, 86, 81, 87, 42, 56, 64, 65, 43, 54, 55, 67, 66, 80, 88, 79, 44, 53, 68, 69, 45, 51, 52, 71, 70, 78, 90, 95, 114, 115, 77, 91, 94, 93, 92, 76, 75, 47, 48, 49, 73, 74, 72, 50, 46, 33, 35, 34, 0]\n",
      "74742.2880664401\n",
      "[0, 38, 33, 32, 31, 27, 25, 26, 21, 19, 20, 15, 13, 14, 9, 7, 8, 3, 2, 1, 4, 5, 81, 83, 84, 87, 86, 85, 82, 6, 80, 79, 90, 89, 88, 93, 92, 91, 78, 77, 11, 10, 12, 76, 75, 96, 95, 94, 131, 132, 198, 133, 195, 196, 197, 200, 199, 259, 258, 202, 201, 194, 134, 135, 191, 190, 193, 192, 204, 203, 257, 256, 205, 206, 189, 255, 254, 260, 261, 262, 253, 252, 208, 207, 188, 187, 186, 136, 137, 185, 184, 183, 210, 209, 251, 250, 249, 248, 212, 211, 182, 181, 180, 138, 139, 179, 178, 177, 214, 213, 247, 246, 245, 244, 216, 215, 176, 175, 174, 140, 141, 171, 172, 173, 217, 218, 242, 243, 240, 241, 219, 220, 170, 142, 143, 165, 166, 169, 168, 167, 221, 222, 238, 239, 263, 236, 237, 223, 224, 162, 163, 164, 144, 146, 147, 145, 161, 160, 225, 159, 158, 157, 148, 154, 155, 156, 226, 227, 234, 235, 232, 231, 233, 228, 229, 152, 151, 230, 150, 153, 149, 130, 129, 99, 98, 97, 74, 73, 17, 16, 18, 72, 71, 102, 101, 100, 105, 104, 103, 70, 69, 23, 22, 24, 68, 67, 108, 107, 106, 111, 112, 113, 114, 110, 109, 66, 65, 29, 28, 30, 64, 63, 35, 34, 61, 62, 115, 116, 117, 128, 118, 119, 120, 59, 60, 36, 37, 39, 41, 42, 43, 44, 45, 48, 56, 57, 121, 122, 123, 124, 127, 125, 126, 49, 55, 54, 53, 52, 50, 51, 47, 46, 58, 40, 0]\n",
      "57260.05492393449\n"
     ]
    },
    {
     "name": "stdout",
     "output_type": "stream",
     "text": [
      "Reach max number of iteration\n",
      "Terminate\n",
      "[0, 38, 33, 32, 31, 27, 25, 26, 21, 19, 20, 15, 13, 14, 9, 7, 8, 3, 2, 1, 4, 5, 81, 83, 84, 87, 86, 85, 82, 6, 80, 79, 90, 89, 88, 93, 92, 91, 78, 77, 11, 10, 12, 76, 75, 96, 95, 94, 131, 132, 198, 133, 195, 196, 197, 200, 199, 259, 258, 202, 201, 194, 134, 135, 191, 190, 193, 192, 204, 203, 257, 256, 205, 206, 189, 255, 254, 260, 261, 262, 253, 252, 208, 207, 188, 187, 186, 136, 137, 185, 184, 183, 210, 209, 251, 250, 249, 248, 212, 211, 182, 181, 180, 138, 139, 179, 178, 177, 214, 213, 247, 246, 245, 244, 216, 215, 176, 175, 174, 140, 141, 171, 172, 173, 217, 218, 242, 243, 240, 241, 219, 220, 170, 142, 143, 165, 166, 169, 168, 167, 221, 222, 238, 239, 263, 236, 237, 223, 224, 162, 163, 164, 144, 146, 147, 145, 161, 160, 225, 159, 158, 157, 148, 154, 155, 156, 226, 227, 234, 235, 232, 231, 233, 228, 229, 152, 151, 230, 150, 153, 149, 130, 129, 99, 98, 97, 74, 73, 17, 16, 18, 72, 71, 102, 101, 100, 105, 104, 103, 70, 69, 23, 22, 24, 68, 67, 108, 107, 106, 111, 112, 113, 114, 110, 109, 66, 65, 29, 28, 30, 64, 63, 35, 34, 61, 62, 115, 116, 117, 128, 118, 119, 120, 59, 60, 36, 37, 39, 41, 42, 43, 44, 45, 48, 56, 57, 121, 122, 123, 124, 127, 125, 126, 49, 55, 54, 53, 52, 50, 51, 47, 46, 58, 40, 0]\n",
      "57260.05492393449\n",
      "[0, 38, 33, 32, 31, 27, 25, 26, 21, 19, 20, 15, 13, 14, 9, 7, 8, 3, 2, 1, 4, 5, 81, 83, 84, 87, 86, 85, 82, 6, 80, 79, 90, 89, 88, 93, 92, 91, 78, 77, 11, 10, 12, 76, 75, 96, 95, 94, 131, 132, 198, 133, 195, 196, 197, 200, 199, 259, 258, 202, 201, 194, 134, 135, 191, 190, 193, 192, 204, 203, 257, 256, 205, 206, 189, 255, 254, 260, 261, 262, 253, 252, 208, 207, 188, 187, 186, 136, 137, 185, 184, 183, 210, 209, 251, 250, 249, 248, 212, 211, 182, 181, 180, 138, 139, 179, 178, 177, 214, 213, 247, 246, 245, 244, 216, 215, 176, 175, 174, 140, 141, 171, 172, 173, 217, 218, 242, 243, 240, 241, 219, 220, 170, 142, 143, 165, 166, 169, 168, 167, 221, 222, 238, 239, 263, 236, 237, 223, 224, 162, 163, 164, 144, 146, 147, 145, 161, 160, 225, 159, 158, 157, 148, 154, 155, 156, 226, 227, 234, 235, 232, 231, 233, 228, 229, 152, 151, 230, 150, 153, 149, 130, 129, 99, 98, 97, 74, 73, 17, 16, 18, 72, 71, 102, 101, 100, 105, 104, 103, 70, 69, 23, 22, 24, 68, 67, 108, 107, 106, 111, 112, 113, 114, 110, 109, 66, 65, 29, 28, 30, 64, 63, 35, 34, 61, 62, 115, 116, 117, 128, 118, 119, 120, 59, 60, 36, 37, 39, 41, 42, 43, 44, 45, 48, 56, 57, 121, 122, 123, 124, 127, 125, 126, 49, 55, 54, 53, 52, 50, 51, 47, 46, 58, 40, 0]\n",
      "57260.05492393449\n",
      "Reach max number of iteration\n",
      "Terminate\n",
      "[0, 38, 33, 32, 31, 27, 25, 26, 21, 19, 20, 15, 13, 14, 9, 7, 8, 3, 2, 1, 4, 5, 81, 83, 84, 87, 86, 85, 82, 6, 80, 79, 90, 89, 88, 93, 92, 91, 78, 77, 11, 10, 12, 76, 75, 96, 95, 94, 131, 132, 198, 133, 195, 196, 197, 200, 199, 259, 258, 202, 201, 194, 134, 135, 191, 190, 193, 192, 204, 203, 257, 256, 205, 206, 189, 255, 254, 260, 261, 262, 253, 252, 208, 207, 188, 187, 186, 136, 137, 185, 184, 183, 210, 209, 251, 250, 249, 248, 212, 211, 182, 181, 180, 138, 139, 179, 178, 177, 214, 213, 247, 246, 245, 244, 216, 215, 176, 175, 174, 140, 141, 171, 172, 173, 217, 218, 242, 243, 240, 241, 219, 220, 170, 142, 143, 165, 166, 169, 168, 167, 221, 222, 238, 239, 263, 236, 237, 223, 224, 162, 163, 164, 144, 146, 147, 145, 161, 160, 225, 159, 158, 157, 148, 154, 155, 156, 226, 227, 234, 235, 232, 231, 233, 228, 229, 152, 151, 230, 150, 153, 149, 130, 129, 99, 98, 97, 74, 73, 17, 16, 18, 72, 71, 102, 101, 100, 105, 104, 103, 70, 69, 23, 22, 24, 68, 67, 108, 107, 106, 111, 112, 113, 114, 110, 109, 66, 65, 29, 28, 30, 64, 63, 35, 34, 61, 62, 115, 116, 117, 128, 118, 119, 120, 59, 60, 36, 37, 39, 41, 42, 43, 44, 45, 48, 56, 57, 121, 122, 123, 124, 127, 125, 126, 49, 55, 54, 53, 52, 50, 51, 47, 46, 58, 40, 0]\n",
      "57260.05492393449\n",
      "[0, 38, 33, 32, 31, 27, 25, 26, 21, 19, 20, 15, 13, 14, 9, 7, 8, 3, 2, 1, 4, 5, 81, 83, 84, 87, 86, 85, 82, 6, 80, 79, 90, 89, 88, 93, 92, 91, 78, 77, 11, 10, 12, 76, 75, 96, 95, 94, 131, 132, 198, 133, 195, 196, 197, 200, 199, 259, 258, 202, 201, 194, 134, 135, 191, 190, 193, 192, 204, 203, 257, 256, 205, 206, 189, 255, 254, 260, 261, 262, 253, 252, 208, 207, 188, 187, 186, 136, 137, 185, 184, 183, 210, 209, 251, 250, 249, 248, 212, 211, 182, 181, 180, 138, 139, 179, 178, 177, 214, 213, 247, 246, 245, 244, 216, 215, 176, 175, 174, 140, 141, 171, 172, 173, 217, 218, 242, 243, 240, 241, 219, 220, 170, 142, 143, 165, 166, 169, 168, 167, 221, 222, 238, 239, 263, 236, 237, 223, 224, 162, 163, 164, 144, 146, 147, 145, 161, 160, 225, 159, 158, 157, 148, 154, 155, 156, 226, 227, 234, 235, 232, 231, 233, 228, 229, 152, 151, 230, 150, 153, 149, 130, 129, 99, 98, 97, 74, 73, 17, 16, 18, 72, 71, 102, 101, 100, 105, 104, 103, 70, 69, 23, 22, 24, 68, 67, 108, 107, 106, 111, 112, 113, 114, 110, 109, 66, 65, 29, 28, 30, 64, 63, 35, 34, 61, 62, 115, 116, 117, 128, 118, 119, 120, 59, 60, 36, 37, 39, 41, 42, 43, 44, 45, 48, 56, 57, 121, 122, 123, 124, 127, 125, 126, 49, 55, 54, 53, 52, 50, 51, 47, 46, 58, 40, 0]\n",
      "57260.05492393449\n",
      "Reach max number of iteration\n",
      "Terminate\n",
      "[0, 40, 41, 42, 43, 44, 45, 47, 46, 51, 50, 49, 55, 52, 53, 54, 126, 125, 127, 124, 123, 122, 121, 57, 56, 48, 58, 39, 37, 36, 60, 59, 120, 119, 118, 128, 148, 149, 153, 152, 151, 150, 230, 229, 228, 233, 231, 232, 235, 234, 227, 226, 156, 155, 154, 157, 158, 159, 225, 160, 161, 147, 146, 145, 144, 164, 163, 162, 224, 223, 237, 236, 263, 239, 238, 222, 221, 167, 166, 165, 143, 142, 170, 169, 168, 220, 219, 241, 240, 243, 242, 218, 217, 173, 172, 171, 141, 140, 174, 175, 176, 215, 216, 244, 245, 246, 247, 213, 214, 177, 178, 179, 139, 138, 180, 181, 182, 211, 212, 248, 249, 250, 251, 209, 210, 183, 184, 185, 137, 136, 186, 187, 188, 207, 208, 252, 253, 262, 261, 260, 254, 255, 205, 206, 189, 190, 191, 135, 134, 194, 193, 192, 204, 203, 257, 256, 259, 258, 199, 202, 201, 200, 197, 196, 195, 198, 132, 133, 131, 130, 129, 94, 95, 96, 75, 78, 80, 79, 90, 89, 91, 92, 93, 88, 87, 84, 86, 85, 82, 83, 81, 5, 1, 2, 3, 4, 6, 7, 8, 9, 10, 11, 77, 76, 12, 13, 14, 15, 16, 17, 73, 74, 97, 98, 99, 102, 101, 100, 105, 104, 103, 70, 69, 23, 71, 72, 18, 19, 20, 21, 22, 26, 25, 24, 68, 67, 108, 107, 106, 111, 110, 109, 66, 65, 29, 28, 27, 32, 31, 30, 64, 63, 114, 113, 112, 117, 116, 115, 62, 61, 35, 34, 33, 38, 0]\n",
      "51642.91448793635\n"
     ]
    }
   ],
   "source": [
    "import pandas as pd\n",
    "value = pd.DataFrame(index = index, columns = ['initial = 0.1', 'initial = 0.01', 'initial = 0.001'])\n",
    "initial_set = [0.1, 0.01, 0.001]\n",
    "iter_set = [70, 60, 30]\n",
    "\n",
    "for i in range(3): #dataset \n",
    "    for j in range(3): #initial\n",
    "        result = SA (start[i][0], start[i][1], dataset[i][1], initial=initial_set[j], \n",
    "                     cool_factor=0.95, eval_times=10000, neighbor = 'two_opt', max_iteration = iter_set[i])\n",
    "        value.iloc[i,j] = result\n"
   ]
  },
  {
   "cell_type": "code",
   "execution_count": 39,
   "metadata": {},
   "outputs": [
    {
     "name": "stdout",
     "output_type": "stream",
     "text": [
      "                        initial = 0.1               initial = 0.01  \\\n",
      "Dataset 1             (7779.0, 70, 0)             (7116.0, 70, 58)   \n",
      "Dataset 2  (91334.72161657987, 60, 0)  (75088.71877153244, 60, 56)   \n",
      "Dataset 3  (57260.05492393449, 30, 0)   (57260.05492393449, 30, 0)   \n",
      "\n",
      "                       initial = 0.001  \n",
      "Dataset 1             (7326.0, 70, 17)  \n",
      "Dataset 2  (77488.94969419921, 60, 20)  \n",
      "Dataset 3  (52228.21004257681, 30, 26)  \n"
     ]
    }
   ],
   "source": [
    "value5=value\n",
    "print(value5)"
   ]
  },
  {
   "cell_type": "code",
   "execution_count": 42,
   "metadata": {},
   "outputs": [
    {
     "name": "stdout",
     "output_type": "stream",
     "text": [
      "                        initial = 0.1               initial = 0.01  \\\n",
      "Dataset 1             (7779.0, 70, 0)             (7127.0, 70, 64)   \n",
      "Dataset 2  (91334.72161657987, 60, 0)  (76293.13032675172, 60, 58)   \n",
      "Dataset 3  (57260.05492393449, 30, 0)   (57260.05492393449, 30, 0)   \n",
      "\n",
      "                       initial = 0.001  \n",
      "Dataset 1             (7352.0, 70, 23)  \n",
      "Dataset 2   (74742.2880664401, 60, 30)  \n",
      "Dataset 3  (51642.91448793635, 30, 29)  \n"
     ]
    }
   ],
   "source": [
    "value6=value\n",
    "print(value6)"
   ]
  },
  {
   "cell_type": "markdown",
   "metadata": {},
   "source": [
    "#### **Comment:**  \n",
    "In general, the smaller the initial is, the lower the acceptance rate of worse solution is. From test results, we can see that  \n",
    "+) initial = 0.1 seems to be too large, the solver accepts much worse solutions and wastes time/efforts in them. Therefore, there isn't any improvement found in all 3 datasets in 2 times testing  \n",
    "+) initial = 0.01 performs best among all settings in dataset 1. It gives fairly good result in dataset 2 but cannot give any improvement in dataset 3. On the other hand, initial = 0.001 works equally (to initial = 0.01) in dataset 2 and is the only setting that can give an improvement in the biggest dataset.  \n",
    "The reason is for relatively smaller problem size as dataset 1, initial = 0.01 is less restricted and accepts much 'worse' solutions (compared to initial = 0.001). Thus it can jump out of the local optima and find new better solution while initial = 0.001 cannot. In the constrast, for a bigger problem size, because the solution space is larger, we need a lower temperature to restrict more 'worse' solutions to search more on focus.  \n"
   ]
  },
  {
   "cell_type": "code",
   "execution_count": null,
   "metadata": {},
   "outputs": [],
   "source": []
  },
  {
   "cell_type": "markdown",
   "metadata": {},
   "source": [
    "### **Comparision between Cooling schedules: Cooling factor**  \n",
    "Run 3 settings of Cooling factor: 0.90, 0.95 and 0.99 with 3 datasets. The starting solution, neighborhood definition are chosen as successive insertion and two_opt, based on the previous comparisions. The initial temperature is set as 0.001\\*initial_length to focus more on the dataset 2 and 3. The number of evaluation each iteration is default. As in the case of initial temperature test, to focus more on the effect of temperature, the termination condition is set as the maximum number of iterations = 70, 60, 30 for dataset 1, 2, 3 respectively. So for each dataset, the range of temperature explored in each setting case will be solely depends on the cooling factor and is the same in each time we test."
   ]
  },
  {
   "cell_type": "code",
   "execution_count": 51,
   "metadata": {},
   "outputs": [
    {
     "name": "stdout",
     "output_type": "stream",
     "text": [
      "[0, 60, 15, 59, 23, 110, 95, 89, 53, 7, 69, 115, 33, 25, 70, 46, 88, 111, 35, 34, 9, 98, 105, 66, 36, 61, 103, 83, 5, 54, 47, 109, 100, 101, 2, 81, 79, 52, 26, 4, 62, 113, 72, 56, 82, 38, 94, 96, 11, 76, 63, 87, 108, 20, 92, 1, 114, 10, 50, 12, 22, 8, 102, 118, 3, 39, 104, 71, 37, 6, 55, 40, 41, 97, 117, 48, 16, 49, 45, 19, 106, 112, 68, 64, 42, 67, 90, 78, 57, 99, 32, 51, 107, 24, 18, 17, 84, 116, 30, 65, 80, 93, 21, 85, 74, 43, 86, 73, 13, 77, 44, 27, 91, 31, 58, 14, 29, 119, 28, 75, 0]\n",
      "7779.0\n",
      "Reach max number of iteration\n",
      "Terminate\n",
      "[0, 75, 28, 119, 91, 31, 29, 58, 14, 80, 93, 77, 44, 27, 73, 86, 13, 43, 74, 85, 21, 65, 30, 116, 84, 17, 18, 24, 107, 42, 78, 51, 32, 99, 57, 90, 67, 64, 68, 112, 106, 19, 45, 49, 117, 48, 16, 97, 41, 40, 55, 6, 37, 71, 104, 39, 33, 3, 118, 102, 8, 22, 12, 50, 10, 114, 1, 92, 20, 108, 87, 96, 11, 94, 63, 76, 38, 62, 4, 79, 26, 52, 81, 2, 101, 100, 47, 109, 111, 105, 113, 72, 56, 82, 66, 36, 61, 98, 9, 34, 103, 35, 83, 5, 88, 54, 46, 70, 25, 69, 115, 7, 53, 89, 95, 110, 23, 59, 15, 60, 0]\n",
      "7343.0\n",
      "[0, 60, 15, 59, 23, 110, 95, 89, 53, 7, 69, 115, 33, 25, 70, 46, 88, 111, 35, 34, 9, 98, 105, 66, 36, 61, 103, 83, 5, 54, 47, 109, 100, 101, 2, 81, 79, 52, 26, 4, 62, 113, 72, 56, 82, 38, 94, 96, 11, 76, 63, 87, 108, 20, 92, 1, 114, 10, 50, 12, 22, 8, 102, 118, 3, 39, 104, 71, 37, 6, 55, 40, 41, 97, 117, 48, 16, 49, 45, 19, 106, 112, 68, 64, 42, 67, 90, 78, 57, 99, 32, 51, 107, 24, 18, 17, 84, 116, 30, 65, 80, 93, 21, 85, 74, 43, 86, 73, 13, 77, 44, 27, 91, 31, 58, 14, 29, 119, 28, 75, 0]\n",
      "7779.0\n",
      "Reach max number of iteration\n",
      "Terminate\n",
      "[0, 60, 15, 59, 23, 110, 95, 89, 53, 7, 115, 69, 25, 70, 46, 47, 88, 54, 5, 35, 83, 34, 9, 103, 98, 61, 36, 66, 105, 111, 109, 100, 101, 2, 81, 52, 26, 79, 113, 72, 56, 82, 38, 62, 4, 76, 63, 94, 11, 96, 87, 108, 20, 92, 1, 114, 10, 50, 12, 22, 8, 102, 118, 3, 33, 39, 104, 71, 37, 6, 55, 40, 41, 97, 16, 48, 117, 49, 45, 19, 106, 112, 68, 64, 67, 90, 57, 99, 32, 51, 78, 42, 107, 24, 18, 17, 84, 116, 30, 65, 21, 80, 93, 85, 13, 74, 43, 86, 73, 77, 44, 27, 91, 31, 119, 28, 29, 14, 58, 75, 0]\n",
      "7318.0\n",
      "[0, 60, 15, 59, 23, 110, 95, 89, 53, 7, 69, 115, 33, 25, 70, 46, 88, 111, 35, 34, 9, 98, 105, 66, 36, 61, 103, 83, 5, 54, 47, 109, 100, 101, 2, 81, 79, 52, 26, 4, 62, 113, 72, 56, 82, 38, 94, 96, 11, 76, 63, 87, 108, 20, 92, 1, 114, 10, 50, 12, 22, 8, 102, 118, 3, 39, 104, 71, 37, 6, 55, 40, 41, 97, 117, 48, 16, 49, 45, 19, 106, 112, 68, 64, 42, 67, 90, 78, 57, 99, 32, 51, 107, 24, 18, 17, 84, 116, 30, 65, 80, 93, 21, 85, 74, 43, 86, 73, 13, 77, 44, 27, 91, 31, 58, 14, 29, 119, 28, 75, 0]\n",
      "7779.0\n",
      "Reach max number of iteration\n",
      "Terminate\n",
      "[0, 60, 15, 59, 23, 110, 95, 89, 53, 7, 115, 69, 25, 70, 46, 54, 88, 5, 83, 34, 9, 98, 103, 35, 111, 109, 47, 100, 101, 2, 81, 52, 26, 79, 4, 62, 72, 113, 105, 61, 36, 66, 56, 82, 38, 76, 63, 94, 11, 96, 87, 108, 20, 92, 1, 114, 10, 50, 12, 22, 8, 102, 118, 3, 33, 39, 104, 71, 37, 6, 55, 40, 41, 97, 117, 48, 16, 49, 45, 19, 106, 112, 68, 64, 67, 90, 57, 99, 32, 51, 78, 42, 107, 24, 18, 17, 84, 116, 30, 65, 21, 80, 93, 85, 13, 74, 43, 86, 73, 77, 44, 27, 91, 31, 119, 28, 29, 14, 58, 75, 0]\n",
      "7355.0\n",
      "[0, 34, 35, 15, 33, 36, 32, 14, 31, 30, 29, 13, 28, 37, 27, 12, 26, 25, 24, 11, 23, 38, 22, 10, 21, 47, 48, 49, 75, 73, 76, 74, 72, 50, 46, 92, 93, 94, 91, 77, 115, 114, 95, 90, 78, 45, 51, 52, 71, 70, 69, 68, 53, 44, 96, 97, 98, 89, 79, 113, 112, 99, 88, 80, 43, 54, 55, 67, 66, 65, 64, 56, 42, 100, 101, 102, 87, 81, 111, 110, 103, 86, 82, 41, 57, 58, 63, 62, 61, 60, 59, 104, 105, 106, 85, 83, 109, 123, 124, 125, 151, 149, 150, 126, 127, 122, 121, 128, 129, 148, 147, 146, 130, 131, 120, 119, 132, 133, 145, 144, 143, 134, 135, 118, 117, 136, 137, 142, 141, 140, 138, 139, 116, 108, 107, 84, 40, 19, 20, 9, 18, 39, 17, 16, 8, 7, 6, 5, 4, 3, 2, 1, 0]\n",
      "91334.72161657987\n",
      "Reach max number of iteration\n",
      "Terminate\n",
      "[0, 34, 35, 33, 36, 32, 31, 46, 50, 72, 74, 73, 47, 48, 49, 75, 76, 92, 93, 94, 91, 77, 90, 95, 114, 115, 123, 124, 125, 151, 149, 150, 126, 127, 122, 121, 128, 129, 148, 147, 146, 130, 131, 120, 119, 132, 133, 145, 144, 143, 134, 135, 118, 117, 136, 137, 142, 141, 140, 138, 139, 116, 109, 108, 107, 84, 83, 85, 106, 105, 104, 82, 86, 103, 110, 111, 87, 102, 101, 100, 99, 112, 113, 98, 97, 96, 78, 70, 71, 52, 51, 45, 69, 68, 53, 44, 89, 79, 88, 80, 67, 55, 54, 43, 66, 65, 64, 56, 42, 81, 41, 57, 58, 63, 62, 61, 60, 59, 40, 39, 17, 16, 8, 7, 9, 18, 20, 19, 6, 10, 21, 22, 38, 5, 11, 23, 24, 25, 4, 12, 26, 27, 37, 3, 13, 28, 29, 30, 2, 14, 1, 15, 0]\n",
      "74975.26034247996\n",
      "[0, 34, 35, 15, 33, 36, 32, 14, 31, 30, 29, 13, 28, 37, 27, 12, 26, 25, 24, 11, 23, 38, 22, 10, 21, 47, 48, 49, 75, 73, 76, 74, 72, 50, 46, 92, 93, 94, 91, 77, 115, 114, 95, 90, 78, 45, 51, 52, 71, 70, 69, 68, 53, 44, 96, 97, 98, 89, 79, 113, 112, 99, 88, 80, 43, 54, 55, 67, 66, 65, 64, 56, 42, 100, 101, 102, 87, 81, 111, 110, 103, 86, 82, 41, 57, 58, 63, 62, 61, 60, 59, 104, 105, 106, 85, 83, 109, 123, 124, 125, 151, 149, 150, 126, 127, 122, 121, 128, 129, 148, 147, 146, 130, 131, 120, 119, 132, 133, 145, 144, 143, 134, 135, 118, 117, 136, 137, 142, 141, 140, 138, 139, 116, 108, 107, 84, 40, 19, 20, 9, 18, 39, 17, 16, 8, 7, 6, 5, 4, 3, 2, 1, 0]\n",
      "91334.72161657987\n",
      "Reach max number of iteration\n",
      "Terminate\n",
      "[0, 34, 35, 33, 36, 46, 50, 72, 74, 47, 48, 49, 75, 73, 76, 92, 93, 94, 91, 77, 90, 95, 114, 115, 123, 124, 125, 151, 149, 150, 126, 127, 122, 121, 128, 129, 148, 147, 146, 130, 131, 120, 119, 132, 133, 145, 144, 143, 134, 135, 118, 117, 136, 137, 142, 141, 140, 138, 139, 116, 109, 108, 107, 84, 83, 85, 106, 105, 104, 103, 110, 111, 87, 102, 101, 100, 99, 112, 113, 98, 97, 96, 78, 70, 71, 52, 51, 45, 69, 68, 53, 44, 89, 79, 88, 80, 67, 55, 54, 43, 66, 65, 64, 56, 42, 81, 86, 82, 62, 63, 58, 57, 41, 61, 60, 59, 40, 39, 17, 16, 8, 7, 9, 18, 20, 19, 6, 10, 21, 22, 38, 5, 11, 23, 24, 25, 4, 12, 26, 27, 37, 3, 13, 28, 29, 30, 2, 14, 31, 32, 1, 15, 0]\n",
      "74944.46545975405\n",
      "[0, 34, 35, 15, 33, 36, 32, 14, 31, 30, 29, 13, 28, 37, 27, 12, 26, 25, 24, 11, 23, 38, 22, 10, 21, 47, 48, 49, 75, 73, 76, 74, 72, 50, 46, 92, 93, 94, 91, 77, 115, 114, 95, 90, 78, 45, 51, 52, 71, 70, 69, 68, 53, 44, 96, 97, 98, 89, 79, 113, 112, 99, 88, 80, 43, 54, 55, 67, 66, 65, 64, 56, 42, 100, 101, 102, 87, 81, 111, 110, 103, 86, 82, 41, 57, 58, 63, 62, 61, 60, 59, 104, 105, 106, 85, 83, 109, 123, 124, 125, 151, 149, 150, 126, 127, 122, 121, 128, 129, 148, 147, 146, 130, 131, 120, 119, 132, 133, 145, 144, 143, 134, 135, 118, 117, 136, 137, 142, 141, 140, 138, 139, 116, 108, 107, 84, 40, 19, 20, 9, 18, 39, 17, 16, 8, 7, 6, 5, 4, 3, 2, 1, 0]\n",
      "91334.72161657987\n",
      "Reach max number of iteration\n",
      "Terminate\n",
      "[0, 15, 1, 14, 2, 13, 3, 12, 4, 25, 24, 23, 11, 5, 38, 22, 21, 10, 6, 20, 19, 18, 9, 7, 8, 16, 17, 39, 40, 59, 60, 61, 62, 63, 58, 57, 41, 81, 111, 110, 103, 86, 82, 104, 105, 106, 85, 83, 84, 107, 108, 109, 116, 139, 138, 140, 141, 142, 137, 136, 117, 118, 135, 134, 143, 144, 145, 133, 132, 119, 120, 131, 130, 146, 147, 148, 129, 128, 121, 122, 127, 126, 150, 149, 151, 125, 124, 123, 92, 93, 94, 91, 76, 75, 47, 48, 49, 73, 74, 72, 50, 46, 77, 115, 114, 95, 90, 78, 52, 45, 51, 71, 70, 69, 68, 53, 44, 79, 89, 97, 96, 98, 113, 112, 99, 88, 100, 101, 102, 87, 80, 66, 67, 55, 54, 43, 65, 64, 56, 42, 26, 27, 37, 28, 29, 30, 31, 32, 36, 33, 35, 34, 0]\n",
      "75854.69577156549\n",
      "[0, 38, 33, 32, 31, 27, 25, 26, 21, 19, 20, 15, 13, 14, 9, 7, 8, 3, 2, 1, 4, 5, 81, 83, 84, 87, 86, 85, 82, 6, 80, 79, 90, 89, 88, 93, 92, 91, 78, 77, 11, 10, 12, 76, 75, 96, 95, 94, 131, 132, 198, 133, 195, 196, 197, 200, 199, 259, 258, 202, 201, 194, 134, 135, 191, 190, 193, 192, 204, 203, 257, 256, 205, 206, 189, 255, 254, 260, 261, 262, 253, 252, 208, 207, 188, 187, 186, 136, 137, 185, 184, 183, 210, 209, 251, 250, 249, 248, 212, 211, 182, 181, 180, 138, 139, 179, 178, 177, 214, 213, 247, 246, 245, 244, 216, 215, 176, 175, 174, 140, 141, 171, 172, 173, 217, 218, 242, 243, 240, 241, 219, 220, 170, 142, 143, 165, 166, 169, 168, 167, 221, 222, 238, 239, 263, 236, 237, 223, 224, 162, 163, 164, 144, 146, 147, 145, 161, 160, 225, 159, 158, 157, 148, 154, 155, 156, 226, 227, 234, 235, 232, 231, 233, 228, 229, 152, 151, 230, 150, 153, 149, 130, 129, 99, 98, 97, 74, 73, 17, 16, 18, 72, 71, 102, 101, 100, 105, 104, 103, 70, 69, 23, 22, 24, 68, 67, 108, 107, 106, 111, 112, 113, 114, 110, 109, 66, 65, 29, 28, 30, 64, 63, 35, 34, 61, 62, 115, 116, 117, 128, 118, 119, 120, 59, 60, 36, 37, 39, 41, 42, 43, 44, 45, 48, 56, 57, 121, 122, 123, 124, 127, 125, 126, 49, 55, 54, 53, 52, 50, 51, 47, 46, 58, 40, 0]\n",
      "57260.05492393449\n"
     ]
    },
    {
     "name": "stdout",
     "output_type": "stream",
     "text": [
      "Reach max number of iteration\n",
      "Terminate\n",
      "[0, 40, 41, 42, 43, 44, 45, 48, 47, 46, 51, 50, 49, 55, 52, 53, 54, 126, 125, 127, 124, 123, 122, 121, 57, 56, 58, 39, 37, 36, 60, 59, 120, 119, 118, 128, 148, 154, 155, 149, 153, 152, 151, 150, 230, 229, 228, 233, 231, 232, 235, 234, 227, 226, 156, 157, 158, 159, 225, 160, 161, 147, 146, 145, 144, 164, 163, 162, 224, 223, 237, 236, 263, 239, 238, 222, 221, 167, 166, 165, 143, 142, 170, 169, 168, 220, 219, 241, 240, 243, 242, 218, 217, 173, 172, 171, 141, 140, 174, 175, 176, 215, 216, 244, 245, 246, 247, 213, 214, 177, 178, 179, 139, 138, 180, 181, 182, 211, 212, 248, 249, 250, 251, 209, 210, 183, 184, 185, 137, 136, 186, 187, 188, 207, 208, 252, 253, 262, 261, 260, 254, 255, 205, 206, 189, 257, 256, 203, 204, 192, 193, 194, 190, 191, 135, 134, 133, 195, 196, 197, 201, 202, 258, 259, 199, 200, 198, 132, 131, 130, 129, 100, 101, 102, 71, 72, 18, 17, 73, 74, 97, 98, 99, 94, 95, 96, 75, 76, 12, 77, 78, 91, 92, 93, 88, 89, 90, 79, 85, 86, 87, 84, 83, 82, 81, 5, 4, 1, 2, 3, 8, 7, 6, 80, 11, 10, 9, 14, 13, 16, 15, 19, 20, 21, 22, 23, 69, 70, 103, 104, 105, 107, 106, 111, 110, 109, 66, 108, 67, 68, 24, 25, 26, 27, 28, 29, 65, 32, 31, 30, 64, 63, 114, 113, 112, 117, 116, 115, 62, 61, 35, 34, 33, 38, 0]\n",
      "52518.72908545497\n",
      "[0, 38, 33, 32, 31, 27, 25, 26, 21, 19, 20, 15, 13, 14, 9, 7, 8, 3, 2, 1, 4, 5, 81, 83, 84, 87, 86, 85, 82, 6, 80, 79, 90, 89, 88, 93, 92, 91, 78, 77, 11, 10, 12, 76, 75, 96, 95, 94, 131, 132, 198, 133, 195, 196, 197, 200, 199, 259, 258, 202, 201, 194, 134, 135, 191, 190, 193, 192, 204, 203, 257, 256, 205, 206, 189, 255, 254, 260, 261, 262, 253, 252, 208, 207, 188, 187, 186, 136, 137, 185, 184, 183, 210, 209, 251, 250, 249, 248, 212, 211, 182, 181, 180, 138, 139, 179, 178, 177, 214, 213, 247, 246, 245, 244, 216, 215, 176, 175, 174, 140, 141, 171, 172, 173, 217, 218, 242, 243, 240, 241, 219, 220, 170, 142, 143, 165, 166, 169, 168, 167, 221, 222, 238, 239, 263, 236, 237, 223, 224, 162, 163, 164, 144, 146, 147, 145, 161, 160, 225, 159, 158, 157, 148, 154, 155, 156, 226, 227, 234, 235, 232, 231, 233, 228, 229, 152, 151, 230, 150, 153, 149, 130, 129, 99, 98, 97, 74, 73, 17, 16, 18, 72, 71, 102, 101, 100, 105, 104, 103, 70, 69, 23, 22, 24, 68, 67, 108, 107, 106, 111, 112, 113, 114, 110, 109, 66, 65, 29, 28, 30, 64, 63, 35, 34, 61, 62, 115, 116, 117, 128, 118, 119, 120, 59, 60, 36, 37, 39, 41, 42, 43, 44, 45, 48, 56, 57, 121, 122, 123, 124, 127, 125, 126, 49, 55, 54, 53, 52, 50, 51, 47, 46, 58, 40, 0]\n",
      "57260.05492393449\n",
      "Reach max number of iteration\n",
      "Terminate\n",
      "[0, 40, 41, 42, 58, 43, 44, 45, 46, 47, 48, 56, 57, 121, 122, 123, 124, 125, 126, 54, 55, 49, 50, 51, 52, 53, 127, 149, 153, 152, 151, 229, 150, 230, 228, 233, 232, 231, 235, 234, 227, 226, 156, 155, 154, 148, 157, 158, 159, 225, 160, 161, 147, 146, 145, 144, 164, 163, 162, 224, 223, 237, 236, 263, 239, 238, 222, 221, 167, 166, 165, 143, 142, 170, 169, 168, 220, 219, 241, 240, 243, 242, 218, 217, 173, 172, 171, 141, 140, 174, 175, 176, 215, 216, 244, 245, 246, 247, 213, 214, 177, 178, 179, 139, 138, 180, 181, 182, 211, 212, 248, 249, 250, 251, 209, 210, 183, 184, 185, 137, 136, 186, 187, 188, 207, 208, 252, 253, 262, 261, 260, 256, 257, 203, 204, 254, 255, 205, 206, 189, 192, 193, 190, 191, 135, 134, 194, 133, 195, 196, 197, 201, 202, 258, 259, 199, 200, 198, 132, 131, 130, 129, 94, 95, 96, 75, 76, 12, 78, 91, 92, 93, 88, 89, 90, 79, 82, 85, 86, 87, 84, 83, 81, 5, 4, 1, 2, 3, 8, 7, 6, 80, 77, 11, 10, 9, 13, 14, 15, 16, 17, 73, 74, 97, 98, 99, 71, 102, 101, 100, 105, 104, 103, 70, 69, 23, 72, 18, 19, 20, 21, 22, 26, 25, 24, 68, 67, 108, 107, 106, 111, 112, 113, 114, 110, 109, 66, 65, 29, 28, 27, 63, 64, 30, 31, 32, 33, 34, 35, 61, 62, 115, 116, 117, 128, 118, 119, 120, 59, 60, 36, 37, 38, 39, 0]\n",
      "51181.89991688918\n",
      "[0, 38, 33, 32, 31, 27, 25, 26, 21, 19, 20, 15, 13, 14, 9, 7, 8, 3, 2, 1, 4, 5, 81, 83, 84, 87, 86, 85, 82, 6, 80, 79, 90, 89, 88, 93, 92, 91, 78, 77, 11, 10, 12, 76, 75, 96, 95, 94, 131, 132, 198, 133, 195, 196, 197, 200, 199, 259, 258, 202, 201, 194, 134, 135, 191, 190, 193, 192, 204, 203, 257, 256, 205, 206, 189, 255, 254, 260, 261, 262, 253, 252, 208, 207, 188, 187, 186, 136, 137, 185, 184, 183, 210, 209, 251, 250, 249, 248, 212, 211, 182, 181, 180, 138, 139, 179, 178, 177, 214, 213, 247, 246, 245, 244, 216, 215, 176, 175, 174, 140, 141, 171, 172, 173, 217, 218, 242, 243, 240, 241, 219, 220, 170, 142, 143, 165, 166, 169, 168, 167, 221, 222, 238, 239, 263, 236, 237, 223, 224, 162, 163, 164, 144, 146, 147, 145, 161, 160, 225, 159, 158, 157, 148, 154, 155, 156, 226, 227, 234, 235, 232, 231, 233, 228, 229, 152, 151, 230, 150, 153, 149, 130, 129, 99, 98, 97, 74, 73, 17, 16, 18, 72, 71, 102, 101, 100, 105, 104, 103, 70, 69, 23, 22, 24, 68, 67, 108, 107, 106, 111, 112, 113, 114, 110, 109, 66, 65, 29, 28, 30, 64, 63, 35, 34, 61, 62, 115, 116, 117, 128, 118, 119, 120, 59, 60, 36, 37, 39, 41, 42, 43, 44, 45, 48, 56, 57, 121, 122, 123, 124, 127, 125, 126, 49, 55, 54, 53, 52, 50, 51, 47, 46, 58, 40, 0]\n",
      "57260.05492393449\n",
      "Reach max number of iteration\n",
      "Terminate\n",
      "[0, 41, 58, 47, 46, 51, 50, 49, 55, 52, 53, 54, 126, 125, 127, 124, 123, 122, 121, 57, 56, 48, 45, 44, 43, 42, 40, 39, 33, 34, 35, 61, 64, 30, 31, 32, 62, 115, 116, 117, 114, 63, 113, 112, 111, 110, 109, 66, 65, 29, 28, 27, 26, 25, 24, 68, 67, 108, 107, 106, 105, 104, 102, 101, 100, 99, 98, 97, 74, 73, 16, 17, 18, 72, 71, 103, 70, 69, 23, 22, 21, 20, 19, 15, 14, 13, 10, 9, 5, 1, 2, 3, 4, 81, 82, 83, 84, 85, 86, 87, 90, 89, 88, 93, 92, 91, 78, 79, 80, 6, 7, 8, 77, 11, 12, 76, 75, 96, 95, 94, 129, 130, 131, 133, 195, 132, 198, 196, 197, 202, 258, 201, 200, 199, 259, 257, 204, 203, 192, 193, 194, 134, 135, 191, 190, 189, 206, 205, 255, 254, 256, 260, 261, 262, 253, 252, 208, 207, 188, 187, 186, 136, 185, 137, 184, 183, 210, 209, 251, 250, 249, 248, 212, 211, 182, 181, 180, 138, 139, 179, 178, 177, 214, 213, 247, 246, 245, 244, 216, 215, 173, 172, 171, 141, 140, 174, 175, 176, 217, 218, 242, 243, 240, 241, 219, 220, 168, 169, 142, 170, 143, 165, 166, 167, 221, 222, 238, 239, 263, 236, 237, 223, 224, 162, 163, 164, 144, 145, 146, 147, 161, 160, 225, 159, 158, 157, 148, 154, 155, 156, 226, 227, 234, 235, 232, 231, 233, 228, 229, 152, 150, 230, 151, 153, 149, 128, 118, 119, 120, 59, 60, 36, 37, 38, 0]\n",
      "54466.10599868843\n"
     ]
    }
   ],
   "source": [
    "import pandas as pd\n",
    "value = pd.DataFrame(index = index, columns = ['cooling factor = 0.90', 'cooling factor = 0.95', 'cooling factor = 0.99'])\n",
    "factor_set = [0.90, 0.95, 0.99]\n",
    "iter_set = [70, 60, 30]\n",
    "\n",
    "for i in range(3): #dataset \n",
    "    for j in range(3): #factor\n",
    "        result = SA (start[i][0], start[i][1], dataset[i][1], initial=0.001, \n",
    "                     cool_factor=factor_set[j], eval_times=10000, neighbor = 'two_opt', max_iteration = iter_set[i])\n",
    "        value.iloc[i,j] = result"
   ]
  },
  {
   "cell_type": "code",
   "execution_count": 44,
   "metadata": {},
   "outputs": [
    {
     "name": "stdout",
     "output_type": "stream",
     "text": [
      "                 cooling factor = 0.90         cooling factor = 0.95  \\\n",
      "Dataset 1             (7387.0, 70, 22)              (7310.0, 70, 18)   \n",
      "Dataset 2  (76050.00479508081, 60, 19)   (74680.05091800306, 60, 34)   \n",
      "Dataset 3  (53295.34844141955, 30, 23)  (52598.228465252265, 30, 29)   \n",
      "\n",
      "                 cooling factor = 0.99  \n",
      "Dataset 1             (7358.0, 70, 46)  \n",
      "Dataset 2  (75650.53220616734, 60, 34)  \n",
      "Dataset 3  (51814.98620027635, 30, 28)  \n"
     ]
    }
   ],
   "source": [
    "value7=value\n",
    "print(value7)"
   ]
  },
  {
   "cell_type": "code",
   "execution_count": 53,
   "metadata": {},
   "outputs": [
    {
     "name": "stdout",
     "output_type": "stream",
     "text": [
      "                 cooling factor = 0.90        cooling factor = 0.95  \\\n",
      "Dataset 1             (7343.0, 70, 12)             (7318.0, 70, 10)   \n",
      "Dataset 2  (74975.26034247996, 60, 27)  (74944.46545975405, 60, 26)   \n",
      "Dataset 3  (52518.72908545497, 30, 29)  (51181.89991688918, 30, 19)   \n",
      "\n",
      "                 cooling factor = 0.99  \n",
      "Dataset 1             (7355.0, 70, 44)  \n",
      "Dataset 2  (75854.69577156549, 60, 53)  \n",
      "Dataset 3  (54466.10599868843, 30, 30)  \n"
     ]
    }
   ],
   "source": [
    "value8=value\n",
    "print(value8)"
   ]
  },
  {
   "cell_type": "markdown",
   "metadata": {},
   "source": [
    "#### Comment:\n",
    "In general, the smaller the cooling factor is, the faster the reduction speed of acceptance rate is. From test results, we can see that cooling factor = 0.95 setting gives the best value in general, which suggests that this reduction speed is not too slow and thus wasting time on 'very worse' solutions nor the speed is not too fast and thus quickly ending up at the local optima and cannot jump out. The fact that the cooling factor = 0.9 generally finds its best solution earlier (needing fewer iterations) than the other settings also proves the above statement."
   ]
  },
  {
   "cell_type": "code",
   "execution_count": null,
   "metadata": {},
   "outputs": [],
   "source": []
  },
  {
   "cell_type": "markdown",
   "metadata": {},
   "source": [
    "### **Comparision between Cooling schedules: Number of evaluations at a given temperature** \n",
    "Run 3 settings of Cooling factor: 0.90, 0.95 and 0.99 with 3 datasets. The starting solution, neighborhood definition are chosen as successive insertion and two_opt, based on the previous comparisions. The initial temperature is set as 0.001\\*initial_length to focus more on the dataset 2 and 3. The number of evaluation each iteration is default. As in the case of initial temperature test, to focus more on the effect of temperature, the termination condition is set as the maximum number of iterations = 70, 60, 30 for dataset 1, 2, 3 respectively. So for each dataset, the range of temperature explored in each setting case will be solely depends on the cooling factor and is the same in each time we test."
   ]
  },
  {
   "cell_type": "code",
   "execution_count": 56,
   "metadata": {},
   "outputs": [
    {
     "name": "stdout",
     "output_type": "stream",
     "text": [
      "[0, 60, 15, 59, 23, 110, 95, 89, 53, 7, 69, 115, 33, 25, 70, 46, 88, 111, 35, 34, 9, 98, 105, 66, 36, 61, 103, 83, 5, 54, 47, 109, 100, 101, 2, 81, 79, 52, 26, 4, 62, 113, 72, 56, 82, 38, 94, 96, 11, 76, 63, 87, 108, 20, 92, 1, 114, 10, 50, 12, 22, 8, 102, 118, 3, 39, 104, 71, 37, 6, 55, 40, 41, 97, 117, 48, 16, 49, 45, 19, 106, 112, 68, 64, 42, 67, 90, 78, 57, 99, 32, 51, 107, 24, 18, 17, 84, 116, 30, 65, 80, 93, 21, 85, 74, 43, 86, 73, 13, 77, 44, 27, 91, 31, 58, 14, 29, 119, 28, 75, 0]\n",
      "7779.0\n",
      "Reach max number of iteration\n",
      "Terminate\n",
      "[0, 75, 58, 14, 29, 28, 119, 31, 91, 27, 44, 77, 80, 93, 85, 13, 73, 86, 43, 74, 21, 65, 30, 116, 84, 17, 18, 24, 107, 42, 78, 51, 32, 99, 57, 90, 67, 64, 68, 112, 106, 19, 45, 49, 117, 48, 16, 97, 41, 40, 55, 6, 37, 71, 104, 39, 33, 3, 118, 102, 8, 22, 12, 50, 10, 114, 1, 81, 2, 79, 100, 101, 47, 109, 88, 35, 111, 105, 113, 72, 62, 4, 26, 52, 92, 20, 108, 87, 96, 11, 94, 63, 76, 38, 82, 56, 66, 36, 61, 98, 103, 9, 34, 83, 5, 54, 46, 70, 25, 69, 115, 7, 53, 89, 95, 110, 23, 59, 15, 60, 0]\n",
      "7360.0\n",
      "[0, 60, 15, 59, 23, 110, 95, 89, 53, 7, 69, 115, 33, 25, 70, 46, 88, 111, 35, 34, 9, 98, 105, 66, 36, 61, 103, 83, 5, 54, 47, 109, 100, 101, 2, 81, 79, 52, 26, 4, 62, 113, 72, 56, 82, 38, 94, 96, 11, 76, 63, 87, 108, 20, 92, 1, 114, 10, 50, 12, 22, 8, 102, 118, 3, 39, 104, 71, 37, 6, 55, 40, 41, 97, 117, 48, 16, 49, 45, 19, 106, 112, 68, 64, 42, 67, 90, 78, 57, 99, 32, 51, 107, 24, 18, 17, 84, 116, 30, 65, 80, 93, 21, 85, 74, 43, 86, 73, 13, 77, 44, 27, 91, 31, 58, 14, 29, 119, 28, 75, 0]\n",
      "7779.0\n",
      "Reach max number of iteration\n",
      "Terminate\n",
      "[0, 60, 15, 59, 23, 110, 95, 89, 53, 7, 115, 69, 25, 70, 46, 47, 88, 54, 5, 83, 34, 9, 98, 61, 36, 66, 105, 103, 35, 111, 109, 100, 101, 2, 81, 52, 26, 79, 113, 4, 62, 72, 56, 82, 38, 76, 63, 94, 11, 96, 87, 108, 20, 92, 1, 114, 10, 50, 12, 22, 8, 102, 118, 3, 33, 39, 104, 71, 37, 6, 55, 40, 41, 97, 48, 117, 16, 49, 45, 19, 106, 112, 68, 64, 67, 90, 57, 99, 32, 51, 78, 42, 107, 24, 18, 17, 84, 116, 30, 65, 21, 80, 93, 85, 74, 43, 13, 86, 73, 77, 44, 27, 91, 31, 119, 28, 29, 14, 58, 75, 0]\n",
      "7366.0\n",
      "[0, 60, 15, 59, 23, 110, 95, 89, 53, 7, 69, 115, 33, 25, 70, 46, 88, 111, 35, 34, 9, 98, 105, 66, 36, 61, 103, 83, 5, 54, 47, 109, 100, 101, 2, 81, 79, 52, 26, 4, 62, 113, 72, 56, 82, 38, 94, 96, 11, 76, 63, 87, 108, 20, 92, 1, 114, 10, 50, 12, 22, 8, 102, 118, 3, 39, 104, 71, 37, 6, 55, 40, 41, 97, 117, 48, 16, 49, 45, 19, 106, 112, 68, 64, 42, 67, 90, 78, 57, 99, 32, 51, 107, 24, 18, 17, 84, 116, 30, 65, 80, 93, 21, 85, 74, 43, 86, 73, 13, 77, 44, 27, 91, 31, 58, 14, 29, 119, 28, 75, 0]\n",
      "7779.0\n",
      "Reach max number of iteration\n",
      "Terminate\n",
      "[0, 60, 15, 59, 23, 110, 95, 89, 53, 7, 115, 69, 25, 70, 46, 54, 5, 83, 34, 9, 98, 61, 36, 66, 105, 111, 103, 35, 88, 47, 109, 100, 101, 2, 81, 79, 26, 113, 72, 56, 82, 38, 62, 4, 52, 76, 94, 11, 96, 87, 108, 63, 92, 20, 1, 114, 10, 50, 12, 22, 8, 102, 118, 3, 33, 39, 104, 71, 37, 6, 55, 40, 41, 97, 16, 117, 48, 49, 45, 19, 106, 112, 68, 64, 67, 90, 57, 99, 32, 51, 78, 42, 107, 24, 18, 17, 84, 116, 30, 65, 21, 80, 93, 85, 13, 74, 43, 86, 73, 77, 44, 27, 91, 31, 119, 28, 29, 14, 58, 75, 0]\n",
      "7375.0\n",
      "[0, 34, 35, 15, 33, 36, 32, 14, 31, 30, 29, 13, 28, 37, 27, 12, 26, 25, 24, 11, 23, 38, 22, 10, 21, 47, 48, 49, 75, 73, 76, 74, 72, 50, 46, 92, 93, 94, 91, 77, 115, 114, 95, 90, 78, 45, 51, 52, 71, 70, 69, 68, 53, 44, 96, 97, 98, 89, 79, 113, 112, 99, 88, 80, 43, 54, 55, 67, 66, 65, 64, 56, 42, 100, 101, 102, 87, 81, 111, 110, 103, 86, 82, 41, 57, 58, 63, 62, 61, 60, 59, 104, 105, 106, 85, 83, 109, 123, 124, 125, 151, 149, 150, 126, 127, 122, 121, 128, 129, 148, 147, 146, 130, 131, 120, 119, 132, 133, 145, 144, 143, 134, 135, 118, 117, 136, 137, 142, 141, 140, 138, 139, 116, 108, 107, 84, 40, 19, 20, 9, 18, 39, 17, 16, 8, 7, 6, 5, 4, 3, 2, 1, 0]\n",
      "91334.72161657987\n",
      "Reach max number of iteration\n",
      "Terminate\n",
      "[0, 34, 35, 33, 36, 32, 31, 30, 29, 28, 37, 27, 41, 57, 58, 63, 62, 61, 82, 86, 103, 110, 111, 102, 101, 100, 87, 81, 42, 56, 64, 65, 43, 54, 55, 67, 66, 80, 88, 99, 112, 113, 79, 89, 98, 97, 96, 78, 69, 68, 53, 44, 45, 51, 52, 70, 71, 90, 95, 114, 115, 91, 77, 46, 50, 72, 74, 73, 48, 47, 49, 75, 76, 92, 93, 94, 123, 124, 125, 151, 149, 150, 126, 127, 122, 121, 128, 129, 148, 147, 146, 130, 131, 120, 119, 132, 133, 145, 144, 143, 134, 135, 118, 117, 136, 137, 142, 141, 140, 138, 139, 116, 104, 105, 106, 109, 108, 107, 84, 83, 85, 60, 59, 40, 19, 20, 18, 39, 17, 16, 8, 7, 9, 6, 10, 21, 22, 38, 5, 11, 23, 24, 25, 4, 12, 26, 3, 13, 2, 14, 1, 15, 0]\n",
      "78281.91942828834\n",
      "[0, 34, 35, 15, 33, 36, 32, 14, 31, 30, 29, 13, 28, 37, 27, 12, 26, 25, 24, 11, 23, 38, 22, 10, 21, 47, 48, 49, 75, 73, 76, 74, 72, 50, 46, 92, 93, 94, 91, 77, 115, 114, 95, 90, 78, 45, 51, 52, 71, 70, 69, 68, 53, 44, 96, 97, 98, 89, 79, 113, 112, 99, 88, 80, 43, 54, 55, 67, 66, 65, 64, 56, 42, 100, 101, 102, 87, 81, 111, 110, 103, 86, 82, 41, 57, 58, 63, 62, 61, 60, 59, 104, 105, 106, 85, 83, 109, 123, 124, 125, 151, 149, 150, 126, 127, 122, 121, 128, 129, 148, 147, 146, 130, 131, 120, 119, 132, 133, 145, 144, 143, 134, 135, 118, 117, 136, 137, 142, 141, 140, 138, 139, 116, 108, 107, 84, 40, 19, 20, 9, 18, 39, 17, 16, 8, 7, 6, 5, 4, 3, 2, 1, 0]\n",
      "91334.72161657987\n",
      "Reach max number of iteration\n",
      "Terminate\n",
      "[0, 34, 35, 33, 36, 32, 31, 30, 29, 28, 37, 27, 26, 25, 24, 23, 41, 57, 58, 63, 62, 61, 85, 106, 105, 104, 82, 86, 103, 110, 111, 102, 101, 100, 87, 81, 42, 56, 64, 65, 66, 43, 54, 55, 67, 80, 88, 99, 112, 113, 98, 97, 96, 89, 79, 44, 53, 68, 69, 45, 51, 52, 71, 70, 78, 90, 95, 114, 115, 77, 46, 50, 72, 74, 73, 47, 48, 49, 75, 76, 91, 94, 93, 92, 123, 124, 125, 151, 149, 150, 126, 127, 122, 121, 128, 129, 148, 147, 146, 130, 131, 120, 119, 132, 133, 145, 144, 143, 134, 135, 118, 117, 136, 137, 142, 141, 140, 138, 139, 116, 109, 108, 107, 84, 83, 60, 59, 40, 39, 17, 16, 8, 7, 9, 18, 20, 19, 6, 10, 21, 22, 38, 5, 11, 4, 12, 3, 13, 2, 14, 1, 15, 0]\n",
      "77100.43398597579\n",
      "[0, 34, 35, 15, 33, 36, 32, 14, 31, 30, 29, 13, 28, 37, 27, 12, 26, 25, 24, 11, 23, 38, 22, 10, 21, 47, 48, 49, 75, 73, 76, 74, 72, 50, 46, 92, 93, 94, 91, 77, 115, 114, 95, 90, 78, 45, 51, 52, 71, 70, 69, 68, 53, 44, 96, 97, 98, 89, 79, 113, 112, 99, 88, 80, 43, 54, 55, 67, 66, 65, 64, 56, 42, 100, 101, 102, 87, 81, 111, 110, 103, 86, 82, 41, 57, 58, 63, 62, 61, 60, 59, 104, 105, 106, 85, 83, 109, 123, 124, 125, 151, 149, 150, 126, 127, 122, 121, 128, 129, 148, 147, 146, 130, 131, 120, 119, 132, 133, 145, 144, 143, 134, 135, 118, 117, 136, 137, 142, 141, 140, 138, 139, 116, 108, 107, 84, 40, 19, 20, 9, 18, 39, 17, 16, 8, 7, 6, 5, 4, 3, 2, 1, 0]\n",
      "91334.72161657987\n",
      "Reach max number of iteration\n",
      "Terminate\n",
      "[0, 34, 35, 33, 46, 50, 72, 74, 47, 48, 49, 75, 73, 76, 92, 93, 94, 91, 77, 115, 114, 95, 90, 71, 70, 52, 51, 45, 44, 53, 68, 69, 78, 96, 97, 98, 89, 79, 88, 80, 66, 67, 55, 54, 43, 65, 64, 56, 42, 81, 86, 103, 110, 111, 87, 102, 101, 100, 99, 112, 113, 123, 124, 125, 151, 149, 150, 126, 127, 122, 121, 128, 129, 148, 147, 146, 130, 131, 120, 119, 132, 133, 145, 144, 143, 134, 135, 118, 117, 136, 137, 142, 141, 140, 138, 139, 116, 104, 105, 106, 109, 108, 107, 84, 83, 85, 82, 63, 58, 57, 41, 62, 61, 60, 59, 40, 39, 17, 16, 8, 7, 9, 18, 20, 19, 6, 10, 21, 22, 38, 5, 11, 23, 24, 25, 4, 12, 26, 27, 37, 3, 13, 28, 29, 30, 2, 14, 31, 32, 36, 1, 15, 0]\n",
      "75281.51612826344\n",
      "[0, 38, 33, 32, 31, 27, 25, 26, 21, 19, 20, 15, 13, 14, 9, 7, 8, 3, 2, 1, 4, 5, 81, 83, 84, 87, 86, 85, 82, 6, 80, 79, 90, 89, 88, 93, 92, 91, 78, 77, 11, 10, 12, 76, 75, 96, 95, 94, 131, 132, 198, 133, 195, 196, 197, 200, 199, 259, 258, 202, 201, 194, 134, 135, 191, 190, 193, 192, 204, 203, 257, 256, 205, 206, 189, 255, 254, 260, 261, 262, 253, 252, 208, 207, 188, 187, 186, 136, 137, 185, 184, 183, 210, 209, 251, 250, 249, 248, 212, 211, 182, 181, 180, 138, 139, 179, 178, 177, 214, 213, 247, 246, 245, 244, 216, 215, 176, 175, 174, 140, 141, 171, 172, 173, 217, 218, 242, 243, 240, 241, 219, 220, 170, 142, 143, 165, 166, 169, 168, 167, 221, 222, 238, 239, 263, 236, 237, 223, 224, 162, 163, 164, 144, 146, 147, 145, 161, 160, 225, 159, 158, 157, 148, 154, 155, 156, 226, 227, 234, 235, 232, 231, 233, 228, 229, 152, 151, 230, 150, 153, 149, 130, 129, 99, 98, 97, 74, 73, 17, 16, 18, 72, 71, 102, 101, 100, 105, 104, 103, 70, 69, 23, 22, 24, 68, 67, 108, 107, 106, 111, 112, 113, 114, 110, 109, 66, 65, 29, 28, 30, 64, 63, 35, 34, 61, 62, 115, 116, 117, 128, 118, 119, 120, 59, 60, 36, 37, 39, 41, 42, 43, 44, 45, 48, 56, 57, 121, 122, 123, 124, 127, 125, 126, 49, 55, 54, 53, 52, 50, 51, 47, 46, 58, 40, 0]\n",
      "57260.05492393449\n"
     ]
    },
    {
     "name": "stdout",
     "output_type": "stream",
     "text": [
      "Reach max number of iteration\n",
      "Terminate\n",
      "[0, 40, 41, 42, 43, 44, 45, 48, 47, 46, 51, 50, 49, 55, 52, 53, 54, 126, 125, 127, 124, 123, 122, 121, 57, 56, 58, 39, 37, 36, 60, 59, 120, 119, 118, 116, 117, 128, 149, 153, 152, 151, 150, 230, 229, 228, 233, 231, 232, 235, 234, 227, 226, 156, 155, 154, 148, 157, 158, 159, 225, 160, 161, 147, 145, 146, 144, 164, 163, 162, 224, 223, 237, 236, 263, 239, 238, 222, 221, 167, 166, 165, 143, 142, 170, 169, 168, 220, 219, 241, 240, 243, 242, 218, 217, 173, 172, 171, 141, 140, 174, 175, 176, 215, 216, 244, 245, 246, 247, 213, 214, 177, 178, 179, 139, 138, 180, 181, 182, 211, 212, 248, 249, 250, 251, 209, 210, 183, 184, 185, 137, 136, 186, 187, 188, 207, 208, 252, 253, 262, 261, 260, 254, 255, 205, 206, 257, 256, 203, 204, 192, 189, 190, 191, 135, 194, 193, 196, 197, 201, 202, 258, 259, 199, 200, 198, 132, 195, 133, 134, 131, 130, 129, 94, 95, 96, 75, 76, 12, 77, 78, 91, 92, 93, 88, 89, 90, 79, 80, 82, 85, 86, 87, 84, 83, 81, 5, 1, 2, 3, 4, 8, 7, 6, 11, 10, 9, 13, 14, 15, 16, 17, 73, 74, 97, 98, 99, 102, 71, 72, 18, 19, 20, 21, 22, 23, 69, 70, 103, 104, 105, 100, 101, 107, 108, 67, 68, 24, 25, 26, 28, 27, 32, 31, 30, 64, 63, 114, 29, 65, 66, 109, 110, 106, 111, 112, 113, 115, 62, 61, 35, 34, 33, 38, 0]\n",
      "53140.31764817589\n",
      "[0, 38, 33, 32, 31, 27, 25, 26, 21, 19, 20, 15, 13, 14, 9, 7, 8, 3, 2, 1, 4, 5, 81, 83, 84, 87, 86, 85, 82, 6, 80, 79, 90, 89, 88, 93, 92, 91, 78, 77, 11, 10, 12, 76, 75, 96, 95, 94, 131, 132, 198, 133, 195, 196, 197, 200, 199, 259, 258, 202, 201, 194, 134, 135, 191, 190, 193, 192, 204, 203, 257, 256, 205, 206, 189, 255, 254, 260, 261, 262, 253, 252, 208, 207, 188, 187, 186, 136, 137, 185, 184, 183, 210, 209, 251, 250, 249, 248, 212, 211, 182, 181, 180, 138, 139, 179, 178, 177, 214, 213, 247, 246, 245, 244, 216, 215, 176, 175, 174, 140, 141, 171, 172, 173, 217, 218, 242, 243, 240, 241, 219, 220, 170, 142, 143, 165, 166, 169, 168, 167, 221, 222, 238, 239, 263, 236, 237, 223, 224, 162, 163, 164, 144, 146, 147, 145, 161, 160, 225, 159, 158, 157, 148, 154, 155, 156, 226, 227, 234, 235, 232, 231, 233, 228, 229, 152, 151, 230, 150, 153, 149, 130, 129, 99, 98, 97, 74, 73, 17, 16, 18, 72, 71, 102, 101, 100, 105, 104, 103, 70, 69, 23, 22, 24, 68, 67, 108, 107, 106, 111, 112, 113, 114, 110, 109, 66, 65, 29, 28, 30, 64, 63, 35, 34, 61, 62, 115, 116, 117, 128, 118, 119, 120, 59, 60, 36, 37, 39, 41, 42, 43, 44, 45, 48, 56, 57, 121, 122, 123, 124, 127, 125, 126, 49, 55, 54, 53, 52, 50, 51, 47, 46, 58, 40, 0]\n",
      "57260.05492393449\n",
      "Reach max number of iteration\n",
      "Terminate\n",
      "[0, 38, 37, 33, 34, 35, 61, 62, 115, 116, 117, 112, 113, 111, 110, 109, 66, 65, 114, 63, 64, 30, 31, 32, 27, 28, 29, 26, 25, 24, 68, 67, 108, 107, 106, 105, 104, 103, 70, 69, 23, 22, 21, 20, 19, 18, 72, 71, 102, 101, 100, 99, 98, 97, 74, 73, 17, 16, 15, 14, 13, 10, 9, 8, 7, 3, 2, 1, 4, 5, 81, 82, 83, 84, 87, 86, 85, 6, 80, 79, 90, 89, 88, 93, 92, 91, 78, 77, 11, 12, 76, 75, 96, 95, 94, 129, 130, 131, 132, 198, 200, 199, 259, 258, 202, 201, 197, 196, 195, 133, 194, 134, 135, 191, 190, 193, 192, 204, 203, 189, 206, 205, 255, 254, 257, 256, 260, 261, 262, 253, 252, 208, 207, 188, 187, 186, 136, 137, 185, 184, 183, 210, 209, 251, 250, 249, 248, 212, 211, 182, 181, 180, 138, 139, 179, 178, 177, 214, 213, 247, 246, 245, 244, 216, 215, 176, 175, 174, 140, 141, 171, 172, 173, 217, 218, 242, 243, 240, 241, 219, 220, 168, 169, 170, 142, 143, 165, 166, 167, 221, 222, 238, 239, 263, 236, 237, 223, 224, 162, 163, 164, 144, 146, 145, 147, 161, 160, 225, 159, 158, 157, 155, 156, 226, 227, 234, 235, 232, 231, 233, 228, 229, 151, 230, 150, 152, 153, 149, 154, 148, 128, 118, 119, 120, 59, 60, 36, 58, 48, 56, 57, 121, 122, 123, 124, 127, 125, 126, 54, 53, 52, 55, 49, 50, 51, 46, 47, 45, 44, 43, 42, 41, 40, 39, 0]\n",
      "52247.59795011435\n",
      "[0, 38, 33, 32, 31, 27, 25, 26, 21, 19, 20, 15, 13, 14, 9, 7, 8, 3, 2, 1, 4, 5, 81, 83, 84, 87, 86, 85, 82, 6, 80, 79, 90, 89, 88, 93, 92, 91, 78, 77, 11, 10, 12, 76, 75, 96, 95, 94, 131, 132, 198, 133, 195, 196, 197, 200, 199, 259, 258, 202, 201, 194, 134, 135, 191, 190, 193, 192, 204, 203, 257, 256, 205, 206, 189, 255, 254, 260, 261, 262, 253, 252, 208, 207, 188, 187, 186, 136, 137, 185, 184, 183, 210, 209, 251, 250, 249, 248, 212, 211, 182, 181, 180, 138, 139, 179, 178, 177, 214, 213, 247, 246, 245, 244, 216, 215, 176, 175, 174, 140, 141, 171, 172, 173, 217, 218, 242, 243, 240, 241, 219, 220, 170, 142, 143, 165, 166, 169, 168, 167, 221, 222, 238, 239, 263, 236, 237, 223, 224, 162, 163, 164, 144, 146, 147, 145, 161, 160, 225, 159, 158, 157, 148, 154, 155, 156, 226, 227, 234, 235, 232, 231, 233, 228, 229, 152, 151, 230, 150, 153, 149, 130, 129, 99, 98, 97, 74, 73, 17, 16, 18, 72, 71, 102, 101, 100, 105, 104, 103, 70, 69, 23, 22, 24, 68, 67, 108, 107, 106, 111, 112, 113, 114, 110, 109, 66, 65, 29, 28, 30, 64, 63, 35, 34, 61, 62, 115, 116, 117, 128, 118, 119, 120, 59, 60, 36, 37, 39, 41, 42, 43, 44, 45, 48, 56, 57, 121, 122, 123, 124, 127, 125, 126, 49, 55, 54, 53, 52, 50, 51, 47, 46, 58, 40, 0]\n",
      "57260.05492393449\n",
      "Reach max number of iteration\n",
      "Terminate\n",
      "[0, 38, 37, 36, 60, 59, 120, 119, 118, 128, 117, 116, 115, 62, 61, 35, 34, 33, 32, 31, 30, 64, 63, 114, 113, 112, 111, 110, 109, 66, 65, 29, 28, 27, 26, 25, 24, 68, 67, 108, 107, 106, 105, 104, 103, 70, 69, 23, 22, 21, 20, 19, 18, 72, 71, 102, 101, 100, 99, 98, 97, 74, 73, 17, 16, 15, 14, 13, 12, 11, 10, 9, 8, 7, 6, 80, 4, 3, 2, 1, 5, 81, 82, 83, 84, 87, 86, 85, 79, 90, 89, 88, 93, 92, 91, 78, 77, 76, 75, 96, 95, 94, 129, 130, 131, 133, 132, 198, 195, 196, 197, 200, 201, 202, 199, 258, 259, 256, 257, 203, 204, 192, 193, 194, 134, 135, 191, 190, 189, 206, 205, 255, 254, 260, 261, 262, 253, 252, 208, 207, 188, 187, 186, 136, 137, 185, 184, 183, 210, 209, 251, 250, 249, 248, 212, 211, 182, 181, 180, 138, 139, 179, 178, 177, 214, 213, 247, 246, 245, 244, 216, 215, 176, 175, 174, 140, 141, 171, 172, 173, 217, 218, 242, 243, 240, 241, 219, 220, 168, 169, 170, 142, 143, 165, 166, 167, 221, 222, 238, 239, 263, 236, 237, 223, 224, 162, 163, 164, 144, 145, 146, 147, 161, 160, 225, 159, 158, 157, 148, 154, 155, 156, 226, 227, 234, 235, 232, 231, 233, 228, 229, 230, 150, 151, 152, 153, 149, 127, 124, 125, 126, 54, 53, 52, 55, 49, 50, 51, 46, 47, 48, 56, 57, 121, 122, 123, 45, 44, 43, 58, 42, 41, 40, 39, 0]\n",
      "49649.79619740871\n"
     ]
    }
   ],
   "source": [
    "import pandas as pd\n",
    "value = pd.DataFrame(index = index, columns = ['eval = 1000', 'eval = 10000', 'eval = 50000'])\n",
    "eval_set = [5000, 10000, 20000]\n",
    "iter_set = [70, 60, 30]\n",
    "\n",
    "for i in range(3): #dataset \n",
    "    for j in range(3): #evaluation time\n",
    "        result = SA (start[i][0], start[i][1], dataset[i][1], initial=0.001, \n",
    "                     cool_factor=0.95, eval_times=eval_set[j], neighbor = 'two_opt', max_iteration = iter_set[i])\n",
    "        value.iloc[i,j] = result"
   ]
  },
  {
   "cell_type": "code",
   "execution_count": 58,
   "metadata": {},
   "outputs": [
    {
     "name": "stdout",
     "output_type": "stream",
     "text": [
      "                           eval = 1000                 eval = 10000  \\\n",
      "Dataset 1             (7360.0, 70, 29)             (7366.0, 70, 10)   \n",
      "Dataset 2  (78281.91942828834, 60, 47)  (77100.43398597579, 60, 53)   \n",
      "Dataset 3  (53140.31764817589, 30, 30)  (52247.59795011435, 30, 23)   \n",
      "\n",
      "                          eval = 50000  \n",
      "Dataset 1             (7375.0, 70, 15)  \n",
      "Dataset 2  (75281.51612826344, 60, 52)  \n",
      "Dataset 3  (49649.79619740871, 30, 27)  \n"
     ]
    }
   ],
   "source": [
    "value9=value\n",
    "print(value9)"
   ]
  },
  {
   "cell_type": "markdown",
   "metadata": {},
   "source": [
    "#### Comment:\n",
    "The test results show that more evaluation times in each iteration gives better objective value in all dataset."
   ]
  },
  {
   "cell_type": "code",
   "execution_count": null,
   "metadata": {},
   "outputs": [],
   "source": []
  },
  {
   "cell_type": "markdown",
   "metadata": {},
   "source": [
    "### **Comparision between Termination criteria: TimeLimit / Max number of iterations** \n",
    "In general, both TimeLimit (the time duration the function run) and Max number of iterations both restricts the number of times we change (cooling down) the temperature. Therefore, we will test only max number of iterations here.   \n",
    "Run 3 settings of max number of iterations: \\[50, 70, 90\\], \\[30, 60, 90\\] and \\[10, 30, 50\\] with dataset 1, 2, 3 respectively. All parameters are set as in previous tests."
   ]
  },
  {
   "cell_type": "code",
   "execution_count": 61,
   "metadata": {},
   "outputs": [
    {
     "name": "stdout",
     "output_type": "stream",
     "text": [
      "[0, 60, 15, 59, 23, 110, 95, 89, 53, 7, 69, 115, 33, 25, 70, 46, 88, 111, 35, 34, 9, 98, 105, 66, 36, 61, 103, 83, 5, 54, 47, 109, 100, 101, 2, 81, 79, 52, 26, 4, 62, 113, 72, 56, 82, 38, 94, 96, 11, 76, 63, 87, 108, 20, 92, 1, 114, 10, 50, 12, 22, 8, 102, 118, 3, 39, 104, 71, 37, 6, 55, 40, 41, 97, 117, 48, 16, 49, 45, 19, 106, 112, 68, 64, 42, 67, 90, 78, 57, 99, 32, 51, 107, 24, 18, 17, 84, 116, 30, 65, 80, 93, 21, 85, 74, 43, 86, 73, 13, 77, 44, 27, 91, 31, 58, 14, 29, 119, 28, 75, 0]\n",
      "7779.0\n",
      "Reach max number of iteration\n",
      "Terminate\n",
      "[0, 60, 15, 59, 23, 110, 95, 89, 53, 7, 69, 25, 70, 46, 54, 5, 83, 34, 9, 103, 98, 61, 36, 66, 82, 56, 72, 113, 105, 111, 35, 88, 109, 47, 101, 100, 79, 2, 81, 52, 26, 4, 62, 38, 76, 63, 94, 11, 96, 87, 108, 20, 92, 1, 114, 10, 50, 12, 22, 8, 102, 118, 3, 33, 115, 104, 39, 71, 37, 6, 55, 40, 41, 97, 117, 48, 16, 49, 45, 19, 106, 112, 68, 64, 67, 90, 57, 99, 32, 51, 78, 42, 107, 24, 18, 17, 84, 116, 30, 65, 21, 80, 93, 85, 13, 74, 43, 86, 73, 77, 44, 27, 91, 31, 119, 28, 29, 14, 58, 75, 0]\n",
      "7342.0\n",
      "[0, 60, 15, 59, 23, 110, 95, 89, 53, 7, 69, 115, 33, 25, 70, 46, 88, 111, 35, 34, 9, 98, 105, 66, 36, 61, 103, 83, 5, 54, 47, 109, 100, 101, 2, 81, 79, 52, 26, 4, 62, 113, 72, 56, 82, 38, 94, 96, 11, 76, 63, 87, 108, 20, 92, 1, 114, 10, 50, 12, 22, 8, 102, 118, 3, 39, 104, 71, 37, 6, 55, 40, 41, 97, 117, 48, 16, 49, 45, 19, 106, 112, 68, 64, 42, 67, 90, 78, 57, 99, 32, 51, 107, 24, 18, 17, 84, 116, 30, 65, 80, 93, 21, 85, 74, 43, 86, 73, 13, 77, 44, 27, 91, 31, 58, 14, 29, 119, 28, 75, 0]\n",
      "7779.0\n",
      "Reach max number of iteration\n",
      "Terminate\n",
      "[0, 60, 15, 59, 23, 110, 95, 89, 53, 7, 115, 69, 25, 70, 46, 54, 5, 83, 34, 9, 98, 61, 36, 66, 105, 111, 103, 35, 88, 47, 109, 100, 101, 2, 81, 52, 4, 26, 79, 113, 72, 56, 82, 38, 62, 76, 63, 94, 11, 96, 87, 108, 20, 92, 1, 114, 10, 50, 12, 22, 8, 102, 118, 3, 33, 39, 104, 71, 37, 6, 55, 40, 41, 97, 48, 117, 16, 49, 45, 19, 106, 112, 68, 64, 67, 90, 57, 32, 51, 99, 78, 42, 107, 24, 18, 17, 84, 116, 30, 65, 21, 80, 93, 85, 13, 74, 43, 86, 73, 77, 44, 27, 91, 31, 119, 28, 29, 14, 58, 75, 0]\n",
      "7374.0\n",
      "[0, 60, 15, 59, 23, 110, 95, 89, 53, 7, 69, 115, 33, 25, 70, 46, 88, 111, 35, 34, 9, 98, 105, 66, 36, 61, 103, 83, 5, 54, 47, 109, 100, 101, 2, 81, 79, 52, 26, 4, 62, 113, 72, 56, 82, 38, 94, 96, 11, 76, 63, 87, 108, 20, 92, 1, 114, 10, 50, 12, 22, 8, 102, 118, 3, 39, 104, 71, 37, 6, 55, 40, 41, 97, 117, 48, 16, 49, 45, 19, 106, 112, 68, 64, 42, 67, 90, 78, 57, 99, 32, 51, 107, 24, 18, 17, 84, 116, 30, 65, 80, 93, 21, 85, 74, 43, 86, 73, 13, 77, 44, 27, 91, 31, 58, 14, 29, 119, 28, 75, 0]\n",
      "7779.0\n",
      "Reach max number of iteration\n",
      "Terminate\n",
      "[0, 60, 15, 59, 23, 110, 95, 89, 53, 7, 115, 69, 25, 70, 46, 54, 88, 111, 105, 103, 35, 5, 83, 34, 9, 98, 61, 36, 66, 56, 82, 38, 62, 4, 72, 113, 100, 109, 47, 101, 2, 81, 79, 26, 52, 63, 76, 94, 11, 96, 87, 108, 20, 92, 1, 114, 10, 50, 12, 22, 8, 102, 118, 3, 33, 39, 104, 71, 37, 6, 55, 40, 41, 97, 117, 48, 16, 49, 45, 19, 106, 112, 68, 64, 67, 90, 57, 99, 32, 51, 78, 42, 107, 24, 18, 17, 84, 116, 30, 65, 21, 80, 93, 85, 74, 43, 13, 86, 73, 77, 44, 27, 91, 31, 119, 28, 29, 14, 58, 75, 0]\n",
      "7367.0\n",
      "[0, 34, 35, 15, 33, 36, 32, 14, 31, 30, 29, 13, 28, 37, 27, 12, 26, 25, 24, 11, 23, 38, 22, 10, 21, 47, 48, 49, 75, 73, 76, 74, 72, 50, 46, 92, 93, 94, 91, 77, 115, 114, 95, 90, 78, 45, 51, 52, 71, 70, 69, 68, 53, 44, 96, 97, 98, 89, 79, 113, 112, 99, 88, 80, 43, 54, 55, 67, 66, 65, 64, 56, 42, 100, 101, 102, 87, 81, 111, 110, 103, 86, 82, 41, 57, 58, 63, 62, 61, 60, 59, 104, 105, 106, 85, 83, 109, 123, 124, 125, 151, 149, 150, 126, 127, 122, 121, 128, 129, 148, 147, 146, 130, 131, 120, 119, 132, 133, 145, 144, 143, 134, 135, 118, 117, 136, 137, 142, 141, 140, 138, 139, 116, 108, 107, 84, 40, 19, 20, 9, 18, 39, 17, 16, 8, 7, 6, 5, 4, 3, 2, 1, 0]\n",
      "91334.72161657987\n",
      "Reach max number of iteration\n",
      "Terminate\n",
      "[0, 15, 1, 14, 2, 13, 3, 12, 4, 11, 5, 38, 22, 21, 10, 6, 19, 20, 18, 9, 7, 8, 16, 17, 39, 40, 59, 60, 61, 62, 63, 58, 57, 41, 81, 111, 110, 103, 86, 82, 104, 105, 106, 85, 83, 84, 107, 108, 109, 116, 139, 138, 140, 141, 142, 137, 136, 117, 118, 135, 134, 143, 144, 145, 133, 132, 119, 120, 131, 130, 146, 147, 148, 129, 128, 121, 122, 127, 126, 150, 149, 151, 125, 124, 123, 92, 93, 94, 91, 76, 73, 75, 49, 48, 47, 74, 72, 50, 46, 77, 115, 114, 95, 90, 78, 71, 45, 51, 52, 70, 69, 68, 53, 44, 79, 89, 96, 97, 98, 113, 112, 99, 88, 80, 100, 101, 102, 87, 66, 67, 55, 54, 43, 65, 64, 56, 42, 23, 24, 25, 26, 27, 37, 28, 29, 30, 31, 32, 36, 33, 35, 34, 0]\n",
      "76509.78049737819\n",
      "[0, 34, 35, 15, 33, 36, 32, 14, 31, 30, 29, 13, 28, 37, 27, 12, 26, 25, 24, 11, 23, 38, 22, 10, 21, 47, 48, 49, 75, 73, 76, 74, 72, 50, 46, 92, 93, 94, 91, 77, 115, 114, 95, 90, 78, 45, 51, 52, 71, 70, 69, 68, 53, 44, 96, 97, 98, 89, 79, 113, 112, 99, 88, 80, 43, 54, 55, 67, 66, 65, 64, 56, 42, 100, 101, 102, 87, 81, 111, 110, 103, 86, 82, 41, 57, 58, 63, 62, 61, 60, 59, 104, 105, 106, 85, 83, 109, 123, 124, 125, 151, 149, 150, 126, 127, 122, 121, 128, 129, 148, 147, 146, 130, 131, 120, 119, 132, 133, 145, 144, 143, 134, 135, 118, 117, 136, 137, 142, 141, 140, 138, 139, 116, 108, 107, 84, 40, 19, 20, 9, 18, 39, 17, 16, 8, 7, 6, 5, 4, 3, 2, 1, 0]\n",
      "91334.72161657987\n",
      "Reach max number of iteration\n",
      "Terminate\n",
      "[0, 15, 1, 14, 2, 13, 3, 12, 4, 11, 5, 22, 21, 10, 6, 19, 20, 18, 9, 7, 8, 16, 17, 39, 40, 59, 60, 61, 82, 104, 105, 106, 85, 83, 84, 107, 108, 109, 116, 139, 138, 140, 141, 142, 137, 136, 117, 118, 135, 134, 143, 144, 145, 133, 132, 119, 120, 131, 130, 146, 147, 148, 129, 128, 121, 122, 127, 126, 150, 149, 151, 125, 124, 123, 115, 91, 94, 93, 92, 76, 75, 49, 47, 48, 73, 74, 72, 50, 46, 77, 114, 95, 90, 71, 52, 51, 45, 44, 53, 68, 69, 70, 78, 96, 97, 98, 89, 79, 113, 112, 99, 88, 67, 66, 55, 54, 43, 42, 56, 64, 65, 80, 100, 101, 102, 87, 81, 111, 110, 103, 86, 63, 62, 58, 57, 41, 38, 23, 24, 25, 26, 27, 37, 28, 29, 30, 31, 32, 36, 33, 35, 34, 0]\n",
      "77362.42888549241\n",
      "[0, 34, 35, 15, 33, 36, 32, 14, 31, 30, 29, 13, 28, 37, 27, 12, 26, 25, 24, 11, 23, 38, 22, 10, 21, 47, 48, 49, 75, 73, 76, 74, 72, 50, 46, 92, 93, 94, 91, 77, 115, 114, 95, 90, 78, 45, 51, 52, 71, 70, 69, 68, 53, 44, 96, 97, 98, 89, 79, 113, 112, 99, 88, 80, 43, 54, 55, 67, 66, 65, 64, 56, 42, 100, 101, 102, 87, 81, 111, 110, 103, 86, 82, 41, 57, 58, 63, 62, 61, 60, 59, 104, 105, 106, 85, 83, 109, 123, 124, 125, 151, 149, 150, 126, 127, 122, 121, 128, 129, 148, 147, 146, 130, 131, 120, 119, 132, 133, 145, 144, 143, 134, 135, 118, 117, 136, 137, 142, 141, 140, 138, 139, 116, 108, 107, 84, 40, 19, 20, 9, 18, 39, 17, 16, 8, 7, 6, 5, 4, 3, 2, 1, 0]\n",
      "91334.72161657987\n",
      "Reach max number of iteration\n",
      "Terminate\n",
      "[0, 34, 35, 33, 36, 32, 31, 30, 29, 28, 37, 43, 54, 55, 67, 66, 65, 64, 56, 42, 81, 86, 103, 110, 111, 87, 102, 101, 100, 80, 88, 99, 112, 113, 98, 97, 96, 89, 79, 44, 53, 68, 69, 45, 51, 52, 71, 70, 78, 90, 95, 114, 115, 94, 91, 77, 46, 50, 72, 74, 47, 48, 49, 75, 73, 76, 93, 92, 123, 124, 125, 151, 149, 150, 126, 127, 122, 121, 128, 129, 148, 147, 146, 130, 131, 120, 119, 132, 133, 145, 144, 143, 134, 135, 118, 117, 136, 137, 142, 141, 140, 138, 139, 116, 109, 108, 107, 84, 83, 85, 106, 105, 104, 82, 63, 58, 57, 41, 62, 61, 60, 59, 40, 39, 17, 16, 8, 7, 9, 18, 20, 19, 6, 10, 21, 22, 38, 5, 11, 23, 24, 25, 4, 12, 26, 27, 3, 13, 2, 14, 1, 15, 0]\n",
      "74968.184941172\n",
      "[0, 38, 33, 32, 31, 27, 25, 26, 21, 19, 20, 15, 13, 14, 9, 7, 8, 3, 2, 1, 4, 5, 81, 83, 84, 87, 86, 85, 82, 6, 80, 79, 90, 89, 88, 93, 92, 91, 78, 77, 11, 10, 12, 76, 75, 96, 95, 94, 131, 132, 198, 133, 195, 196, 197, 200, 199, 259, 258, 202, 201, 194, 134, 135, 191, 190, 193, 192, 204, 203, 257, 256, 205, 206, 189, 255, 254, 260, 261, 262, 253, 252, 208, 207, 188, 187, 186, 136, 137, 185, 184, 183, 210, 209, 251, 250, 249, 248, 212, 211, 182, 181, 180, 138, 139, 179, 178, 177, 214, 213, 247, 246, 245, 244, 216, 215, 176, 175, 174, 140, 141, 171, 172, 173, 217, 218, 242, 243, 240, 241, 219, 220, 170, 142, 143, 165, 166, 169, 168, 167, 221, 222, 238, 239, 263, 236, 237, 223, 224, 162, 163, 164, 144, 146, 147, 145, 161, 160, 225, 159, 158, 157, 148, 154, 155, 156, 226, 227, 234, 235, 232, 231, 233, 228, 229, 152, 151, 230, 150, 153, 149, 130, 129, 99, 98, 97, 74, 73, 17, 16, 18, 72, 71, 102, 101, 100, 105, 104, 103, 70, 69, 23, 22, 24, 68, 67, 108, 107, 106, 111, 112, 113, 114, 110, 109, 66, 65, 29, 28, 30, 64, 63, 35, 34, 61, 62, 115, 116, 117, 128, 118, 119, 120, 59, 60, 36, 37, 39, 41, 42, 43, 44, 45, 48, 56, 57, 121, 122, 123, 124, 127, 125, 126, 49, 55, 54, 53, 52, 50, 51, 47, 46, 58, 40, 0]\n",
      "57260.05492393449\n"
     ]
    },
    {
     "name": "stdout",
     "output_type": "stream",
     "text": [
      "Reach max number of iteration\n",
      "Terminate\n",
      "[0, 38, 35, 34, 33, 32, 31, 29, 28, 27, 26, 21, 20, 19, 15, 14, 9, 10, 7, 6, 80, 8, 3, 2, 1, 4, 5, 81, 83, 84, 87, 86, 85, 82, 79, 90, 89, 88, 93, 92, 91, 78, 77, 11, 13, 12, 76, 75, 96, 95, 94, 131, 132, 198, 133, 195, 196, 197, 201, 200, 199, 259, 258, 202, 193, 194, 134, 135, 191, 190, 192, 204, 203, 257, 256, 261, 260, 262, 254, 255, 205, 189, 206, 208, 253, 252, 207, 188, 187, 136, 186, 137, 185, 184, 183, 210, 209, 251, 250, 249, 248, 212, 211, 182, 181, 180, 138, 139, 179, 178, 177, 214, 213, 247, 246, 245, 244, 216, 215, 176, 175, 174, 140, 141, 171, 172, 173, 217, 218, 242, 243, 240, 241, 219, 220, 169, 168, 170, 142, 143, 165, 166, 167, 221, 222, 238, 239, 263, 236, 237, 223, 224, 162, 163, 164, 144, 146, 145, 147, 161, 160, 225, 159, 158, 157, 148, 154, 155, 156, 226, 227, 234, 235, 232, 231, 233, 228, 229, 230, 150, 151, 152, 153, 149, 130, 129, 99, 98, 74, 97, 73, 17, 16, 18, 72, 71, 102, 101, 100, 105, 104, 103, 70, 69, 23, 22, 25, 24, 68, 67, 108, 107, 106, 111, 110, 109, 66, 65, 112, 113, 114, 63, 64, 30, 61, 62, 115, 116, 117, 128, 118, 119, 120, 59, 60, 36, 37, 39, 41, 58, 45, 47, 46, 51, 50, 49, 55, 52, 53, 54, 126, 125, 124, 127, 123, 122, 121, 57, 56, 48, 44, 43, 42, 40, 0]\n",
      "56609.429419290915\n",
      "[0, 38, 33, 32, 31, 27, 25, 26, 21, 19, 20, 15, 13, 14, 9, 7, 8, 3, 2, 1, 4, 5, 81, 83, 84, 87, 86, 85, 82, 6, 80, 79, 90, 89, 88, 93, 92, 91, 78, 77, 11, 10, 12, 76, 75, 96, 95, 94, 131, 132, 198, 133, 195, 196, 197, 200, 199, 259, 258, 202, 201, 194, 134, 135, 191, 190, 193, 192, 204, 203, 257, 256, 205, 206, 189, 255, 254, 260, 261, 262, 253, 252, 208, 207, 188, 187, 186, 136, 137, 185, 184, 183, 210, 209, 251, 250, 249, 248, 212, 211, 182, 181, 180, 138, 139, 179, 178, 177, 214, 213, 247, 246, 245, 244, 216, 215, 176, 175, 174, 140, 141, 171, 172, 173, 217, 218, 242, 243, 240, 241, 219, 220, 170, 142, 143, 165, 166, 169, 168, 167, 221, 222, 238, 239, 263, 236, 237, 223, 224, 162, 163, 164, 144, 146, 147, 145, 161, 160, 225, 159, 158, 157, 148, 154, 155, 156, 226, 227, 234, 235, 232, 231, 233, 228, 229, 152, 151, 230, 150, 153, 149, 130, 129, 99, 98, 97, 74, 73, 17, 16, 18, 72, 71, 102, 101, 100, 105, 104, 103, 70, 69, 23, 22, 24, 68, 67, 108, 107, 106, 111, 112, 113, 114, 110, 109, 66, 65, 29, 28, 30, 64, 63, 35, 34, 61, 62, 115, 116, 117, 128, 118, 119, 120, 59, 60, 36, 37, 39, 41, 42, 43, 44, 45, 48, 56, 57, 121, 122, 123, 124, 127, 125, 126, 49, 55, 54, 53, 52, 50, 51, 47, 46, 58, 40, 0]\n",
      "57260.05492393449\n",
      "Reach max number of iteration\n",
      "Terminate\n",
      "[0, 38, 33, 34, 35, 61, 62, 115, 116, 117, 112, 113, 114, 63, 64, 30, 31, 32, 28, 27, 26, 25, 24, 29, 65, 66, 109, 110, 111, 106, 107, 108, 67, 68, 69, 23, 22, 21, 20, 19, 18, 72, 71, 70, 103, 104, 105, 100, 101, 102, 97, 74, 73, 17, 16, 15, 14, 10, 11, 6, 80, 79, 77, 78, 91, 92, 93, 88, 89, 90, 85, 86, 87, 84, 83, 82, 81, 5, 4, 1, 2, 3, 7, 8, 9, 13, 12, 76, 75, 96, 95, 94, 98, 99, 129, 130, 131, 132, 198, 133, 195, 196, 197, 201, 200, 199, 202, 258, 259, 256, 257, 203, 204, 192, 193, 194, 134, 135, 191, 190, 189, 206, 205, 255, 254, 260, 261, 262, 253, 252, 208, 207, 188, 187, 186, 136, 137, 185, 184, 183, 210, 209, 251, 250, 249, 248, 212, 211, 182, 181, 180, 138, 139, 179, 178, 177, 214, 213, 247, 246, 245, 244, 216, 215, 176, 175, 174, 140, 141, 171, 172, 173, 217, 218, 242, 243, 240, 241, 219, 220, 168, 169, 170, 142, 143, 165, 166, 167, 221, 222, 238, 239, 263, 236, 237, 223, 224, 162, 163, 164, 144, 145, 146, 147, 161, 160, 225, 159, 158, 157, 148, 154, 155, 156, 226, 227, 234, 235, 232, 231, 233, 228, 229, 230, 150, 151, 152, 153, 149, 128, 118, 119, 120, 59, 60, 36, 37, 39, 58, 56, 57, 121, 122, 123, 124, 127, 125, 126, 54, 53, 52, 55, 49, 50, 51, 46, 47, 48, 45, 44, 43, 42, 41, 40, 0]\n",
      "51763.29948290596\n",
      "[0, 38, 33, 32, 31, 27, 25, 26, 21, 19, 20, 15, 13, 14, 9, 7, 8, 3, 2, 1, 4, 5, 81, 83, 84, 87, 86, 85, 82, 6, 80, 79, 90, 89, 88, 93, 92, 91, 78, 77, 11, 10, 12, 76, 75, 96, 95, 94, 131, 132, 198, 133, 195, 196, 197, 200, 199, 259, 258, 202, 201, 194, 134, 135, 191, 190, 193, 192, 204, 203, 257, 256, 205, 206, 189, 255, 254, 260, 261, 262, 253, 252, 208, 207, 188, 187, 186, 136, 137, 185, 184, 183, 210, 209, 251, 250, 249, 248, 212, 211, 182, 181, 180, 138, 139, 179, 178, 177, 214, 213, 247, 246, 245, 244, 216, 215, 176, 175, 174, 140, 141, 171, 172, 173, 217, 218, 242, 243, 240, 241, 219, 220, 170, 142, 143, 165, 166, 169, 168, 167, 221, 222, 238, 239, 263, 236, 237, 223, 224, 162, 163, 164, 144, 146, 147, 145, 161, 160, 225, 159, 158, 157, 148, 154, 155, 156, 226, 227, 234, 235, 232, 231, 233, 228, 229, 152, 151, 230, 150, 153, 149, 130, 129, 99, 98, 97, 74, 73, 17, 16, 18, 72, 71, 102, 101, 100, 105, 104, 103, 70, 69, 23, 22, 24, 68, 67, 108, 107, 106, 111, 112, 113, 114, 110, 109, 66, 65, 29, 28, 30, 64, 63, 35, 34, 61, 62, 115, 116, 117, 128, 118, 119, 120, 59, 60, 36, 37, 39, 41, 42, 43, 44, 45, 48, 56, 57, 121, 122, 123, 124, 127, 125, 126, 49, 55, 54, 53, 52, 50, 51, 47, 46, 58, 40, 0]\n",
      "57260.05492393449\n",
      "Reach max number of iteration\n",
      "Terminate\n",
      "[0, 39, 40, 41, 42, 58, 43, 44, 45, 56, 48, 47, 46, 51, 50, 49, 55, 52, 53, 127, 124, 125, 126, 54, 57, 121, 122, 123, 148, 154, 149, 153, 152, 151, 150, 230, 229, 228, 233, 231, 232, 235, 234, 227, 226, 156, 155, 157, 158, 159, 225, 160, 161, 147, 146, 145, 144, 164, 163, 162, 224, 223, 237, 236, 263, 239, 238, 222, 221, 167, 166, 165, 143, 142, 170, 169, 168, 220, 219, 241, 240, 243, 242, 218, 217, 173, 172, 171, 141, 140, 174, 175, 176, 215, 216, 244, 245, 246, 247, 213, 214, 177, 178, 179, 139, 138, 180, 181, 182, 211, 212, 248, 249, 250, 251, 209, 210, 183, 184, 185, 137, 136, 186, 187, 188, 207, 208, 252, 253, 262, 261, 260, 256, 257, 254, 255, 205, 206, 189, 190, 191, 135, 134, 194, 193, 192, 204, 203, 202, 258, 259, 199, 200, 201, 197, 196, 195, 133, 198, 132, 131, 130, 129, 94, 95, 96, 75, 76, 12, 13, 77, 78, 91, 92, 93, 88, 89, 90, 79, 80, 82, 85, 86, 87, 84, 83, 81, 5, 4, 1, 2, 3, 8, 7, 6, 11, 10, 9, 14, 15, 16, 17, 73, 74, 97, 98, 99, 101, 100, 105, 104, 103, 70, 102, 71, 72, 18, 19, 20, 21, 22, 23, 69, 26, 25, 24, 68, 67, 108, 107, 106, 111, 110, 109, 66, 65, 29, 28, 27, 31, 32, 33, 34, 35, 30, 64, 63, 61, 62, 115, 114, 113, 112, 116, 117, 128, 118, 119, 120, 59, 60, 36, 37, 38, 0]\n",
      "50929.062234521196\n"
     ]
    }
   ],
   "source": [
    "import pandas as pd\n",
    "value = pd.DataFrame(index = index, columns = ['max_iteration = 50/30/10', 'max_iteration = 70/60/30', 'max_iteration = 90/90/50'])\n",
    "iter_set = [[50, 70, 90], [30, 60, 90], [10, 30, 50]]\n",
    "\n",
    "for i in range(3): #dataset \n",
    "    for j in range(3): #evaluation time\n",
    "        result = SA (start[i][0], start[i][1], dataset[i][1], initial=0.001, \n",
    "                     cool_factor=0.95, eval_times=10000, neighbor = 'two_opt', max_iteration = iter_set[i][j])\n",
    "        value.iloc[i,j] = result"
   ]
  },
  {
   "cell_type": "code",
   "execution_count": 63,
   "metadata": {},
   "outputs": [
    {
     "name": "stdout",
     "output_type": "stream",
     "text": [
      "              max_iteration = 50/30/10     max_iteration = 70/60/30  \\\n",
      "Dataset 1             (7342.0, 50, 10)             (7374.0, 70, 15)   \n",
      "Dataset 2  (76509.78049737819, 30, 27)  (77362.42888549241, 60, 23)   \n",
      "Dataset 3  (56609.429419290915, 10, 4)  (51763.29948290596, 30, 28)   \n",
      "\n",
      "               max_iteration = 90/90/50  \n",
      "Dataset 1              (7367.0, 90, 10)  \n",
      "Dataset 2     (74968.184941172, 90, 40)  \n",
      "Dataset 3  (50929.062234521196, 50, 40)  \n"
     ]
    }
   ],
   "source": [
    "value10=value\n",
    "print(value10)"
   ]
  },
  {
   "cell_type": "markdown",
   "metadata": {},
   "source": [
    "#### Comment:\n",
    "In general, the more iterations run, the better the objective is, especially for a large size problem with large solution space leading to more space to improve. In the relatively smaller dataset, the improvement when increasing max_iteration is not big and the best solution is found in early iteration."
   ]
  },
  {
   "cell_type": "code",
   "execution_count": null,
   "metadata": {},
   "outputs": [],
   "source": []
  },
  {
   "cell_type": "markdown",
   "metadata": {},
   "source": [
    "### **Comparision between Termination criteria: Max number of iteration without improvement** \n",
    "Run 3 settings of max number of iterations without improvement: non_improvement = 5, 10, 15 with all datasets. All parameters are set as in previous tests."
   ]
  },
  {
   "cell_type": "code",
   "execution_count": 69,
   "metadata": {},
   "outputs": [
    {
     "name": "stdout",
     "output_type": "stream",
     "text": [
      "[0, 60, 15, 59, 23, 110, 95, 89, 53, 7, 69, 115, 33, 25, 70, 46, 88, 111, 35, 34, 9, 98, 105, 66, 36, 61, 103, 83, 5, 54, 47, 109, 100, 101, 2, 81, 79, 52, 26, 4, 62, 113, 72, 56, 82, 38, 94, 96, 11, 76, 63, 87, 108, 20, 92, 1, 114, 10, 50, 12, 22, 8, 102, 118, 3, 39, 104, 71, 37, 6, 55, 40, 41, 97, 117, 48, 16, 49, 45, 19, 106, 112, 68, 64, 42, 67, 90, 78, 57, 99, 32, 51, 107, 24, 18, 17, 84, 116, 30, 65, 80, 93, 21, 85, 74, 43, 86, 73, 13, 77, 44, 27, 91, 31, 58, 14, 29, 119, 28, 75, 0]\n",
      "7779.0\n",
      "Reach max number of iteration without new best solution\n",
      "Terminate\n",
      "[0, 60, 15, 59, 23, 110, 95, 89, 53, 7, 115, 69, 25, 70, 46, 47, 88, 54, 5, 83, 34, 9, 98, 61, 36, 66, 105, 103, 35, 111, 109, 100, 101, 2, 81, 52, 4, 26, 79, 113, 72, 56, 82, 38, 62, 76, 63, 94, 11, 96, 87, 108, 20, 92, 1, 114, 10, 50, 12, 22, 8, 102, 118, 3, 33, 39, 104, 71, 37, 6, 55, 40, 41, 97, 48, 117, 16, 49, 45, 19, 106, 112, 68, 64, 67, 90, 57, 99, 32, 51, 78, 42, 107, 24, 18, 17, 84, 116, 30, 65, 21, 80, 93, 85, 13, 74, 43, 86, 73, 77, 44, 27, 91, 31, 119, 28, 29, 14, 58, 75, 0]\n",
      "7337.0\n",
      "[0, 60, 15, 59, 23, 110, 95, 89, 53, 7, 69, 115, 33, 25, 70, 46, 88, 111, 35, 34, 9, 98, 105, 66, 36, 61, 103, 83, 5, 54, 47, 109, 100, 101, 2, 81, 79, 52, 26, 4, 62, 113, 72, 56, 82, 38, 94, 96, 11, 76, 63, 87, 108, 20, 92, 1, 114, 10, 50, 12, 22, 8, 102, 118, 3, 39, 104, 71, 37, 6, 55, 40, 41, 97, 117, 48, 16, 49, 45, 19, 106, 112, 68, 64, 42, 67, 90, 78, 57, 99, 32, 51, 107, 24, 18, 17, 84, 116, 30, 65, 80, 93, 21, 85, 74, 43, 86, 73, 13, 77, 44, 27, 91, 31, 58, 14, 29, 119, 28, 75, 0]\n",
      "7779.0\n",
      "Reach max number of iteration without new best solution\n",
      "Terminate\n",
      "[0, 75, 58, 14, 29, 28, 119, 31, 91, 27, 44, 77, 73, 86, 13, 43, 74, 85, 93, 80, 21, 65, 30, 116, 84, 17, 18, 24, 107, 42, 78, 51, 32, 99, 57, 90, 67, 64, 68, 112, 106, 19, 45, 49, 117, 48, 16, 97, 41, 40, 55, 6, 37, 71, 104, 39, 33, 3, 118, 102, 8, 22, 12, 50, 10, 114, 1, 92, 20, 108, 87, 96, 11, 94, 76, 63, 52, 26, 4, 62, 38, 82, 56, 72, 113, 79, 81, 2, 101, 100, 47, 109, 111, 35, 103, 105, 66, 36, 61, 98, 9, 34, 83, 5, 88, 54, 46, 70, 25, 69, 115, 7, 53, 89, 95, 110, 23, 59, 15, 60, 0]\n",
      "7351.0\n",
      "[0, 60, 15, 59, 23, 110, 95, 89, 53, 7, 69, 115, 33, 25, 70, 46, 88, 111, 35, 34, 9, 98, 105, 66, 36, 61, 103, 83, 5, 54, 47, 109, 100, 101, 2, 81, 79, 52, 26, 4, 62, 113, 72, 56, 82, 38, 94, 96, 11, 76, 63, 87, 108, 20, 92, 1, 114, 10, 50, 12, 22, 8, 102, 118, 3, 39, 104, 71, 37, 6, 55, 40, 41, 97, 117, 48, 16, 49, 45, 19, 106, 112, 68, 64, 42, 67, 90, 78, 57, 99, 32, 51, 107, 24, 18, 17, 84, 116, 30, 65, 80, 93, 21, 85, 74, 43, 86, 73, 13, 77, 44, 27, 91, 31, 58, 14, 29, 119, 28, 75, 0]\n",
      "7779.0\n",
      "Reach max number of iteration without new best solution\n",
      "Terminate\n",
      "[0, 75, 58, 14, 29, 28, 119, 31, 91, 44, 27, 73, 86, 43, 74, 13, 85, 77, 93, 80, 21, 65, 30, 116, 84, 17, 18, 24, 107, 42, 78, 51, 32, 99, 57, 90, 67, 64, 68, 112, 106, 19, 45, 49, 48, 117, 16, 97, 41, 40, 55, 6, 37, 71, 104, 39, 33, 3, 118, 102, 8, 22, 12, 50, 10, 114, 1, 92, 20, 108, 87, 96, 11, 94, 63, 76, 4, 62, 38, 82, 56, 72, 113, 79, 26, 52, 81, 2, 101, 100, 47, 109, 111, 105, 66, 36, 61, 98, 103, 9, 34, 83, 35, 5, 88, 54, 46, 70, 25, 69, 115, 7, 53, 89, 95, 110, 23, 59, 15, 60, 0]\n",
      "7361.0\n",
      "[0, 34, 35, 15, 33, 36, 32, 14, 31, 30, 29, 13, 28, 37, 27, 12, 26, 25, 24, 11, 23, 38, 22, 10, 21, 47, 48, 49, 75, 73, 76, 74, 72, 50, 46, 92, 93, 94, 91, 77, 115, 114, 95, 90, 78, 45, 51, 52, 71, 70, 69, 68, 53, 44, 96, 97, 98, 89, 79, 113, 112, 99, 88, 80, 43, 54, 55, 67, 66, 65, 64, 56, 42, 100, 101, 102, 87, 81, 111, 110, 103, 86, 82, 41, 57, 58, 63, 62, 61, 60, 59, 104, 105, 106, 85, 83, 109, 123, 124, 125, 151, 149, 150, 126, 127, 122, 121, 128, 129, 148, 147, 146, 130, 131, 120, 119, 132, 133, 145, 144, 143, 134, 135, 118, 117, 136, 137, 142, 141, 140, 138, 139, 116, 108, 107, 84, 40, 19, 20, 9, 18, 39, 17, 16, 8, 7, 6, 5, 4, 3, 2, 1, 0]\n",
      "91334.72161657987\n",
      "Reach max number of iteration without new best solution\n",
      "Terminate\n",
      "[0, 15, 1, 32, 31, 14, 2, 30, 29, 28, 13, 3, 37, 27, 26, 12, 4, 25, 24, 23, 11, 5, 38, 22, 21, 10, 6, 9, 7, 8, 16, 17, 39, 18, 20, 19, 42, 56, 64, 65, 66, 67, 55, 54, 43, 44, 53, 68, 69, 45, 51, 52, 71, 70, 78, 96, 97, 98, 89, 79, 113, 112, 99, 88, 80, 100, 101, 102, 87, 81, 111, 110, 103, 86, 41, 57, 58, 63, 62, 61, 60, 40, 59, 82, 104, 105, 106, 85, 83, 84, 107, 108, 109, 116, 139, 138, 140, 141, 142, 137, 136, 117, 118, 135, 134, 143, 144, 145, 133, 132, 119, 120, 131, 130, 146, 147, 148, 129, 128, 121, 122, 127, 126, 150, 149, 151, 125, 124, 123, 115, 114, 95, 90, 77, 91, 94, 93, 92, 76, 73, 75, 49, 48, 47, 74, 72, 50, 46, 36, 33, 35, 34, 0]\n",
      "74604.39530827226\n",
      "[0, 34, 35, 15, 33, 36, 32, 14, 31, 30, 29, 13, 28, 37, 27, 12, 26, 25, 24, 11, 23, 38, 22, 10, 21, 47, 48, 49, 75, 73, 76, 74, 72, 50, 46, 92, 93, 94, 91, 77, 115, 114, 95, 90, 78, 45, 51, 52, 71, 70, 69, 68, 53, 44, 96, 97, 98, 89, 79, 113, 112, 99, 88, 80, 43, 54, 55, 67, 66, 65, 64, 56, 42, 100, 101, 102, 87, 81, 111, 110, 103, 86, 82, 41, 57, 58, 63, 62, 61, 60, 59, 104, 105, 106, 85, 83, 109, 123, 124, 125, 151, 149, 150, 126, 127, 122, 121, 128, 129, 148, 147, 146, 130, 131, 120, 119, 132, 133, 145, 144, 143, 134, 135, 118, 117, 136, 137, 142, 141, 140, 138, 139, 116, 108, 107, 84, 40, 19, 20, 9, 18, 39, 17, 16, 8, 7, 6, 5, 4, 3, 2, 1, 0]\n",
      "91334.72161657987\n",
      "Reach max number of iteration without new best solution\n",
      "Terminate\n",
      "[0, 34, 35, 33, 36, 32, 31, 30, 29, 28, 37, 27, 42, 56, 64, 65, 43, 54, 55, 67, 66, 80, 88, 99, 112, 113, 79, 89, 98, 97, 96, 78, 69, 68, 53, 44, 45, 51, 52, 70, 71, 90, 95, 114, 115, 77, 46, 50, 72, 74, 47, 48, 49, 75, 73, 76, 91, 94, 93, 92, 123, 124, 125, 151, 149, 150, 126, 127, 122, 121, 128, 129, 148, 147, 146, 130, 131, 120, 119, 132, 133, 145, 144, 143, 134, 135, 118, 117, 136, 137, 142, 141, 140, 138, 139, 116, 109, 108, 107, 84, 83, 85, 106, 105, 104, 82, 86, 103, 110, 111, 102, 101, 100, 87, 81, 41, 57, 58, 63, 62, 61, 60, 59, 40, 39, 17, 16, 8, 7, 9, 18, 20, 19, 6, 10, 21, 22, 38, 5, 11, 23, 24, 25, 4, 12, 26, 3, 13, 2, 14, 1, 15, 0]\n",
      "75712.8895799506\n",
      "[0, 34, 35, 15, 33, 36, 32, 14, 31, 30, 29, 13, 28, 37, 27, 12, 26, 25, 24, 11, 23, 38, 22, 10, 21, 47, 48, 49, 75, 73, 76, 74, 72, 50, 46, 92, 93, 94, 91, 77, 115, 114, 95, 90, 78, 45, 51, 52, 71, 70, 69, 68, 53, 44, 96, 97, 98, 89, 79, 113, 112, 99, 88, 80, 43, 54, 55, 67, 66, 65, 64, 56, 42, 100, 101, 102, 87, 81, 111, 110, 103, 86, 82, 41, 57, 58, 63, 62, 61, 60, 59, 104, 105, 106, 85, 83, 109, 123, 124, 125, 151, 149, 150, 126, 127, 122, 121, 128, 129, 148, 147, 146, 130, 131, 120, 119, 132, 133, 145, 144, 143, 134, 135, 118, 117, 136, 137, 142, 141, 140, 138, 139, 116, 108, 107, 84, 40, 19, 20, 9, 18, 39, 17, 16, 8, 7, 6, 5, 4, 3, 2, 1, 0]\n",
      "91334.72161657987\n",
      "Reach max number of iteration without new best solution\n",
      "Terminate\n",
      "[0, 15, 1, 14, 2, 13, 3, 12, 4, 25, 24, 23, 11, 5, 38, 22, 21, 10, 6, 19, 20, 18, 9, 7, 8, 16, 17, 39, 40, 59, 60, 61, 41, 57, 58, 63, 62, 82, 104, 105, 106, 85, 83, 84, 107, 108, 109, 116, 139, 138, 140, 141, 142, 137, 136, 117, 118, 135, 134, 143, 144, 145, 133, 132, 119, 120, 131, 130, 146, 147, 148, 129, 128, 121, 122, 127, 126, 150, 149, 151, 125, 124, 123, 92, 93, 94, 91, 76, 75, 49, 48, 47, 73, 74, 72, 50, 46, 77, 115, 114, 95, 90, 78, 70, 71, 52, 51, 45, 69, 68, 53, 44, 79, 89, 96, 97, 98, 113, 112, 99, 88, 100, 101, 102, 111, 110, 103, 86, 81, 87, 80, 67, 55, 54, 43, 66, 65, 64, 56, 42, 26, 27, 37, 28, 29, 30, 31, 32, 36, 33, 35, 34, 0]\n",
      "75027.55289218997\n",
      "[0, 38, 33, 32, 31, 27, 25, 26, 21, 19, 20, 15, 13, 14, 9, 7, 8, 3, 2, 1, 4, 5, 81, 83, 84, 87, 86, 85, 82, 6, 80, 79, 90, 89, 88, 93, 92, 91, 78, 77, 11, 10, 12, 76, 75, 96, 95, 94, 131, 132, 198, 133, 195, 196, 197, 200, 199, 259, 258, 202, 201, 194, 134, 135, 191, 190, 193, 192, 204, 203, 257, 256, 205, 206, 189, 255, 254, 260, 261, 262, 253, 252, 208, 207, 188, 187, 186, 136, 137, 185, 184, 183, 210, 209, 251, 250, 249, 248, 212, 211, 182, 181, 180, 138, 139, 179, 178, 177, 214, 213, 247, 246, 245, 244, 216, 215, 176, 175, 174, 140, 141, 171, 172, 173, 217, 218, 242, 243, 240, 241, 219, 220, 170, 142, 143, 165, 166, 169, 168, 167, 221, 222, 238, 239, 263, 236, 237, 223, 224, 162, 163, 164, 144, 146, 147, 145, 161, 160, 225, 159, 158, 157, 148, 154, 155, 156, 226, 227, 234, 235, 232, 231, 233, 228, 229, 152, 151, 230, 150, 153, 149, 130, 129, 99, 98, 97, 74, 73, 17, 16, 18, 72, 71, 102, 101, 100, 105, 104, 103, 70, 69, 23, 22, 24, 68, 67, 108, 107, 106, 111, 112, 113, 114, 110, 109, 66, 65, 29, 28, 30, 64, 63, 35, 34, 61, 62, 115, 116, 117, 128, 118, 119, 120, 59, 60, 36, 37, 39, 41, 42, 43, 44, 45, 48, 56, 57, 121, 122, 123, 124, 127, 125, 126, 49, 55, 54, 53, 52, 50, 51, 47, 46, 58, 40, 0]\n",
      "57260.05492393449\n"
     ]
    },
    {
     "name": "stdout",
     "output_type": "stream",
     "text": [
      "Reach max number of iteration without new best solution\n",
      "Terminate\n",
      "[0, 38, 33, 32, 31, 27, 25, 26, 21, 19, 20, 15, 13, 14, 9, 7, 8, 3, 2, 1, 4, 5, 81, 83, 84, 87, 86, 85, 82, 6, 80, 79, 90, 89, 88, 93, 92, 91, 78, 77, 11, 10, 12, 76, 75, 96, 95, 94, 131, 132, 198, 133, 195, 196, 197, 200, 199, 259, 258, 202, 201, 194, 134, 135, 191, 190, 193, 192, 204, 203, 257, 256, 205, 206, 189, 255, 254, 260, 261, 262, 253, 252, 208, 207, 188, 187, 186, 136, 137, 185, 184, 183, 210, 209, 251, 250, 249, 248, 212, 211, 182, 181, 180, 138, 139, 179, 178, 177, 214, 213, 247, 246, 245, 244, 216, 215, 176, 175, 174, 140, 141, 171, 172, 173, 217, 218, 242, 243, 240, 241, 219, 220, 170, 142, 143, 165, 166, 169, 168, 167, 221, 222, 238, 239, 263, 236, 237, 223, 224, 162, 163, 164, 144, 146, 147, 145, 161, 160, 225, 159, 158, 157, 148, 154, 155, 156, 226, 227, 234, 235, 232, 231, 233, 228, 229, 152, 151, 230, 150, 153, 149, 130, 129, 99, 98, 97, 74, 73, 17, 16, 18, 72, 71, 102, 101, 100, 105, 104, 103, 70, 69, 23, 22, 24, 68, 67, 108, 107, 106, 111, 112, 113, 114, 110, 109, 66, 65, 29, 28, 30, 64, 63, 35, 34, 61, 62, 115, 116, 117, 128, 118, 119, 120, 59, 60, 36, 37, 39, 41, 42, 43, 44, 45, 48, 56, 57, 121, 122, 123, 124, 127, 125, 126, 49, 55, 54, 53, 52, 50, 51, 47, 46, 58, 40, 0]\n",
      "57260.05492393449\n",
      "[0, 38, 33, 32, 31, 27, 25, 26, 21, 19, 20, 15, 13, 14, 9, 7, 8, 3, 2, 1, 4, 5, 81, 83, 84, 87, 86, 85, 82, 6, 80, 79, 90, 89, 88, 93, 92, 91, 78, 77, 11, 10, 12, 76, 75, 96, 95, 94, 131, 132, 198, 133, 195, 196, 197, 200, 199, 259, 258, 202, 201, 194, 134, 135, 191, 190, 193, 192, 204, 203, 257, 256, 205, 206, 189, 255, 254, 260, 261, 262, 253, 252, 208, 207, 188, 187, 186, 136, 137, 185, 184, 183, 210, 209, 251, 250, 249, 248, 212, 211, 182, 181, 180, 138, 139, 179, 178, 177, 214, 213, 247, 246, 245, 244, 216, 215, 176, 175, 174, 140, 141, 171, 172, 173, 217, 218, 242, 243, 240, 241, 219, 220, 170, 142, 143, 165, 166, 169, 168, 167, 221, 222, 238, 239, 263, 236, 237, 223, 224, 162, 163, 164, 144, 146, 147, 145, 161, 160, 225, 159, 158, 157, 148, 154, 155, 156, 226, 227, 234, 235, 232, 231, 233, 228, 229, 152, 151, 230, 150, 153, 149, 130, 129, 99, 98, 97, 74, 73, 17, 16, 18, 72, 71, 102, 101, 100, 105, 104, 103, 70, 69, 23, 22, 24, 68, 67, 108, 107, 106, 111, 112, 113, 114, 110, 109, 66, 65, 29, 28, 30, 64, 63, 35, 34, 61, 62, 115, 116, 117, 128, 118, 119, 120, 59, 60, 36, 37, 39, 41, 42, 43, 44, 45, 48, 56, 57, 121, 122, 123, 124, 127, 125, 126, 49, 55, 54, 53, 52, 50, 51, 47, 46, 58, 40, 0]\n",
      "57260.05492393449\n",
      "Reach max number of iteration without new best solution\n",
      "Terminate\n",
      "[0, 42, 43, 44, 45, 48, 47, 46, 51, 50, 49, 55, 52, 53, 54, 126, 125, 127, 124, 123, 122, 121, 57, 56, 58, 41, 40, 39, 37, 36, 60, 59, 120, 119, 118, 115, 62, 61, 35, 30, 64, 63, 109, 110, 111, 112, 113, 114, 116, 117, 128, 149, 153, 152, 151, 150, 230, 229, 228, 233, 231, 232, 235, 234, 227, 226, 156, 155, 154, 148, 157, 158, 159, 225, 160, 161, 147, 146, 145, 144, 164, 163, 162, 224, 223, 237, 236, 263, 239, 238, 222, 221, 167, 166, 165, 143, 142, 170, 169, 168, 220, 219, 241, 240, 243, 242, 218, 217, 173, 172, 171, 141, 140, 174, 175, 176, 215, 216, 244, 245, 247, 213, 214, 177, 178, 179, 139, 138, 180, 181, 182, 211, 212, 248, 246, 249, 250, 251, 209, 210, 183, 184, 185, 137, 136, 186, 187, 188, 207, 208, 252, 253, 262, 261, 260, 256, 254, 255, 205, 206, 189, 190, 191, 135, 134, 194, 193, 192, 204, 203, 257, 259, 258, 202, 199, 200, 201, 197, 196, 195, 133, 198, 132, 131, 130, 129, 94, 95, 96, 75, 76, 12, 13, 10, 11, 77, 78, 91, 92, 93, 88, 89, 90, 79, 80, 6, 81, 82, 85, 86, 87, 84, 83, 5, 1, 2, 3, 4, 7, 8, 9, 14, 15, 16, 17, 73, 74, 97, 98, 99, 100, 101, 102, 71, 72, 18, 19, 20, 21, 22, 26, 25, 24, 23, 69, 70, 103, 104, 105, 106, 107, 108, 67, 68, 66, 65, 29, 28, 27, 32, 31, 34, 33, 38, 0]\n",
      "52744.293439486595\n",
      "[0, 38, 33, 32, 31, 27, 25, 26, 21, 19, 20, 15, 13, 14, 9, 7, 8, 3, 2, 1, 4, 5, 81, 83, 84, 87, 86, 85, 82, 6, 80, 79, 90, 89, 88, 93, 92, 91, 78, 77, 11, 10, 12, 76, 75, 96, 95, 94, 131, 132, 198, 133, 195, 196, 197, 200, 199, 259, 258, 202, 201, 194, 134, 135, 191, 190, 193, 192, 204, 203, 257, 256, 205, 206, 189, 255, 254, 260, 261, 262, 253, 252, 208, 207, 188, 187, 186, 136, 137, 185, 184, 183, 210, 209, 251, 250, 249, 248, 212, 211, 182, 181, 180, 138, 139, 179, 178, 177, 214, 213, 247, 246, 245, 244, 216, 215, 176, 175, 174, 140, 141, 171, 172, 173, 217, 218, 242, 243, 240, 241, 219, 220, 170, 142, 143, 165, 166, 169, 168, 167, 221, 222, 238, 239, 263, 236, 237, 223, 224, 162, 163, 164, 144, 146, 147, 145, 161, 160, 225, 159, 158, 157, 148, 154, 155, 156, 226, 227, 234, 235, 232, 231, 233, 228, 229, 152, 151, 230, 150, 153, 149, 130, 129, 99, 98, 97, 74, 73, 17, 16, 18, 72, 71, 102, 101, 100, 105, 104, 103, 70, 69, 23, 22, 24, 68, 67, 108, 107, 106, 111, 112, 113, 114, 110, 109, 66, 65, 29, 28, 30, 64, 63, 35, 34, 61, 62, 115, 116, 117, 128, 118, 119, 120, 59, 60, 36, 37, 39, 41, 42, 43, 44, 45, 48, 56, 57, 121, 122, 123, 124, 127, 125, 126, 49, 55, 54, 53, 52, 50, 51, 47, 46, 58, 40, 0]\n",
      "57260.05492393449\n",
      "Reach max number of iteration without new best solution\n",
      "Terminate\n",
      "[0, 40, 41, 42, 43, 44, 45, 48, 47, 46, 51, 50, 49, 55, 52, 53, 54, 126, 125, 127, 124, 123, 122, 121, 57, 56, 58, 39, 37, 36, 60, 59, 120, 119, 118, 128, 148, 154, 149, 153, 152, 151, 150, 230, 229, 228, 233, 231, 232, 235, 234, 227, 226, 156, 155, 157, 158, 159, 225, 160, 161, 147, 146, 145, 144, 164, 163, 162, 224, 223, 237, 236, 263, 239, 238, 222, 221, 167, 166, 165, 143, 142, 170, 169, 168, 220, 219, 241, 240, 243, 242, 218, 217, 173, 172, 171, 141, 140, 174, 175, 176, 215, 216, 244, 245, 246, 247, 213, 214, 177, 178, 179, 139, 138, 180, 181, 182, 211, 212, 248, 249, 250, 251, 209, 210, 183, 184, 185, 137, 136, 186, 187, 188, 207, 208, 252, 253, 262, 261, 260, 254, 255, 256, 257, 203, 205, 206, 189, 190, 191, 135, 134, 194, 193, 192, 204, 201, 202, 258, 259, 199, 200, 197, 196, 195, 133, 198, 132, 131, 130, 129, 94, 95, 96, 75, 76, 12, 13, 11, 77, 78, 91, 92, 93, 88, 89, 90, 79, 80, 6, 82, 85, 86, 87, 84, 83, 81, 5, 4, 1, 2, 3, 8, 7, 10, 9, 14, 15, 16, 17, 73, 74, 97, 98, 99, 101, 100, 105, 104, 103, 70, 102, 71, 72, 18, 19, 20, 21, 22, 23, 69, 68, 24, 25, 26, 27, 28, 29, 65, 32, 31, 30, 64, 63, 114, 109, 66, 67, 108, 107, 106, 111, 110, 113, 112, 117, 116, 115, 62, 61, 35, 34, 33, 38, 0]\n",
      "52266.30288376697\n"
     ]
    }
   ],
   "source": [
    "import pandas as pd\n",
    "value = pd.DataFrame(index = index, columns = ['non_improvement = 5', 'non_improvement = 10', 'non_improvement = 15'])\n",
    "imp_set = [5, 10, 15]\n",
    "\n",
    "for i in range(3): #dataset \n",
    "    for j in range(3): #non_improvement iteration\n",
    "        result = SA (start[i][0], start[i][1], dataset[i][1], initial=0.001, \n",
    "                     cool_factor=0.95, eval_times=10000, neighbor = 'two_opt', \n",
    "                     non_improvement = imp_set[j])\n",
    "        value.iloc[i,j] = result"
   ]
  },
  {
   "cell_type": "code",
   "execution_count": 70,
   "metadata": {},
   "outputs": [
    {
     "name": "stdout",
     "output_type": "stream",
     "text": [
      "                   non_improvement = 5          non_improvement = 10  \\\n",
      "Dataset 1              (7337.0, 14, 9)               (7351.0, 15, 5)   \n",
      "Dataset 2  (74604.39530827226, 32, 27)    (75712.8895799506, 63, 53)   \n",
      "Dataset 3    (57260.05492393449, 5, 0)  (52744.293439486595, 46, 36)   \n",
      "\n",
      "                  non_improvement = 15  \n",
      "Dataset 1             (7361.0, 25, 10)  \n",
      "Dataset 2  (75027.55289218997, 65, 50)  \n",
      "Dataset 3  (52266.30288376697, 74, 59)  \n"
     ]
    }
   ],
   "source": [
    "value11=value\n",
    "print(value11)"
   ]
  },
  {
   "cell_type": "markdown",
   "metadata": {},
   "source": [
    "#### Comment:\n",
    "Similar to the previous test, the more the allowed number of non-improvement run is, the more iterations run and thus the better the objective is, especially for a large size problem (dataset 3). In large dataset, it takes more iterations to jump out of the local optima, so higher number of non_improvement runs accepted should be used.  \n",
    "Compared with the termination strategy of running time/iteration, this strategy (using max number of non-improvement iteration) is harder to use and predicted because it depends more on the random selection of neighborhood."
   ]
  },
  {
   "cell_type": "code",
   "execution_count": null,
   "metadata": {},
   "outputs": [],
   "source": []
  }
 ],
 "metadata": {
  "kernelspec": {
   "display_name": "Python 3",
   "language": "python",
   "name": "python3"
  },
  "language_info": {
   "codemirror_mode": {
    "name": "ipython",
    "version": 3
   },
   "file_extension": ".py",
   "mimetype": "text/x-python",
   "name": "python",
   "nbconvert_exporter": "python",
   "pygments_lexer": "ipython3",
   "version": "3.7.3"
  }
 },
 "nbformat": 4,
 "nbformat_minor": 2
}
