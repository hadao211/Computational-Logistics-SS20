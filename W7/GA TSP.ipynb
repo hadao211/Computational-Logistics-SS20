{
 "cells": [
  {
   "cell_type": "code",
   "execution_count": 1,
   "metadata": {},
   "outputs": [],
   "source": [
    "import numpy as np\n",
    "import pandas as pd\n",
    "import math\n",
    "import copy"
   ]
  },
  {
   "cell_type": "code",
   "execution_count": 2,
   "metadata": {},
   "outputs": [],
   "source": [
    "# define function to download data\n",
    "def load_data(url, filename):\n",
    "    import urllib.request\n",
    "    from zipfile import ZipFile\n",
    "    \n",
    "    response = urllib.request.urlretrieve(\n",
    "        url,filename)\n",
    "    #unzip\n",
    "    with ZipFile(filename, 'r') as zip_ref:\n",
    "        zip_ref.extractall()"
   ]
  },
  {
   "cell_type": "code",
   "execution_count": 3,
   "metadata": {},
   "outputs": [],
   "source": [
    "# define fuction to read data from xml file\n",
    "def import_data(filename):\n",
    "    import xml.etree.ElementTree as et \n",
    "    xtree = et.parse(filename)\n",
    "    xroot = xtree.getroot()\n",
    "    \n",
    "    return xroot;"
   ]
  },
  {
   "cell_type": "code",
   "execution_count": 4,
   "metadata": {},
   "outputs": [],
   "source": [
    "# define function to create distance matrix\n",
    "def dist_matrix(cities, xroot):\n",
    "    #create distance matrix\n",
    "    import numpy as np\n",
    "    distance = np.zeros((cities,cities))\n",
    "    \n",
    "    #import data\n",
    "    import xml.etree.ElementTree as et\n",
    "    from_node = 0\n",
    "    for child in xroot.iter('vertex'):\n",
    "        for child1 in child:\n",
    "            dist = float(child1.attrib.get('cost'))\n",
    "            to_node = int(child1.text)\n",
    "            distance[from_node, to_node] = dist\n",
    "\n",
    "        from_node += 1\n",
    "    \n",
    "    max_distance = np.nanmax(distance)\n",
    "    for i in range(cities):#\n",
    "        distance[i,i] = max_distance*10 #very large number for distance to itself => no revisited \n",
    "\n",
    "    return distance "
   ]
  },
  {
   "cell_type": "code",
   "execution_count": null,
   "metadata": {},
   "outputs": [],
   "source": []
  },
  {
   "cell_type": "code",
   "execution_count": 5,
   "metadata": {},
   "outputs": [],
   "source": [
    "# encoding a tour\n",
    "def encode(detour):\n",
    "    cities = len(detour)\n",
    "    master = [x for x in range(cities)]\n",
    "    entour = []\n",
    "    \n",
    "    for i in range(cities):\n",
    "        entour.append(master.index(detour[i]))\n",
    "        master.remove(detour[i])\n",
    "    \n",
    "    return entour"
   ]
  },
  {
   "cell_type": "code",
   "execution_count": 6,
   "metadata": {},
   "outputs": [],
   "source": [
    "#decoding an individual\n",
    "def decode(entour):\n",
    "    cities = len(entour)    \n",
    "    master = [x for x in range(cities)]\n",
    "    detour = []\n",
    "    \n",
    "    for i in range(cities):\n",
    "        detour.append(master[entour[i]])\n",
    "        master.remove(master[entour[i]])\n",
    "    \n",
    "    return detour"
   ]
  },
  {
   "cell_type": "code",
   "execution_count": null,
   "metadata": {},
   "outputs": [],
   "source": []
  },
  {
   "cell_type": "code",
   "execution_count": 7,
   "metadata": {},
   "outputs": [],
   "source": [
    "# define function to swap 2 edges of nodes with index m and n (starting index 0)  \n",
    "def tour_swap (tour, m, n):\n",
    "    new_tour = copy.deepcopy(tour)\n",
    "    new_tour[m:n+1] = reversed(new_tour[m:n+1])\n",
    "    return new_tour"
   ]
  },
  {
   "cell_type": "code",
   "execution_count": 8,
   "metadata": {},
   "outputs": [],
   "source": [
    "# define function to calculate the length of the tour \n",
    "def totalcost(distance, tour):\n",
    "    length = 0\n",
    "    for i in range(len(tour)-1):\n",
    "        length += distance[tour[i]][tour[i+1]]\n",
    "    return length"
   ]
  },
  {
   "cell_type": "code",
   "execution_count": 9,
   "metadata": {},
   "outputs": [],
   "source": [
    "def two_opt (distance, tour):\n",
    "    import copy\n",
    "    \n",
    "    best_tour = tour\n",
    "    best_delta = 0\n",
    "    improvement = True\n",
    "    \n",
    "    while improvement: \n",
    "        improvement = False\n",
    "        for i in range(1,len(tour)-2):\n",
    "            for j in range(i+1, len(tour)-1):\n",
    "                temp_tour = tour_swap(tour, i, j)\n",
    "                delta = totalcost(distance, tour[(i-1):(j+2)]) - totalcost(distance, temp_tour[(i-1):(j+2)]) #improvement = positive delta\n",
    "                \n",
    "                if delta > best_delta:\n",
    "                    best_tour = copy.deepcopy(temp_tour)\n",
    "                    best_delta = delta\n",
    "                    improvement = True\n",
    "    \n",
    "    return (best_tour, totalcost(distance, best_tour))"
   ]
  },
  {
   "cell_type": "code",
   "execution_count": null,
   "metadata": {},
   "outputs": [],
   "source": []
  },
  {
   "cell_type": "code",
   "execution_count": 10,
   "metadata": {},
   "outputs": [],
   "source": [
    "#evaluate a tour\n",
    "def evaluate(distance, tour, return_codetype, eval_two_opt = False):\n",
    "    best_tour = tour\n",
    "    if eval_two_opt:\n",
    "        (best_tour, best_cost) = two_opt(distance, tour)\n",
    "    else: #default\n",
    "        best_cost = 0\n",
    "        for i in range(len(tour)-1):\n",
    "            best_cost += distance[tour[i]][tour[i+1]]\n",
    "    \n",
    "    best_cost +=  distance[tour[-1]][tour[0]] #return to starting point\n",
    "    if return_codetype == 'encode':\n",
    "        best_tour = encode(best_tour)\n",
    "    \n",
    "    return (best_tour, best_cost)"
   ]
  },
  {
   "cell_type": "code",
   "execution_count": 11,
   "metadata": {},
   "outputs": [],
   "source": [
    "#format of a solution\n",
    "def create_solution(distance, entour, codetype = 'permutation', create_two_opt = False):\n",
    "    \n",
    "    if codetype == 'encode':\n",
    "        tour = decode(entour)\n",
    "    elif codetype == 'permutation':\n",
    "        tour = entour\n",
    "    else:\n",
    "        raise ValueError(\"Wrong codetype\")\n",
    "            \n",
    "    \n",
    "    (tour, best_cost) = evaluate(distance, tour, return_codetype = codetype, eval_two_opt = create_two_opt)\n",
    "    # => return two_opt optimized tour & length if selecting two_opt option, else return original tour and its length\n",
    "    # => return encode/permutation solution based on codetype\n",
    "    \n",
    "    solution = [best_cost, tour]\n",
    "    \n",
    "    return solution\n",
    "    "
   ]
  },
  {
   "cell_type": "code",
   "execution_count": null,
   "metadata": {},
   "outputs": [],
   "source": []
  },
  {
   "cell_type": "code",
   "execution_count": 12,
   "metadata": {},
   "outputs": [],
   "source": [
    "# random initialize\n",
    "def initialize(cities, distance, pop_size, codetype = 'permutation', init_two_opt = False):\n",
    "    solution_pop = []\n",
    "    entour_pop = [] #population of decision, \n",
    "                #in case of 2-opt include all original decisions, of which 2-opt optimized tour already included in solution population\n",
    "    \n",
    "    while len(entour_pop) < pop_size: #iterate to get pop_size candidates \n",
    "        entour = []\n",
    "        \n",
    "        if codetype == 'encode':    \n",
    "            for i in range(cities):\n",
    "                entour.append(np.random.randint(0,cities-i))  #position <= # of remaning cities\n",
    "        elif codetype == 'permutation':\n",
    "            entour = np.arange(cities)\n",
    "            np.random.shuffle(entour)\n",
    "            entour = list(entour)\n",
    "        else:\n",
    "            raise ValueError(\"Wrong codetype\")            \n",
    "        \n",
    "        if entour not in entour_pop:\n",
    "            entour_pop.append(entour)\n",
    "            solution = create_solution(distance, entour, codetype, init_two_opt)\n",
    "            if solution not in solution_pop: \n",
    "                solution_pop.append(solution)\n",
    "    \n",
    "    return solution_pop #return a population of solution candidates"
   ]
  },
  {
   "cell_type": "code",
   "execution_count": null,
   "metadata": {},
   "outputs": [],
   "source": []
  },
  {
   "cell_type": "code",
   "execution_count": 13,
   "metadata": {},
   "outputs": [],
   "source": [
    "# selection\n",
    "def select(solution_pop, offspring_size, selecttype = 'fitness', tournament_size = None):\n",
    "    offspring = []\n",
    "    expected = np.mean([ sol[0] for sol in solution_pop])\n",
    "    pop_size = len(solution_pop)\n",
    "    f = [ (2*expected - solution_pop[i][0]) for i in range(pop_size)] #calculate f of each candidate\n",
    "    sum_f = sum(f)\n",
    "\n",
    "    if selecttype == 'tournament':\n",
    "        #tournament size = # of solutions selected for each tournament\n",
    "        if tournament_size is None: \n",
    "            tournament_size = len(solution_pop)//4\n",
    "        \n",
    "        for i in range(offspring_size):\n",
    "            tournament = np.random.choice(np.arange(pop_size), size = tournament_size, replace = False) #random select k index\n",
    "            tour_f = [f[i] for i in tournament]\n",
    "            winner = tournament[np.argmax(tour_f)] #return index of winner\n",
    "            offspring.append(solution_pop[winner])\n",
    "            \n",
    "        return offspring\n",
    "    \n",
    "    \n",
    "    elif selecttype == 'rank': #rank selection\n",
    "        f_index = [(value, idx) for (idx, value) in enumerate(f)]\n",
    "        f_index = sorted(f_index, reverse = True) #sort based on value\n",
    "        rank_index = [(idx, rank) for (rank, (value,idx)) in enumerate(f_index)] #get rank\n",
    "        rank_index = sorted(rank_index) #sorted base on index\n",
    "        rank = [r[1] for r in rank_index] #get a list of rank sorted on index\n",
    "        \n",
    "        eMax = 1 + np.random.random()\n",
    "        eMin = 2 - eMax\n",
    "        prob = [ (1/pop_size) * (eMax - (eMax - eMin)*(rank[i] - 1)/(pop_size-1)) for i in range(pop_size)] #individual prob\n",
    "        \n",
    "        prob_range = [ sum(prob[0:i+1]) for i in range(pop_size)] #cumulative prob of each candidate\n",
    "        \n",
    "    elif selecttype == 'fitness': #default selection mechanism\n",
    "        prob_range = [ sum(f[0:i+1])/sum_f for i in range(pop_size)] #cumulative prob of each candidate\n",
    "    \n",
    "    else:\n",
    "        raise ValueError(\"Wrong selecttype\")        \n",
    "    \n",
    "    \n",
    "    for i in range(offspring_size):\n",
    "        p = np.random.random()\n",
    "\n",
    "        for j in range(pop_size):\n",
    "            if prob_range[j] >= p:\n",
    "                offspring.append(solution_pop[j])\n",
    "                break\n",
    "        \n",
    "    return offspring"
   ]
  },
  {
   "cell_type": "code",
   "execution_count": null,
   "metadata": {},
   "outputs": [],
   "source": []
  },
  {
   "cell_type": "code",
   "execution_count": 14,
   "metadata": {},
   "outputs": [],
   "source": [
    "#recombination and mutation\n",
    "def recomb(cities, distance, solution_pop, offspring, recprob, muprob, \n",
    "           crossprob = 0.5, mulocprob = 0.5, crosstype = 'uniform', codetype = 'permutation', recomb_two_opt = False):\n",
    "\n",
    "    pop = [s[1] for s in solution_pop] #set of decision\n",
    "\n",
    "    new_solution_pop = []\n",
    "    \n",
    "    for k in range(len(offspring)//2): \n",
    "\n",
    "        #recombination\n",
    "        if np.random.random() < recprob:\n",
    "            child = []\n",
    "            \n",
    "            #crossover\n",
    "            if crosstype == 'uniform': #uniform crossover\n",
    "                for i in range(cities):\n",
    "                    if np.random.random() < crossprob:\n",
    "                        child.append(offspring[2*k][1][i]) #from offspring1\n",
    "                    else: \n",
    "                        child.append(offspring[2*k+1][1][i]) #from offspring2\n",
    "            \n",
    "            elif crosstype == '1point': #1 point crossover\n",
    "                cp=np.random.randint(1,cities-1)\n",
    "                child = offspring[2*k][1][:cp] + offspring[2*k+1][1][cp:]\n",
    "            \n",
    "            elif crosstype == '2point': #2 point crossover\n",
    "                cp1=np.random.randint(1,cities-2)\n",
    "                cp2=np.random.randint(cp1+1,cities)\n",
    "                child = offspring[2*k][1][:cp1] + offspring[2*k+1][1][cp1:cp2] + offspring[2*k][1][cp2:]\n",
    "            else:\n",
    "                raise ValueError(\"Wrong selecttype\")\n",
    "            \n",
    "            \n",
    "            #mutation: 2 different types of mutation for each coding style\n",
    "            if np.random.random() < muprob:\n",
    "                if codetype == 'permutation':\n",
    "                    (loc1, loc2) = np.random.choice(child, size = 2, replace = False)\n",
    "                    temp = child[loc1]\n",
    "                    child[loc1] = child[loc2]\n",
    "                    child[loc2] = temp\n",
    "                    \n",
    "                elif codetype == 'encode':\n",
    "                    for i in range(cities):\n",
    "                        if np.random.random() < mulocprob:\n",
    "                            child[i] = min(cities-1-i,child[i]+1)\n",
    "                        else: child[i] = max(0,child[i]-1)\n",
    "                            \n",
    "                else:\n",
    "                    raise ValueError(\"Wrong codetype\")\n",
    "\n",
    "\n",
    "            #add to population\n",
    "            if child not in pop:\n",
    "                pop.append(child)\n",
    "                new_solution = create_solution(distance, child, codetype, recomb_two_opt)\n",
    "                if new_solution not in solution_pop:\n",
    "                    new_solution_pop.append(new_solution)\n",
    "            \n",
    "    return new_solution_pop"
   ]
  },
  {
   "cell_type": "code",
   "execution_count": 15,
   "metadata": {},
   "outputs": [],
   "source": [
    "# replacement\n",
    "def replace(solution_pop, new_solution_pop, pop_size, reptype = 'best', selecttype = None):\n",
    "    pop = []\n",
    "    \n",
    "    if reptype == 'complete':\n",
    "        return new_solution_pop\n",
    "    \n",
    "    elif reptype == 'best':\n",
    "        total_pop = solution_pop + new_solution_pop\n",
    "        sortedpop = sorted(total_pop) #sorted by cost of a solution\n",
    "        pop = sortedpop[0:pop_size]\n",
    "        \n",
    "    elif reptype == 'select':\n",
    "        total_pop = solution_pop + new_solution_pop\n",
    "        pop = select(total_pop, pop_size, selecttype)\n",
    "    \n",
    "    return pop "
   ]
  },
  {
   "cell_type": "code",
   "execution_count": null,
   "metadata": {},
   "outputs": [],
   "source": []
  },
  {
   "cell_type": "code",
   "execution_count": 16,
   "metadata": {},
   "outputs": [],
   "source": [
    "#main algorithm\n",
    "def GA_TSP (cities, distance, \n",
    "            pop_size, offspring_size, recprob, crossprob, muprob, mulocprob,\n",
    "            codetype, two_opt_select, selecttype, crosstype, reptype, \n",
    "            max_iter = None, TimeLimit = None, obj_length = None):\n",
    "\n",
    "    from time import process_time \n",
    "    start_time = process_time()      #computational time benchmarking\n",
    "           \n",
    "    \n",
    "    solution_pop = initialize(cities, distance, pop_size, codetype = codetype, init_two_opt = two_opt_select)\n",
    "    \n",
    "        \n",
    "    terminated = False\n",
    "    it = 0 #iteration\n",
    "    \n",
    "    while not terminated: #termination condition    \n",
    "        it += 1\n",
    "\n",
    "        offspring = select(solution_pop, offspring_size, selecttype = selecttype)\n",
    "\n",
    "        new_solution_pop = recomb(cities, distance, solution_pop, offspring,\n",
    "                              recprob = recprob, muprob = muprob, crossprob = crossprob, mulocprob = mulocprob, \n",
    "                              crosstype = crosstype, codetype = codetype, recomb_two_opt = two_opt_select)\n",
    "\n",
    "        solution_pop = replace(solution_pop, new_solution_pop, pop_size, reptype = reptype, selecttype = selecttype)\n",
    "\n",
    "\n",
    "        sorted_solution_pop = sorted(solution_pop) #sorted by cost of a solution\n",
    "        #print('Objective values of current population', [s[0] for s in sorted_solution_pop])\n",
    "        \n",
    "        runtime = process_time() - start_time\n",
    "        #check termination condition\n",
    "        if TimeLimit is not None:\n",
    "            if (runtime >= TimeLimit): \n",
    "                print('Reach TimeLimit')\n",
    "                terminated = True\n",
    "                   \n",
    "        elif obj_length is not None:\n",
    "            if (sorted_solution_pop[0][0] <= obj_length):\n",
    "                print('Reach objective length')\n",
    "                terminated = True              \n",
    "                \n",
    "        elif max_iter is not None:\n",
    "            if (it >= max_iter):\n",
    "                print('Reach max number of iterations')\n",
    "                terminated = True\n",
    "                \n",
    "        else:\n",
    "            if (it >= 10): # default max number of iterations\n",
    "                print('Reach default max number of iterations')\n",
    "                terminated = True\n",
    "                           \n",
    "    print('Running time: ', runtime)\n",
    "    best_solution = sorted_solution_pop[0]         #get the best candidate\n",
    "    print('Best objective value', best_solution[0])\n",
    "    #print('Decision', best_solution[1])\n",
    "    \n",
    "    return (best_solution[0], runtime)"
   ]
  },
  {
   "cell_type": "code",
   "execution_count": null,
   "metadata": {},
   "outputs": [],
   "source": []
  },
  {
   "cell_type": "code",
   "execution_count": 17,
   "metadata": {},
   "outputs": [],
   "source": [
    "#prepare dataset"
   ]
  },
  {
   "cell_type": "code",
   "execution_count": 18,
   "metadata": {},
   "outputs": [],
   "source": [
    "# 120 cities\n",
    "cities0 = 120\n",
    "\n",
    "di = pd.read_excel(\"gr120.xlsx\",sheet_name=\"DistanceMatrix\")\n",
    "distance0=di.values\n",
    "\n",
    "for i in range(cities0):\n",
    "    distance0[i,i] = 10000"
   ]
  },
  {
   "cell_type": "code",
   "execution_count": 19,
   "metadata": {},
   "outputs": [],
   "source": [
    "# Medium size data set: # of nodes = 152\n",
    "url1 = 'http://comopt.ifi.uni-heidelberg.de/software/TSPLIB95/XML-TSPLIB/instances/pr152.xml.zip'\n",
    "zip1 = 'pr152.xml.zip'\n",
    "file1 = 'pr152.xml'\n",
    "cities1 = 152\n",
    "\n",
    "load_data(url1, zip1)\n",
    "xroot1 = import_data(file1)\n",
    "distance1 = dist_matrix(cities1, xroot1)"
   ]
  },
  {
   "cell_type": "code",
   "execution_count": 20,
   "metadata": {},
   "outputs": [],
   "source": [
    "# Larger size data set: # of nodes = 264\n",
    "url2 = 'http://comopt.ifi.uni-heidelberg.de/software/TSPLIB95/XML-TSPLIB/instances/pr264.xml.zip'\n",
    "zip2 = 'pr264.xml.zip'\n",
    "file2 = 'pr264.xml'\n",
    "cities2 = 264\n",
    "\n",
    "load_data(url2, zip2)\n",
    "xroot2 = import_data(file2)\n",
    "distance2 = dist_matrix(cities2, xroot2)"
   ]
  },
  {
   "cell_type": "code",
   "execution_count": null,
   "metadata": {},
   "outputs": [],
   "source": []
  },
  {
   "cell_type": "code",
   "execution_count": null,
   "metadata": {},
   "outputs": [],
   "source": []
  },
  {
   "cell_type": "markdown",
   "metadata": {},
   "source": [
    "<a id='set_params'></a>\n",
    "**Setting default params**"
   ]
  },
  {
   "cell_type": "code",
   "execution_count": 21,
   "metadata": {},
   "outputs": [],
   "source": [
    "max_iter_param = 500\n",
    "\n",
    "pop_size_param = 500\n",
    "\n",
    "offspring_size_param = 1000\n",
    "\n",
    "recprob_param = 0.7\n",
    "crossprob_param = 0.5\n",
    "\n",
    "muprob_param = 0.5\n",
    "mulocprob_param = 0.3"
   ]
  },
  {
   "cell_type": "code",
   "execution_count": 22,
   "metadata": {},
   "outputs": [],
   "source": [
    "codetype_param = 'encode' #permutation\n",
    "two_opt_select_param = False #True\n",
    "selecttype_param = 'rank' #fitness, tournament\n",
    "crosstype_param = 'uniform' #1point, 2point\n",
    "reptype_param = 'best' #complete, select"
   ]
  },
  {
   "cell_type": "code",
   "execution_count": 23,
   "metadata": {
    "scrolled": true
   },
   "outputs": [
    {
     "name": "stdout",
     "output_type": "stream",
     "text": [
      "Reach max number of iterations\n",
      "Running time:  40.359375\n",
      "Best objective value 7680\n"
     ]
    }
   ],
   "source": [
    "(result, time) = GA_TSP (cities0, distance0, \n",
    "                         pop_size = pop_size_param, offspring_size = offspring_size_param, recprob = recprob_param, \n",
    "                         crossprob = crossprob_param, muprob = muprob_param, mulocprob = mulocprob_param, \n",
    "                         codetype = codetype_param, two_opt_select = two_opt_select_param, selecttype = selecttype_param, \n",
    "                         crosstype = crosstype_param, reptype = reptype_param, \n",
    "                         max_iter = max_iter_param, TimeLimit = None, obj_length = None)"
   ]
  },
  {
   "cell_type": "code",
   "execution_count": null,
   "metadata": {},
   "outputs": [],
   "source": []
  },
  {
   "cell_type": "code",
   "execution_count": null,
   "metadata": {},
   "outputs": [],
   "source": []
  },
  {
   "cell_type": "markdown",
   "metadata": {},
   "source": [
    "## Comparison"
   ]
  },
  {
   "cell_type": "markdown",
   "metadata": {},
   "source": [
    "**Problem specific parameters**  \n",
    "• Solution representation + mutation mechanism => encode (move to left) vs permutation (swap 2 points)  \n",
    "• Evaluation of solutions => 2-opt vs not 2-opt  \n",
    "• Design of genetic operators recombination and crossover => uniform vs 1-point crossover vs 2-point crossover  \n",
    "\n",
    "**Generic parameters**  \n",
    "• Population size  \n",
    "• Number of newly generated solutions in each iteration  \n",
    "• Selection mechanism => fitness vs rank vs tournament  \n",
    "• Recombination and mutation probabilities  \n",
    "• Replacement strategy => best out of (N+M) vs complete replacement M=N vs selection from (N+M)\n",
    "• Termination criterion => max number of iterations/TimeLimit vs objective length  \n"
   ]
  },
  {
   "cell_type": "code",
   "execution_count": null,
   "metadata": {},
   "outputs": [],
   "source": []
  },
  {
   "cell_type": "code",
   "execution_count": 24,
   "metadata": {},
   "outputs": [],
   "source": [
    "dataset = ((cities0, distance0), (cities1, distance1), (cities2, distance2))\n",
    "index = ['Dataset 1', 'Dataset 2', 'Dataset 3']"
   ]
  },
  {
   "cell_type": "markdown",
   "metadata": {},
   "source": [
    "**Notation**  \n",
    "Dataset 1 = Example with 120 cities (best obj value = 6942)  \n",
    "Dataset 2 = Example with 152 cities (best obj value = 73682)  \n",
    "Dataset 3 = Example with 264 cities (best obj value = 49135)"
   ]
  },
  {
   "cell_type": "code",
   "execution_count": null,
   "metadata": {},
   "outputs": [],
   "source": []
  },
  {
   "cell_type": "markdown",
   "metadata": {},
   "source": [
    "### Problem specific"
   ]
  },
  {
   "cell_type": "markdown",
   "metadata": {},
   "source": [
    "#### Solution representation + mutation mechanism  \n",
    "Run 2 combinations of (representation type with mutation mechanism): 1) encode by sequence position and mutation by moving to left and 2) permutation coding and mutation by swap 2 cities with 3 datasets. The other parameters are declared as above: <a href='#set_params'>*default setting*</a>. The test is run 2 times and the average result is considered for evaluation."
   ]
  },
  {
   "cell_type": "code",
   "execution_count": 25,
   "metadata": {},
   "outputs": [
    {
     "name": "stdout",
     "output_type": "stream",
     "text": [
      "Reach max number of iterations\n",
      "Running time:  41.40625\n",
      "Best objective value 7512\n",
      "Reach max number of iterations\n",
      "Running time:  43.359375\n",
      "Best objective value 9178\n",
      "Reach max number of iterations\n",
      "Running time:  55.390625\n",
      "Best objective value 112519.63003222444\n",
      "Reach max number of iterations\n",
      "Running time:  47.15625\n",
      "Best objective value 92185.30613250693\n",
      "Reach max number of iterations\n",
      "Running time:  72.03125\n",
      "Best objective value 189810.84780037354\n",
      "Reach max number of iterations\n",
      "Running time:  70.734375\n",
      "Best objective value 225305.56395576004\n",
      "Reach max number of iterations\n",
      "Running time:  41.5\n",
      "Best objective value 8119\n",
      "Reach max number of iterations\n",
      "Running time:  40.15625\n",
      "Best objective value 8006\n",
      "Reach max number of iterations\n",
      "Running time:  46.265625\n",
      "Best objective value 104488.8457443189\n",
      "Reach max number of iterations\n",
      "Running time:  53.3125\n",
      "Best objective value 83607.94205650245\n",
      "Reach max number of iterations\n",
      "Running time:  74.453125\n",
      "Best objective value 210711.05060017365\n",
      "Reach max number of iterations\n",
      "Running time:  75.875\n",
      "Best objective value 214320.07592513438\n"
     ]
    }
   ],
   "source": [
    "value = pd.DataFrame(index = index, columns = ['encode', 'permutation'])\n",
    "codetype_set = ['encode', 'permutation']\n",
    "obj_set = np.zeros([2,3,2])\n",
    "time_set = np.zeros([2,3,2])\n",
    "\n",
    "for k in range(2): #run 2 times and take the average\n",
    "    for i in range(3): #dataset \n",
    "        for j in range(2): #codetype\n",
    "            result = GA_TSP (dataset[i][0], dataset[i][1], \n",
    "                             pop_size = pop_size_param, offspring_size = offspring_size_param, recprob = recprob_param, \n",
    "                             crossprob = crossprob_param, muprob = muprob_param, mulocprob = mulocprob_param, \n",
    "                             codetype = codetype_set[j], two_opt_select = two_opt_select_param, selecttype = selecttype_param, \n",
    "                             crosstype = crosstype_param, reptype = reptype_param, \n",
    "                             max_iter = max_iter_param, TimeLimit = None, obj_length = None)\n",
    "            obj_set[k,i,j] = result[0]\n",
    "            time_set[k,i,j] = result[1]\n",
    "\n",
    "for i in range(3): #dataset \n",
    "    for j in range(2): #codetype\n",
    "        obj_mean = np.mean([obj_set[k,i,j] for k in range(2)])\n",
    "        time_mean = np.mean([time_set[k,i,j] for k in range(2)])\n",
    "        value.iloc[i,j] = (obj_mean, time_mean)\n",
    "        "
   ]
  },
  {
   "cell_type": "code",
   "execution_count": 31,
   "metadata": {},
   "outputs": [
    {
     "name": "stdout",
     "output_type": "stream",
     "text": [
      "                                    encode                       permutation\n",
      "Dataset 1              (7815.5, 41.453125)              (8592.0, 41.7578125)\n",
      "Dataset 2  (108504.23788827166, 50.828125)    (87896.62409450469, 50.234375)\n",
      "Dataset 3  (200260.9492002736, 73.2421875)  (219812.81994044723, 73.3046875)\n"
     ]
    }
   ],
   "source": [
    "value1=value\n",
    "print(value)"
   ]
  },
  {
   "cell_type": "markdown",
   "metadata": {},
   "source": [
    "#### Comment:   \n",
    "Overall, with default setting, the performance of encode and permutation is not too much different. While the encode get slightly better results in dataset 1 and 3, the permutation is much better in dataset 2. Thee running time is nearly same between 2 approaches."
   ]
  },
  {
   "cell_type": "code",
   "execution_count": null,
   "metadata": {},
   "outputs": [],
   "source": []
  },
  {
   "cell_type": "markdown",
   "metadata": {},
   "source": [
    "#### Evaluation of solutions   \n",
    "Run 2 evaluation strategy: 1) with 2-opt (i.e. firstly find the best possible tour from original tour and build solution based on this best tour) and 2) without 2-opt (i.e. directly use the length of the tour). The other parameters are declared as above: <a href='#set_params'>*default setting*</a>. The test is run 2 times and the average result is considered for evaluation."
   ]
  },
  {
   "cell_type": "code",
   "execution_count": 32,
   "metadata": {},
   "outputs": [
    {
     "name": "stdout",
     "output_type": "stream",
     "text": [
      "Reach max number of iterations\n",
      "Running time:  40.6875\n",
      "Best objective value 7482\n"
     ]
    },
    {
     "ename": "KeyboardInterrupt",
     "evalue": "",
     "output_type": "error",
     "traceback": [
      "\u001b[1;31m---------------------------------------------------------------------------\u001b[0m",
      "\u001b[1;31mKeyboardInterrupt\u001b[0m                         Traceback (most recent call last)",
      "\u001b[1;32m<ipython-input-32-43b1be476c8a>\u001b[0m in \u001b[0;36m<module>\u001b[1;34m\u001b[0m\n\u001b[0;32m     12\u001b[0m                              \u001b[0mcodetype\u001b[0m \u001b[1;33m=\u001b[0m \u001b[0mcodetype_param\u001b[0m\u001b[1;33m,\u001b[0m \u001b[0mtwo_opt_select\u001b[0m \u001b[1;33m=\u001b[0m \u001b[0mtwo_opt_select_param\u001b[0m\u001b[1;33m,\u001b[0m \u001b[0mselecttype\u001b[0m \u001b[1;33m=\u001b[0m \u001b[0mselecttype_param\u001b[0m\u001b[1;33m,\u001b[0m\u001b[1;33m\u001b[0m\u001b[1;33m\u001b[0m\u001b[0m\n\u001b[0;32m     13\u001b[0m                              \u001b[0mcrosstype\u001b[0m \u001b[1;33m=\u001b[0m \u001b[0mcrosstype_param\u001b[0m\u001b[1;33m,\u001b[0m \u001b[0mreptype\u001b[0m \u001b[1;33m=\u001b[0m \u001b[0mreptype_param\u001b[0m\u001b[1;33m,\u001b[0m\u001b[1;33m\u001b[0m\u001b[1;33m\u001b[0m\u001b[0m\n\u001b[1;32m---> 14\u001b[1;33m                              max_iter = max_iter_param, TimeLimit = None, obj_length = None)\n\u001b[0m\u001b[0;32m     15\u001b[0m             \u001b[0mobj_set\u001b[0m\u001b[1;33m[\u001b[0m\u001b[0mk\u001b[0m\u001b[1;33m,\u001b[0m\u001b[0mi\u001b[0m\u001b[1;33m,\u001b[0m\u001b[0mj\u001b[0m\u001b[1;33m]\u001b[0m \u001b[1;33m=\u001b[0m \u001b[0mresult\u001b[0m\u001b[1;33m[\u001b[0m\u001b[1;36m0\u001b[0m\u001b[1;33m]\u001b[0m\u001b[1;33m\u001b[0m\u001b[1;33m\u001b[0m\u001b[0m\n\u001b[0;32m     16\u001b[0m             \u001b[0mtime_set\u001b[0m\u001b[1;33m[\u001b[0m\u001b[0mk\u001b[0m\u001b[1;33m,\u001b[0m\u001b[0mi\u001b[0m\u001b[1;33m,\u001b[0m\u001b[0mj\u001b[0m\u001b[1;33m]\u001b[0m \u001b[1;33m=\u001b[0m \u001b[0mresult\u001b[0m\u001b[1;33m[\u001b[0m\u001b[1;36m1\u001b[0m\u001b[1;33m]\u001b[0m\u001b[1;33m\u001b[0m\u001b[1;33m\u001b[0m\u001b[0m\n",
      "\u001b[1;32m<ipython-input-16-f39589cefe6d>\u001b[0m in \u001b[0;36mGA_TSP\u001b[1;34m(cities, distance, pop_size, offspring_size, recprob, crossprob, muprob, mulocprob, codetype, two_opt_select, selecttype, crosstype, reptype, max_iter, TimeLimit, obj_length)\u001b[0m\n\u001b[0;32m     22\u001b[0m         new_solution_pop = recomb(cities, distance, solution_pop, offspring,\n\u001b[0;32m     23\u001b[0m                               \u001b[0mrecprob\u001b[0m \u001b[1;33m=\u001b[0m \u001b[0mrecprob\u001b[0m\u001b[1;33m,\u001b[0m \u001b[0mmuprob\u001b[0m \u001b[1;33m=\u001b[0m \u001b[0mmuprob\u001b[0m\u001b[1;33m,\u001b[0m \u001b[0mcrossprob\u001b[0m \u001b[1;33m=\u001b[0m \u001b[0mcrossprob\u001b[0m\u001b[1;33m,\u001b[0m \u001b[0mmulocprob\u001b[0m \u001b[1;33m=\u001b[0m \u001b[0mmulocprob\u001b[0m\u001b[1;33m,\u001b[0m\u001b[1;33m\u001b[0m\u001b[1;33m\u001b[0m\u001b[0m\n\u001b[1;32m---> 24\u001b[1;33m                               crosstype = crosstype, codetype = codetype, recomb_two_opt = two_opt_select)\n\u001b[0m\u001b[0;32m     25\u001b[0m \u001b[1;33m\u001b[0m\u001b[0m\n\u001b[0;32m     26\u001b[0m         \u001b[0msolution_pop\u001b[0m \u001b[1;33m=\u001b[0m \u001b[0mreplace\u001b[0m\u001b[1;33m(\u001b[0m\u001b[0msolution_pop\u001b[0m\u001b[1;33m,\u001b[0m \u001b[0mnew_solution_pop\u001b[0m\u001b[1;33m,\u001b[0m \u001b[0mpop_size\u001b[0m\u001b[1;33m,\u001b[0m \u001b[0mreptype\u001b[0m \u001b[1;33m=\u001b[0m \u001b[0mreptype\u001b[0m\u001b[1;33m,\u001b[0m \u001b[0mselecttype\u001b[0m \u001b[1;33m=\u001b[0m \u001b[0mselecttype\u001b[0m\u001b[1;33m)\u001b[0m\u001b[1;33m\u001b[0m\u001b[1;33m\u001b[0m\u001b[0m\n",
      "\u001b[1;32m<ipython-input-14-0af3618fdc84>\u001b[0m in \u001b[0;36mrecomb\u001b[1;34m(cities, distance, solution_pop, offspring, recprob, muprob, crossprob, mulocprob, crosstype, codetype, recomb_two_opt)\u001b[0m\n\u001b[0;32m     16\u001b[0m             \u001b[1;32mif\u001b[0m \u001b[0mcrosstype\u001b[0m \u001b[1;33m==\u001b[0m \u001b[1;34m'uniform'\u001b[0m\u001b[1;33m:\u001b[0m \u001b[1;31m#uniform crossover\u001b[0m\u001b[1;33m\u001b[0m\u001b[1;33m\u001b[0m\u001b[0m\n\u001b[0;32m     17\u001b[0m                 \u001b[1;32mfor\u001b[0m \u001b[0mi\u001b[0m \u001b[1;32min\u001b[0m \u001b[0mrange\u001b[0m\u001b[1;33m(\u001b[0m\u001b[0mcities\u001b[0m\u001b[1;33m)\u001b[0m\u001b[1;33m:\u001b[0m\u001b[1;33m\u001b[0m\u001b[1;33m\u001b[0m\u001b[0m\n\u001b[1;32m---> 18\u001b[1;33m                     \u001b[1;32mif\u001b[0m \u001b[0mnp\u001b[0m\u001b[1;33m.\u001b[0m\u001b[0mrandom\u001b[0m\u001b[1;33m.\u001b[0m\u001b[0mrandom\u001b[0m\u001b[1;33m(\u001b[0m\u001b[1;33m)\u001b[0m \u001b[1;33m<\u001b[0m \u001b[0mcrossprob\u001b[0m\u001b[1;33m:\u001b[0m\u001b[1;33m\u001b[0m\u001b[1;33m\u001b[0m\u001b[0m\n\u001b[0m\u001b[0;32m     19\u001b[0m                         \u001b[0mchild\u001b[0m\u001b[1;33m.\u001b[0m\u001b[0mappend\u001b[0m\u001b[1;33m(\u001b[0m\u001b[0moffspring\u001b[0m\u001b[1;33m[\u001b[0m\u001b[1;36m2\u001b[0m\u001b[1;33m*\u001b[0m\u001b[0mk\u001b[0m\u001b[1;33m]\u001b[0m\u001b[1;33m[\u001b[0m\u001b[1;36m1\u001b[0m\u001b[1;33m]\u001b[0m\u001b[1;33m[\u001b[0m\u001b[0mi\u001b[0m\u001b[1;33m]\u001b[0m\u001b[1;33m)\u001b[0m \u001b[1;31m#from offspring1\u001b[0m\u001b[1;33m\u001b[0m\u001b[1;33m\u001b[0m\u001b[0m\n\u001b[0;32m     20\u001b[0m                     \u001b[1;32melse\u001b[0m\u001b[1;33m:\u001b[0m\u001b[1;33m\u001b[0m\u001b[1;33m\u001b[0m\u001b[0m\n",
      "\u001b[1;31mKeyboardInterrupt\u001b[0m: "
     ]
    }
   ],
   "source": [
    "value = pd.DataFrame(index = index, columns = ['with 2-opt', 'without 2-opt'])\n",
    "two_opt_select_set = [True, False]\n",
    "obj_set = np.zeros([2,3,2])\n",
    "time_set = np.zeros([2,3,2])\n",
    "\n",
    "for k in range(2): #run 2 times and take the average\n",
    "    for i in range(3): #dataset \n",
    "        for j in range(2): #2-opt option\n",
    "            result = GA_TSP (dataset[i][0], dataset[i][1], \n",
    "                             pop_size = pop_size_param, offspring_size = offspring_size_param, recprob = recprob_param, \n",
    "                             crossprob = crossprob_param, muprob = muprob_param, mulocprob = mulocprob_param, \n",
    "                             codetype = codetype_param, two_opt_select = two_opt_select_set[j], selecttype = selecttype_param, \n",
    "                             crosstype = crosstype_param, reptype = reptype_param, \n",
    "                             max_iter = max_iter_param, TimeLimit = None, obj_length = None)\n",
    "            obj_set[k,i,j] = result[0]\n",
    "            time_set[k,i,j] = result[1]\n",
    "\n",
    "for i in range(3): #dataset \n",
    "    for j in range(2): #codetype\n",
    "        obj_mean = np.mean([obj_set[k,i,j] for k in range(2)])\n",
    "        time_mean = np.mean([time_set[k,i,j] for k in range(2)])\n",
    "        value.iloc[i,j] = (obj_mean, time_mean)"
   ]
  },
  {
   "cell_type": "code",
   "execution_count": null,
   "metadata": {},
   "outputs": [],
   "source": [
    "value2=value\n",
    "print(value)"
   ]
  },
  {
   "cell_type": "markdown",
   "metadata": {},
   "source": [
    "#### Comment:   \n",
    "Overall, with default setting, the performance of encode and permutation is not too much different. While the encode get slightly better results in dataset 1 and 3, the permutation is much better in dataset 2. Thee running time is nearly same between 2 approaches."
   ]
  },
  {
   "cell_type": "code",
   "execution_count": null,
   "metadata": {},
   "outputs": [],
   "source": []
  },
  {
   "cell_type": "markdown",
   "metadata": {},
   "source": [
    "#### Design of genetic operators recombination and crossover    \n",
    "Run 3 crossover strategy: 1) uniform ; 2) 1-point crossover and 3) 2-point crossover. The other parameters are declared as above: <a href='#set_params'>*default setting*</a>. The test is run 2 times and the average result is considered for evaluation."
   ]
  },
  {
   "cell_type": "code",
   "execution_count": null,
   "metadata": {},
   "outputs": [],
   "source": [
    "value = pd.DataFrame(index = index, columns = ['uniform', '1-point crossover', '2-point crossover'])\n",
    "crosstype_set = ['uniform', '1point', '2point']\n",
    "obj_set = np.zeros([2,3,3])\n",
    "time_set = np.zeros([2,3,3])\n",
    "\n",
    "for k in range(2): #run 2 times and take the average\n",
    "    for i in range(3): #dataset \n",
    "        for j in range(3): #crossover options\n",
    "            result = GA_TSP (dataset[i][0], dataset[i][1], \n",
    "                             pop_size = pop_size_param, offspring_size = offspring_size_param, recprob = recprob_param, \n",
    "                             crossprob = crossprob_param, muprob = muprob_param, mulocprob = mulocprob_param, \n",
    "                             codetype = codetype_param, two_opt_select = two_opt_select_param, selecttype = selecttype_param, \n",
    "                             crosstype = crosstype_set[j], reptype = reptype_param, \n",
    "                             max_iter = max_iter_param, TimeLimit = None, obj_length = None)\n",
    "            obj_set[k,i,j] = result[0]\n",
    "            time_set[k,i,j] = result[1]\n",
    "\n",
    "for i in range(3): #dataset \n",
    "    for j in range(3): #codetype\n",
    "        obj_mean = np.mean([obj_set[k,i,j] for k in range(2)])\n",
    "        time_mean = np.mean([time_set[k,i,j] for k in range(2)])\n",
    "        value.iloc[i,j] = (obj_mean, time_mean)"
   ]
  },
  {
   "cell_type": "code",
   "execution_count": null,
   "metadata": {},
   "outputs": [],
   "source": [
    "value3=value\n",
    "print(value)"
   ]
  },
  {
   "cell_type": "markdown",
   "metadata": {},
   "source": [
    "#### Comment:   \n",
    "Overall, with default setting, the performance of encode and permutation is not too much different. While the encode get slightly better results in dataset 1 and 3, the permutation is much better in dataset 2. Thee running time is nearly same between 2 approaches."
   ]
  },
  {
   "cell_type": "code",
   "execution_count": null,
   "metadata": {},
   "outputs": [],
   "source": []
  },
  {
   "cell_type": "code",
   "execution_count": null,
   "metadata": {},
   "outputs": [],
   "source": []
  },
  {
   "cell_type": "code",
   "execution_count": null,
   "metadata": {},
   "outputs": [],
   "source": []
  },
  {
   "cell_type": "code",
   "execution_count": null,
   "metadata": {},
   "outputs": [],
   "source": []
  },
  {
   "cell_type": "code",
   "execution_count": null,
   "metadata": {},
   "outputs": [],
   "source": []
  },
  {
   "cell_type": "code",
   "execution_count": 28,
   "metadata": {},
   "outputs": [],
   "source": []
  },
  {
   "cell_type": "code",
   "execution_count": 29,
   "metadata": {},
   "outputs": [
    {
     "data": {
      "text/html": [
       "<div>\n",
       "<style scoped>\n",
       "    .dataframe tbody tr th:only-of-type {\n",
       "        vertical-align: middle;\n",
       "    }\n",
       "\n",
       "    .dataframe tbody tr th {\n",
       "        vertical-align: top;\n",
       "    }\n",
       "\n",
       "    .dataframe thead th {\n",
       "        text-align: right;\n",
       "    }\n",
       "</style>\n",
       "<table border=\"1\" class=\"dataframe\">\n",
       "  <thead>\n",
       "    <tr style=\"text-align: right;\">\n",
       "      <th></th>\n",
       "      <th>encode</th>\n",
       "      <th>permutation</th>\n",
       "    </tr>\n",
       "  </thead>\n",
       "  <tbody>\n",
       "    <tr>\n",
       "      <th>Dataset 1</th>\n",
       "      <td>(7815.5, 41.453125)</td>\n",
       "      <td>(8592.0, 41.7578125)</td>\n",
       "    </tr>\n",
       "    <tr>\n",
       "      <th>Dataset 2</th>\n",
       "      <td>(108504.23788827166, 50.828125)</td>\n",
       "      <td>(87896.62409450469, 50.234375)</td>\n",
       "    </tr>\n",
       "    <tr>\n",
       "      <th>Dataset 3</th>\n",
       "      <td>(200260.9492002736, 73.2421875)</td>\n",
       "      <td>(219812.81994044723, 73.3046875)</td>\n",
       "    </tr>\n",
       "  </tbody>\n",
       "</table>\n",
       "</div>"
      ],
      "text/plain": [
       "                                    encode                       permutation\n",
       "Dataset 1              (7815.5, 41.453125)              (8592.0, 41.7578125)\n",
       "Dataset 2  (108504.23788827166, 50.828125)    (87896.62409450469, 50.234375)\n",
       "Dataset 3  (200260.9492002736, 73.2421875)  (219812.81994044723, 73.3046875)"
      ]
     },
     "execution_count": 29,
     "metadata": {},
     "output_type": "execute_result"
    }
   ],
   "source": [
    "value"
   ]
  }
 ],
 "metadata": {
  "kernelspec": {
   "display_name": "Python 3",
   "language": "python",
   "name": "python3"
  },
  "language_info": {
   "codemirror_mode": {
    "name": "ipython",
    "version": 3
   },
   "file_extension": ".py",
   "mimetype": "text/x-python",
   "name": "python",
   "nbconvert_exporter": "python",
   "pygments_lexer": "ipython3",
   "version": "3.7.3"
  }
 },
 "nbformat": 4,
 "nbformat_minor": 2
}
