{
 "cells": [
  {
   "cell_type": "code",
   "execution_count": 1,
   "metadata": {},
   "outputs": [],
   "source": [
    "import numpy as np\n",
    "import pandas as pd\n",
    "import math\n",
    "import copy"
   ]
  },
  {
   "cell_type": "code",
   "execution_count": 2,
   "metadata": {},
   "outputs": [],
   "source": [
    "# define function to download data\n",
    "def load_data(url, filename):\n",
    "    import urllib.request\n",
    "    from zipfile import ZipFile\n",
    "    \n",
    "    response = urllib.request.urlretrieve(\n",
    "        url,filename)\n",
    "    #unzip\n",
    "    with ZipFile(filename, 'r') as zip_ref:\n",
    "        zip_ref.extractall()"
   ]
  },
  {
   "cell_type": "code",
   "execution_count": 3,
   "metadata": {},
   "outputs": [],
   "source": [
    "# define fuction to read data from xml file\n",
    "def import_data(filename):\n",
    "    import xml.etree.ElementTree as et \n",
    "    xtree = et.parse(filename)\n",
    "    xroot = xtree.getroot()\n",
    "    \n",
    "    return xroot;"
   ]
  },
  {
   "cell_type": "code",
   "execution_count": 4,
   "metadata": {},
   "outputs": [],
   "source": [
    "# define function to create distance matrix\n",
    "def dist_matrix(cities, xroot):\n",
    "    #create distance matrix\n",
    "    import numpy as np\n",
    "    distance = np.zeros((cities,cities))\n",
    "    \n",
    "    #import data\n",
    "    import xml.etree.ElementTree as et\n",
    "    from_node = 0\n",
    "    for child in xroot.iter('vertex'):\n",
    "        for child1 in child:\n",
    "            dist = float(child1.attrib.get('cost'))\n",
    "            to_node = int(child1.text)\n",
    "            distance[from_node, to_node] = dist\n",
    "\n",
    "        from_node += 1\n",
    "    \n",
    "    max_distance = np.nanmax(distance)\n",
    "    for i in range(cities):#\n",
    "        distance[i,i] = max_distance*10 #very large number for distance to itself => no revisited \n",
    "\n",
    "    return distance "
   ]
  },
  {
   "cell_type": "code",
   "execution_count": null,
   "metadata": {},
   "outputs": [],
   "source": []
  },
  {
   "cell_type": "code",
   "execution_count": 5,
   "metadata": {},
   "outputs": [],
   "source": [
    "# encoding a tour\n",
    "def encode(detour):\n",
    "    cities = len(detour)\n",
    "    master = [x for x in range(cities)]\n",
    "    entour = []\n",
    "    \n",
    "    for i in range(cities):\n",
    "        entour.append(master.index(detour[i]))\n",
    "        master.remove(detour[i])\n",
    "    \n",
    "    return entour"
   ]
  },
  {
   "cell_type": "code",
   "execution_count": 6,
   "metadata": {},
   "outputs": [],
   "source": [
    "#decoding an individual\n",
    "def decode(entour):\n",
    "    cities = len(entour)    \n",
    "    master = [x for x in range(cities)]\n",
    "    detour = []\n",
    "    \n",
    "    for i in range(cities):\n",
    "        detour.append(master[entour[i]])\n",
    "        master.remove(master[entour[i]])\n",
    "    \n",
    "    return detour"
   ]
  },
  {
   "cell_type": "code",
   "execution_count": null,
   "metadata": {},
   "outputs": [],
   "source": []
  },
  {
   "cell_type": "code",
   "execution_count": 7,
   "metadata": {},
   "outputs": [],
   "source": [
    "# define function to swap 2 edges of nodes with index m and n (starting index 0)  \n",
    "def tour_swap (tour, m, n):\n",
    "    new_tour = copy.deepcopy(tour)\n",
    "    new_tour[m:n+1] = reversed(new_tour[m:n+1])\n",
    "    return new_tour"
   ]
  },
  {
   "cell_type": "code",
   "execution_count": 8,
   "metadata": {},
   "outputs": [],
   "source": [
    "# define function to calculate the length of the tour \n",
    "def totalcost(distance, tour):\n",
    "    length = 0\n",
    "    for i in range(len(tour)-1):\n",
    "        length += distance[tour[i]][tour[i+1]]\n",
    "    return length"
   ]
  },
  {
   "cell_type": "code",
   "execution_count": 9,
   "metadata": {},
   "outputs": [],
   "source": [
    "def two_opt (distance, tour):\n",
    "    import copy\n",
    "    \n",
    "    best_tour = tour\n",
    "    best_delta = 0\n",
    "    improvement = True\n",
    "    \n",
    "    while improvement: \n",
    "        improvement = False\n",
    "        for i in range(1,len(tour)-2):\n",
    "            for j in range(i+1, len(tour)-1):\n",
    "                temp_tour = tour_swap(tour, i, j)\n",
    "                delta = totalcost(distance, tour[(i-1):(j+2)]) - totalcost(distance, temp_tour[(i-1):(j+2)]) #improvement = positive delta\n",
    "                \n",
    "                if delta > best_delta:\n",
    "                    best_tour = copy.deepcopy(temp_tour)\n",
    "                    best_delta = delta\n",
    "                    improvement = True\n",
    "    \n",
    "    return (best_tour, totalcost(distance, best_tour))"
   ]
  },
  {
   "cell_type": "code",
   "execution_count": null,
   "metadata": {},
   "outputs": [],
   "source": []
  },
  {
   "cell_type": "code",
   "execution_count": 10,
   "metadata": {},
   "outputs": [],
   "source": [
    "#evaluate a tour\n",
    "def evaluate(distance, tour, return_codetype, eval_two_opt = False):\n",
    "    best_tour = tour\n",
    "    if eval_two_opt:\n",
    "        (best_tour, best_cost) = two_opt(distance, tour)\n",
    "    else: #default\n",
    "        best_cost = 0\n",
    "        for i in range(len(tour)-1):\n",
    "            best_cost += distance[tour[i]][tour[i+1]]\n",
    "    \n",
    "    best_cost +=  distance[tour[-1]][tour[0]] #return to starting point\n",
    "    if return_codetype == 'encode':\n",
    "        best_tour = encode(best_tour)\n",
    "    \n",
    "    return (best_tour, best_cost)"
   ]
  },
  {
   "cell_type": "code",
   "execution_count": 11,
   "metadata": {},
   "outputs": [],
   "source": [
    "#format of a solution\n",
    "def create_solution(distance, entour, codetype = 'permutation', create_two_opt = False):\n",
    "    \n",
    "    if codetype == 'encode':\n",
    "        tour = decode(entour)\n",
    "    elif codetype == 'permutation':\n",
    "        tour = entour\n",
    "    else:\n",
    "        raise ValueError(\"Wrong codetype\")\n",
    "            \n",
    "    \n",
    "    (tour, best_cost) = evaluate(distance, tour, return_codetype = codetype, eval_two_opt = create_two_opt)\n",
    "    # => return two_opt optimized tour & length if selecting two_opt option, else return original tour and its length\n",
    "    # => return encode/permutation solution based on codetype\n",
    "    \n",
    "    solution = [best_cost, tour]\n",
    "    \n",
    "    return solution\n",
    "    "
   ]
  },
  {
   "cell_type": "code",
   "execution_count": null,
   "metadata": {},
   "outputs": [],
   "source": []
  },
  {
   "cell_type": "code",
   "execution_count": 12,
   "metadata": {},
   "outputs": [],
   "source": [
    "# random initialize\n",
    "def initialize(cities, distance, pop_size, codetype = 'permutation', init_two_opt = False):\n",
    "    solution_pop = []\n",
    "    entour_pop = [] #population of decision, \n",
    "                #in case of 2-opt include all original decisions, of which 2-opt optimized tour already included in solution population\n",
    "    \n",
    "    while len(entour_pop) < pop_size: #iterate to get pop_size candidates \n",
    "        entour = []\n",
    "        \n",
    "        if codetype == 'encode':    \n",
    "            for i in range(cities):\n",
    "                entour.append(np.random.randint(0,cities-i))  #position <= # of remaning cities\n",
    "        elif codetype == 'permutation':\n",
    "            entour = np.arange(cities)\n",
    "            np.random.shuffle(entour)\n",
    "            entour = list(entour)\n",
    "        else:\n",
    "            raise ValueError(\"Wrong codetype\")            \n",
    "        \n",
    "        if entour not in entour_pop:\n",
    "            entour_pop.append(entour)\n",
    "            solution = create_solution(distance, entour, codetype, init_two_opt)\n",
    "            if solution not in solution_pop: \n",
    "                solution_pop.append(solution)\n",
    "    \n",
    "    return solution_pop #return a population of solution candidates"
   ]
  },
  {
   "cell_type": "code",
   "execution_count": null,
   "metadata": {},
   "outputs": [],
   "source": []
  },
  {
   "cell_type": "code",
   "execution_count": 13,
   "metadata": {},
   "outputs": [],
   "source": [
    "# selection\n",
    "def select(solution_pop, offspring_size, selecttype = 'fitness', tournament_size = None):\n",
    "    offspring = []\n",
    "    expected = np.mean([ sol[0] for sol in solution_pop])\n",
    "    pop_size = len(solution_pop)\n",
    "    f = [ (2*expected - solution_pop[i][0]) for i in range(pop_size)] #calculate f of each candidate\n",
    "    sum_f = sum(f)\n",
    "\n",
    "    if selecttype == 'tournament':\n",
    "        #tournament size = # of solutions selected for each tournament\n",
    "        if tournament_size is None: \n",
    "            tournament_size = len(solution_pop)//4\n",
    "        \n",
    "        for i in range(offspring_size):\n",
    "            tournament = np.random.choice(np.arange(pop_size), size = tournament_size, replace = False) #random select k index\n",
    "            tour_f = [f[i] for i in tournament]\n",
    "            winner = tournament[np.argmax(tour_f)] #return index of winner\n",
    "            offspring.append(solution_pop[winner])\n",
    "            \n",
    "        return offspring\n",
    "    \n",
    "    \n",
    "    elif selecttype == 'rank': #rank selection\n",
    "        f_index = [(value, idx) for (idx, value) in enumerate(f)]\n",
    "        f_index = sorted(f_index, reverse = True) #sort based on value\n",
    "        rank_index = [(idx, rank) for (rank, (value,idx)) in enumerate(f_index)] #get rank\n",
    "        rank_index = sorted(rank_index) #sorted base on index\n",
    "        rank = [r[1] for r in rank_index] #get a list of rank sorted on index\n",
    "        \n",
    "        eMax = 1 + np.random.random()\n",
    "        eMin = 2 - eMax\n",
    "        prob = [ (1/pop_size) * (eMax - (eMax - eMin)*(rank[i] - 1)/(pop_size-1)) for i in range(pop_size)] #individual prob\n",
    "        \n",
    "        prob_range = [ sum(prob[0:i+1]) for i in range(pop_size)] #cumulative prob of each candidate\n",
    "        \n",
    "    elif selecttype == 'fitness': #default selection mechanism\n",
    "        prob_range = [ sum(f[0:i+1])/sum_f for i in range(pop_size)] #cumulative prob of each candidate\n",
    "    \n",
    "    else:\n",
    "        raise ValueError(\"Wrong selecttype\")        \n",
    "    \n",
    "    \n",
    "    for i in range(offspring_size):\n",
    "        p = np.random.random()\n",
    "\n",
    "        for j in range(pop_size):\n",
    "            if prob_range[j] >= p:\n",
    "                offspring.append(solution_pop[j])\n",
    "                break\n",
    "        \n",
    "    return offspring"
   ]
  },
  {
   "cell_type": "code",
   "execution_count": null,
   "metadata": {},
   "outputs": [],
   "source": []
  },
  {
   "cell_type": "code",
   "execution_count": 14,
   "metadata": {},
   "outputs": [],
   "source": [
    "#recombination and mutation\n",
    "def recomb(cities, distance, solution_pop, offspring, recprob, muprob, \n",
    "           crossprob = 0.5, mulocprob = 0.5, crosstype = 'uniform', codetype = 'permutation', recomb_two_opt = False):\n",
    "\n",
    "    pop = [s[1] for s in solution_pop] #set of decision\n",
    "\n",
    "    new_solution_pop = []\n",
    "    \n",
    "    for k in range(len(offspring)//2): \n",
    "\n",
    "        #recombination\n",
    "        if np.random.random() < recprob:\n",
    "            child = []\n",
    "            \n",
    "            #crossover\n",
    "            if crosstype == 'uniform': #uniform crossover\n",
    "                for i in range(cities):\n",
    "                    if np.random.random() < crossprob:\n",
    "                        child.append(offspring[2*k][1][i]) #from offspring1\n",
    "                    else: \n",
    "                        child.append(offspring[2*k+1][1][i]) #from offspring2\n",
    "            \n",
    "            elif crosstype == '1point': #1 point crossover\n",
    "                cp=np.random.randint(1,cities-1)\n",
    "                child = offspring[2*k][1][:cp] + offspring[2*k+1][1][cp:]\n",
    "            \n",
    "            elif crosstype == '2point': #2 point crossover\n",
    "                cp1=np.random.randint(1,cities-2)\n",
    "                cp2=np.random.randint(cp1+1,cities)\n",
    "                child = offspring[2*k][1][:cp1] + offspring[2*k+1][1][cp1:cp2] + offspring[2*k][1][cp2:]\n",
    "            else:\n",
    "                raise ValueError(\"Wrong selecttype\")\n",
    "            \n",
    "            \n",
    "            #mutation: 2 different types of mutation for each coding style\n",
    "            if np.random.random() < muprob:\n",
    "                if codetype == 'permutation':\n",
    "                    (loc1, loc2) = np.random.choice(child, size = 2, replace = False)\n",
    "                    temp = child[loc1]\n",
    "                    child[loc1] = child[loc2]\n",
    "                    child[loc2] = temp\n",
    "                    \n",
    "                elif codetype == 'encode':\n",
    "                    for i in range(cities):\n",
    "                        if np.random.random() < mulocprob:\n",
    "                            child[i] = min(cities-1-i,child[i]+1)\n",
    "                        else: child[i] = max(0,child[i]-1)\n",
    "                            \n",
    "                else:\n",
    "                    raise ValueError(\"Wrong codetype\")\n",
    "\n",
    "\n",
    "            #add to population\n",
    "            if child not in pop:\n",
    "                pop.append(child)\n",
    "                new_solution = create_solution(distance, child, codetype, recomb_two_opt)\n",
    "                if new_solution not in solution_pop:\n",
    "                    new_solution_pop.append(new_solution)\n",
    "            \n",
    "    return new_solution_pop"
   ]
  },
  {
   "cell_type": "code",
   "execution_count": 15,
   "metadata": {},
   "outputs": [],
   "source": [
    "# replacement\n",
    "def replace(solution_pop, new_solution_pop, pop_size, reptype = 'best', selecttype = None):\n",
    "    pop = []\n",
    "    \n",
    "    if reptype == 'complete':\n",
    "        return new_solution_pop\n",
    "    \n",
    "    elif reptype == 'best':\n",
    "        total_pop = solution_pop + new_solution_pop\n",
    "        sortedpop = sorted(total_pop) #sorted by cost of a solution\n",
    "        pop = sortedpop[0:pop_size]\n",
    "        \n",
    "    elif reptype == 'select':\n",
    "        total_pop = solution_pop + new_solution_pop\n",
    "        pop = select(total_pop, pop_size, selecttype)\n",
    "    \n",
    "    return pop "
   ]
  },
  {
   "cell_type": "code",
   "execution_count": null,
   "metadata": {},
   "outputs": [],
   "source": []
  },
  {
   "cell_type": "code",
   "execution_count": 16,
   "metadata": {},
   "outputs": [],
   "source": [
    "#main algorithm\n",
    "def GA_TSP (cities, distance, \n",
    "            pop_size, offspring_size, recprob, crossprob, muprob, mulocprob,\n",
    "            codetype, two_opt_select, selecttype, crosstype, reptype, \n",
    "            max_iter = None, TimeLimit = None, obj_length = None):\n",
    "\n",
    "    from time import process_time \n",
    "    start_time = process_time()      #computational time benchmarking\n",
    "           \n",
    "    \n",
    "    solution_pop = initialize(cities, distance, pop_size, codetype = codetype, init_two_opt = two_opt_select)\n",
    "    \n",
    "        \n",
    "    terminated = False\n",
    "    it = 0 #iteration\n",
    "    \n",
    "    while not terminated: #termination condition    \n",
    "        it += 1\n",
    "\n",
    "        offspring = select(solution_pop, offspring_size, selecttype = selecttype)\n",
    "\n",
    "        new_solution_pop = recomb(cities, distance, solution_pop, offspring,\n",
    "                              recprob = recprob, muprob = muprob, crossprob = crossprob, mulocprob = mulocprob, \n",
    "                              crosstype = crosstype, codetype = codetype, recomb_two_opt = two_opt_select)\n",
    "\n",
    "        solution_pop = replace(solution_pop, new_solution_pop, pop_size, reptype = reptype, selecttype = selecttype)\n",
    "\n",
    "\n",
    "        sorted_solution_pop = sorted(solution_pop) #sorted by cost of a solution\n",
    "        #print('Objective values of current population', [s[0] for s in sorted_solution_pop])\n",
    "        \n",
    "        runtime = process_time() - start_time\n",
    "        #check termination condition\n",
    "        if TimeLimit is not None:\n",
    "            if (runtime >= TimeLimit): \n",
    "                print('Reach TimeLimit')\n",
    "                terminated = True\n",
    "                   \n",
    "        elif obj_length is not None:\n",
    "            if (sorted_solution_pop[0][0] <= obj_length):\n",
    "                print('Reach objective length')\n",
    "                terminated = True              \n",
    "                \n",
    "        elif max_iter is not None:\n",
    "            if (it >= max_iter):\n",
    "                print('Reach max number of iterations')\n",
    "                terminated = True\n",
    "                \n",
    "        else:\n",
    "            if (it >= 10): # default max number of iterations\n",
    "                print('Reach default max number of iterations')\n",
    "                terminated = True\n",
    "                           \n",
    "    print('Running time: ', runtime)\n",
    "    best_solution = sorted_solution_pop[0]         #get the best candidate\n",
    "    print('Best objective value', best_solution[0])\n",
    "    #print('Decision', best_solution[1])\n",
    "    \n",
    "    return (best_solution[0], runtime)"
   ]
  },
  {
   "cell_type": "code",
   "execution_count": null,
   "metadata": {},
   "outputs": [],
   "source": []
  },
  {
   "cell_type": "code",
   "execution_count": 17,
   "metadata": {},
   "outputs": [],
   "source": [
    "#prepare dataset"
   ]
  },
  {
   "cell_type": "code",
   "execution_count": 18,
   "metadata": {},
   "outputs": [],
   "source": [
    "# 120 cities\n",
    "cities0 = 120\n",
    "\n",
    "di = pd.read_excel(\"gr120.xlsx\",sheet_name=\"DistanceMatrix\")\n",
    "distance0=di.values\n",
    "\n",
    "for i in range(cities0):\n",
    "    distance0[i,i] = 10000"
   ]
  },
  {
   "cell_type": "code",
   "execution_count": 19,
   "metadata": {},
   "outputs": [],
   "source": [
    "# Medium size data set: # of nodes = 152\n",
    "url1 = 'http://comopt.ifi.uni-heidelberg.de/software/TSPLIB95/XML-TSPLIB/instances/pr152.xml.zip'\n",
    "zip1 = 'pr152.xml.zip'\n",
    "file1 = 'pr152.xml'\n",
    "cities1 = 152\n",
    "\n",
    "load_data(url1, zip1)\n",
    "xroot1 = import_data(file1)\n",
    "distance1 = dist_matrix(cities1, xroot1)"
   ]
  },
  {
   "cell_type": "code",
   "execution_count": 20,
   "metadata": {},
   "outputs": [],
   "source": [
    "# Larger size data set: # of nodes = 264\n",
    "url2 = 'http://comopt.ifi.uni-heidelberg.de/software/TSPLIB95/XML-TSPLIB/instances/pr264.xml.zip'\n",
    "zip2 = 'pr264.xml.zip'\n",
    "file2 = 'pr264.xml'\n",
    "cities2 = 264\n",
    "\n",
    "load_data(url2, zip2)\n",
    "xroot2 = import_data(file2)\n",
    "distance2 = dist_matrix(cities2, xroot2)"
   ]
  },
  {
   "cell_type": "code",
   "execution_count": null,
   "metadata": {},
   "outputs": [],
   "source": []
  },
  {
   "cell_type": "code",
   "execution_count": null,
   "metadata": {},
   "outputs": [],
   "source": []
  },
  {
   "cell_type": "markdown",
   "metadata": {},
   "source": [
    "<a id='set_params'></a>\n",
    "**Setting default params**"
   ]
  },
  {
   "cell_type": "code",
   "execution_count": 21,
   "metadata": {},
   "outputs": [],
   "source": [
    "max_iter_param = 500\n",
    "\n",
    "pop_size_param = 500\n",
    "\n",
    "offspring_size_param = 1000\n",
    "\n",
    "recprob_param = 0.7\n",
    "crossprob_param = 0.5\n",
    "\n",
    "muprob_param = 0.5\n",
    "mulocprob_param = 0.3"
   ]
  },
  {
   "cell_type": "code",
   "execution_count": 22,
   "metadata": {},
   "outputs": [],
   "source": [
    "codetype_param = 'permutation' #encode\n",
    "two_opt_select_param = False #True\n",
    "selecttype_param = 'rank' #fitness, tournament\n",
    "crosstype_param = 'uniform' #1point, 2point\n",
    "reptype_param = 'best' #complete, select"
   ]
  },
  {
   "cell_type": "code",
   "execution_count": 23,
   "metadata": {
    "scrolled": true
   },
   "outputs": [
    {
     "name": "stdout",
     "output_type": "stream",
     "text": [
      "Reach max number of iterations\n",
      "Running time:  35.984375\n",
      "Best objective value 7581\n"
     ]
    }
   ],
   "source": [
    "(result, time) = GA_TSP (cities0, distance0, \n",
    "                         pop_size = pop_size_param, offspring_size = offspring_size_param, recprob = recprob_param, \n",
    "                         crossprob = crossprob_param, muprob = muprob_param, mulocprob = mulocprob_param, \n",
    "                         codetype = codetype_param, two_opt_select = two_opt_select_param, selecttype = selecttype_param, \n",
    "                         crosstype = crosstype_param, reptype = reptype_param, \n",
    "                         max_iter = max_iter_param, TimeLimit = None, obj_length = None)"
   ]
  },
  {
   "cell_type": "code",
   "execution_count": null,
   "metadata": {},
   "outputs": [],
   "source": []
  },
  {
   "cell_type": "code",
   "execution_count": null,
   "metadata": {},
   "outputs": [],
   "source": []
  },
  {
   "cell_type": "markdown",
   "metadata": {},
   "source": [
    "## Comparison"
   ]
  },
  {
   "cell_type": "markdown",
   "metadata": {},
   "source": [
    "**Problem specific parameters**  \n",
    "• Solution representation + mutation mechanism => encode (move to left) vs permutation (swap 2 points)  \n",
    "• Evaluation of solutions => 2-opt vs not 2-opt  \n",
    "• Design of genetic operators recombination and crossover => uniform vs 1-point crossover vs 2-point crossover  \n",
    "\n",
    "**Generic parameters**  \n",
    "• Population size  \n",
    "• Number of newly generated solutions in each iteration  \n",
    "• Selection mechanism => fitness vs rank vs tournament  \n",
    "• Recombination and mutation probabilities  \n",
    "• Replacement strategy => best out of (N+M) vs complete replacement M=N vs selection from (N+M)\n",
    "• Termination criterion => max number of iterations/TimeLimit vs objective length  \n"
   ]
  },
  {
   "cell_type": "code",
   "execution_count": null,
   "metadata": {},
   "outputs": [],
   "source": []
  },
  {
   "cell_type": "code",
   "execution_count": 24,
   "metadata": {},
   "outputs": [],
   "source": [
    "dataset = ((cities0, distance0), (cities1, distance1), (cities2, distance2))\n",
    "index = ['Dataset 1', 'Dataset 2', 'Dataset 3']"
   ]
  },
  {
   "cell_type": "markdown",
   "metadata": {},
   "source": [
    "**Notation**  \n",
    "Dataset 1 = Example with 120 cities (best obj value = 6942)  \n",
    "Dataset 2 = Example with 152 cities (best obj value = 73682)  \n",
    "Dataset 3 = Example with 264 cities (best obj value = 49135)"
   ]
  },
  {
   "cell_type": "code",
   "execution_count": null,
   "metadata": {},
   "outputs": [],
   "source": []
  },
  {
   "cell_type": "markdown",
   "metadata": {},
   "source": [
    "### Problem specific"
   ]
  },
  {
   "cell_type": "markdown",
   "metadata": {},
   "source": [
    "#### Solution representation + mutation mechanism  \n",
    "Run 2 combinations of (representation type with mutation mechanism): 1) encode by sequence position and mutation by moving to left and 2) permutation coding and mutation by swap 2 cities with 3 datasets. The other parameters are declared as above: <a href='#set_params'>*default setting*</a>. The test is run 2 times and the average result is considered for evaluation."
   ]
  },
  {
   "cell_type": "code",
   "execution_count": 25,
   "metadata": {},
   "outputs": [
    {
     "name": "stdout",
     "output_type": "stream",
     "text": [
      "Reach max number of iterations\n",
      "Running time:  73.390625\n",
      "Best objective value 41799\n",
      "Reach max number of iterations\n",
      "Running time:  38.4375\n",
      "Best objective value 8508\n",
      "Reach max number of iterations\n",
      "Running time:  80.78125\n",
      "Best objective value 237523.1939640085\n",
      "Reach max number of iterations\n",
      "Running time:  43.234375\n",
      "Best objective value 102643.07945942097\n",
      "Reach max number of iterations\n",
      "Running time:  191.203125\n",
      "Best objective value 252891.15478419527\n",
      "Reach max number of iterations\n",
      "Running time:  66.453125\n",
      "Best objective value 209431.31664427608\n",
      "Reach max number of iterations\n",
      "Running time:  75.140625\n",
      "Best objective value 42417\n",
      "Reach max number of iterations\n",
      "Running time:  42.90625\n",
      "Best objective value 7733\n",
      "Reach max number of iterations\n",
      "Running time:  81.78125\n",
      "Best objective value 251056.27824250056\n",
      "Reach max number of iterations\n",
      "Running time:  44.375\n",
      "Best objective value 108819.53793531988\n",
      "Reach max number of iterations\n",
      "Running time:  184.109375\n",
      "Best objective value 267621.1707386768\n",
      "Reach max number of iterations\n",
      "Running time:  71.8125\n",
      "Best objective value 238914.23369510536\n"
     ]
    }
   ],
   "source": [
    "value = pd.DataFrame(index = index, columns = ['encode', 'permutation'])\n",
    "codetype_set = ['encode', 'permutation']\n",
    "obj_set = np.zeros([2,3,2])\n",
    "time_set = np.zeros([2,3,2])\n",
    "\n",
    "for k in range(2): #run 2 times and take the average\n",
    "    for i in range(3): #dataset \n",
    "        for j in range(2): #codetype\n",
    "            result = GA_TSP (dataset[i][0], dataset[i][1], \n",
    "                             pop_size = pop_size_param, offspring_size = offspring_size_param, recprob = recprob_param, \n",
    "                             crossprob = crossprob_param, muprob = muprob_param, mulocprob = mulocprob_param, \n",
    "                             codetype = codetype_set[j], two_opt_select = two_opt_select_param, selecttype = selecttype_param, \n",
    "                             crosstype = crosstype_param, reptype = reptype_param, \n",
    "                             max_iter = max_iter_param, TimeLimit = None, obj_length = None)\n",
    "            obj_set[k,i,j] = result[0]\n",
    "            time_set[k,i,j] = result[1]\n",
    "\n",
    "for i in range(3): #dataset \n",
    "    for j in range(2): #codetype\n",
    "        obj_mean = np.mean([obj_set[k,i,j] for k in range(2)])\n",
    "        time_mean = np.mean([time_set[k,i,j] for k in range(2)])\n",
    "        value.iloc[i,j] = (obj_mean, time_mean)\n",
    "        "
   ]
  },
  {
   "cell_type": "code",
   "execution_count": 26,
   "metadata": {},
   "outputs": [
    {
     "name": "stdout",
     "output_type": "stream",
     "text": [
      "                                    encode                       permutation\n",
      "Dataset 1             (42108.0, 74.265625)               (8120.5, 40.671875)\n",
      "Dataset 2   (244289.73610325455, 81.28125)  (105731.30869737043, 43.8046875)\n",
      "Dataset 3  (260256.16276143602, 187.65625)  (224172.77516969072, 69.1328125)\n"
     ]
    }
   ],
   "source": [
    "value1=value\n",
    "print(value)"
   ]
  },
  {
   "cell_type": "markdown",
   "metadata": {},
   "source": [
    "#### Comment:   \n",
    "Overall, with default setting, the performance of encode and permutation is not too much different. While the encode get slightly better results in dataset 1 and 3, the permutation is much better in dataset 2. Thee running time is nearly same between 2 approaches."
   ]
  },
  {
   "cell_type": "code",
   "execution_count": null,
   "metadata": {},
   "outputs": [],
   "source": []
  },
  {
   "cell_type": "markdown",
   "metadata": {},
   "source": [
    "#### Evaluation of solutions   \n",
    "Run 2 evaluation strategy: 1) with 2-opt (i.e. firstly find the best possible tour from original tour and build solution based on this best tour) and 2) without 2-opt (i.e. directly use the length of the tour). The other parameters are declared as above: <a href='#set_params'>*default setting*</a>. The test is run 2 times and the average result is considered for evaluation."
   ]
  },
  {
   "cell_type": "code",
   "execution_count": 28,
   "metadata": {},
   "outputs": [
    {
     "ename": "KeyboardInterrupt",
     "evalue": "",
     "output_type": "error",
     "traceback": [
      "\u001b[1;31m---------------------------------------------------------------------------\u001b[0m",
      "\u001b[1;31mKeyboardInterrupt\u001b[0m                         Traceback (most recent call last)",
      "\u001b[1;32m<ipython-input-28-9e325f2da1d8>\u001b[0m in \u001b[0;36m<module>\u001b[1;34m\u001b[0m\n\u001b[0;32m     12\u001b[0m                              \u001b[0mcodetype\u001b[0m \u001b[1;33m=\u001b[0m \u001b[0mcodetype_param\u001b[0m\u001b[1;33m,\u001b[0m \u001b[0mtwo_opt_select\u001b[0m \u001b[1;33m=\u001b[0m \u001b[0mtwo_opt_select_set\u001b[0m\u001b[1;33m[\u001b[0m\u001b[0mj\u001b[0m\u001b[1;33m]\u001b[0m\u001b[1;33m,\u001b[0m \u001b[0mselecttype\u001b[0m \u001b[1;33m=\u001b[0m \u001b[0mselecttype_param\u001b[0m\u001b[1;33m,\u001b[0m\u001b[1;33m\u001b[0m\u001b[1;33m\u001b[0m\u001b[0m\n\u001b[0;32m     13\u001b[0m                              \u001b[0mcrosstype\u001b[0m \u001b[1;33m=\u001b[0m \u001b[0mcrosstype_param\u001b[0m\u001b[1;33m,\u001b[0m \u001b[0mreptype\u001b[0m \u001b[1;33m=\u001b[0m \u001b[0mreptype_param\u001b[0m\u001b[1;33m,\u001b[0m\u001b[1;33m\u001b[0m\u001b[1;33m\u001b[0m\u001b[0m\n\u001b[1;32m---> 14\u001b[1;33m                              max_iter = None, TimeLimit = 100, obj_length = None)\n\u001b[0m\u001b[0;32m     15\u001b[0m             \u001b[0mobj_set\u001b[0m\u001b[1;33m[\u001b[0m\u001b[0mk\u001b[0m\u001b[1;33m,\u001b[0m\u001b[0mi\u001b[0m\u001b[1;33m,\u001b[0m\u001b[0mj\u001b[0m\u001b[1;33m]\u001b[0m \u001b[1;33m=\u001b[0m \u001b[0mresult\u001b[0m\u001b[1;33m[\u001b[0m\u001b[1;36m0\u001b[0m\u001b[1;33m]\u001b[0m\u001b[1;33m\u001b[0m\u001b[1;33m\u001b[0m\u001b[0m\n\u001b[0;32m     16\u001b[0m             \u001b[0mtime_set\u001b[0m\u001b[1;33m[\u001b[0m\u001b[0mk\u001b[0m\u001b[1;33m,\u001b[0m\u001b[0mi\u001b[0m\u001b[1;33m,\u001b[0m\u001b[0mj\u001b[0m\u001b[1;33m]\u001b[0m \u001b[1;33m=\u001b[0m \u001b[0mresult\u001b[0m\u001b[1;33m[\u001b[0m\u001b[1;36m1\u001b[0m\u001b[1;33m]\u001b[0m\u001b[1;33m\u001b[0m\u001b[1;33m\u001b[0m\u001b[0m\n",
      "\u001b[1;32m<ipython-input-16-f39589cefe6d>\u001b[0m in \u001b[0;36mGA_TSP\u001b[1;34m(cities, distance, pop_size, offspring_size, recprob, crossprob, muprob, mulocprob, codetype, two_opt_select, selecttype, crosstype, reptype, max_iter, TimeLimit, obj_length)\u001b[0m\n\u001b[0;32m      9\u001b[0m \u001b[1;33m\u001b[0m\u001b[0m\n\u001b[0;32m     10\u001b[0m \u001b[1;33m\u001b[0m\u001b[0m\n\u001b[1;32m---> 11\u001b[1;33m     \u001b[0msolution_pop\u001b[0m \u001b[1;33m=\u001b[0m \u001b[0minitialize\u001b[0m\u001b[1;33m(\u001b[0m\u001b[0mcities\u001b[0m\u001b[1;33m,\u001b[0m \u001b[0mdistance\u001b[0m\u001b[1;33m,\u001b[0m \u001b[0mpop_size\u001b[0m\u001b[1;33m,\u001b[0m \u001b[0mcodetype\u001b[0m \u001b[1;33m=\u001b[0m \u001b[0mcodetype\u001b[0m\u001b[1;33m,\u001b[0m \u001b[0minit_two_opt\u001b[0m \u001b[1;33m=\u001b[0m \u001b[0mtwo_opt_select\u001b[0m\u001b[1;33m)\u001b[0m\u001b[1;33m\u001b[0m\u001b[1;33m\u001b[0m\u001b[0m\n\u001b[0m\u001b[0;32m     12\u001b[0m \u001b[1;33m\u001b[0m\u001b[0m\n\u001b[0;32m     13\u001b[0m \u001b[1;33m\u001b[0m\u001b[0m\n",
      "\u001b[1;32m<ipython-input-12-b0646ca2bb95>\u001b[0m in \u001b[0;36minitialize\u001b[1;34m(cities, distance, pop_size, codetype, init_two_opt)\u001b[0m\n\u001b[0;32m     20\u001b[0m         \u001b[1;32mif\u001b[0m \u001b[0mentour\u001b[0m \u001b[1;32mnot\u001b[0m \u001b[1;32min\u001b[0m \u001b[0mentour_pop\u001b[0m\u001b[1;33m:\u001b[0m\u001b[1;33m\u001b[0m\u001b[1;33m\u001b[0m\u001b[0m\n\u001b[0;32m     21\u001b[0m             \u001b[0mentour_pop\u001b[0m\u001b[1;33m.\u001b[0m\u001b[0mappend\u001b[0m\u001b[1;33m(\u001b[0m\u001b[0mentour\u001b[0m\u001b[1;33m)\u001b[0m\u001b[1;33m\u001b[0m\u001b[1;33m\u001b[0m\u001b[0m\n\u001b[1;32m---> 22\u001b[1;33m             \u001b[0msolution\u001b[0m \u001b[1;33m=\u001b[0m \u001b[0mcreate_solution\u001b[0m\u001b[1;33m(\u001b[0m\u001b[0mdistance\u001b[0m\u001b[1;33m,\u001b[0m \u001b[0mentour\u001b[0m\u001b[1;33m,\u001b[0m \u001b[0mcodetype\u001b[0m\u001b[1;33m,\u001b[0m \u001b[0minit_two_opt\u001b[0m\u001b[1;33m)\u001b[0m\u001b[1;33m\u001b[0m\u001b[1;33m\u001b[0m\u001b[0m\n\u001b[0m\u001b[0;32m     23\u001b[0m             \u001b[1;32mif\u001b[0m \u001b[0msolution\u001b[0m \u001b[1;32mnot\u001b[0m \u001b[1;32min\u001b[0m \u001b[0msolution_pop\u001b[0m\u001b[1;33m:\u001b[0m\u001b[1;33m\u001b[0m\u001b[1;33m\u001b[0m\u001b[0m\n\u001b[0;32m     24\u001b[0m                 \u001b[0msolution_pop\u001b[0m\u001b[1;33m.\u001b[0m\u001b[0mappend\u001b[0m\u001b[1;33m(\u001b[0m\u001b[0msolution\u001b[0m\u001b[1;33m)\u001b[0m\u001b[1;33m\u001b[0m\u001b[1;33m\u001b[0m\u001b[0m\n",
      "\u001b[1;32m<ipython-input-11-46f6cc7412ce>\u001b[0m in \u001b[0;36mcreate_solution\u001b[1;34m(distance, entour, codetype, create_two_opt)\u001b[0m\n\u001b[0;32m     10\u001b[0m \u001b[1;33m\u001b[0m\u001b[0m\n\u001b[0;32m     11\u001b[0m \u001b[1;33m\u001b[0m\u001b[0m\n\u001b[1;32m---> 12\u001b[1;33m     \u001b[1;33m(\u001b[0m\u001b[0mtour\u001b[0m\u001b[1;33m,\u001b[0m \u001b[0mbest_cost\u001b[0m\u001b[1;33m)\u001b[0m \u001b[1;33m=\u001b[0m \u001b[0mevaluate\u001b[0m\u001b[1;33m(\u001b[0m\u001b[0mdistance\u001b[0m\u001b[1;33m,\u001b[0m \u001b[0mtour\u001b[0m\u001b[1;33m,\u001b[0m \u001b[0mreturn_codetype\u001b[0m \u001b[1;33m=\u001b[0m \u001b[0mcodetype\u001b[0m\u001b[1;33m,\u001b[0m \u001b[0meval_two_opt\u001b[0m \u001b[1;33m=\u001b[0m \u001b[0mcreate_two_opt\u001b[0m\u001b[1;33m)\u001b[0m\u001b[1;33m\u001b[0m\u001b[1;33m\u001b[0m\u001b[0m\n\u001b[0m\u001b[0;32m     13\u001b[0m     \u001b[1;31m# => return two_opt optimized tour & length if selecting two_opt option, else return original tour and its length\u001b[0m\u001b[1;33m\u001b[0m\u001b[1;33m\u001b[0m\u001b[1;33m\u001b[0m\u001b[0m\n\u001b[0;32m     14\u001b[0m     \u001b[1;31m# => return encode/permutation solution based on codetype\u001b[0m\u001b[1;33m\u001b[0m\u001b[1;33m\u001b[0m\u001b[1;33m\u001b[0m\u001b[0m\n",
      "\u001b[1;32m<ipython-input-10-1c641912b5e1>\u001b[0m in \u001b[0;36mevaluate\u001b[1;34m(distance, tour, return_codetype, eval_two_opt)\u001b[0m\n\u001b[0;32m      3\u001b[0m     \u001b[0mbest_tour\u001b[0m \u001b[1;33m=\u001b[0m \u001b[0mtour\u001b[0m\u001b[1;33m\u001b[0m\u001b[1;33m\u001b[0m\u001b[0m\n\u001b[0;32m      4\u001b[0m     \u001b[1;32mif\u001b[0m \u001b[0meval_two_opt\u001b[0m\u001b[1;33m:\u001b[0m\u001b[1;33m\u001b[0m\u001b[1;33m\u001b[0m\u001b[0m\n\u001b[1;32m----> 5\u001b[1;33m         \u001b[1;33m(\u001b[0m\u001b[0mbest_tour\u001b[0m\u001b[1;33m,\u001b[0m \u001b[0mbest_cost\u001b[0m\u001b[1;33m)\u001b[0m \u001b[1;33m=\u001b[0m \u001b[0mtwo_opt\u001b[0m\u001b[1;33m(\u001b[0m\u001b[0mdistance\u001b[0m\u001b[1;33m,\u001b[0m \u001b[0mtour\u001b[0m\u001b[1;33m)\u001b[0m\u001b[1;33m\u001b[0m\u001b[1;33m\u001b[0m\u001b[0m\n\u001b[0m\u001b[0;32m      6\u001b[0m     \u001b[1;32melse\u001b[0m\u001b[1;33m:\u001b[0m \u001b[1;31m#default\u001b[0m\u001b[1;33m\u001b[0m\u001b[1;33m\u001b[0m\u001b[0m\n\u001b[0;32m      7\u001b[0m         \u001b[0mbest_cost\u001b[0m \u001b[1;33m=\u001b[0m \u001b[1;36m0\u001b[0m\u001b[1;33m\u001b[0m\u001b[1;33m\u001b[0m\u001b[0m\n",
      "\u001b[1;32m<ipython-input-9-b4f86662cb1e>\u001b[0m in \u001b[0;36mtwo_opt\u001b[1;34m(distance, tour)\u001b[0m\n\u001b[0;32m     10\u001b[0m         \u001b[1;32mfor\u001b[0m \u001b[0mi\u001b[0m \u001b[1;32min\u001b[0m \u001b[0mrange\u001b[0m\u001b[1;33m(\u001b[0m\u001b[1;36m1\u001b[0m\u001b[1;33m,\u001b[0m\u001b[0mlen\u001b[0m\u001b[1;33m(\u001b[0m\u001b[0mtour\u001b[0m\u001b[1;33m)\u001b[0m\u001b[1;33m-\u001b[0m\u001b[1;36m2\u001b[0m\u001b[1;33m)\u001b[0m\u001b[1;33m:\u001b[0m\u001b[1;33m\u001b[0m\u001b[1;33m\u001b[0m\u001b[0m\n\u001b[0;32m     11\u001b[0m             \u001b[1;32mfor\u001b[0m \u001b[0mj\u001b[0m \u001b[1;32min\u001b[0m \u001b[0mrange\u001b[0m\u001b[1;33m(\u001b[0m\u001b[0mi\u001b[0m\u001b[1;33m+\u001b[0m\u001b[1;36m1\u001b[0m\u001b[1;33m,\u001b[0m \u001b[0mlen\u001b[0m\u001b[1;33m(\u001b[0m\u001b[0mtour\u001b[0m\u001b[1;33m)\u001b[0m\u001b[1;33m-\u001b[0m\u001b[1;36m1\u001b[0m\u001b[1;33m)\u001b[0m\u001b[1;33m:\u001b[0m\u001b[1;33m\u001b[0m\u001b[1;33m\u001b[0m\u001b[0m\n\u001b[1;32m---> 12\u001b[1;33m                 \u001b[0mtemp_tour\u001b[0m \u001b[1;33m=\u001b[0m \u001b[0mtour_swap\u001b[0m\u001b[1;33m(\u001b[0m\u001b[0mtour\u001b[0m\u001b[1;33m,\u001b[0m \u001b[0mi\u001b[0m\u001b[1;33m,\u001b[0m \u001b[0mj\u001b[0m\u001b[1;33m)\u001b[0m\u001b[1;33m\u001b[0m\u001b[1;33m\u001b[0m\u001b[0m\n\u001b[0m\u001b[0;32m     13\u001b[0m                 \u001b[0mdelta\u001b[0m \u001b[1;33m=\u001b[0m \u001b[0mtotalcost\u001b[0m\u001b[1;33m(\u001b[0m\u001b[0mdistance\u001b[0m\u001b[1;33m,\u001b[0m \u001b[0mtour\u001b[0m\u001b[1;33m[\u001b[0m\u001b[1;33m(\u001b[0m\u001b[0mi\u001b[0m\u001b[1;33m-\u001b[0m\u001b[1;36m1\u001b[0m\u001b[1;33m)\u001b[0m\u001b[1;33m:\u001b[0m\u001b[1;33m(\u001b[0m\u001b[0mj\u001b[0m\u001b[1;33m+\u001b[0m\u001b[1;36m2\u001b[0m\u001b[1;33m)\u001b[0m\u001b[1;33m]\u001b[0m\u001b[1;33m)\u001b[0m \u001b[1;33m-\u001b[0m \u001b[0mtotalcost\u001b[0m\u001b[1;33m(\u001b[0m\u001b[0mdistance\u001b[0m\u001b[1;33m,\u001b[0m \u001b[0mtemp_tour\u001b[0m\u001b[1;33m[\u001b[0m\u001b[1;33m(\u001b[0m\u001b[0mi\u001b[0m\u001b[1;33m-\u001b[0m\u001b[1;36m1\u001b[0m\u001b[1;33m)\u001b[0m\u001b[1;33m:\u001b[0m\u001b[1;33m(\u001b[0m\u001b[0mj\u001b[0m\u001b[1;33m+\u001b[0m\u001b[1;36m2\u001b[0m\u001b[1;33m)\u001b[0m\u001b[1;33m]\u001b[0m\u001b[1;33m)\u001b[0m \u001b[1;31m#improvement = positive delta\u001b[0m\u001b[1;33m\u001b[0m\u001b[1;33m\u001b[0m\u001b[0m\n\u001b[0;32m     14\u001b[0m \u001b[1;33m\u001b[0m\u001b[0m\n",
      "\u001b[1;32m<ipython-input-7-5342ec034eaf>\u001b[0m in \u001b[0;36mtour_swap\u001b[1;34m(tour, m, n)\u001b[0m\n\u001b[0;32m      1\u001b[0m \u001b[1;31m# define function to swap 2 edges of nodes with index m and n (starting index 0)\u001b[0m\u001b[1;33m\u001b[0m\u001b[1;33m\u001b[0m\u001b[1;33m\u001b[0m\u001b[0m\n\u001b[0;32m      2\u001b[0m \u001b[1;32mdef\u001b[0m \u001b[0mtour_swap\u001b[0m \u001b[1;33m(\u001b[0m\u001b[0mtour\u001b[0m\u001b[1;33m,\u001b[0m \u001b[0mm\u001b[0m\u001b[1;33m,\u001b[0m \u001b[0mn\u001b[0m\u001b[1;33m)\u001b[0m\u001b[1;33m:\u001b[0m\u001b[1;33m\u001b[0m\u001b[1;33m\u001b[0m\u001b[0m\n\u001b[1;32m----> 3\u001b[1;33m     \u001b[0mnew_tour\u001b[0m \u001b[1;33m=\u001b[0m \u001b[0mcopy\u001b[0m\u001b[1;33m.\u001b[0m\u001b[0mdeepcopy\u001b[0m\u001b[1;33m(\u001b[0m\u001b[0mtour\u001b[0m\u001b[1;33m)\u001b[0m\u001b[1;33m\u001b[0m\u001b[1;33m\u001b[0m\u001b[0m\n\u001b[0m\u001b[0;32m      4\u001b[0m     \u001b[0mnew_tour\u001b[0m\u001b[1;33m[\u001b[0m\u001b[0mm\u001b[0m\u001b[1;33m:\u001b[0m\u001b[0mn\u001b[0m\u001b[1;33m+\u001b[0m\u001b[1;36m1\u001b[0m\u001b[1;33m]\u001b[0m \u001b[1;33m=\u001b[0m \u001b[0mreversed\u001b[0m\u001b[1;33m(\u001b[0m\u001b[0mnew_tour\u001b[0m\u001b[1;33m[\u001b[0m\u001b[0mm\u001b[0m\u001b[1;33m:\u001b[0m\u001b[0mn\u001b[0m\u001b[1;33m+\u001b[0m\u001b[1;36m1\u001b[0m\u001b[1;33m]\u001b[0m\u001b[1;33m)\u001b[0m\u001b[1;33m\u001b[0m\u001b[1;33m\u001b[0m\u001b[0m\n\u001b[0;32m      5\u001b[0m     \u001b[1;32mreturn\u001b[0m \u001b[0mnew_tour\u001b[0m\u001b[1;33m\u001b[0m\u001b[1;33m\u001b[0m\u001b[0m\n",
      "\u001b[1;32m~\\.conda\\envs\\thuha\\lib\\copy.py\u001b[0m in \u001b[0;36mdeepcopy\u001b[1;34m(x, memo, _nil)\u001b[0m\n\u001b[0;32m    148\u001b[0m     \u001b[0mcopier\u001b[0m \u001b[1;33m=\u001b[0m \u001b[0m_deepcopy_dispatch\u001b[0m\u001b[1;33m.\u001b[0m\u001b[0mget\u001b[0m\u001b[1;33m(\u001b[0m\u001b[0mcls\u001b[0m\u001b[1;33m)\u001b[0m\u001b[1;33m\u001b[0m\u001b[1;33m\u001b[0m\u001b[0m\n\u001b[0;32m    149\u001b[0m     \u001b[1;32mif\u001b[0m \u001b[0mcopier\u001b[0m\u001b[1;33m:\u001b[0m\u001b[1;33m\u001b[0m\u001b[1;33m\u001b[0m\u001b[0m\n\u001b[1;32m--> 150\u001b[1;33m         \u001b[0my\u001b[0m \u001b[1;33m=\u001b[0m \u001b[0mcopier\u001b[0m\u001b[1;33m(\u001b[0m\u001b[0mx\u001b[0m\u001b[1;33m,\u001b[0m \u001b[0mmemo\u001b[0m\u001b[1;33m)\u001b[0m\u001b[1;33m\u001b[0m\u001b[1;33m\u001b[0m\u001b[0m\n\u001b[0m\u001b[0;32m    151\u001b[0m     \u001b[1;32melse\u001b[0m\u001b[1;33m:\u001b[0m\u001b[1;33m\u001b[0m\u001b[1;33m\u001b[0m\u001b[0m\n\u001b[0;32m    152\u001b[0m         \u001b[1;32mtry\u001b[0m\u001b[1;33m:\u001b[0m\u001b[1;33m\u001b[0m\u001b[1;33m\u001b[0m\u001b[0m\n",
      "\u001b[1;32m~\\.conda\\envs\\thuha\\lib\\copy.py\u001b[0m in \u001b[0;36m_deepcopy_list\u001b[1;34m(x, memo, deepcopy)\u001b[0m\n\u001b[0;32m    214\u001b[0m     \u001b[0mappend\u001b[0m \u001b[1;33m=\u001b[0m \u001b[0my\u001b[0m\u001b[1;33m.\u001b[0m\u001b[0mappend\u001b[0m\u001b[1;33m\u001b[0m\u001b[1;33m\u001b[0m\u001b[0m\n\u001b[0;32m    215\u001b[0m     \u001b[1;32mfor\u001b[0m \u001b[0ma\u001b[0m \u001b[1;32min\u001b[0m \u001b[0mx\u001b[0m\u001b[1;33m:\u001b[0m\u001b[1;33m\u001b[0m\u001b[1;33m\u001b[0m\u001b[0m\n\u001b[1;32m--> 216\u001b[1;33m         \u001b[0mappend\u001b[0m\u001b[1;33m(\u001b[0m\u001b[0mdeepcopy\u001b[0m\u001b[1;33m(\u001b[0m\u001b[0ma\u001b[0m\u001b[1;33m,\u001b[0m \u001b[0mmemo\u001b[0m\u001b[1;33m)\u001b[0m\u001b[1;33m)\u001b[0m\u001b[1;33m\u001b[0m\u001b[1;33m\u001b[0m\u001b[0m\n\u001b[0m\u001b[0;32m    217\u001b[0m     \u001b[1;32mreturn\u001b[0m \u001b[0my\u001b[0m\u001b[1;33m\u001b[0m\u001b[1;33m\u001b[0m\u001b[0m\n\u001b[0;32m    218\u001b[0m \u001b[0md\u001b[0m\u001b[1;33m[\u001b[0m\u001b[0mlist\u001b[0m\u001b[1;33m]\u001b[0m \u001b[1;33m=\u001b[0m \u001b[0m_deepcopy_list\u001b[0m\u001b[1;33m\u001b[0m\u001b[1;33m\u001b[0m\u001b[0m\n",
      "\u001b[1;32m~\\.conda\\envs\\thuha\\lib\\copy.py\u001b[0m in \u001b[0;36mdeepcopy\u001b[1;34m(x, memo, _nil)\u001b[0m\n\u001b[0;32m    146\u001b[0m     \u001b[0mcls\u001b[0m \u001b[1;33m=\u001b[0m \u001b[0mtype\u001b[0m\u001b[1;33m(\u001b[0m\u001b[0mx\u001b[0m\u001b[1;33m)\u001b[0m\u001b[1;33m\u001b[0m\u001b[1;33m\u001b[0m\u001b[0m\n\u001b[0;32m    147\u001b[0m \u001b[1;33m\u001b[0m\u001b[0m\n\u001b[1;32m--> 148\u001b[1;33m     \u001b[0mcopier\u001b[0m \u001b[1;33m=\u001b[0m \u001b[0m_deepcopy_dispatch\u001b[0m\u001b[1;33m.\u001b[0m\u001b[0mget\u001b[0m\u001b[1;33m(\u001b[0m\u001b[0mcls\u001b[0m\u001b[1;33m)\u001b[0m\u001b[1;33m\u001b[0m\u001b[1;33m\u001b[0m\u001b[0m\n\u001b[0m\u001b[0;32m    149\u001b[0m     \u001b[1;32mif\u001b[0m \u001b[0mcopier\u001b[0m\u001b[1;33m:\u001b[0m\u001b[1;33m\u001b[0m\u001b[1;33m\u001b[0m\u001b[0m\n\u001b[0;32m    150\u001b[0m         \u001b[0my\u001b[0m \u001b[1;33m=\u001b[0m \u001b[0mcopier\u001b[0m\u001b[1;33m(\u001b[0m\u001b[0mx\u001b[0m\u001b[1;33m,\u001b[0m \u001b[0mmemo\u001b[0m\u001b[1;33m)\u001b[0m\u001b[1;33m\u001b[0m\u001b[1;33m\u001b[0m\u001b[0m\n",
      "\u001b[1;31mKeyboardInterrupt\u001b[0m: "
     ]
    }
   ],
   "source": [
    "value = pd.DataFrame(index = index, columns = ['with 2-opt', 'without 2-opt'])\n",
    "two_opt_select_set = [True, False]\n",
    "obj_set = np.zeros([2,3,2])\n",
    "time_set = np.zeros([2,3,2])\n",
    "\n",
    "for k in range(2): #run 2 times and take the average\n",
    "    for i in range(3): #dataset \n",
    "        for j in range(2): #2-opt option\n",
    "            result = GA_TSP (dataset[i][0], dataset[i][1], \n",
    "                             pop_size = pop_size_param, offspring_size = offspring_size_param, recprob = recprob_param, \n",
    "                             crossprob = crossprob_param, muprob = muprob_param, mulocprob = mulocprob_param, \n",
    "                             codetype = codetype_param, two_opt_select = two_opt_select_set[j], selecttype = selecttype_param, \n",
    "                             crosstype = crosstype_param, reptype = reptype_param, \n",
    "                             max_iter = None, TimeLimit = 100, obj_length = None)\n",
    "            obj_set[k,i,j] = result[0]\n",
    "            time_set[k,i,j] = result[1]\n",
    "\n",
    "for i in range(3): #dataset \n",
    "    for j in range(2): #codetype\n",
    "        obj_mean = np.mean([obj_set[k,i,j] for k in range(2)])\n",
    "        time_mean = np.mean([time_set[k,i,j] for k in range(2)])\n",
    "        value.iloc[i,j] = (obj_mean, time_mean)"
   ]
  },
  {
   "cell_type": "code",
   "execution_count": null,
   "metadata": {},
   "outputs": [],
   "source": [
    "value2=value\n",
    "print(value)"
   ]
  },
  {
   "cell_type": "markdown",
   "metadata": {},
   "source": [
    "#### Comment:   \n",
    "Overall, with default setting, the performance of encode and permutation is not too much different. While the encode get slightly better results in dataset 1 and 3, the permutation is much better in dataset 2. Thee running time is nearly same between 2 approaches."
   ]
  },
  {
   "cell_type": "code",
   "execution_count": null,
   "metadata": {},
   "outputs": [],
   "source": []
  },
  {
   "cell_type": "markdown",
   "metadata": {},
   "source": [
    "#### Design of genetic operators recombination and crossover    \n",
    "Run 3 crossover strategy: 1) uniform ; 2) 1-point crossover and 3) 2-point crossover. The other parameters are declared as above: <a href='#set_params'>*default setting*</a>. The test is run 2 times and the average result is considered for evaluation."
   ]
  },
  {
   "cell_type": "code",
   "execution_count": 29,
   "metadata": {},
   "outputs": [
    {
     "name": "stdout",
     "output_type": "stream",
     "text": [
      "Reach max number of iterations\n",
      "Running time:  40.390625\n",
      "Best objective value 8327\n",
      "Reach max number of iterations\n",
      "Running time:  24.296875\n",
      "Best objective value 12934\n",
      "Reach max number of iterations\n",
      "Running time:  24.203125\n",
      "Best objective value 11502\n",
      "Reach max number of iterations\n",
      "Running time:  47.53125\n",
      "Best objective value 97208.88626424356\n",
      "Reach max number of iterations\n",
      "Running time:  28.390625\n",
      "Best objective value 238886.9876483038\n",
      "Reach max number of iterations\n",
      "Running time:  30.03125\n",
      "Best objective value 228227.13348541243\n",
      "Reach max number of iterations\n",
      "Running time:  63.984375\n",
      "Best objective value 220927.76703870026\n",
      "Reach max number of iterations\n",
      "Running time:  40.796875\n",
      "Best objective value 305241.1228981491\n",
      "Reach max number of iterations\n",
      "Running time:  40.515625\n",
      "Best objective value 247935.13584320722\n",
      "Reach max number of iterations\n",
      "Running time:  34.234375\n",
      "Best objective value 8047\n",
      "Reach max number of iterations\n",
      "Running time:  25.0\n",
      "Best objective value 12821\n",
      "Reach max number of iterations\n",
      "Running time:  24.875\n",
      "Best objective value 13209\n",
      "Reach max number of iterations\n",
      "Running time:  43.59375\n",
      "Best objective value 93424.84439678803\n",
      "Reach max number of iterations\n",
      "Running time:  28.578125\n",
      "Best objective value 210853.0162442229\n",
      "Reach max number of iterations\n",
      "Running time:  30.8125\n",
      "Best objective value 211506.6894082266\n",
      "Reach max number of iterations\n",
      "Running time:  65.109375\n",
      "Best objective value 232747.0885202489\n",
      "Reach max number of iterations\n",
      "Running time:  40.234375\n",
      "Best objective value 293540.25015608076\n",
      "Reach max number of iterations\n",
      "Running time:  40.59375\n",
      "Best objective value 283878.286522339\n"
     ]
    }
   ],
   "source": [
    "value = pd.DataFrame(index = index, columns = ['uniform', '1-point crossover', '2-point crossover'])\n",
    "crosstype_set = ['uniform', '1point', '2point']\n",
    "obj_set = np.zeros([2,3,3])\n",
    "time_set = np.zeros([2,3,3])\n",
    "\n",
    "for k in range(2): #run 2 times and take the average\n",
    "    for i in range(3): #dataset \n",
    "        for j in range(3): #crossover options\n",
    "            result = GA_TSP (dataset[i][0], dataset[i][1], \n",
    "                             pop_size = pop_size_param, offspring_size = offspring_size_param, recprob = recprob_param, \n",
    "                             crossprob = crossprob_param, muprob = muprob_param, mulocprob = mulocprob_param, \n",
    "                             codetype = codetype_param, two_opt_select = two_opt_select_param, selecttype = selecttype_param, \n",
    "                             crosstype = crosstype_set[j], reptype = reptype_param, \n",
    "                             max_iter = max_iter_param, TimeLimit = None, obj_length = None)\n",
    "            obj_set[k,i,j] = result[0]\n",
    "            time_set[k,i,j] = result[1]\n",
    "\n",
    "for i in range(3): #dataset \n",
    "    for j in range(3): #codetype\n",
    "        obj_mean = np.mean([obj_set[k,i,j] for k in range(2)])\n",
    "        time_mean = np.mean([time_set[k,i,j] for k in range(2)])\n",
    "        value.iloc[i,j] = (obj_mean, time_mean)"
   ]
  },
  {
   "cell_type": "code",
   "execution_count": 30,
   "metadata": {},
   "outputs": [
    {
     "name": "stdout",
     "output_type": "stream",
     "text": [
      "                                  uniform                1-point crossover  \\\n",
      "Dataset 1               (8187.0, 37.3125)            (12877.5, 24.6484375)   \n",
      "Dataset 2     (95316.8653305158, 45.5625)  (224870.00194626336, 28.484375)   \n",
      "Dataset 3  (226837.4277794746, 64.546875)  (299390.68652711494, 40.515625)   \n",
      "\n",
      "                         2-point crossover  \n",
      "Dataset 1            (12355.5, 24.5390625)  \n",
      "Dataset 2  (219866.91144681952, 30.421875)  \n",
      "Dataset 3  (265906.7111827731, 40.5546875)  \n"
     ]
    }
   ],
   "source": [
    "value3=value\n",
    "print(value)"
   ]
  },
  {
   "cell_type": "markdown",
   "metadata": {},
   "source": [
    "#### Comment:   \n",
    "Overall, with default setting, the performance of encode and permutation is not too much different. While the encode get slightly better results in dataset 1 and 3, the permutation is much better in dataset 2. Thee running time is nearly same between 2 approaches."
   ]
  },
  {
   "cell_type": "code",
   "execution_count": null,
   "metadata": {},
   "outputs": [],
   "source": []
  },
  {
   "cell_type": "code",
   "execution_count": 37,
   "metadata": {},
   "outputs": [
    {
     "name": "stdout",
     "output_type": "stream",
     "text": [
      "Reach max number of iterations\n",
      "Running time:  4.96875\n",
      "Best objective value 12830\n",
      "Reach max number of iterations\n",
      "Running time:  13.828125\n",
      "Best objective value 11147\n",
      "Reach max number of iterations\n",
      "Running time:  33.3125\n",
      "Best objective value 7333\n",
      "Reach max number of iterations\n",
      "Running time:  97.03125\n",
      "Best objective value 5449\n",
      "Reach max number of iterations\n",
      "Running time:  5.796875\n",
      "Best objective value 203898.38820381404\n",
      "Reach max number of iterations\n",
      "Running time:  17.3125\n",
      "Best objective value 122309.68214942455\n",
      "Reach max number of iterations\n",
      "Running time:  41.9375\n",
      "Best objective value 105635.07918627733\n",
      "Reach max number of iterations\n",
      "Running time:  122.3125\n",
      "Best objective value 66861.66396818432\n",
      "Reach max number of iterations\n",
      "Running time:  9.84375\n",
      "Best objective value 377657.807845032\n",
      "Reach max number of iterations\n",
      "Running time:  27.03125\n",
      "Best objective value 264026.7513982314\n",
      "Reach max number of iterations\n",
      "Running time:  64.28125\n",
      "Best objective value 163344.7028506485\n",
      "Reach max number of iterations\n",
      "Running time:  162.78125\n",
      "Best objective value 177330.8741864757\n"
     ]
    }
   ],
   "source": [
    "value = pd.DataFrame(index = index, columns = ['pop_size = 100', 'pop_size = 250', 'pop_size = 500', 'pop_size = 1000'])\n",
    "pop_size_set = [100, 250, 500, 1000]\n",
    "offspring_size_set = [200, 500, 1000, 2000]\n",
    "\n",
    "for i in range(3): #dataset \n",
    "    for j in range(4): #population size\n",
    "        result = GA_TSP (dataset[i][0], dataset[i][1], \n",
    "                         pop_size = pop_size_set[j], offspring_size = offspring_size_set[j], recprob = recprob_param, \n",
    "                         crossprob = crossprob_param, muprob = muprob_param, mulocprob = mulocprob_param, \n",
    "                         codetype = codetype_param, two_opt_select = two_opt_select_param, selecttype = selecttype_param, \n",
    "                         crosstype = crosstype_param, reptype = reptype_param, \n",
    "                         max_iter = max_iter_param, TimeLimit = None, obj_length = None)\n",
    "        value.iloc[i,j] = result\n",
    "\n"
   ]
  },
  {
   "cell_type": "code",
   "execution_count": null,
   "metadata": {},
   "outputs": [],
   "source": []
  },
  {
   "cell_type": "code",
   "execution_count": 38,
   "metadata": {},
   "outputs": [
    {
     "name": "stdout",
     "output_type": "stream",
     "text": [
      "                           pop_size = 100                 pop_size = 250  \\\n",
      "Dataset 1                (12830, 4.96875)             (11147, 13.828125)   \n",
      "Dataset 2  (203898.38820381404, 5.796875)  (122309.68214942455, 17.3125)   \n",
      "Dataset 3     (377657.807845032, 9.84375)  (264026.7513982314, 27.03125)   \n",
      "\n",
      "                          pop_size = 500                 pop_size = 1000  \n",
      "Dataset 1                (7333, 33.3125)                (5449, 97.03125)  \n",
      "Dataset 2  (105635.07918627733, 41.9375)   (66861.66396818432, 122.3125)  \n",
      "Dataset 3  (163344.7028506485, 64.28125)  (177330.8741864757, 162.78125)  \n"
     ]
    }
   ],
   "source": [
    "value4=value\n",
    "print(value)"
   ]
  },
  {
   "cell_type": "code",
   "execution_count": null,
   "metadata": {},
   "outputs": [],
   "source": []
  },
  {
   "cell_type": "code",
   "execution_count": 35,
   "metadata": {},
   "outputs": [
    {
     "name": "stdout",
     "output_type": "stream",
     "text": [
      "Reach max number of iterations\n",
      "Running time:  19.125\n",
      "Best objective value 7278\n",
      "Reach max number of iterations\n",
      "Running time:  41.421875\n",
      "Best objective value 8243\n",
      "Reach max number of iterations\n",
      "Running time:  84.03125\n",
      "Best objective value 6281\n",
      "Reach max number of iterations\n",
      "Running time:  22.203125\n",
      "Best objective value 86486.43714728934\n",
      "Reach max number of iterations\n",
      "Running time:  50.515625\n",
      "Best objective value 105855.84553272101\n",
      "Reach max number of iterations\n",
      "Running time:  98.1875\n",
      "Best objective value 91963.62540538292\n",
      "Reach max number of iterations\n",
      "Running time:  35.125\n",
      "Best objective value 216732.38161854277\n",
      "Reach max number of iterations\n",
      "Running time:  71.5\n",
      "Best objective value 193307.23980931123\n",
      "Reach max number of iterations\n",
      "Running time:  143.5625\n",
      "Best objective value 211811.93086329693\n"
     ]
    }
   ],
   "source": [
    "value = pd.DataFrame(index = index, columns = ['offspring_size = 500', 'offspring_size = 1000', 'offspring_size = 2000'])\n",
    "offspring_size_set = [500, 1000, 2000]\n",
    "\n",
    "for i in range(3): #dataset \n",
    "    for j in range(3): #offspring size\n",
    "        result = GA_TSP (dataset[i][0], dataset[i][1], \n",
    "                         pop_size = pop_size_param, offspring_size = offspring_size_set[j], recprob = recprob_param, \n",
    "                         crossprob = crossprob_param, muprob = muprob_param, mulocprob = mulocprob_param, \n",
    "                         codetype = codetype_param, two_opt_select = two_opt_select_param, selecttype = selecttype_param, \n",
    "                         crosstype = crosstype_param, reptype = reptype_param, \n",
    "                         max_iter = max_iter_param, TimeLimit = None, obj_length = None)\n",
    "        value.iloc[i,j] = result"
   ]
  },
  {
   "cell_type": "code",
   "execution_count": null,
   "metadata": {},
   "outputs": [],
   "source": []
  },
  {
   "cell_type": "code",
   "execution_count": 36,
   "metadata": {},
   "outputs": [
    {
     "name": "stdout",
     "output_type": "stream",
     "text": [
      "                     offspring_size = 500            offspring_size = 1000  \\\n",
      "Dataset 1                  (7278, 19.125)                (8243, 41.421875)   \n",
      "Dataset 2  (86486.43714728934, 22.203125)  (105855.84553272101, 50.515625)   \n",
      "Dataset 3    (216732.38161854277, 35.125)       (193307.23980931123, 71.5)   \n",
      "\n",
      "                    offspring_size = 2000  \n",
      "Dataset 1                (6281, 84.03125)  \n",
      "Dataset 2    (91963.62540538292, 98.1875)  \n",
      "Dataset 3  (211811.93086329693, 143.5625)  \n"
     ]
    }
   ],
   "source": [
    "value5=value\n",
    "print(value)"
   ]
  },
  {
   "cell_type": "code",
   "execution_count": null,
   "metadata": {},
   "outputs": [],
   "source": []
  },
  {
   "cell_type": "code",
   "execution_count": null,
   "metadata": {},
   "outputs": [],
   "source": []
  },
  {
   "cell_type": "code",
   "execution_count": 39,
   "metadata": {},
   "outputs": [
    {
     "name": "stdout",
     "output_type": "stream",
     "text": [
      "Reach max number of iterations\n",
      "Running time:  44.53125\n",
      "Best objective value 5895\n",
      "Reach max number of iterations\n",
      "Running time:  35.046875\n",
      "Best objective value 7854\n",
      "Reach max number of iterations\n",
      "Running time:  49.65625\n",
      "Best objective value 16551\n",
      "Reach max number of iterations\n",
      "Running time:  52.25\n",
      "Best objective value 94163.06077715915\n",
      "Reach max number of iterations\n",
      "Running time:  42.703125\n",
      "Best objective value 102598.29966595452\n",
      "Reach max number of iterations\n",
      "Running time:  55.71875\n",
      "Best objective value 342615.8221938928\n",
      "Reach max number of iterations\n",
      "Running time:  73.6875\n",
      "Best objective value 203697.8103565038\n",
      "Reach max number of iterations\n",
      "Running time:  62.78125\n",
      "Best objective value 204370.0641474295\n",
      "Reach max number of iterations\n",
      "Running time:  73.3125\n",
      "Best objective value 368736.5320559888\n"
     ]
    }
   ],
   "source": [
    "value = pd.DataFrame(index = index, columns = ['fitness', 'rank', 'tournament'])\n",
    "selecttype_set = ['fitness', 'rank', 'tournament']\n",
    "\n",
    "for i in range(3): #dataset \n",
    "    for j in range(3): #select type\n",
    "        result = GA_TSP (dataset[i][0], dataset[i][1], \n",
    "                         pop_size = pop_size_param, offspring_size = offspring_size_param, recprob = recprob_param, \n",
    "                         crossprob = crossprob_param, muprob = muprob_param, mulocprob = mulocprob_param, \n",
    "                         codetype = codetype_param, two_opt_select = two_opt_select_param, selecttype = selecttype_set[j], \n",
    "                         crosstype = crosstype_param, reptype = reptype_param, \n",
    "                         max_iter = max_iter_param, TimeLimit = None, obj_length = None)\n",
    "        value.iloc[i,j] = result"
   ]
  },
  {
   "cell_type": "code",
   "execution_count": null,
   "metadata": {},
   "outputs": [],
   "source": []
  },
  {
   "cell_type": "code",
   "execution_count": 40,
   "metadata": {},
   "outputs": [
    {
     "name": "stdout",
     "output_type": "stream",
     "text": [
      "                                fitness                             rank  \\\n",
      "Dataset 1              (5895, 44.53125)                (7854, 35.046875)   \n",
      "Dataset 2    (94163.06077715915, 52.25)  (102598.29966595452, 42.703125)   \n",
      "Dataset 3  (203697.8103565038, 73.6875)    (204370.0641474295, 62.78125)   \n",
      "\n",
      "                              tournament  \n",
      "Dataset 1              (16551, 49.65625)  \n",
      "Dataset 2  (342615.8221938928, 55.71875)  \n",
      "Dataset 3   (368736.5320559888, 73.3125)  \n"
     ]
    }
   ],
   "source": [
    "value6=value\n",
    "print(value)"
   ]
  },
  {
   "cell_type": "code",
   "execution_count": null,
   "metadata": {},
   "outputs": [],
   "source": []
  },
  {
   "cell_type": "code",
   "execution_count": null,
   "metadata": {},
   "outputs": [],
   "source": []
  },
  {
   "cell_type": "code",
   "execution_count": null,
   "metadata": {},
   "outputs": [],
   "source": []
  },
  {
   "cell_type": "code",
   "execution_count": 41,
   "metadata": {},
   "outputs": [
    {
     "name": "stdout",
     "output_type": "stream",
     "text": [
      "Reach max number of iterations\n",
      "Running time:  5.28125\n",
      "Best objective value 44607\n",
      "Reach max number of iterations\n",
      "Running time:  23.0625\n",
      "Best objective value 8246\n",
      "Reach max number of iterations\n",
      "Running time:  36.78125\n",
      "Best objective value 8294\n",
      "Reach max number of iterations\n",
      "Running time:  46.828125\n",
      "Best objective value 6857\n",
      "Reach max number of iterations\n",
      "Running time:  5.15625\n",
      "Best objective value 937638.4894699118\n",
      "Reach max number of iterations\n",
      "Running time:  27.015625\n",
      "Best objective value 99509.96800784777\n",
      "Reach max number of iterations\n",
      "Running time:  44.828125\n",
      "Best objective value 101208.56430943559\n",
      "Reach max number of iterations\n",
      "Running time:  60.5625\n",
      "Best objective value 96818.41957847042\n",
      "Reach max number of iterations\n",
      "Running time:  5.3125\n",
      "Best objective value 979118.8983544551\n",
      "Reach max number of iterations\n",
      "Running time:  39.640625\n",
      "Best objective value 245076.9369597952\n",
      "Reach max number of iterations\n",
      "Running time:  65.359375\n",
      "Best objective value 248225.73972138856\n",
      "Reach max number of iterations\n",
      "Running time:  90.359375\n",
      "Best objective value 201006.7584686698\n"
     ]
    }
   ],
   "source": [
    "value = pd.DataFrame(index = index, columns = ['recombination probabiliy = 0', '= 0.4', '= 0.7', '= 1'])\n",
    "recprob_set = [0, 0.4, 0.7, 1]\n",
    "\n",
    "for i in range(3): #dataset \n",
    "    for j in range(4): #select type\n",
    "        result = GA_TSP (dataset[i][0], dataset[i][1], \n",
    "                         pop_size = pop_size_param, offspring_size = offspring_size_param, recprob = recprob_set[j], \n",
    "                         crossprob = crossprob_param, muprob = muprob_param, mulocprob = mulocprob_param, \n",
    "                         codetype = codetype_param, two_opt_select = two_opt_select_param, selecttype = selecttype_param, \n",
    "                         crosstype = crosstype_param, reptype = reptype_param, \n",
    "                         max_iter = max_iter_param, TimeLimit = None, obj_length = None)\n",
    "        value.iloc[i,j] = result"
   ]
  },
  {
   "cell_type": "code",
   "execution_count": null,
   "metadata": {},
   "outputs": [],
   "source": []
  },
  {
   "cell_type": "code",
   "execution_count": 42,
   "metadata": {},
   "outputs": [
    {
     "name": "stdout",
     "output_type": "stream",
     "text": [
      "           recombination probabiliy = 0                           = 0.4  \\\n",
      "Dataset 1              (44607, 5.28125)                 (8246, 23.0625)   \n",
      "Dataset 2  (937638.4894699118, 5.15625)  (99509.96800784777, 27.015625)   \n",
      "Dataset 3   (979118.8983544551, 5.3125)  (245076.9369597952, 39.640625)   \n",
      "\n",
      "                                     = 0.7                             = 1  \n",
      "Dataset 1                 (8294, 36.78125)               (6857, 46.828125)  \n",
      "Dataset 2  (101208.56430943559, 44.828125)    (96818.41957847042, 60.5625)  \n",
      "Dataset 3  (248225.73972138856, 65.359375)  (201006.7584686698, 90.359375)  \n"
     ]
    }
   ],
   "source": [
    "value7=value\n",
    "print(value)"
   ]
  },
  {
   "cell_type": "code",
   "execution_count": null,
   "metadata": {},
   "outputs": [],
   "source": []
  },
  {
   "cell_type": "code",
   "execution_count": null,
   "metadata": {},
   "outputs": [],
   "source": []
  },
  {
   "cell_type": "code",
   "execution_count": 43,
   "metadata": {},
   "outputs": [
    {
     "name": "stdout",
     "output_type": "stream",
     "text": [
      "Reach max number of iterations\n",
      "Running time:  24.984375\n",
      "Best objective value 10279\n",
      "Reach max number of iterations\n",
      "Running time:  32.75\n",
      "Best objective value 9509\n",
      "Reach max number of iterations\n",
      "Running time:  36.125\n",
      "Best objective value 7356\n",
      "Reach max number of iterations\n",
      "Running time:  38.109375\n",
      "Best objective value 6900\n",
      "Reach max number of iterations\n",
      "Running time:  42.890625\n",
      "Best objective value 7713\n",
      "Reach max number of iterations\n",
      "Running time:  29.609375\n",
      "Best objective value 138398.13971305508\n",
      "Reach max number of iterations\n",
      "Running time:  38.84375\n",
      "Best objective value 113074.25770189997\n",
      "Reach max number of iterations\n",
      "Running time:  50.390625\n",
      "Best objective value 108105.41583571461\n",
      "Reach max number of iterations\n",
      "Running time:  46.359375\n",
      "Best objective value 94049.16894349063\n",
      "Reach max number of iterations\n",
      "Running time:  47.359375\n",
      "Best objective value 96106.96820296111\n",
      "Reach max number of iterations\n",
      "Running time:  49.453125\n",
      "Best objective value 250094.53206539058\n",
      "Reach max number of iterations\n",
      "Running time:  60.140625\n",
      "Best objective value 218614.5833315186\n",
      "Reach max number of iterations\n",
      "Running time:  64.0625\n",
      "Best objective value 218696.71515966186\n",
      "Reach max number of iterations\n",
      "Running time:  65.90625\n",
      "Best objective value 213822.93844656512\n",
      "Reach max number of iterations\n",
      "Running time:  67.78125\n",
      "Best objective value 217685.41608983523\n"
     ]
    }
   ],
   "source": [
    "value = pd.DataFrame(index = index, columns = ['mutation probabiliy = 0', '= 0.25', '= 0.5', '= 0.75', '= 1'])\n",
    "muprob_set = [0, 0.25, 0.5, 0.75, 1]\n",
    "\n",
    "for i in range(3): #dataset \n",
    "    for j in range(5): #select type\n",
    "        result = GA_TSP (dataset[i][0], dataset[i][1], \n",
    "                         pop_size = pop_size_param, offspring_size = offspring_size_param, recprob = recprob_param, \n",
    "                         crossprob = crossprob_param, muprob = muprob_set[j], mulocprob = mulocprob_param, \n",
    "                         codetype = codetype_param, two_opt_select = two_opt_select_param, selecttype = selecttype_param, \n",
    "                         crosstype = crosstype_param, reptype = reptype_param, \n",
    "                         max_iter = max_iter_param, TimeLimit = None, obj_length = None)\n",
    "        value.iloc[i,j] = result"
   ]
  },
  {
   "cell_type": "code",
   "execution_count": null,
   "metadata": {},
   "outputs": [],
   "source": []
  },
  {
   "cell_type": "code",
   "execution_count": 44,
   "metadata": {},
   "outputs": [
    {
     "name": "stdout",
     "output_type": "stream",
     "text": [
      "                   mutation probabiliy = 0                          = 0.25  \\\n",
      "Dataset 1               (10279, 24.984375)                   (9509, 32.75)   \n",
      "Dataset 2  (138398.13971305508, 29.609375)  (113074.25770189997, 38.84375)   \n",
      "Dataset 3  (250094.53206539058, 49.453125)  (218614.5833315186, 60.140625)   \n",
      "\n",
      "                                     = 0.5                          = 0.75  \\\n",
      "Dataset 1                   (7356, 36.125)               (6900, 38.109375)   \n",
      "Dataset 2  (108105.41583571461, 50.390625)  (94049.16894349063, 46.359375)   \n",
      "Dataset 3    (218696.71515966186, 64.0625)  (213822.93844656512, 65.90625)   \n",
      "\n",
      "                                      = 1  \n",
      "Dataset 1               (7713, 42.890625)  \n",
      "Dataset 2  (96106.96820296111, 47.359375)  \n",
      "Dataset 3  (217685.41608983523, 67.78125)  \n"
     ]
    }
   ],
   "source": [
    "value8=value\n",
    "print(value)"
   ]
  },
  {
   "cell_type": "code",
   "execution_count": null,
   "metadata": {},
   "outputs": [],
   "source": []
  },
  {
   "cell_type": "code",
   "execution_count": null,
   "metadata": {},
   "outputs": [],
   "source": []
  },
  {
   "cell_type": "code",
   "execution_count": 46,
   "metadata": {},
   "outputs": [
    {
     "name": "stdout",
     "output_type": "stream",
     "text": [
      "Reach max number of iterations\n",
      "Running time:  32.90625\n",
      "Best objective value 10807\n",
      "Reach max number of iterations\n",
      "Running time:  34.890625\n",
      "Best objective value 8350\n",
      "Reach max number of iterations\n",
      "Running time:  43.4375\n",
      "Best objective value 12371\n",
      "Reach max number of iterations\n",
      "Running time:  39.96875\n",
      "Best objective value 151712.57584071887\n",
      "Reach max number of iterations\n",
      "Running time:  44.59375\n",
      "Best objective value 106923.46153649916\n",
      "Reach max number of iterations\n",
      "Running time:  50.96875\n",
      "Best objective value 165919.41631314103\n",
      "Reach max number of iterations\n",
      "Running time:  58.296875\n",
      "Best objective value 320608.88046585576\n",
      "Reach max number of iterations\n",
      "Running time:  63.546875\n",
      "Best objective value 220334.02061444006\n",
      "Reach max number of iterations\n",
      "Running time:  69.65625\n",
      "Best objective value 275858.60022264\n"
     ]
    }
   ],
   "source": [
    "value = pd.DataFrame(index = index, columns = ['complete replacement', 'best of pool', 'selection from pool'])\n",
    "reptype_set = ['complete', 'best', 'select']\n",
    "\n",
    "for i in range(3): #dataset \n",
    "    for j in range(3): #select type\n",
    "        result = GA_TSP (dataset[i][0], dataset[i][1], \n",
    "                         pop_size = pop_size_param, offspring_size = offspring_size_param, recprob = recprob_param, \n",
    "                         crossprob = crossprob_param, muprob = muprob_param, mulocprob = mulocprob_param, \n",
    "                         codetype = codetype_param, two_opt_select = two_opt_select_param, selecttype = selecttype_param, \n",
    "                         crosstype = crosstype_param, reptype = reptype_set[j], \n",
    "                         max_iter = max_iter_param, TimeLimit = None, obj_length = None)\n",
    "        value.iloc[i,j] = result"
   ]
  },
  {
   "cell_type": "code",
   "execution_count": null,
   "metadata": {},
   "outputs": [],
   "source": []
  },
  {
   "cell_type": "code",
   "execution_count": 47,
   "metadata": {},
   "outputs": [
    {
     "name": "stdout",
     "output_type": "stream",
     "text": [
      "                      complete replacement                     best of pool  \\\n",
      "Dataset 1                (10807, 32.90625)                (8350, 34.890625)   \n",
      "Dataset 2   (151712.57584071887, 39.96875)   (106923.46153649916, 44.59375)   \n",
      "Dataset 3  (320608.88046585576, 58.296875)  (220334.02061444006, 63.546875)   \n",
      "\n",
      "                      selection from pool  \n",
      "Dataset 1                (12371, 43.4375)  \n",
      "Dataset 2  (165919.41631314103, 50.96875)  \n",
      "Dataset 3     (275858.60022264, 69.65625)  \n"
     ]
    }
   ],
   "source": [
    "value9=value\n",
    "print(value)"
   ]
  },
  {
   "cell_type": "code",
   "execution_count": null,
   "metadata": {},
   "outputs": [],
   "source": []
  },
  {
   "cell_type": "code",
   "execution_count": null,
   "metadata": {},
   "outputs": [],
   "source": []
  },
  {
   "cell_type": "code",
   "execution_count": null,
   "metadata": {},
   "outputs": [],
   "source": []
  },
  {
   "cell_type": "code",
   "execution_count": 50,
   "metadata": {},
   "outputs": [
    {
     "name": "stdout",
     "output_type": "stream",
     "text": [
      "Reach TimeLimit\n",
      "Running time:  60.046875\n",
      "Best objective value 7515\n",
      "Reach TimeLimit\n",
      "Running time:  120.03125\n",
      "Best objective value 99275.26425701236\n",
      "Reach TimeLimit\n",
      "Running time:  120.078125\n",
      "Best objective value 210292.38129297947\n",
      "Reach objective length\n",
      "Running time:  15.34375\n",
      "Best objective value 8397\n",
      "Reach objective length\n",
      "Running time:  14.453125\n",
      "Best objective value 119651.63615858275\n",
      "Reach objective length\n",
      "Running time:  37.59375\n",
      "Best objective value 249526.04267160967\n"
     ]
    }
   ],
   "source": [
    "value = pd.DataFrame(index = index, columns = ['time limit', 'desired value'])\n",
    "TimeLimit_set = [60, 120, 120]\n",
    "for i in range(3): #dataset \n",
    "    result = GA_TSP (dataset[i][0], dataset[i][1], \n",
    "                     pop_size = pop_size_param, offspring_size = offspring_size_param, recprob = recprob_param, \n",
    "                     crossprob = crossprob_param, muprob = muprob_param, mulocprob = mulocprob_param, \n",
    "                     codetype = codetype_param, two_opt_select = two_opt_select_param, selecttype = selecttype_param, \n",
    "                     crosstype = crosstype_param, reptype = reptype_param, \n",
    "                     max_iter = None, TimeLimit = TimeLimit_set[i], obj_length = None)\n",
    "    value.iloc[i,1] = result\n",
    "\n",
    "\n",
    "\n",
    "obj_length_set = [8400, 120000, 250000]\n",
    "#desired objective value\n",
    "for i in range(3): #dataset \n",
    "    result = GA_TSP (dataset[i][0], dataset[i][1], \n",
    "                     pop_size = pop_size_param, offspring_size = offspring_size_param, recprob = recprob_param, \n",
    "                     crossprob = crossprob_param, muprob = muprob_param, mulocprob = mulocprob_param, \n",
    "                     codetype = codetype_param, two_opt_select = two_opt_select_param, selecttype = selecttype_param, \n",
    "                     crosstype = crosstype_param, reptype = reptype_param, \n",
    "                     max_iter = None, TimeLimit = None, obj_length = obj_length_set[i])\n",
    "    value.iloc[i,1] = result"
   ]
  },
  {
   "cell_type": "code",
   "execution_count": null,
   "metadata": {},
   "outputs": [],
   "source": []
  },
  {
   "cell_type": "code",
   "execution_count": 51,
   "metadata": {},
   "outputs": [
    {
     "name": "stdout",
     "output_type": "stream",
     "text": [
      "          time limit                    desired value\n",
      "Dataset 1        NaN                 (8397, 15.34375)\n",
      "Dataset 2        NaN  (119651.63615858275, 14.453125)\n",
      "Dataset 3        NaN   (249526.04267160967, 37.59375)\n"
     ]
    }
   ],
   "source": [
    "value10=value\n",
    "print(value)"
   ]
  }
 ],
 "metadata": {
  "kernelspec": {
   "display_name": "Python 3",
   "language": "python",
   "name": "python3"
  },
  "language_info": {
   "codemirror_mode": {
    "name": "ipython",
    "version": 3
   },
   "file_extension": ".py",
   "mimetype": "text/x-python",
   "name": "python",
   "nbconvert_exporter": "python",
   "pygments_lexer": "ipython3",
   "version": "3.7.7"
  }
 },
 "nbformat": 4,
 "nbformat_minor": 2
}
