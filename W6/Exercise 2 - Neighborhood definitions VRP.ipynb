{
 "cells": [
  {
   "cell_type": "code",
   "execution_count": 1,
   "metadata": {},
   "outputs": [],
   "source": [
    "import numpy as np\n",
    "import pandas as pd\n",
    "import math\n",
    "import random"
   ]
  },
  {
   "cell_type": "code",
   "execution_count": 2,
   "metadata": {},
   "outputs": [],
   "source": [
    "demand = np.concatenate(([0],np.repeat(1, 10)))\n",
    "distance = [[0, 4.12, 2.24, 5, 4.24, 2.24, 5.1, 5.1, 3.16, 3.61, 6.08],\n",
    "            [4.12, 0, 3.16, 5.66, 7.28, 6, 9, 9.22, 6.4, 3.16, 2.83],\n",
    "            [2.24, 3.16, 0, 3.16, 4.12, 3.16, 6.08, 6.71, 5.39, 4.47, 5.83],\n",
    "            [5, 5.66, 3.16, 0, 3.61, 4.47, 6.4, 7.81, 8.06, 7.62, 8.49],\n",
    "            [4.24, 7.28, 4.12, 3.61, 0, 2.24, 2.83, 4.47, 6.32, 7.81, 9.85],\n",
    "            [2.24, 6, 3.16, 4.47, 2.24, 0, 3, 3.61, 4.12, 5.83, 8.25],\n",
    "            [5.1, 9, 6.08, 6.4, 2.83, 3, 0, 2, 5.66, 8.54, 11.18],\n",
    "            [5.1, 9.22, 6.71, 7.81, 4.47, 3.61, 2, 0, 4.47, 8.06, 11],\n",
    "            [3.16, 6.4, 5.39, 8.06, 6.32, 4.12, 5.66, 4.47, 0, 4.12, 7.28],\n",
    "            [3.61, 3.16, 4.47, 7.62, 7.81, 5.83, 8.54, 8.06, 4.12, 0, 3.16],\n",
    "            [6.08, 2.83, 5.83, 8.49, 9.85, 8.25, 11.18, 11, 7.28, 3.16, 0]]\n",
    "\n",
    "#cartesian coordinate\n",
    "ccoor = [[0, 0],[4, 1],[1, 2],[0, 5],[-3, 3],[-2, 1],[-5, 1],[-5, -1],[-1, -3],[3, -2],[6, -1]]\n",
    "\n",
    "nodes = len(distance) #number of nodes, inluded depot\n",
    "tours = nodes-1 # number of identical vehicles/tours, upper bound equals to the number of customers\n",
    "capacity = 4 #capacity of each vehicle\n",
    "timeRes = 16 #working time window of each vehicle"
   ]
  },
  {
   "cell_type": "code",
   "execution_count": null,
   "metadata": {},
   "outputs": [],
   "source": []
  },
  {
   "cell_type": "code",
   "execution_count": 3,
   "metadata": {},
   "outputs": [],
   "source": [
    "def t_demand(tour):\n",
    "    d = 0\n",
    "    for nd in tour[1:len(tour)-1]:\n",
    "        d += demand[nd]\n",
    "    return d\n",
    "\n",
    "def t_time(tour):\n",
    "    tc=0\n",
    "    for i in range(len(tour)-1): #for each node in solution except last node\n",
    "        tc += distance[tour[i]][tour[i+1]]\n",
    "    return tc"
   ]
  },
  {
   "cell_type": "code",
   "execution_count": 4,
   "metadata": {},
   "outputs": [],
   "source": [
    "def totalcost(solution):\n",
    "    tc = 0\n",
    "    for tour in solution:\n",
    "        tc += t_time(tour)\n",
    "    \n",
    "    return tc"
   ]
  },
  {
   "cell_type": "code",
   "execution_count": 5,
   "metadata": {},
   "outputs": [],
   "source": [
    "#solution encode: SET of tours => do not consider the index of tours => break symmetry: {tour1, tour2} = {tour2, tour1}\n",
    "solution = set()\n",
    "\n",
    "#starting solution = delivery to one customer per tour\n",
    "# no split delivery\n",
    "for i in range(1,nodes):\n",
    "    solution.add((0,i,0))\n",
    "solution.add((0,0))\n",
    "#    tour = (0,i,0)\n",
    "#    solution.add( (tour, capacity-t_demand(tour), timeRes-t_time(tour))  ) #(tour, demand slack, time slack)\n",
    "#solution.add( ((0,0),capacity,timeRes) ) #represent the chance to add new tour"
   ]
  },
  {
   "cell_type": "code",
   "execution_count": 6,
   "metadata": {},
   "outputs": [
    {
     "data": {
      "text/plain": [
       "{(0, 0),\n",
       " (0, 1, 0),\n",
       " (0, 2, 0),\n",
       " (0, 3, 0),\n",
       " (0, 4, 0),\n",
       " (0, 5, 0),\n",
       " (0, 6, 0),\n",
       " (0, 7, 0),\n",
       " (0, 8, 0),\n",
       " (0, 9, 0),\n",
       " (0, 10, 0)}"
      ]
     },
     "execution_count": 6,
     "metadata": {},
     "output_type": "execute_result"
    }
   ],
   "source": [
    "solution"
   ]
  },
  {
   "cell_type": "code",
   "execution_count": null,
   "metadata": {},
   "outputs": [],
   "source": []
  },
  {
   "cell_type": "code",
   "execution_count": 7,
   "metadata": {},
   "outputs": [],
   "source": [
    "def best_insert(tour, node):\n",
    "    length_change = np.zeros(len(tour) - 1) #list of change in length for each possible position to insert new node\n",
    "\n",
    "    for position in range(len(tour) - 1): #iterate through possible positions in current tour\n",
    "        temp_tour = tour[: position+1] + (node,) + tour[position+1 :]\n",
    "\n",
    "        #calculate the change in length between current tour and temp tour\n",
    "        pre_ins_node = tour[position]\n",
    "        nex_ins_node = tour[position + 1]\n",
    "        if pre_ins_node == nex_ins_node:\n",
    "            length_change[position] = distance[pre_ins_node][node] + distance[node][nex_ins_node]\n",
    "        else:\n",
    "            length_change[position] = distance[pre_ins_node][node] + distance[node][nex_ins_node] - distance[pre_ins_node][nex_ins_node]\n",
    "\n",
    "    min_position = np.argmin(length_change) #get the position which create the shortest length change\n",
    "    #length += length_change[min_position]\n",
    "    new_tour = tour[: min_position+1] + (node,) + tour[min_position+1 :]\n",
    "    \n",
    "    return (new_tour, - length_change[min_position])"
   ]
  },
  {
   "cell_type": "code",
   "execution_count": 8,
   "metadata": {},
   "outputs": [],
   "source": [
    "# a move = move a node i from tour k1 to tour k2\n",
    "def move(tour1, tour2, ind):\n",
    "    new_t1 = tour1[:ind] + tour1[ind+1:] #remove node with index ind from tour 1\n",
    "    (new_t2, change) = best_insert(tour2, tour1[ind]) #insert new node into tour 2\n",
    "    \n",
    "    delta = distance[tour1[ind-1]][tour1[ind]] + distance[tour1[ind]][tour1[ind+1]] - distance[tour1[ind-1]][tour1[ind+1]] + change\n",
    "    \n",
    "    return (new_t1, new_t2, delta) #delta = cost of old solution - cost of new solution"
   ]
  },
  {
   "cell_type": "code",
   "execution_count": null,
   "metadata": {},
   "outputs": [],
   "source": []
  },
  {
   "cell_type": "code",
   "execution_count": 9,
   "metadata": {},
   "outputs": [],
   "source": [
    "# a set of neighborhood N(S) = {solutions obtained by applying a single local transformation (move, i.e. add or drop) to S}\n",
    "# new solution must be feasible\n",
    "\n",
    "def neighborhood(solution):  \n",
    "    \n",
    "    #random select a node:\n",
    "    nd = np.random.randint(1,nodes)\n",
    "    \n",
    "    #find the current tour of the random node\n",
    "    for tour in solution:\n",
    "        if nd in tour:\n",
    "            ind = tour.index(nd)\n",
    "            tour1 = tour\n",
    "            break    \n",
    "    # find feasible tour set to swap\n",
    "    possible_tours = []\n",
    "    \n",
    "    #demand constraint\n",
    "    for tour in solution.difference([tour1]):\n",
    "        if (capacity - t_demand(tour) >= demand[nd]): #demand constraint\n",
    "            possible_tours.append(tour) #always include at least tour (0,0)\n",
    "    \n",
    "    #time constraint\n",
    "    feasible = False\n",
    "    while not feasible:\n",
    "        tour2 = random.choice(possible_tours)\n",
    "        if (timeRes - t_time(tour2)) >= (- best_insert(tour2, nd)[1]): #always find at least tour (0,0)\n",
    "            feasible = True\n",
    "            break\n",
    "        else: possible_tours.remove(tour2)\n",
    "    \n",
    "    (new_tour1, new_tour2, delta) = move(tour1, tour2, ind)\n",
    "    temp = solution.difference([tour1, tour2]).union([new_tour1, new_tour2,(0,0)])\n",
    "    \n",
    "    return (temp, delta) #, new_tour1, new_tour2,tour2,tour1)"
   ]
  },
  {
   "cell_type": "code",
   "execution_count": null,
   "metadata": {},
   "outputs": [],
   "source": []
  },
  {
   "cell_type": "code",
   "execution_count": 10,
   "metadata": {},
   "outputs": [],
   "source": [
    "#main function\n",
    "def SA (solution, cost, initial=1, cool_factor=0.95, eval_times=10000, \n",
    "        TimeLimit = None, non_improvement = None, max_iteration = None, min_temp = None):\n",
    "\n",
    "    best = cost\n",
    "    best_solution = solution \n",
    "    best_iter = 0\n",
    "    temperature = initial*best\n",
    "    print(solution)\n",
    "    print(best)\n",
    "    \n",
    "    #time limit condition\n",
    "    from time import process_time \n",
    "    start_time = process_time()\n",
    "     \n",
    "    #max iteration condition\n",
    "    iteration = 0\n",
    "    non_iter = 0\n",
    "    \n",
    "    terminated = False\n",
    "    while not terminated: #termination condition \n",
    "        \n",
    "        improvement = False\n",
    "        iteration += 1 \n",
    "        \n",
    "        #evaluation at given alpha\n",
    "        for k in range(eval_times):\n",
    "            (next_solution, delta) = neighborhood(solution)\n",
    "            #print(next_solution, totalcost(next_solution))\n",
    "            \n",
    "            if delta > 0 or (np.random.random() < math.exp(delta/temperature)): \n",
    "                #print('****', cost, delta)\n",
    "                cost = cost - delta\n",
    "                solution = next_solution\n",
    "            if cost < best:\n",
    "                best = cost\n",
    "                best_solution = solution\n",
    "                best_iter = iteration\n",
    "                improvement = True\n",
    "                print(best, '   ', temperature)\n",
    "                \n",
    "        temperature = cool_factor*temperature\n",
    "\n",
    "        if (TimeLimit is not None): #time elapsed termination\n",
    "            runtime = process_time() - start_time\n",
    "            if (runtime >= TimeLimit): \n",
    "                print('Reach TimeLimit')\n",
    "                terminated = True\n",
    "                \n",
    "        elif (non_improvement is not None): #max iteration without new best solution\n",
    "            if improvement: \n",
    "                non_iter = 0\n",
    "            else: non_iter += 1\n",
    "            if non_iter >= non_improvement:\n",
    "                print('Reach max number of iteration without new best solution')\n",
    "                terminated = True\n",
    "        \n",
    "        elif (max_iteration is not None):\n",
    "            if iteration >= max_iteration:\n",
    "                print('Reach max number of iteration')\n",
    "                terminated = True\n",
    "                \n",
    "        elif (min_temp is not None):\n",
    "            if  temperature < min_temp : \n",
    "                print('Reach min temperature')\n",
    "                terminated = True\n",
    "                \n",
    "        else: \n",
    "            if  temperature < (0.95**100) * initial*length: #default option \n",
    "                print('Reach default min temperature')\n",
    "                terminated = True\n",
    "    \n",
    "    print(\"Terminate\")\n",
    "    print(best_solution)\n",
    "    print(best)"
   ]
  },
  {
   "cell_type": "code",
   "execution_count": 11,
   "metadata": {},
   "outputs": [
    {
     "name": "stdout",
     "output_type": "stream",
     "text": [
      "{(0, 2, 0), (0, 9, 0), (0, 0), (0, 7, 0), (0, 3, 0), (0, 10, 0), (0, 4, 0), (0, 5, 0), (0, 1, 0), (0, 8, 0), (0, 6, 0)}\n",
      "81.78000000000002\n"
     ]
    },
    {
     "name": "stderr",
     "output_type": "stream",
     "text": [
      "C:\\ProgramData\\Anaconda3\\lib\\site-packages\\ipykernel_launcher.py:31: RuntimeWarning: overflow encountered in double_scalars\n"
     ]
    },
    {
     "name": "stdout",
     "output_type": "stream",
     "text": [
      "Reach TimeLimit\n",
      "Terminate\n",
      "{(0, 9, 10, 1, 0), (0, 4, 3, 2, 0), (0, 0), (0, 5, 6, 7, 8, 0)}\n",
      "41.83999999999985\n"
     ]
    }
   ],
   "source": [
    "SA (solution, totalcost(solution), initial=1, cool_factor=0.95, eval_times=100, TimeLimit = 60)"
   ]
  },
  {
   "cell_type": "code",
   "execution_count": 12,
   "metadata": {},
   "outputs": [
    {
     "name": "stdout",
     "output_type": "stream",
     "text": [
      "OK\n"
     ]
    }
   ],
   "source": [
    "if 9 in (8,9):\n",
    "    \n",
    "    print('OK')"
   ]
  },
  {
   "cell_type": "code",
   "execution_count": 13,
   "metadata": {},
   "outputs": [
    {
     "data": {
      "text/plain": [
       "(9, 8, 1, 6)"
      ]
     },
     "execution_count": 13,
     "metadata": {},
     "output_type": "execute_result"
    }
   ],
   "source": [
    "(9,8,7,5)[0:2] + (1,) + (6,4)[0:1]"
   ]
  },
  {
   "cell_type": "code",
   "execution_count": 14,
   "metadata": {},
   "outputs": [
    {
     "data": {
      "text/plain": [
       "((0, 9, 0), -7.22)"
      ]
     },
     "execution_count": 14,
     "metadata": {},
     "output_type": "execute_result"
    }
   ],
   "source": [
    "best_insert((0,0), (0,9,0)[1])"
   ]
  },
  {
   "cell_type": "code",
   "execution_count": null,
   "metadata": {},
   "outputs": [],
   "source": []
  },
  {
   "cell_type": "code",
   "execution_count": null,
   "metadata": {},
   "outputs": [],
   "source": []
  }
 ],
 "metadata": {
  "kernelspec": {
   "display_name": "Python 3",
   "language": "python",
   "name": "python3"
  },
  "language_info": {
   "codemirror_mode": {
    "name": "ipython",
    "version": 3
   },
   "file_extension": ".py",
   "mimetype": "text/x-python",
   "name": "python",
   "nbconvert_exporter": "python",
   "pygments_lexer": "ipython3",
   "version": "3.7.3"
  }
 },
 "nbformat": 4,
 "nbformat_minor": 2
}
