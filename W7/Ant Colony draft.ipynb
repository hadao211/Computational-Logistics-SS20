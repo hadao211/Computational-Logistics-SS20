{
 "cells": [
  {
   "cell_type": "code",
   "execution_count": 4,
   "metadata": {},
   "outputs": [],
   "source": [
    "import numpy as np\n",
    "import pandas as pd\n",
    "import math\n",
    "import random\n",
    "import copy"
   ]
  },
  {
   "cell_type": "code",
   "execution_count": 5,
   "metadata": {},
   "outputs": [],
   "source": [
    "# define function to download data\n",
    "def load_data(url, filename):\n",
    "    import urllib.request\n",
    "    from zipfile import ZipFile\n",
    "    \n",
    "    response = urllib.request.urlretrieve(\n",
    "        url,filename)\n",
    "    #unzip\n",
    "    with ZipFile(filename, 'r') as zip_ref:\n",
    "        zip_ref.extractall()"
   ]
  },
  {
   "cell_type": "code",
   "execution_count": 6,
   "metadata": {},
   "outputs": [],
   "source": [
    "# define fuction to read data from xml file\n",
    "def import_data(filename):\n",
    "    import xml.etree.ElementTree as et \n",
    "    xtree = et.parse(filename)\n",
    "    xroot = xtree.getroot()\n",
    "    \n",
    "    return xroot;"
   ]
  },
  {
   "cell_type": "code",
   "execution_count": 7,
   "metadata": {},
   "outputs": [],
   "source": [
    "# define function to create distance matrix\n",
    "def dist_matrix(cities, xroot):\n",
    "    #create distance matrix\n",
    "    import numpy as np\n",
    "    distance = np.zeros((cities,cities))\n",
    "    \n",
    "    #import data\n",
    "    import xml.etree.ElementTree as et\n",
    "    from_node = 0\n",
    "    for child in xroot.iter('vertex'):\n",
    "        for child1 in child:\n",
    "            dist = float(child1.attrib.get('cost'))\n",
    "            to_node = int(child1.text)\n",
    "            distance[from_node, to_node] = dist\n",
    "\n",
    "        from_node += 1\n",
    "    \n",
    "#     max_distance = np.nanmax(distance)\n",
    "#     for i in range(cities):#\n",
    "#         distance[i,i] = max_distance*10 #very large number for distance to itself => no revisited \n",
    "\n",
    "    return distance "
   ]
  },
  {
   "cell_type": "code",
   "execution_count": null,
   "metadata": {},
   "outputs": [],
   "source": []
  },
  {
   "cell_type": "code",
   "execution_count": null,
   "metadata": {},
   "outputs": [],
   "source": [
    "# Medium size data set: # of nodes = 152\n",
    "url1 = 'http://comopt.ifi.uni-heidelberg.de/software/TSPLIB95/XML-TSPLIB/instances/pr152.xml.zip'\n",
    "zip1 = 'pr152.xml.zip'\n",
    "file1 = 'pr152.xml'\n",
    "cities1 = 152\n",
    "\n",
    "load_data(url1, zip1)\n",
    "xroot1 = import_data(file1)\n",
    "distance1 = dist_matrix(cities1, xroot1)"
   ]
  },
  {
   "cell_type": "code",
   "execution_count": null,
   "metadata": {},
   "outputs": [],
   "source": []
  },
  {
   "cell_type": "code",
   "execution_count": 26,
   "metadata": {},
   "outputs": [],
   "source": [
    "# function to calculate priori attractiveness of a decision \n",
    "# desirablity /visibility = inverse of the distance between two nodes (local information)\n",
    "def visibility (distance):\n",
    "    distance = np.array(distance, dtype = np.float64)\n",
    "    for i in range(distance.shape[0]):\n",
    "        for j in range(distance.shape[1]):\n",
    "            if distance[i,j] != 0:\n",
    "                distance[i,j] = 1.0/distance[i,j]\n",
    "                \n",
    "    return distance"
   ]
  },
  {
   "cell_type": "code",
   "execution_count": null,
   "metadata": {},
   "outputs": [],
   "source": []
  },
  {
   "cell_type": "code",
   "execution_count": null,
   "metadata": {},
   "outputs": [],
   "source": []
  },
  {
   "cell_type": "code",
   "execution_count": null,
   "metadata": {},
   "outputs": [],
   "source": []
  },
  {
   "cell_type": "code",
   "execution_count": 41,
   "metadata": {},
   "outputs": [],
   "source": [
    "#define class Agent (ant) and its function\n",
    "class Agent:\n",
    "    import numpy as np\n",
    "    import pandas as pd\n",
    "    import math\n",
    "    \n",
    "    def __intit__(self, k, cities): #initialization\n",
    "        self.index = k\n",
    "        self.currCity = 0 #start at depot\n",
    "        self.visited = [0]\n",
    "        self.cost = 0\n",
    "        self.unvisited = [x for x in range(1,cities+1)] \n",
    "        self.transition_probs = []\n",
    "        self.tour = []\n",
    "    \n",
    "    def reset_agent(self): #reset whenever starting new iteration\n",
    "        self.currCity = 0 \n",
    "        self.visited = [0]\n",
    "        self.cost = 0\n",
    "        self.unvisited = [x for x in range(1,cities+1)]\n",
    "        self.transition_probs = []\n",
    "        self.tour = []\n",
    "\n",
    "#     def city_sum(self, tau_list, vis_list, i, j): #return tau_ij^alpha * (1/d_ij)^beta\n",
    "#         tau_part = math.pow(tau_list[i,j], alpha)\n",
    "#         vis_part = math.pow(vis_list[i,j], beta)\n",
    "#         return tau_part*vis_part\n",
    "        \n",
    "    # get current transition prob (of unvisited city)\n",
    "    def get_trans_prob(self,tau_list, vis_list, j): #j in unvisited\n",
    "        tau_part = math.pow(tau_list[i,j], alpha)\n",
    "        vis_part = math.pow(vis_list[i,j], beta)\n",
    "        \n",
    "        #numerator = self.city_sum(tau_list, vis_list, self.currCity, j)\n",
    "        #denominator = sum( [ self.city_sum(tau_list, vis_list, self.currCity, l) for l in self.unvisited] )\n",
    "        \n",
    "        return tau_part*vis_part\n",
    "        \n",
    "    \n",
    "#     # update new transition prob \n",
    "#     def cal_trans_prob(self,tau_list, vis_list, j): #return p_ijk\n",
    "#         numerator = self.city_sum(tau_list, vis_list, self.currCity, j) #j in unvisited list\n",
    "#         denominator = sum( [ self.city_sum(tau_list, vis_list, self.currCity, l) for l in self.unvisited] )\n",
    "\n",
    "#         return numerator/denominator\n",
    "    \n",
    "\n",
    "#     def move(self, distance, j): #move from current position to j\n",
    "#         self.cost += distance[self.currCity, j] #update cost\n",
    "#         self.currCity = j #update current position \n",
    "#         self.visited.append(j) #update visited list\n",
    "#         #if j in self.unvisited.remove: \n",
    "#         self.unvisited.remove(j)\n",
    "#         #self.transition_prob = []\n",
    "    \n",
    "\n",
    "    def move(self, distance, tau_list, vis_list):\n",
    "        self.reset_agent()\n",
    "        \n",
    "        while (self.unvisited):\n",
    "            for j in self.unvisited:\n",
    "                self.transition_probs.append(self.get_trans_prob(tau_list, vis_list, j))            \n",
    "\n",
    "            self.transition_probs= self.transition_probs/sum(self.transition_probs) #normalize\n",
    "            nextCity = numpy.random.choice(self.unvisited,1,p=self.transition_probs) #random select next city based on trans_prob\n",
    "            \n",
    "            self.tour.append((self.currCity, nextCity))\n",
    "            self.visited.append(nextCity) #update into visited\n",
    "            self.unvisited.remove(nextCity) #remove from unvisited\n",
    "            self.cost += distance[self.currCity, nextCity] #update length of the tour\n",
    "            \n",
    "            self.currCity=nextCity #update current position\n",
    "            self.transition_probs=[] #reset transition prob\n"
   ]
  },
  {
   "cell_type": "code",
   "execution_count": null,
   "metadata": {},
   "outputs": [],
   "source": []
  },
  {
   "cell_type": "code",
   "execution_count": null,
   "metadata": {},
   "outputs": [],
   "source": []
  },
  {
   "cell_type": "code",
   "execution_count": null,
   "metadata": {},
   "outputs": [],
   "source": []
  },
  {
   "cell_type": "code",
   "execution_count": 39,
   "metadata": {},
   "outputs": [],
   "source": [
    "iterations = 50 #number of iterations\n",
    "\n",
    "# intensities \n",
    "intensity = 0.0001\n",
    "\n",
    "# # of ants: default value = # of cities\n",
    "# too many ants will reinforce not optimal solutions (visit un-optimal tour too often)\n",
    "# too few ants would not produce cooperative effect due to pheromone decay\n",
    "agents = cities #number of agents\n",
    "\n",
    "# Relative weight of feedback: how greedy the algorithm is => EXPLOITATION EFFECT \n",
    "# alpha = 0 => extremly greedy (alpha >= 0) => control the influence of the amount of pheromone deposited \n",
    "alpha = 1\n",
    "\n",
    "# Relative weight of problem information: how fast the ants is converge to a steady solution => EXPLORATION EFFECT\n",
    "# beta >= 1 => control desirability of state transition (i.e. 1/d)\n",
    "beta = 2\n",
    "\n",
    "# Trail increment: how much pheromone is deposited in between steps in the process\n",
    "# ontrol the level of exploration undertaken by the ants\n",
    "Q = 1\n",
    "\n",
    "# Pheromone evaporation rate (Forgetting rate)\n",
    "# small = slow evaporation => more amplification of the initial random fluctuation\n",
    "# high = fast evaporation => evaporate quickly (less influence of memory on decision) => constantly doing random searches\n",
    "rho = 0.1"
   ]
  },
  {
   "cell_type": "code",
   "execution_count": 9,
   "metadata": {},
   "outputs": [],
   "source": [
    "# 120 cities\n",
    "cities = 120\n",
    "\n",
    "di = pd.read_excel(\"gr120.xlsx\",sheet_name=\"DistanceMatrix\")\n",
    "distance=di.values\n",
    "\n",
    "#for i in range(cities):\n",
    "#    distance[i,i] = 10000\n",
    "\n",
    "ds = visibility(distance)\n",
    "taus = intensity * np.ones(distance.shape)"
   ]
  },
  {
   "cell_type": "code",
   "execution_count": null,
   "metadata": {},
   "outputs": [],
   "source": []
  },
  {
   "cell_type": "code",
   "execution_count": null,
   "metadata": {},
   "outputs": [],
   "source": [
    "#main algorithm\n",
    "#run iterations\n",
    "for it in range(iterations):\n",
    "    colony = []\n",
    "    for k in range(agents):\n",
    "        colony.append(Ant(k, cities))\n",
    "    \n",
    "    delta_tau = np.zeros((agents, cities+1, cities+1))\n",
    "    for k in range(agents):\n",
    "        colony[k].move(distance, taus, ds)\n",
    "        tour_k = colony[k].visited\n",
    "        L_k = colony[k].cost\n",
    "        for i in range(cities+1):\n",
    "            for j in range(cities+1):\n",
    "                if (i,j) is in colony[k].tour:\n",
    "                    delta_tau[k,i,j] = Q/L_k\n",
    "    for i in range(cities+1):\n",
    "        for j in range(cities+1):\n",
    "            taus[i,j] = rho*taus[i,j] + sum( [delta_tau[k,i,j] for k in range(agents)] )\n",
    "            \n",
    "\n"
   ]
  },
  {
   "cell_type": "code",
   "execution_count": null,
   "metadata": {},
   "outputs": [],
   "source": []
  },
  {
   "cell_type": "code",
   "execution_count": 27,
   "metadata": {},
   "outputs": [
    {
     "data": {
      "text/plain": [
       "array([[0.        , 0.00187266, 0.00230415, ..., 0.00229885, 0.00271003,\n",
       "        0.00826446],\n",
       "       [0.00187266, 0.        , 0.00934579, ..., 0.00153139, 0.00598802,\n",
       "        0.00195695],\n",
       "       [0.00230415, 0.00934579, 0.        , ..., 0.00178571, 0.01265823,\n",
       "        0.00239234],\n",
       "       ...,\n",
       "       [0.00229885, 0.00153139, 0.00178571, ..., 0.        , 0.00204918,\n",
       "        0.003125  ],\n",
       "       [0.00271003, 0.00598802, 0.01265823, ..., 0.00204918, 0.        ,\n",
       "        0.00288184],\n",
       "       [0.00826446, 0.00195695, 0.00239234, ..., 0.003125  , 0.00288184,\n",
       "        0.        ]])"
      ]
     },
     "execution_count": 27,
     "metadata": {},
     "output_type": "execute_result"
    }
   ],
   "source": [
    "visibility(distance)"
   ]
  },
  {
   "cell_type": "code",
   "execution_count": 25,
   "metadata": {},
   "outputs": [
    {
     "data": {
      "text/plain": [
       "array([[  0, 534, 434, ..., 435, 369, 121],\n",
       "       [534,   0, 107, ..., 653, 167, 511],\n",
       "       [434, 107,   0, ..., 560,  79, 418],\n",
       "       ...,\n",
       "       [435, 653, 560, ...,   0, 488, 320],\n",
       "       [369, 167,  79, ..., 488,   0, 347],\n",
       "       [121, 511, 418, ..., 320, 347,   0]], dtype=int64)"
      ]
     },
     "execution_count": 25,
     "metadata": {},
     "output_type": "execute_result"
    }
   ],
   "source": [
    "distance\n"
   ]
  },
  {
   "cell_type": "code",
   "execution_count": 36,
   "metadata": {},
   "outputs": [
    {
     "name": "stdout",
     "output_type": "stream",
     "text": [
      "None\n"
     ]
    }
   ],
   "source": []
  }
 ],
 "metadata": {
  "kernelspec": {
   "display_name": "Python 3",
   "language": "python",
   "name": "python3"
  },
  "language_info": {
   "codemirror_mode": {
    "name": "ipython",
    "version": 3
   },
   "file_extension": ".py",
   "mimetype": "text/x-python",
   "name": "python",
   "nbconvert_exporter": "python",
   "pygments_lexer": "ipython3",
   "version": "3.7.3"
  }
 },
 "nbformat": 4,
 "nbformat_minor": 2
}
