{
 "cells": [
  {
   "cell_type": "code",
   "execution_count": 6,
   "metadata": {},
   "outputs": [
    {
     "name": "stdout",
     "output_type": "stream",
     "text": [
      "[ 900.    0.    0.  100.  400. 1000.]\n"
     ]
    }
   ],
   "source": [
    "import numpy as np\n",
    "demand = [750, 100, 50, 100, 400, 1000]\n",
    "setupcost = 400\n",
    "holdingcost = 2\n",
    "\n",
    "lotsize=np.zeros(6)\n",
    "\n",
    "k=0\n",
    "z = k+1\n",
    "value = setupcost\n",
    "lotsize[k] = demand[k]\n",
    "while z <= 5:\n",
    "  vn = value+holdingcost*(z-k)*demand[z]\n",
    "  if value/(z-k) >= vn/(z-k+1):\n",
    "    lotsize[k] = lotsize[k]+demand[z]\n",
    "    value = vn\n",
    "    z=z+1\n",
    "  else: k=z; z = k+1; value = setupcost; lotsize[k] = demand[k]\n",
    "\n",
    "print(lotsize)"
   ]
  },
  {
   "cell_type": "code",
   "execution_count": null,
   "metadata": {},
   "outputs": [],
   "source": []
  }
 ],
 "metadata": {
  "kernelspec": {
   "display_name": "Python 3",
   "language": "python",
   "name": "python3"
  },
  "language_info": {
   "codemirror_mode": {
    "name": "ipython",
    "version": 3
   },
   "file_extension": ".py",
   "mimetype": "text/x-python",
   "name": "python",
   "nbconvert_exporter": "python",
   "pygments_lexer": "ipython3",
   "version": "3.7.3"
  }
 },
 "nbformat": 4,
 "nbformat_minor": 4
}
