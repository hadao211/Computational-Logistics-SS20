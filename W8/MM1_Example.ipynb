{
 "cells": [
  {
   "cell_type": "code",
   "execution_count": 32,
   "metadata": {},
   "outputs": [
    {
     "name": "stdout",
     "output_type": "stream",
     "text": [
      " 0.0000 Customer00: Arrival \n",
      " 0.0000 Customer00: Waited  0.000\n",
      " 0.7714 Customer00: Finished\n",
      " 0.8641 Customer01: Arrival \n",
      " 0.8641 Customer01: Waited  0.000\n",
      " 0.8788 Customer01: Finished\n",
      " 2.0723 Customer02: Arrival \n",
      " 2.0723 Customer02: Waited  0.000\n",
      " 2.2219 Customer03: Arrival \n",
      " 2.6929 Customer04: Arrival \n",
      " 2.7608 Customer02: Finished\n",
      " 2.7608 Customer03: Waited  0.539\n",
      " 3.0388 Customer03: Finished\n",
      " 3.0388 Customer04: Waited  0.346\n",
      " 3.0493 Customer04: Finished\n",
      " 3.0740 Customer05: Arrival \n",
      " 3.0740 Customer05: Waited  0.000\n",
      " 3.1311 Customer05: Finished\n",
      " 3.1877 Customer06: Arrival \n",
      " 3.1877 Customer06: Waited  0.000\n",
      " 3.3610 Customer07: Arrival \n",
      " 3.3800 Customer08: Arrival \n",
      " 3.4563 Customer06: Finished\n",
      " 3.4563 Customer07: Waited  0.095\n",
      " 3.5933 Customer09: Arrival \n",
      " 3.5974 Customer10: Arrival \n",
      " 3.6147 Customer07: Finished\n",
      " 3.6147 Customer08: Waited  0.235\n",
      " 3.7755 Customer11: Arrival \n",
      " 4.1233 Customer12: Arrival \n",
      " 4.4981 Customer08: Finished\n",
      " 4.4981 Customer09: Waited  0.905\n",
      " 4.7451 Customer09: Finished\n",
      " 4.7451 Customer10: Waited  1.148\n",
      " 4.8965 Customer13: Arrival \n",
      " 4.9870 Customer10: Finished\n",
      " 4.9870 Customer11: Waited  1.211\n",
      " 5.1478 Customer14: Arrival \n",
      " 5.2316 Customer11: Finished\n",
      " 5.2316 Customer12: Waited  1.108\n",
      " 5.8810 Customer15: Arrival \n",
      " 5.9824 Customer12: Finished\n",
      " 5.9824 Customer13: Waited  1.086\n",
      " 6.1361 Customer13: Finished\n",
      " 6.1361 Customer14: Waited  0.988\n",
      " 6.2934 Customer16: Arrival \n",
      " 6.3825 Customer17: Arrival \n",
      " 6.4012 Customer14: Finished\n",
      " 6.4012 Customer15: Waited  0.520\n",
      " 6.4995 Customer15: Finished\n",
      " 6.4995 Customer16: Waited  0.206\n",
      " 6.5020 Customer18: Arrival \n",
      " 7.0108 Customer19: Arrival \n",
      " 7.8889 Customer16: Finished\n",
      " 7.8889 Customer17: Waited  1.506\n",
      " 7.9558 Customer17: Finished\n",
      " 7.9558 Customer18: Waited  1.454\n",
      " 7.9559 Customer18: Finished\n",
      " 7.9559 Customer19: Waited  0.945\n",
      " 8.1528 Customer19: Finished\n",
      " 8.8364 Customer20: Arrival \n",
      " 8.8364 Customer20: Waited  0.000\n",
      " 8.9944 Customer21: Arrival \n",
      " 9.1026 Customer22: Arrival \n",
      " 9.5922 Customer20: Finished\n",
      " 9.5922 Customer21: Waited  0.598\n",
      " 9.6422 Customer21: Finished\n",
      " 9.6422 Customer22: Waited  0.540\n",
      "Utilization: 0.8183456502994517\n",
      "Average waiting time: 0.583923223023926\n"
     ]
    },
    {
     "data": {
      "image/png": "[encoded data removed]",
      "text/plain": [
       "<Figure size 432x288 with 1 Axes>"
      ]
     },
     "metadata": {
      "needs_background": "light"
     },
     "output_type": "display_data"
    },
    {
     "data": {
      "image/png": "[encoded data removed]",
      "text/plain": [
       "<Figure size 432x288 with 1 Axes>"
      ]
     },
     "metadata": {
      "needs_background": "light"
     },
     "output_type": "display_data"
    }
   ],
   "source": [
    "# Simulation of an M/M/n queue\n",
    "\n",
    "import simpy\n",
    "import random\n",
    "import numpy as np\n",
    "import matplotlib.pyplot as plt\n",
    "\n",
    "servers = 1\n",
    "customers = 30\n",
    "runtime = 10\n",
    "arrivals = 2\n",
    "processing = 3\n",
    "\n",
    "timing = []\n",
    "waitingtime = []\n",
    "utilization = []\n",
    "\n",
    "def source(env, counter):\n",
    "    for i in range(customers):\n",
    "        c = customer(env, 'Customer%02d' % i, counter)\n",
    "        env.process(c) # Add new customer process\n",
    "        t = random.expovariate(arrivals)\n",
    "        yield env.timeout(t) # Wait until interarrival time has passed\n",
    "        \n",
    "def customer(env, name, counter):\n",
    "    arrive = env.now\n",
    "    print('%7.4f %s: Arrival ' % (arrive, name))\n",
    "    \n",
    "    with counter.request() as req:\n",
    "        # Wait for the counter to be free\n",
    "        yield req\n",
    "        \n",
    "        wait = env.now - arrive    \n",
    "        waitingtime.append(wait)\n",
    "        # We got to the counter\n",
    "        print('%7.4f %s: Waited %6.3f' % (env.now, name, wait))\n",
    "        tib = random.expovariate(processing) # Processing time\n",
    "        utilization.append(tib)\n",
    "        yield env.timeout(tib) # Wait until processing is done\n",
    "        \n",
    "        print('%7.4f %s: Finished' % (env.now, name))\n",
    "        timing.append(env.now)\n",
    "\n",
    "env = simpy.Environment() #create simulation environment\n",
    "\n",
    "counter = simpy.Resource(env, capacity=servers) # simpy resources\n",
    "env.process(source(env,counter))\n",
    "env.run(until=runtime)\n",
    "\n",
    "print(\"Utilization: \"+str(np.sum(utilization)/runtime))\n",
    "print(\"Average waiting time: \"+str(np.mean(waitingtime)))\n",
    "\n",
    "utu = []\n",
    "wtu = []\n",
    "for k in range(len(timing)):\n",
    "  utu.append(np.sum(utilization[:k+1])/timing[k])\n",
    "  wtu.append(np.sum(waitingtime[:k+1])/(k+1))  \n",
    " \n",
    "plt.plot(timing,utu,'bs')\n",
    "plt.xlabel(\"Time\")\n",
    "plt.ylabel(\"Utilization\")\n",
    "plt.show()\n",
    "\n",
    "plt.plot(timing,wtu,'r^')\n",
    "plt.xlabel(\"Time\")\n",
    "plt.ylabel(\"Average waiting time\")\n",
    "plt.show()"
   ]
  },
  {
   "cell_type": "code",
   "execution_count": null,
   "metadata": {},
   "outputs": [],
   "source": []
  }
 ],
 "metadata": {
  "kernelspec": {
   "display_name": "Python 3",
   "language": "python",
   "name": "python3"
  },
  "language_info": {
   "codemirror_mode": {
    "name": "ipython",
    "version": 3
   },
   "file_extension": ".py",
   "mimetype": "text/x-python",
   "name": "python",
   "nbconvert_exporter": "python",
   "pygments_lexer": "ipython3",
   "version": "3.7.3"
  }
 },
 "nbformat": 4,
 "nbformat_minor": 4
}
