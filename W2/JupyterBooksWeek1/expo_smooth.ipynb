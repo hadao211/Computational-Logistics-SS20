{
 "cells": [
  {
   "cell_type": "code",
   "execution_count": 2,
   "metadata": {},
   "outputs": [
    {
     "name": "stdout",
     "output_type": "stream",
     "text": [
      "[100.      90.      92.5     83.75    71.875   95.9375]\n"
     ]
    },
    {
     "data": {
      "image/png": "[encoded data removed]",
      "text/plain": [
       "<Figure size 432x288 with 1 Axes>"
      ]
     },
     "metadata": {
      "needs_background": "light"
     },
     "output_type": "display_data"
    }
   ],
   "source": [
    "# Forecasting with Exponential Smoothing\n",
    "\n",
    "import numpy as np\n",
    "import matplotlib.pyplot as plt\n",
    "start = 100\n",
    "alpha = 0.5\n",
    "demand = [80, 95, 75, 60, 120, 100]\n",
    "forecast = np.zeros(6)\n",
    "forecast[0] = start\n",
    "for i in range(5): #index starts from 0 => range(5) = 0...4 (5 elements)\n",
    "  forecast[i+1] = alpha*demand[i]+(1-alpha)*forecast[i] #create block by indent\n",
    "print(forecast)\n",
    "\n",
    "# Output plots\n",
    "# https://github.com/rougier/matplotlib-tutorial\n",
    "\n",
    "plt.plot([1,2,3,4,5,6],demand,'bs')\n",
    "plt.plot([1,2,3,4,5,6],forecast,'g^')\n",
    "plt.xlabel(\"Time\")\n",
    "plt.ylabel(\"Forecast\")\n",
    "plt.show()\n",
    "    "
   ]
  },
  {
   "cell_type": "code",
   "execution_count": null,
   "metadata": {},
   "outputs": [],
   "source": []
  }
 ],
 "metadata": {
  "kernelspec": {
   "display_name": "Python 3",
   "language": "python",
   "name": "python3"
  },
  "language_info": {
   "codemirror_mode": {
    "name": "ipython",
    "version": 3
   },
   "file_extension": ".py",
   "mimetype": "text/x-python",
   "name": "python",
   "nbconvert_exporter": "python",
   "pygments_lexer": "ipython3",
   "version": "3.7.3"
  }
 },
 "nbformat": 4,
 "nbformat_minor": 4
}
