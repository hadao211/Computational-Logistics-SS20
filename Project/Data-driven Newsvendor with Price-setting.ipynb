{
 "cells": [
  {
   "cell_type": "code",
   "execution_count": 131,
   "metadata": {},
   "outputs": [],
   "source": [
    "# Data-driven Newsvendor with Pricing\n",
    "import numpy as np\n",
    "import pandas as pd\n",
    "import gurobipy as gp\n",
    "from gurobipy import GRB\n",
    "from sklearn import linear_model\n",
    "import matplotlib.pyplot as plt\n",
    "%matplotlib inline"
   ]
  },
  {
   "cell_type": "code",
   "execution_count": 132,
   "metadata": {},
   "outputs": [],
   "source": [
    "#Initalization\n",
    "a = 0 #y-intercept or market size\n",
    "b = 0 #coefficient of price\n",
    "p = [] #price sampling\n",
    "D = [] #demand sampling\n",
    "u = [] #estimation error term sampling\n",
    "sigma = 0 #std of estimation error terms sampling\n"
   ]
  },
  {
   "cell_type": "code",
   "execution_count": 133,
   "metadata": {},
   "outputs": [],
   "source": [
    "#Parameters for example illustration\n",
    "n = 200 #sample size\n",
    "cv = 0.5 #coefficient of variance\n",
    "c = 0.5 #procurement cost per unit\n",
    "alpha = 0.9 #non-stockout probability\n",
    "\n",
    "#Sampling range\n",
    "lbp = 1 #lower bound of price\n",
    "ubp = 1.5 #upper bound of price\n",
    "lba = 1500 #lb of a\n",
    "uba = 2000 #up of a\n",
    "lbb = 500 #lb of b\n",
    "ubb = 1000 #ub of b"
   ]
  },
  {
   "cell_type": "code",
   "execution_count": null,
   "metadata": {},
   "outputs": [],
   "source": []
  },
  {
   "cell_type": "markdown",
   "metadata": {},
   "source": [
    "# IMPLEMENTATION"
   ]
  },
  {
   "cell_type": "markdown",
   "metadata": {},
   "source": [
    "We can divide the main problem into two subproblems as follows:  \n",
    "1) to learn the relationship between demand/ ordering quantity and price   \n",
    "2) to find optimal quantity and price   \n"
   ]
  },
  {
   "cell_type": "code",
   "execution_count": null,
   "metadata": {},
   "outputs": [],
   "source": []
  },
  {
   "cell_type": "markdown",
   "metadata": {},
   "source": [
    "## DEMAND/ ORDERING QUANTITY ESTIMATION (BEUTEL 2012)"
   ]
  },
  {
   "cell_type": "markdown",
   "metadata": {},
   "source": [
    "**Reference:** Beutel, A. L., & Minner, S. (2012). *Safety stock planning under causal demand forecasting*. International Journal of Production Economics, 140(2), 637-645."
   ]
  },
  {
   "cell_type": "markdown",
   "metadata": {},
   "source": [
    "### Function to generate sampling of demand and price:\n",
    "Demand is presented here as a function of price p: D(p) = a - b\\*p + u.  \n",
    "Demand - price observation set is built by randomly choose a, b, p and u. In more detail:\n",
    "- market size a ~ U(1500, 2000)\n",
    "- slope b ~ U(500, 1000)\n",
    "- uniformly chosen sample of price p (with size = sampleSize) in range [1, 1.5] \n",
    "- D equals to the sum of prediction value plus estimation error u ~ N(0, sigma). Sigma is chosen so that the coefficient of variation at mean price p equals coefVar.\n",
    "\n",
    "It should be noticed that here we will focus on the case that demand is relatively elastic with price. The reason is that in case of relatively price elasticity, demand responds weakly with the changes of price. Therefore, the vendor has the incentive to increase price as much as possible while only facing a little decrease in demand quantity. Combining with a ratio between overage and underage cost that is low enough (co < cu), it may lead to an ordering quantity function increasing with price increase and an unbound problem in price-setting newsvendor problem. Therefore, in the sampling generation function, we will reject the sample with relatively low price elasticity (<1) by checking the arc elasticity over the defined price range from OLS linear regression demand function.\n"
   ]
  },
  {
   "cell_type": "code",
   "execution_count": 134,
   "metadata": {},
   "outputs": [],
   "source": [
    "# Demand - Price generation\n",
    "def samplingDemand(sampleSize, coefVar):\n",
    "    \n",
    "    global a, b, p, D, u, sigma\n",
    "    a = 0; b = 0; p = []; D = []; u = []; sigma = 0;\n",
    "    \n",
    "    lowElasticity = True\n",
    "    while lowElasticity:\n",
    "        a = np.random.uniform(low = lba, high = uba)\n",
    "        b = np.random.uniform(low = lbb, high = ubb)\n",
    "        p = np.random.uniform(size = [sampleSize, 1])*(ubp - lbp) + lbp # uniformly chosen in price range [1, 1.5]\n",
    "\n",
    "        meanP = np.mean(p)\n",
    "        sigma = (a - b*meanP)*coefVar\n",
    "        u = np.zeros(shape = (sampleSize,))\n",
    "        D = np.repeat(-1, repeats = sampleSize)\n",
    "        for i in range(sampleSize):\n",
    "            while D[i] < 0:\n",
    "                u[i] = np.random.normal(loc = 0, scale = sigma)\n",
    "                D[i] = a - b*p[i] + u[i]\n",
    " \n",
    "\n",
    "        #check Arc price elasticity\n",
    "        # OLS Linear regression for comparison\n",
    "        reg = linear_model.LinearRegression().fit(p, D)\n",
    "        coef2 = reg.coef_\n",
    "        coef1 = reg.intercept_\n",
    "        Q1 = coef1 + coef2*lbp\n",
    "        Q2 = coef1 + coef2*ubp\n",
    "        arcElasticity = ((lbp + ubp) / (Q1 + Q2)) * ((Q2 - Q1) / (ubp - lbp))\n",
    "        if abs(arcElasticity) >= 1: lowElasticity = False\n",
    "    \n",
    "    return coef1, coef2"
   ]
  },
  {
   "cell_type": "markdown",
   "metadata": {},
   "source": [
    "Sampling example:"
   ]
  },
  {
   "cell_type": "code",
   "execution_count": 135,
   "metadata": {},
   "outputs": [
    {
     "data": {
      "text/plain": [
       "Text(0.5, 1.0, 'Demand sampling')"
      ]
     },
     "execution_count": 135,
     "metadata": {},
     "output_type": "execute_result"
    },
    {
     "data": {
      "image/png": "[encoded data removed]",
      "text/plain": [
       "<Figure size 432x288 with 1 Axes>"
      ]
     },
     "metadata": {
      "needs_background": "light"
     },
     "output_type": "display_data"
    }
   ],
   "source": [
    "coef1, coef2 = samplingDemand(sampleSize = n, coefVar = cv)\n",
    "plt.plot(p,D, 'o', label = 'D(p) = ' + str(round(a,0)) + ' - ' + str(round(b,2)) + 'p + u')\n",
    "plt.plot(p, coef1 + coef2*p, 'g-', label = 'Demand prediction with OLS Linear regression')\n",
    "plt.legend(loc = 8)\n",
    "plt.xlabel('Price')\n",
    "plt.ylabel('Demand')\n",
    "plt.legend()\n",
    "plt.title('Demand sampling')"
   ]
  },
  {
   "cell_type": "code",
   "execution_count": null,
   "metadata": {},
   "outputs": [],
   "source": []
  },
  {
   "cell_type": "markdown",
   "metadata": {},
   "source": [
    "### Optimization model to find the ordering quantity as a function of price\n",
    "Here we use the approach presented in Beutel (2012) that integrates demand estimation and ordering optimization in a single model (instead of sequential steps) to learn about the relationship between ordering quantity and price. The main idea is to predict the ordering quantity by exploring historical data of demand-price with consideration of the overage and underage costs during estimating (i.e. different weights applied to the positive/negative errors in regression).  \n",
    "  \n",
    "There is a slight difference in two models below to the base models in Beutel (2012). In her models, Beutel assumes fixed holding cost and penalty cost, representing the overage and underage cost respectively. In other words, these costs are **independent with selling price**. However, here we will define the overage and underage cost as in the traditional newsvendor model, i.e.:     \n",
    "- overage cost (co) = procurement cost (c)\n",
    "- underage cost (cu) = selling price - procurement cost (p-c)\n",
    "\n",
    "Therefore, the underage cost and so the critical fractile **depends on the selling price**. This modification is to match with the model in the second step and is more logical especially when considering the context of price-setting newsvendor, since it causes the trade-off characteristic in price decision. For example, increasing price affects the total cost (expected profit) in both positive way by decreasing underage cost (increasing revenue) per unit and negative way by decreasing demand.\n"
   ]
  },
  {
   "cell_type": "code",
   "execution_count": null,
   "metadata": {},
   "outputs": [],
   "source": []
  },
  {
   "cell_type": "markdown",
   "metadata": {},
   "source": [
    "Two following models assume ordering quantity is a linear function of the price: *q = beta0 + beta1 * p*. The decision variables in these models are the coefficients beta0 and beta1, as well as the waste (overage) and shortage (underage) for each demand observation. The objective function is considered as a cost minimization objective or with a service level constraint in each model."
   ]
  },
  {
   "cell_type": "markdown",
   "metadata": {},
   "source": [
    "#### The cost model"
   ]
  },
  {
   "cell_type": "code",
   "execution_count": 136,
   "metadata": {},
   "outputs": [],
   "source": [
    "# Cost model\n",
    "def costModel(sampleSize, procurementCost):\n",
    "    \n",
    "    baseCostModel = gp.Model(\"Base Cost model\")\n",
    "\n",
    "    #### Variables\n",
    "    betaC0 = baseCostModel.addVar(lb = - GRB.INFINITY, vtype = GRB.CONTINUOUS) # ~ a\n",
    "    betaC1 = baseCostModel.addVar(lb = - GRB.INFINITY, vtype = GRB.CONTINUOUS) # ~ b\n",
    "\n",
    "    waste = {} # = q - D (overage)\n",
    "    shortage = {} # = D - q (underage)\n",
    "    sales = {} # = min(D, q)\n",
    "    for i in range(sampleSize):\n",
    "        #overage cost per unit = c(co)\n",
    "        waste[i] = baseCostModel.addVar(lb = 0, vtype = GRB.CONTINUOUS, obj = procurementCost) \n",
    "        #underage cost per unit = p-c (cu)\n",
    "        shortage[i] = baseCostModel.addVar(lb = 0, vtype = GRB.CONTINUOUS, obj = p[i] - procurementCost)\n",
    "\n",
    "        sales[i] = baseCostModel.addVar(lb = 0, vtype = GRB.CONTINUOUS)\n",
    "\n",
    "    #### Constraints\n",
    "    for i in range(sampleSize):\n",
    "        baseCostModel.addConstr(shortage[i] == D[i] - sales[i])\n",
    "        baseCostModel.addConstr(waste[i] >= betaC0 + betaC1 * p[i] - D[i])\n",
    "        baseCostModel.addConstr(sales[i] <= D[i])\n",
    "        baseCostModel.addConstr(sales[i] <= betaC0 + betaC1 * p[i])\n",
    "        \n",
    "    baseCostModel.Params.OutputFlag = 0\n",
    "    baseCostModel.optimize()\n",
    "    obj = baseCostModel.objVal; beta0 = betaC0.x; beta1 = betaC1.x;\n",
    "    baseCostModel.dispose()\n",
    "    \n",
    "    return obj, beta0, beta1"
   ]
  },
  {
   "cell_type": "code",
   "execution_count": null,
   "metadata": {},
   "outputs": [],
   "source": []
  },
  {
   "cell_type": "markdown",
   "metadata": {},
   "source": [
    "Example of ordering quantity function with Cost model"
   ]
  },
  {
   "cell_type": "code",
   "execution_count": 137,
   "metadata": {},
   "outputs": [
    {
     "name": "stdout",
     "output_type": "stream",
     "text": [
      "Objective: 24860.180747037786\n",
      "Estimation of a: 1161.4400969210872\n",
      "Estimation of b: -442.82905437319835\n",
      "\n",
      "Ordering quantity - price function: D =  1161.0 + -442.83 * p\n"
     ]
    },
    {
     "data": {
      "image/png": "[encoded data removed]",
      "text/plain": [
       "<Figure size 432x288 with 1 Axes>"
      ]
     },
     "metadata": {
      "needs_background": "light"
     },
     "output_type": "display_data"
    }
   ],
   "source": [
    "objC, betaC0, betaC1 = costModel(sampleSize = n, procurementCost = c)\n",
    "print(\"Objective:\",objC)\n",
    "print('Estimation of a:', betaC0)\n",
    "print('Estimation of b:', betaC1)\n",
    "\n",
    "print('\\nOrdering quantity - price function: D = ', round(betaC0,0),'+', round(betaC1,2),'* p')\n",
    "\n",
    "\n",
    "#Plot\n",
    "plt.plot(p,D,'o')\n",
    "plt.plot(p, betaC0 + betaC1*p, label='Ordering quantity function')\n",
    "plt.plot(p, coef1 + coef2*p, label = 'Demand prediction with OLS Linear regression')\n",
    "plt.legend(loc = 8)\n",
    "plt.xlabel('Price')\n",
    "plt.ylabel('Demand')\n",
    "plt.title('Cost model')\n",
    "plt.show()"
   ]
  },
  {
   "cell_type": "code",
   "execution_count": null,
   "metadata": {},
   "outputs": [],
   "source": []
  },
  {
   "cell_type": "markdown",
   "metadata": {},
   "source": [
    "#### The service level model"
   ]
  },
  {
   "cell_type": "code",
   "execution_count": 38,
   "metadata": {},
   "outputs": [],
   "source": [
    "# Service level model\n",
    "def SLModel(sampleSize, procurementCost, nonStockOut):\n",
    "    \n",
    "    baseSLModel = gp.Model(\"Base Service level model\")\n",
    "\n",
    "    #### Variables\n",
    "    betaSL0 = baseSLModel.addVar(lb = - GRB.INFINITY, vtype = GRB.CONTINUOUS) # ~ a\n",
    "    betaSL1 = baseSLModel.addVar(lb = - GRB.INFINITY, vtype = GRB.CONTINUOUS) # ~ b\n",
    "\n",
    "    waste = {}\n",
    "    sales = {}\n",
    "    unfulfilled = {} # binary variable = 1 if D > q (underage, unfulfilled demand existing), = 0 otherwise\n",
    "    for i in range(sampleSize):\n",
    "        waste[i] = baseSLModel.addVar(lb = 0, vtype = GRB.CONTINUOUS, obj = procurementCost)   \n",
    "        sales[i] = baseSLModel.addVar(lb = 0, vtype = GRB.CONTINUOUS)\n",
    "        unfulfilled[i] = baseSLModel.addVar(vtype = GRB.BINARY)\n",
    "\n",
    "    #### Constraints\n",
    "    for i in range(sampleSize):\n",
    "        baseSLModel.addConstr(waste[i] >= betaSL0 + betaSL1 * p[i] - D[i])\n",
    "        baseSLModel.addConstr(sales[i] <= D[i])\n",
    "        baseSLModel.addConstr(sales[i] <= betaSL0 + betaSL1 * p[i])\n",
    "\n",
    "        #if D < q then unfulfilled must equal to 1\n",
    "        baseSLModel.addConstr(D[i] - unfulfilled[i]*np.max(D) <= betaSL0 + betaSL1 * p[i])\n",
    "\n",
    "    #non-stockout (alpha level)    \n",
    "    baseSLModel.addConstr(sum(unfulfilled[i] for i in range(sampleSize)) <= sampleSize*(1-nonStockOut)) \n",
    "\n",
    "    #fillrate (beta level)\n",
    "    #baseSLModel.addConstr( sum(sales[i] for i in range(sampleSize)) >= fillRate * sum(D[i] for i in range(sampleSize)) )\n",
    "\n",
    "    baseSLModel.Params.OutputFlag = 0\n",
    "    baseSLModel.optimize()\n",
    "    obj = baseSLModel.objVal; beta0 = betaSL0.x; beta1 = betaSL1.x;\n",
    "    baseSLModel.dispose()\n",
    "    \n",
    "    return obj, beta0, beta1"
   ]
  },
  {
   "cell_type": "code",
   "execution_count": null,
   "metadata": {},
   "outputs": [],
   "source": []
  },
  {
   "cell_type": "markdown",
   "metadata": {},
   "source": [
    "Example of ordering quantity function with Service level model (alpha level)"
   ]
  },
  {
   "cell_type": "code",
   "execution_count": 39,
   "metadata": {
    "scrolled": false
   },
   "outputs": [
    {
     "name": "stdout",
     "output_type": "stream",
     "text": [
      "Objective: 37480.86121921657\n",
      "Estimation of a: 1957.1556277461339\n",
      "Estimation of b: -804.3990742588601\n",
      "\n",
      "Ordering quantity - price function: D =  1957.0 + -804.4 * p\n"
     ]
    },
    {
     "data": {
      "image/png": "[encoded data removed]",
      "text/plain": [
       "<Figure size 432x288 with 1 Axes>"
      ]
     },
     "metadata": {
      "needs_background": "light"
     },
     "output_type": "display_data"
    }
   ],
   "source": [
    "objSL, betaSL0, betaSL1 = SLModel(sampleSize = n, procurementCost = c, nonStockOut = alpha)\n",
    "print(\"Objective:\",objSL)\n",
    "print('Estimation of a:', betaSL0)\n",
    "print('Estimation of b:', betaSL1)\n",
    "\n",
    "print('\\nOrdering quantity - price function: D = ', round(betaSL0,0),'+', round(betaSL1,2),'* p')\n",
    "\n",
    "\n",
    "# OLS Linear regression for comparison\n",
    "reg = linear_model.LinearRegression().fit(p, D)\n",
    "coef2 = reg.coef_\n",
    "coef1 = reg.intercept_\n",
    "\n",
    "#Plot\n",
    "plt.plot(p,D,'o')\n",
    "plt.plot(p, betaSL0 + betaSL1*p, label='Ordering quantity function (alpha level = ' +str(alpha)+')' )\n",
    "plt.plot(p, coef1 + coef2*p, label = 'Demand prediction with OLS Linear regression')\n",
    "plt.legend(loc = 8)\n",
    "plt.xlabel('Price')\n",
    "plt.ylabel('Demand')\n",
    "plt.title('Service Level model (alpha level)')\n",
    "plt.show()"
   ]
  },
  {
   "cell_type": "code",
   "execution_count": null,
   "metadata": {},
   "outputs": [],
   "source": []
  },
  {
   "cell_type": "code",
   "execution_count": null,
   "metadata": {},
   "outputs": [],
   "source": []
  },
  {
   "cell_type": "markdown",
   "metadata": {},
   "source": [
    "## PRICE AND QUANTITY-SETTING NEWSVENDOR"
   ]
  },
  {
   "cell_type": "markdown",
   "metadata": {},
   "source": [
    "**Reference:**   \n",
    "Kyparisis, G.J. & Koulamas, C. (2018). *The price-setting newsvendor problem with nonnegative linear additive demand.* European Journal of Operational Research, 269(2), 695-698.   \n",
    "DeYong, G. D. (2020). *The price-setting newsvendor: review and extensions.* International Journal of Production Research, 58(6), 1776-1804.\n",
    "Huber et. al. (2019). *A data-driven newsvendor problem: From data to decision.* European Journal of Operational Research, 278(3), 904-915."
   ]
  },
  {
   "cell_type": "markdown",
   "metadata": {},
   "source": [
    " ### Basic approach"
   ]
  },
  {
   "cell_type": "markdown",
   "metadata": {},
   "source": [
    "From the previous model, we obtain the ordering quantity function of price: *q = beta0 + beta1 * p*. It means that at a certain selling price p, we can calculate a corresponding ordering quantity q, which also represents the estimated demand level at that selling price. So if the relationship between demand and price is captured completely, the expected profit is:  \n",
    "$\\Pi(p)  = p*q(p) - c*q(p) = beta1*p^2 + (beta0 - beta1*c)*p - beta0*c$  \n",
    "By taking the first-order derivative, we can find the optimal price p* as $\\frac{1}{2*beta1}(-beta0 + beta1*c) $   (1)  and so, the optimal ordering quantity q*.   \n",
    "\n",
    "Below is the optimization model of this approach (hereinafter called as \"Basic approach\"). The optimal price from this model is similar to the one calculated from equation (1)."
   ]
  },
  {
   "cell_type": "markdown",
   "metadata": {},
   "source": [
    "To make the problem logical, the lower bound of price is procurement cost per unit (p >= c) and the upper bound is -beta0/beta1 so that the expected demand is non-negative. Additionally, beta1 must be lessthan or equal to 0 so the profit function is concave and the problem is bounded. Otherwise, the problem is unbounded and we will choose the price as high as possible (i.e. maximum value of price in historical data).   "
   ]
  },
  {
   "cell_type": "code",
   "execution_count": 10,
   "metadata": {},
   "outputs": [],
   "source": [
    "#Price-setting \n",
    "def NV_Price(procurementCost, beta0, beta1):\n",
    "    if beta1 > 0: \n",
    "        return ubp * (beta0 + beta1*ubp) - procurementCost*(beta0 + beta1*ubp), ubp, (beta0 + beta1*ubp)\n",
    "    else:\n",
    "        pricingNV = gp.Model(\"Pricing NV model\")\n",
    "\n",
    "        #### Variables\n",
    "        price = pricingNV.addVar(lb = procurementCost, ub = -beta0/beta1, vtype = GRB.CONTINUOUS)\n",
    "        quantity = pricingNV.addVar()\n",
    "\n",
    "        pricingNV.addConstr(quantity == beta0 + beta1*price)\n",
    "\n",
    "        pricingNV.setObjective( price * quantity - procurementCost*quantity) #maximize expected profit\n",
    "        pricingNV.modelSense = 0 #maximization\n",
    "\n",
    "        pricingNV.Params.OutputFlag = 0\n",
    "        pricingNV.Params.NonConvex = 2 #enable Quadratic Optimization mode of Gurobi\n",
    "        pricingNV.optimize()\n",
    "\n",
    "        return pricingNV.objVal, price.x, quantity.x"
   ]
  },
  {
   "cell_type": "code",
   "execution_count": null,
   "metadata": {},
   "outputs": [],
   "source": []
  },
  {
   "cell_type": "markdown",
   "metadata": {},
   "source": [
    "Example with results from Cost model:"
   ]
  },
  {
   "cell_type": "code",
   "execution_count": 11,
   "metadata": {},
   "outputs": [
    {
     "name": "stdout",
     "output_type": "stream",
     "text": [
      "\n",
      "\n",
      "\n",
      "Optimal price from LP model: 1.3874078464837634\n",
      "Optimal price from equation (1): 1.3874078464837634\n"
     ]
    }
   ],
   "source": [
    "objVal, price, quantity = NV_Price(procurementCost = c, beta0 = betaC0, beta1 = betaC1)\n",
    "\n",
    "print('\\n\\n')\n",
    "print('Optimal price from LP model:', price)\n",
    "print('Optimal price from equation (1):', 0.5*(-betaC0+betaC1*c)/betaC1)"
   ]
  },
  {
   "cell_type": "code",
   "execution_count": null,
   "metadata": {},
   "outputs": [],
   "source": []
  },
  {
   "cell_type": "markdown",
   "metadata": {},
   "source": [
    "### Data-driven approach"
   ]
  },
  {
   "cell_type": "markdown",
   "metadata": {},
   "source": [
    "However, another approach is proposed here to make the solution more data-driven and robust. Using error terms obtained from historical data, we can generate the distribution of estimated demand at a certain price and then solve a data-driven quantity-setting newsvendor problem with this given price. In detail, demands at certain price p have the form of d(p) = beta0 + beta1 * p + u, with E[d(p)] = beta0 + beta1 * p, which is the estimated demand level from the previous model. u are error terms of all observations, which are independent with prices according to previously-mentioned assumptions.\n"
   ]
  },
  {
   "cell_type": "code",
   "execution_count": 12,
   "metadata": {},
   "outputs": [],
   "source": [
    "#Newsvendor with Price-setting\n",
    "def DDNV_Price(sampleSize, procurementCost, beta0, beta1):\n",
    "    if beta1 > 0: \n",
    "        return ubp * (beta0 + beta1*ubp) - procurementCost*(beta0 + beta1*ubp), ubp, (beta0 + beta1*ubp)\n",
    "    else:\n",
    "        M = beta0*2\n",
    "\n",
    "        pricingNV = gp.Model(\"Pricing NV model\")\n",
    "\n",
    "        #### Variables\n",
    "         #same price range to avoid extrapolation ?\n",
    "        price = pricingNV.addVar(lb = procurementCost, ub = -beta0/beta1, vtype = GRB.CONTINUOUS)\n",
    "        quantity = pricingNV.addVar()\n",
    "\n",
    "        sales = {}\n",
    "        z = {} #binary variable = 1 if D = a - bp + u > 0, =0 otherwise ==> to ensure demand not negative: D = max(0, a-bp+u)\n",
    "\n",
    "        for t in range(sampleSize):\n",
    "            sales[t] = pricingNV.addVar()\n",
    "            z[t] = pricingNV.addVar(vtype = GRB.BINARY)\n",
    "\n",
    "        for t in range(sampleSize):\n",
    "            pricingNV.addConstr(M*z[t] >= beta0 + beta1*price + u[t] ) #if a-bp+u > 0, z must equal to 1\n",
    "            pricingNV.addConstr(sales[t] <= 0 + M*z[t] )\n",
    "            pricingNV.addConstr(sales[t] <= beta0 + beta1*price + u[t] + M*(1-z[t]) )\n",
    "            pricingNV.addConstr(sales[t] <= quantity)\n",
    "\n",
    "        pricingNV.setObjective( price * sum(sales[t] for t in range(sampleSize)) / sampleSize - procurementCost*quantity) #maximize expected profit\n",
    "        pricingNV.modelSense = 0 #maximization\n",
    "\n",
    "        pricingNV.Params.OutputFlag = 0\n",
    "\n",
    "        pricingNV.Params.NonConvex = 2 #enable Quadratic Optimization mode of Gurobi\n",
    "        pricingNV.optimize()\n",
    "\n",
    "\n",
    "        return pricingNV.objVal, price.x, quantity.x"
   ]
  },
  {
   "cell_type": "code",
   "execution_count": null,
   "metadata": {},
   "outputs": [],
   "source": []
  },
  {
   "cell_type": "markdown",
   "metadata": {},
   "source": [
    "Example run with results from Cost model"
   ]
  },
  {
   "cell_type": "code",
   "execution_count": 13,
   "metadata": {},
   "outputs": [
    {
     "name": "stdout",
     "output_type": "stream",
     "text": [
      "Objective:  443.2349005735817\n",
      "Optimal price: 1.3508230281754816\n",
      "Optima ordering quantity: 800.6586784714189\n"
     ]
    }
   ],
   "source": [
    "objValDD, priceDD, quantityDD = DDNV_Price(sampleSize = n, procurementCost = c, beta0 = betaC0, beta1 = betaC1)\n",
    "\n",
    "print(\"Objective: \", objValDD)\n",
    "print('Optimal price:', priceDD)\n",
    "print('Optima ordering quantity:', quantityDD)"
   ]
  },
  {
   "cell_type": "code",
   "execution_count": null,
   "metadata": {},
   "outputs": [],
   "source": []
  },
  {
   "cell_type": "code",
   "execution_count": 14,
   "metadata": {},
   "outputs": [],
   "source": [
    "# method to combine two steps"
   ]
  },
  {
   "cell_type": "code",
   "execution_count": 15,
   "metadata": {},
   "outputs": [],
   "source": [
    "def DDNV_main(sampleSize, procurementCost, estimationModel = 'cost', nonStockOut = None):\n",
    "\n",
    "    if estimationModel == 'service' and nonStockOut is not None:\n",
    "        (estObjVal, estBeta0, estBeta1) = SLModel(sampleSize, procurementCost)\n",
    "    else:                \n",
    "        (estObjVal, estBeta0, estBeta1) = costModel(sampleSize, procurementCost)\n",
    "    print('\\nOrdering quantity parameters:', estBeta0, estBeta1)\n",
    "\n",
    "    (optV, optP, optQ) = NV_Price(procurementCost, estBeta0, estBeta1)\n",
    "    print('Basic approach:', optV, optP, optQ)\n",
    "\n",
    "    (optVDD, optPDD, optQDD) = DDNV_Price(sampleSize, procurementCost, estBeta0, estBeta1)\n",
    "    print('Data-driven approach:', optVDD, optPDD, optQDD,'\\n')\n",
    "\n",
    "        \n",
    "    return optV, optP, optQ, optVDD, optPDD, optQDD\n"
   ]
  },
  {
   "cell_type": "code",
   "execution_count": 16,
   "metadata": {},
   "outputs": [
    {
     "name": "stdout",
     "output_type": "stream",
     "text": [
      "\n",
      "Ordering quantity parameters: 1678.0171183797343 -737.6497021570741\n",
      "Basic approach: 580.8937452794755 1.3874078464837634 654.5961336505986\n",
      "Data-driven approach: 443.2349005735817 1.3508230281754816 800.6586784714189 \n",
      "\n"
     ]
    },
    {
     "data": {
      "text/plain": [
       "(580.8937452794755,\n",
       " 1.3874078464837634,\n",
       " 654.5961336505986,\n",
       " 443.2349005735817,\n",
       " 1.3508230281754816,\n",
       " 800.6586784714189)"
      ]
     },
     "execution_count": 16,
     "metadata": {},
     "output_type": "execute_result"
    }
   ],
   "source": [
    "DDNV_main(sampleSize = n, procurementCost = c, estimationModel = 'cost', nonStockOut = None)"
   ]
  },
  {
   "cell_type": "code",
   "execution_count": null,
   "metadata": {},
   "outputs": [],
   "source": []
  },
  {
   "cell_type": "code",
   "execution_count": null,
   "metadata": {},
   "outputs": [],
   "source": []
  },
  {
   "cell_type": "markdown",
   "metadata": {},
   "source": [
    "# ANALYSIS"
   ]
  },
  {
   "cell_type": "markdown",
   "metadata": {},
   "source": [
    "## Sensitivity analysis"
   ]
  },
  {
   "cell_type": "markdown",
   "metadata": {},
   "source": [
    "### 1. Procurement cost's effect       "
   ]
  },
  {
   "cell_type": "markdown",
   "metadata": {},
   "source": [
    "Here we want to learn about the influence of procurement cost (c) on the optimal price and ordering quantity. To do so, for a certain sampling set, we run the model with different procurement costs from 0.1 to 0.9 (since c < p). Then this test is done for multiple times to get the average optimal price and ordering quantity over all test instances."
   ]
  },
  {
   "cell_type": "code",
   "execution_count": 17,
   "metadata": {},
   "outputs": [
    {
     "name": "stdout",
     "output_type": "stream",
     "text": [
      "Test run =  0\n",
      "Considering c = 0.1\n",
      "\n",
      "Ordering quantity parameters: 1492.8706157779088 -758.3637595433987\n",
      "Basic approach: 661.9468597897344 1.0342708047367317 708.5171199117846\n",
      "Data-driven approach: 656.5181526170027 1.0440367537108615 910.5541448518204 \n",
      "\n",
      "Considering c = 0.2\n",
      "\n",
      "Ordering quantity parameters: 1476.0560964603649 -795.248354135866\n",
      "Basic approach: 545.2717745778509 1.0280472501350093 658.5032128165958\n"
     ]
    },
    {
     "ename": "KeyboardInterrupt",
     "evalue": "",
     "output_type": "error",
     "traceback": [
      "\u001b[1;31m---------------------------------------------------------------------------\u001b[0m",
      "\u001b[1;31mKeyboardInterrupt\u001b[0m                         Traceback (most recent call last)",
      "\u001b[1;32m<ipython-input-17-a2418cb99b6a>\u001b[0m in \u001b[0;36m<module>\u001b[1;34m\u001b[0m\n\u001b[0;32m     13\u001b[0m     \u001b[1;32mfor\u001b[0m \u001b[0mi\u001b[0m \u001b[1;32min\u001b[0m \u001b[0mrange\u001b[0m\u001b[1;33m(\u001b[0m\u001b[0mlen\u001b[0m\u001b[1;33m(\u001b[0m\u001b[0mcostSet\u001b[0m\u001b[1;33m)\u001b[0m\u001b[1;33m)\u001b[0m\u001b[1;33m:\u001b[0m\u001b[1;33m\u001b[0m\u001b[1;33m\u001b[0m\u001b[0m\n\u001b[0;32m     14\u001b[0m         \u001b[0mprint\u001b[0m\u001b[1;33m(\u001b[0m\u001b[1;34m'Considering c ='\u001b[0m\u001b[1;33m,\u001b[0m \u001b[0mcostSet\u001b[0m\u001b[1;33m[\u001b[0m\u001b[0mi\u001b[0m\u001b[1;33m]\u001b[0m\u001b[1;33m)\u001b[0m\u001b[1;33m\u001b[0m\u001b[1;33m\u001b[0m\u001b[0m\n\u001b[1;32m---> 15\u001b[1;33m         \u001b[0moptV\u001b[0m\u001b[1;33m,\u001b[0m \u001b[0moptP\u001b[0m\u001b[1;33m,\u001b[0m \u001b[0moptQ\u001b[0m\u001b[1;33m,\u001b[0m \u001b[0moptVDD\u001b[0m\u001b[1;33m,\u001b[0m \u001b[0moptPDD\u001b[0m\u001b[1;33m,\u001b[0m \u001b[0moptQDD\u001b[0m \u001b[1;33m=\u001b[0m \u001b[0mDDNV_main\u001b[0m\u001b[1;33m(\u001b[0m\u001b[0msampleSize\u001b[0m\u001b[1;33m=\u001b[0m\u001b[0mn\u001b[0m\u001b[1;33m,\u001b[0m \u001b[0mprocurementCost\u001b[0m\u001b[1;33m=\u001b[0m\u001b[0mcostSet\u001b[0m\u001b[1;33m[\u001b[0m\u001b[0mi\u001b[0m\u001b[1;33m]\u001b[0m\u001b[1;33m,\u001b[0m \u001b[0mestimationModel\u001b[0m \u001b[1;33m=\u001b[0m \u001b[1;34m'cost'\u001b[0m\u001b[1;33m,\u001b[0m \u001b[0mnonStockOut\u001b[0m \u001b[1;33m=\u001b[0m \u001b[1;32mNone\u001b[0m\u001b[1;33m)\u001b[0m\u001b[1;33m\u001b[0m\u001b[1;33m\u001b[0m\u001b[0m\n\u001b[0m\u001b[0;32m     16\u001b[0m \u001b[1;33m\u001b[0m\u001b[0m\n\u001b[0;32m     17\u001b[0m         \u001b[0moptPrice\u001b[0m\u001b[1;33m[\u001b[0m\u001b[0mi\u001b[0m\u001b[1;33m,\u001b[0m\u001b[0mj\u001b[0m\u001b[1;33m]\u001b[0m \u001b[1;33m=\u001b[0m \u001b[0moptP\u001b[0m\u001b[1;33m\u001b[0m\u001b[1;33m\u001b[0m\u001b[0m\n",
      "\u001b[1;32m<ipython-input-15-8982dc2d0266>\u001b[0m in \u001b[0;36mDDNV_main\u001b[1;34m(sampleSize, procurementCost, estimationModel, nonStockOut)\u001b[0m\n\u001b[0;32m     10\u001b[0m     \u001b[0mprint\u001b[0m\u001b[1;33m(\u001b[0m\u001b[1;34m'Basic approach:'\u001b[0m\u001b[1;33m,\u001b[0m \u001b[0moptV\u001b[0m\u001b[1;33m,\u001b[0m \u001b[0moptP\u001b[0m\u001b[1;33m,\u001b[0m \u001b[0moptQ\u001b[0m\u001b[1;33m)\u001b[0m\u001b[1;33m\u001b[0m\u001b[1;33m\u001b[0m\u001b[0m\n\u001b[0;32m     11\u001b[0m \u001b[1;33m\u001b[0m\u001b[0m\n\u001b[1;32m---> 12\u001b[1;33m     \u001b[1;33m(\u001b[0m\u001b[0moptVDD\u001b[0m\u001b[1;33m,\u001b[0m \u001b[0moptPDD\u001b[0m\u001b[1;33m,\u001b[0m \u001b[0moptQDD\u001b[0m\u001b[1;33m)\u001b[0m \u001b[1;33m=\u001b[0m \u001b[0mDDNV_Price\u001b[0m\u001b[1;33m(\u001b[0m\u001b[0msampleSize\u001b[0m\u001b[1;33m,\u001b[0m \u001b[0mprocurementCost\u001b[0m\u001b[1;33m,\u001b[0m \u001b[0mestBeta0\u001b[0m\u001b[1;33m,\u001b[0m \u001b[0mestBeta1\u001b[0m\u001b[1;33m)\u001b[0m\u001b[1;33m\u001b[0m\u001b[1;33m\u001b[0m\u001b[0m\n\u001b[0m\u001b[0;32m     13\u001b[0m     \u001b[0mprint\u001b[0m\u001b[1;33m(\u001b[0m\u001b[1;34m'Data-driven approach:'\u001b[0m\u001b[1;33m,\u001b[0m \u001b[0moptVDD\u001b[0m\u001b[1;33m,\u001b[0m \u001b[0moptPDD\u001b[0m\u001b[1;33m,\u001b[0m \u001b[0moptQDD\u001b[0m\u001b[1;33m,\u001b[0m\u001b[1;34m'\\n'\u001b[0m\u001b[1;33m)\u001b[0m\u001b[1;33m\u001b[0m\u001b[1;33m\u001b[0m\u001b[0m\n\u001b[0;32m     14\u001b[0m \u001b[1;33m\u001b[0m\u001b[0m\n",
      "\u001b[1;32m<ipython-input-12-5a3286f438ed>\u001b[0m in \u001b[0;36mDDNV_Price\u001b[1;34m(sampleSize, procurementCost, beta0, beta1)\u001b[0m\n\u001b[0;32m     35\u001b[0m \u001b[1;33m\u001b[0m\u001b[0m\n\u001b[0;32m     36\u001b[0m \u001b[1;33m\u001b[0m\u001b[0m\n\u001b[1;32m---> 37\u001b[1;33m         \u001b[1;32mreturn\u001b[0m \u001b[0mpricingNV\u001b[0m\u001b[1;33m.\u001b[0m\u001b[0mobjVal\u001b[0m\u001b[1;33m,\u001b[0m \u001b[0mprice\u001b[0m\u001b[1;33m.\u001b[0m\u001b[0mx\u001b[0m\u001b[1;33m,\u001b[0m \u001b[0mquantity\u001b[0m\u001b[1;33m.\u001b[0m\u001b[0mx\u001b[0m\u001b[1;33m\u001b[0m\u001b[1;33m\u001b[0m\u001b[0m\n\u001b[0m",
      "\u001b[1;31mKeyboardInterrupt\u001b[0m: "
     ]
    }
   ],
   "source": [
    "testRep = 50\n",
    "costSet = [0.1*(i+1) for i in range(9)]\n",
    "resultCost = pd.DataFrame(index = range(len(costSet)), columns = ['Procurement cost', 'Avg. opt. price (Basic)', 'Avg. opt. order qty (Basic)', 'Avg. opt. price (DD)', 'Avg. opt. order qty (DD)' ])\n",
    "\n",
    "optPrice = np.zeros(shape=(len(costSet),testRep))\n",
    "optQty = np.zeros(shape=(len(costSet),testRep))\n",
    "optPriceDD = np.zeros(shape=(len(costSet),testRep))\n",
    "optQtyDD = np.zeros(shape=(len(costSet),testRep))\n",
    "for j in range(testRep):\n",
    "    print('Test run = ', j)\n",
    "    samplingDemand(sampleSize=n, coefVar=cv)\n",
    "    \n",
    "    for i in range(len(costSet)):\n",
    "        print('Considering c =', costSet[i])\n",
    "        optV, optP, optQ, optVDD, optPDD, optQDD = DDNV_main(sampleSize=n, procurementCost=costSet[i], estimationModel = 'cost', nonStockOut = None)\n",
    "        \n",
    "        optPrice[i,j] = optP\n",
    "        optQty[i,j] = optQ\n",
    "        optPriceDD[i,j] = optPDD\n",
    "        optQtyDD[i,j] = optQDD    \n",
    "\n",
    "for i in range(len(costSet)):\n",
    "    resultCost.iloc[i,:] = [costSet[i], np.mean(optPrice[i,:]), np.mean(optQty[i,:]), \n",
    "                            np.mean(optPriceDD[i,:]), np.mean(optQtyDD[i,:])]"
   ]
  },
  {
   "cell_type": "code",
   "execution_count": null,
   "metadata": {},
   "outputs": [],
   "source": [
    "resultCost"
   ]
  },
  {
   "cell_type": "markdown",
   "metadata": {},
   "source": [
    "**Comment:** In general, when the procurement cost increases, the optimal price also increases to cover up the increase in cost, leading to the decrease in optimal ordering quantity. We can see that in general, the increase speed in optimal price in Data-driven approach is slower than that of Basic approach. It is because in Basic approach, the optimal price is calculated from a fixed equation so the change in cost is shown completely; meanwhile, in Data-driven approach, this influence is affected by the stochastic demand."
   ]
  },
  {
   "cell_type": "code",
   "execution_count": null,
   "metadata": {},
   "outputs": [],
   "source": []
  },
  {
   "cell_type": "code",
   "execution_count": null,
   "metadata": {},
   "outputs": [],
   "source": []
  },
  {
   "cell_type": "markdown",
   "metadata": {},
   "source": [
    "To generate out-of-sample demand observations, we will randomly draw 100,000 error terms in the same way as we dis previously with sampling set (u ~ N(0,sigma)) and D = a - b * p + u, with . This out-of-sample set will be used to evaluate the performance of the solution, which will be done for a significant number of times to obtain the average performance."
   ]
  },
  {
   "cell_type": "code",
   "execution_count": null,
   "metadata": {},
   "outputs": [],
   "source": [
    "def outOfSampleError(testSize):\n",
    "    testU = np.random.normal(loc = 0, scale = sigma, size =(testSize,) )\n",
    "    return testU"
   ]
  },
  {
   "cell_type": "code",
   "execution_count": null,
   "metadata": {},
   "outputs": [],
   "source": [
    "def outOfSampleDemand(testU, chosenPrice):\n",
    "    testD = a - b*chosenPrice + testU\n",
    "    for i in range(len(testD)):\n",
    "        if testD[i]<=0: testD[i] = 0\n",
    "            \n",
    "    return testD"
   ]
  },
  {
   "cell_type": "code",
   "execution_count": null,
   "metadata": {},
   "outputs": [],
   "source": [
    "def testEvaluation(testD, chosenPrice, chosenQty, procurementCost):\n",
    "    return sum( [chosenPrice * min(testD[i], chosenQty) for i in range(len(testD))] ) / len(testD) - procurementCost*chosenQty   \n",
    "    "
   ]
  },
  {
   "cell_type": "code",
   "execution_count": null,
   "metadata": {},
   "outputs": [],
   "source": []
  },
  {
   "cell_type": "markdown",
   "metadata": {},
   "source": [
    "### 2. Sample size's effect       "
   ]
  },
  {
   "cell_type": "markdown",
   "metadata": {},
   "source": [
    "Here we want to learn about the effect of sample size on performance of solution. To do so, from the same demand sampling set, we take subsets with different sizes and solve the problem with these subsets. The solutions are evaluated by generating out-of-sample demand based on each chosen price solution with same error terms. Then this test is done for multiple times to get the average objective value (i.e. expected profit)."
   ]
  },
  {
   "cell_type": "code",
   "execution_count": null,
   "metadata": {},
   "outputs": [],
   "source": [
    "import copy\n",
    "\n",
    "testRep = 50\n",
    "\n",
    "# Run the model with different sample sizes: 50, 100, 200, 500 and 700\n",
    "sampleSizeSet = [50, 100, 200, 500, 700]\n",
    "resultSize = pd.DataFrame(index = range(len(sampleSizeSet)), columns = ['Sample size','Avg. in-sample profit', 'Avg. out-of-sample profit'])\n",
    "optValInSample = np.zeros(shape=(len(sampleSizeSet),testRep))\n",
    "optValOutSample = np.zeros(shape=(len(sampleSizeSet),testRep))\n",
    "for j in range(testRep):\n",
    "    print('Test run = ', j)\n",
    "    samplingDemand(sampleSize=max(sampleSizeSet), coefVar=cv)\n",
    "    demandPool = copy.deepcopy(D)\n",
    "    pricePool = copy.deepcopy(p)\n",
    "    errorPool = copy.deepcopy(u)\n",
    "    \n",
    "    testU = outOfSampleError(testSize = 100000)\n",
    "    \n",
    "    for i in range(len(sampleSizeSet)):\n",
    "        print('Considering n =', sampleSizeSet[i])\n",
    "        if sampleSizeSet[i] != max(sampleSizeSet):\n",
    "            lowElasticity = True\n",
    "            while lowElasticity:\n",
    "                idx = np.random.choice(max(sampleSizeSet), size = sampleSizeSet[i], replace = False)\n",
    "                for k in range(len(idx)): \n",
    "                    D[k] = demandPool[k] \n",
    "                    p[k] = pricePool[k] \n",
    "                    u[k] = errorPool[k]\n",
    "                \n",
    "                reg = linear_model.LinearRegression().fit(p, D)\n",
    "                coef2 = reg.coef_\n",
    "                coef1 = reg.intercept_\n",
    "                Q1 = coef1 + coef2*min(p)\n",
    "                Q2 = coef1 + coef2*max(p)\n",
    "                arcElasticity = ( (min(p) + max(p)) / (Q1 + Q2)) * ((Q2 - Q1) / (max(p) - min(p)) )\n",
    "                if abs(arcElasticity) >= 1: lowElasticity = False\n",
    "\n",
    "        else:\n",
    "            D = demandPool; p = pricePool; u = errorPool;\n",
    "        \n",
    "        optV, optP, optQ, optVDD, optPDD, optQDD = DDNV_main(sampleSize=sampleSizeSet[i], procurementCost=c, estimationModel = 'cost', nonStockOut = None)\n",
    "        \n",
    "        testD = outOfSampleDemand(testU, chosenPrice = optPDD)\n",
    "        testV = testEvaluation(testD, chosenPrice = optPDD, chosenQty = optQDD, procurementCost = c)\n",
    "        \n",
    "        optValInSample[i,j] = optVDD\n",
    "        optValOutSample[i,j] = testV\n",
    "        \n",
    "for i in range(len(sampleSizeSet)):\n",
    "    resultSize.iloc[i,:] = [sampleSizeSet[i], np.mean(optValInSample[i,:]), np.mean(optValOutSample[i,:])]"
   ]
  },
  {
   "cell_type": "code",
   "execution_count": null,
   "metadata": {},
   "outputs": [],
   "source": [
    "resultSize"
   ]
  },
  {
   "cell_type": "markdown",
   "metadata": {},
   "source": [
    "**Comment:** As expected, the more historical data we have, the higher the out-of-sample profit is, which means better solution we have. With more data, the relationship between demand and price is capture more correctly and so the estimated demand is nearer to the true demand. "
   ]
  },
  {
   "cell_type": "code",
   "execution_count": null,
   "metadata": {},
   "outputs": [],
   "source": []
  },
  {
   "cell_type": "code",
   "execution_count": null,
   "metadata": {},
   "outputs": [],
   "source": []
  },
  {
   "cell_type": "markdown",
   "metadata": {},
   "source": [
    "## Basic approach vs Data-driven approach in Price and Quantity-setting Newsvendor"
   ]
  },
  {
   "cell_type": "markdown",
   "metadata": {},
   "source": [
    "Here we want to compare the performance of Basic approach with Data-driven approach to solve the Price and Quantity-setting Newsvendor. In basic approach, the vendor takes the optimal price as given from the ordering quantity function, while in Data-driven approach, the vendor use the historical data to make the solution more robust.\n",
    "\n",
    "For a certain sampling set, we runs both approaches to obtain the solution of optimal price and ordering quantity. Two solutions are evaluated with the same out-of-sample demand set to get the profit of each solution when dealing with unknown demand. Then this test is done for multiple times to get the average performance of each solution."
   ]
  },
  {
   "cell_type": "code",
   "execution_count": null,
   "metadata": {},
   "outputs": [],
   "source": [
    "testRep = 200\n",
    "\n",
    "resultDD = pd.DataFrame(index = range(testRep), columns = ['Out-of-sample profit (Basic)', 'Out-of-sample profit (Data-driven)'])\n",
    "\n",
    "for j in range(testRep):\n",
    "    print('Test run = ', j)\n",
    "    samplingDemand(sampleSize=n, coefVar=cv)\n",
    "    testU = outOfSampleError(testSize = 100000)\n",
    "    \n",
    "    optV, optP, optQ, optVDD, optPDD, optQDD = DDNV_main(sampleSize=n, procurementCost=c, estimationModel = 'cost', nonStockOut = None)\n",
    "\n",
    "    #Basic approach\n",
    "    testD = outOfSampleDemand(testU, chosenPrice = optP)\n",
    "    testV = testEvaluation(testD, chosenPrice = optP, chosenQty = optQ, procurementCost = c)\n",
    "    \n",
    "    #Data-driven approach\n",
    "    testDDD = outOfSampleDemand(testU, chosenPrice = optPDD)\n",
    "    testVDD = testEvaluation(testDDD, chosenPrice = optPDD, chosenQty = optQDD, procurementCost = c)\n",
    "    \n",
    "    resultDD.iloc[j,:] = [testV, testVDD]\n",
    "    \n",
    "print(resultDD)\n",
    "print('\\n\\nThe average out-of-sample profit from Basic approach:', np.mean(resultDD.iloc[:,0]) )\n",
    "print('The average out-of-sample profit from Data-driven approach:', np.mean(resultDD.iloc[:,1]) )"
   ]
  },
  {
   "cell_type": "code",
   "execution_count": null,
   "metadata": {},
   "outputs": [],
   "source": []
  },
  {
   "cell_type": "code",
   "execution_count": null,
   "metadata": {},
   "outputs": [],
   "source": []
  },
  {
   "cell_type": "markdown",
   "metadata": {},
   "source": []
  },
  {
   "cell_type": "markdown",
   "metadata": {},
   "source": [
    "Data source: https://www.dunnhumby.com/careers/engineering/sourcefiles  \n",
    "Breakfast at the Frat contains sales and promotion information on the top five products from each of the top three brands within four selected categories (mouthwash, pretzels, frozen pizza, and boxed cereal), gathered from a sample of stores over 156 weeks."
   ]
  },
  {
   "cell_type": "code",
   "execution_count": null,
   "metadata": {},
   "outputs": [],
   "source": [
    "data = pd.read_excel('dunnhumby - Breakfast at the Frat.xlsx', sheet_name = 'dh Transaction Data', skiprows = range(1), header = 0)"
   ]
  },
  {
   "cell_type": "code",
   "execution_count": null,
   "metadata": {},
   "outputs": [],
   "source": [
    "stores = data.loc[((data['STORE_NUM'] == 15547) | (data['STORE_NUM'] == 21213) | (data['STORE_NUM'] == 26981)), ['WEEK_END_DATE', 'UPC', 'UNITS', 'PRICE', 'BASE_PRICE']]"
   ]
  },
  {
   "cell_type": "code",
   "execution_count": null,
   "metadata": {},
   "outputs": [],
   "source": [
    "stores"
   ]
  },
  {
   "cell_type": "code",
   "execution_count": null,
   "metadata": {},
   "outputs": [],
   "source": []
  },
  {
   "cell_type": "markdown",
   "metadata": {},
   "source": [
    "To evaluate the performance of our approach, we will choose one product with high variance in demand and one product with low variance to implement our method. "
   ]
  },
  {
   "cell_type": "code",
   "execution_count": null,
   "metadata": {},
   "outputs": [],
   "source": [
    "highVar = data.loc[((data['UPC'] == 3000006610) & ((data['STORE_NUM'] == 15547) | (data['STORE_NUM'] == 21213) | (data['STORE_NUM'] == 26981))), ['WEEK_END_DATE', 'UNITS', 'PRICE', 'BASE_PRICE']]\n",
    "midVar = data.loc[((data['UPC'] == 7192100339) & ((data['STORE_NUM'] == 15547) | (data['STORE_NUM'] == 21213) | (data['STORE_NUM'] == 26981))), ['WEEK_END_DATE', 'UNITS', 'PRICE', 'BASE_PRICE']]\n",
    "lowVar = data.loc[((data['UPC'] == 1111009477) & ((data['STORE_NUM'] == 15547) | (data['STORE_NUM'] == 21213) | (data['STORE_NUM'] == 26981))), ['WEEK_END_DATE', 'UNITS', 'PRICE', 'BASE_PRICE']]"
   ]
  },
  {
   "cell_type": "code",
   "execution_count": null,
   "metadata": {},
   "outputs": [],
   "source": [
    "plt.plot(lowVar.PRICE, lowVar.UNITS, 'bo')\n",
    "plt.plot(lp, coef1 + coef2*lp, 'g-')"
   ]
  },
  {
   "cell_type": "markdown",
   "metadata": {},
   "source": [
    "For each product, we assume that the cost per unit equal to 30% of the average base price.\n",
    "We set the train set (historical data) as demands "
   ]
  },
  {
   "cell_type": "code",
   "execution_count": null,
   "metadata": {},
   "outputs": [],
   "source": [
    "plt.plot(midVar.PRICE, midVar.UNITS, 'bo')\n"
   ]
  },
  {
   "cell_type": "code",
   "execution_count": null,
   "metadata": {},
   "outputs": [],
   "source": [
    "lp = np.array(lowVar['PRICE'])\n",
    "lp = lp.reshape(-1, 1)\n",
    "lu = list(lowVar['UNITS'])\n",
    "reg = linear_model.LinearRegression().fit(lp,lu)\n",
    "coef2 = reg.coef_\n",
    "coef1 = reg.intercept_\n",
    "print(coef1, coef2)\n",
    "\n"
   ]
  }
 ],
 "metadata": {
  "kernelspec": {
   "display_name": "Python 3",
   "language": "python",
   "name": "python3"
  },
  "language_info": {
   "codemirror_mode": {
    "name": "ipython",
    "version": 3
   },
   "file_extension": ".py",
   "mimetype": "text/x-python",
   "name": "python",
   "nbconvert_exporter": "python",
   "pygments_lexer": "ipython3",
   "version": "3.7.3"
  }
 },
 "nbformat": 4,
 "nbformat_minor": 2
}
