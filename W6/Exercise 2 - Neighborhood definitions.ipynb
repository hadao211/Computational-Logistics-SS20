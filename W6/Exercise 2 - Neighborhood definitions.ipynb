{
 "cells": [
  {
   "cell_type": "code",
   "execution_count": 2,
   "metadata": {},
   "outputs": [],
   "source": [
    "#Capacitated Warehouse location problem\n",
    "link1 = 'http://people.brunel.ac.uk/~mastjjb/jeb/orlib/files/cap82.txt'\n",
    "link2 = 'http://people.brunel.ac.uk/~mastjjb/jeb/orlib/files/cap113.txt'\n",
    "import numpy as np\n",
    "import gurobipy as gp\n",
    "from gurobipy import GRB"
   ]
  },
  {
   "cell_type": "code",
   "execution_count": 3,
   "metadata": {},
   "outputs": [],
   "source": [
    "# define function to download data\n",
    "def load_data(url, filename):\n",
    "    import urllib.request\n",
    "    response = urllib.request.urlretrieve(url,filename)\n",
    "    file = open(filename,'r')\n",
    "    return file"
   ]
  },
  {
   "cell_type": "code",
   "execution_count": 4,
   "metadata": {},
   "outputs": [],
   "source": [
    "file = load_data(link2, 'cap113.txt')\n",
    "data = file.readlines()"
   ]
  },
  {
   "cell_type": "code",
   "execution_count": 5,
   "metadata": {},
   "outputs": [
    {
     "name": "stdout",
     "output_type": "stream",
     "text": [
      "50\n",
      "50\n",
      "[5000.0, 5000.0, 5000.0, 5000.0, 5000.0, 5000.0, 5000.0, 5000.0, 5000.0, 5000.0, 5000.0, 5000.0, 5000.0, 5000.0, 5000.0, 5000.0, 5000.0, 5000.0, 5000.0, 5000.0, 5000.0, 5000.0, 5000.0, 5000.0, 5000.0, 5000.0, 5000.0, 5000.0, 5000.0, 5000.0, 5000.0, 5000.0, 5000.0, 5000.0, 5000.0, 5000.0, 5000.0, 5000.0, 5000.0, 5000.0, 5000.0, 5000.0, 5000.0, 5000.0, 5000.0, 5000.0, 5000.0, 5000.0, 5000.0, 5000.0]\n",
      "[17500.0, 17500.0, 17500.0, 17500.0, 17500.0, 17500.0, 17500.0, 17500.0, 17500.0, 17500.0, 17500.0, 17500.0, 17500.0, 17500.0, 17500.0, 17500.0, 17500.0, 17500.0, 17500.0, 17500.0, 17500.0, 17500.0, 0.0, 17500.0, 17500.0, 17500.0, 17500.0, 17500.0, 17500.0, 17500.0, 17500.0, 17500.0, 17500.0, 17500.0, 17500.0, 17500.0, 17500.0, 17500.0, 17500.0, 17500.0, 17500.0, 17500.0, 17500.0, 17500.0, 17500.0, 17500.0, 17500.0, 17500.0, 17500.0, 17500.0]\n",
      "[146.0, 87.0, 672.0, 1337.0, 31.0, 559.0, 2370.0, 1089.0, 33.0, 32.0, 5495.0, 904.0, 1466.0, 143.0, 615.0, 564.0, 226.0, 3016.0, 253.0, 195.0, 38.0, 807.0, 551.0, 304.0, 814.0, 337.0, 4368.0, 577.0, 482.0, 495.0, 231.0, 322.0, 685.0, 12912.0, 325.0, 366.0, 3671.0, 2213.0, 705.0, 328.0, 1681.0, 1117.0, 275.0, 500.0, 2241.0, 733.0, 222.0, 49.0, 1464.0, 222.0]\n",
      "[[17.875  27.225  56.725  ... 32.     69.05   35.9   ]\n",
      " [22.55   13.2    42.725  ... 32.1    55.45   21.875 ]\n",
      " [46.1625 36.8375  7.3125 ... 51.8875 23.2625 31.9625]\n",
      " ...\n",
      " [36.3125 41.0875 66.7625 ... 22.1875 81.3875 49.7625]\n",
      " [59.3375 50.4125 24.1125 ... 67.3625  8.1625 42.2375]\n",
      " [27.0375 17.6875 33.6625 ... 36.5875 43.0875  9.0125]]\n"
     ]
    }
   ],
   "source": [
    "[locations, customers] = [int(x) for x in data[0].split(' ')[1:-1]]\n",
    "capacity = []\n",
    "fixcost = []\n",
    "for i in range(locations):\n",
    "    [c, f] = [float(x) for x in data[i+1].split(' ')[1:-1]]\n",
    "    capacity.append(c)\n",
    "    fixcost.append(f)\n",
    "demand = []\n",
    "varcost = np.zeros((locations,customers))\n",
    "for j in range(customers):\n",
    "    demand.append(float(data[j*9 + (1+locations)].split(' ')[1]))\n",
    "    v = list(np.concatenate([data[j*9 + (1+locations+t)].split(' ')[1:-1] for t in range(1,9)]))\n",
    "    for i in range(locations):\n",
    "        varcost[i,j] = float(v[i])/demand[j] #cost of allocating demand of j to warehouse i per unit\n",
    "        \n",
    "        \n",
    "print(locations)\n",
    "print(customers)\n",
    "print(capacity)\n",
    "print(fixcost)\n",
    "print(demand)\n",
    "print(varcost)"
   ]
  },
  {
   "cell_type": "code",
   "execution_count": null,
   "metadata": {},
   "outputs": [],
   "source": []
  },
  {
   "cell_type": "code",
   "execution_count": null,
   "metadata": {},
   "outputs": [],
   "source": []
  },
  {
   "cell_type": "code",
   "execution_count": null,
   "metadata": {},
   "outputs": [],
   "source": [
    "# based on https://www.researchgate.net/publication/23547095"
   ]
  },
  {
   "cell_type": "code",
   "execution_count": 17,
   "metadata": {},
   "outputs": [],
   "source": [
    "#solution encode = facility opening decision\n",
    "#I0 and I1, where I0 consists of the indices of the facilities that are closed and\n",
    "#I1 consists of the indices of the facilities that are open\n",
    "close_loc = set() #I0\n",
    "open_loc = set() #I1\n",
    "allocation = np.zeros((locations, customers))\n",
    "solution = [close_loc, open_loc] #solution[0] = close, solution[1] = open"
   ]
  },
  {
   "cell_type": "code",
   "execution_count": null,
   "metadata": {},
   "outputs": [],
   "source": [
    "# a move = taking one element from I0 and placing it into I1 (add move) or vice versa (drop move)\n",
    "def add_move(solution, i):\n",
    "    solution[0].remove(i) \n",
    "    solution[1].add(i)\n",
    "    return solution\n",
    "\n",
    "def drop_move(solution, i):\n",
    "    solution[0].add(i)\n",
    "    solution[1].remove(i)\n",
    "    return solution"
   ]
  },
  {
   "cell_type": "code",
   "execution_count": 32,
   "metadata": {},
   "outputs": [],
   "source": [
    "#define feasible condition: capacity >= demand\n",
    "def feasible(solution, demand, capacity):\n",
    "    check = sum([capacity[i] for i in solution[0]]) >= sum(demand)\n",
    "    return check"
   ]
  },
  {
   "cell_type": "code",
   "execution_count": 36,
   "metadata": {},
   "outputs": [
    {
     "data": {
      "text/plain": [
       "False"
      ]
     },
     "execution_count": 36,
     "metadata": {},
     "output_type": "execute_result"
    }
   ],
   "source": [
    "# a set of neighborhood N(S) = {solutions obtained by applying a single local transformation (move, i.e. add or drop) to S}\n",
    "# new solution must be feasible\n",
    "def neighborhood(solution, demand, capacity):\n",
    "    nbh = []\n",
    "    for i in solution[0]: #open a closed location\n",
    "        temp = add_move(solution, i)\n",
    "        if feasible(temp, demand, capacity):\n",
    "            nbh.append(temp)\n",
    "    for i in solution[1]: #close an opened location\n",
    "        temp = drop_move(solution, i)\n",
    "        if feasible(temp, demand, capacity):\n",
    "            nbh.append(temp)\n",
    "    \n",
    "    return nbh"
   ]
  },
  {
   "cell_type": "code",
   "execution_count": null,
   "metadata": {},
   "outputs": [],
   "source": []
  },
  {
   "cell_type": "code",
   "execution_count": 8,
   "metadata": {},
   "outputs": [],
   "source": [
    "def transportation ():\n",
    "    model0 = gp.Model()\n",
    "    x0 = {}\n",
    "    for i in range(locations):\n",
    "        for j in range(customers):\n",
    "            x0[i,j] = model0.addVar(obj=varcost[i][j])\n",
    "\n",
    "    #demand constraint\n",
    "    demand_constr = {} \n",
    "    for j in range(customers):\n",
    "        demand_constr[j] = model0.addConstr(sum(x0[i,j] for i in range(locations)) == demand[j])\n",
    "\n",
    "    #capacity constraint\n",
    "    cap_constr = {}\n",
    "    for i in range(locations):\n",
    "        cap_constr[i] = model0.addConstr(sum(x0[i,j] for j in range(customers)) <= capacity[i])\n",
    "\n",
    "    #logical constraint\n",
    "    log_constr = {}\n",
    "    for i in range(locations):\n",
    "        for j in range(customers):\n",
    "            log_constr[i,j] = model0.addConstr(x0[i,j] <= y0[i,j] * min(capacity[i], demand[j]))\n",
    "\n",
    "    model0.optimize()\n",
    "\n",
    "    print(\"Objective: \" + str(model0.objVal))\n",
    "\n",
    "    print(\"Solution:\")\n",
    "    import pandas as pd\n",
    "    index = ['Source ' + str(x) for x in range(locations)]\n",
    "    columns = ['Customer ' + str(x) for x in range(customers)]\n",
    "\n",
    "    solution = pd.DataFrame(index=index, columns=columns)\n",
    "\n",
    "    for i in range(locations):\n",
    "        for j in range(customers):\n",
    "            solution.iloc[i,j] = x0[i,j].x\n",
    "\n",
    "    print(solution)"
   ]
  },
  {
   "cell_type": "code",
   "execution_count": null,
   "metadata": {},
   "outputs": [],
   "source": []
  },
  {
   "cell_type": "code",
   "execution_count": null,
   "metadata": {},
   "outputs": [],
   "source": []
  },
  {
   "cell_type": "code",
   "execution_count": null,
   "metadata": {},
   "outputs": [],
   "source": []
  },
  {
   "cell_type": "code",
   "execution_count": 37,
   "metadata": {},
   "outputs": [
    {
     "name": "stdout",
     "output_type": "stream",
     "text": [
      "({0, 1, 2, 3, 4, 5, 6, 7, 8, 9, 10, 11, 12, 13, 14, 15, 16, 17, 18, 19, 20, 21, 22, 23, 24, 25, 26, 27, 28, 29, 30, 31, 32, 33, 34, 35, 36, 37, 38, 39, 40, 41, 42, 43, 44, 45, 46, 47, 48, 49}, set())\n"
     ]
    }
   ],
   "source": [
    "#starting solution = open all facilities\n",
    "open_loc.update([x for x in range(locations)])\n",
    "print(solution)"
   ]
  },
  {
   "cell_type": "code",
   "execution_count": null,
   "metadata": {},
   "outputs": [],
   "source": []
  },
  {
   "cell_type": "code",
   "execution_count": null,
   "metadata": {},
   "outputs": [],
   "source": []
  },
  {
   "cell_type": "code",
   "execution_count": null,
   "metadata": {},
   "outputs": [],
   "source": []
  },
  {
   "cell_type": "code",
   "execution_count": null,
   "metadata": {},
   "outputs": [],
   "source": []
  }
 ],
 "metadata": {
  "kernelspec": {
   "display_name": "Python 3",
   "language": "python",
   "name": "python3"
  },
  "language_info": {
   "codemirror_mode": {
    "name": "ipython",
    "version": 3
   },
   "file_extension": ".py",
   "mimetype": "text/x-python",
   "name": "python",
   "nbconvert_exporter": "python",
   "pygments_lexer": "ipython3",
   "version": "3.7.3"
  }
 },
 "nbformat": 4,
 "nbformat_minor": 2
}
