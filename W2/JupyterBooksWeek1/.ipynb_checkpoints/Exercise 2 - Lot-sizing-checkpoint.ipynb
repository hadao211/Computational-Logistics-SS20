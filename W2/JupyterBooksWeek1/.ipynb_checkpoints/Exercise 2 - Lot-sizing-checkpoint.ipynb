{
 "cells": [
  {
   "cell_type": "code",
   "execution_count": 1,
   "metadata": {},
   "outputs": [],
   "source": [
    "# Part a)\n",
    "# define Least unit cost rule function\n",
    "def luc (demand, setupcost, holdingcost):\n",
    "    \"Least unit cost algorithm\"\n",
    "    \n",
    "    import numpy as np\n",
    "    \n",
    "    periods = len(demand)\n",
    "    lotsize = np.zeros(periods)\n",
    "\n",
    "    k = 0 #current period\n",
    "    z = k + 1 #period to compare with current period\n",
    "    tcost = setupcost #total cost to order from period k UNTIL period z\n",
    "                      #initial value = setup cost \n",
    "    tdemand = demand[k] #sum of demand from period k UNTIL period z\n",
    "                        #initial value = demand in period k\n",
    "    lotsize[k] = demand[k]\n",
    "    \n",
    "    totalcost = setupcost #total cost of the order strategy\n",
    "    \n",
    "    while z < periods:\n",
    "        new_tcost = tcost + holdingcost * (z-k) * demand[z]\n",
    "        new_tdemand = tdemand + demand[z]\n",
    "        \n",
    "        if (tcost / tdemand) >= (new_tcost / new_tdemand): #compare cost per unit\n",
    "            #cost per unit NOT increase => include demand of period z in current lot size\n",
    "            lotsize[k] += demand[z]\n",
    "            totalcost += holdingcost * (z-k) * demand[z] #update total cost by holding cost of new future demand of period z\n",
    "            \n",
    "            tcost = new_tcost\n",
    "            tdemand = new_tdemand\n",
    "            z = z+1\n",
    "        else: #cost per unit increase => start a new lotsize          \n",
    "            k = z \n",
    "            z = k+1 \n",
    "            tcost = setupcost\n",
    "            tdemand = demand[k]\n",
    "            \n",
    "            lotsize[k] = demand[k]\n",
    "            totalcost += setupcost #update total cost by setup cost for new order\n",
    "    \n",
    "    print(\"Lot-size orders in each period are: \")\n",
    "    print(lotsize)\n",
    "    print(\"Total ordering cost is \", totalcost)\n",
    "    return (lotsize, totalcost);"
   ]
  },
  {
   "cell_type": "code",
   "execution_count": 2,
   "metadata": {},
   "outputs": [
    {
     "name": "stdout",
     "output_type": "stream",
     "text": [
      "Lot-size orders in each period are: \n",
      "[ 750.  150.    0.  500.    0. 1000.]\n",
      "Total ordering cost is  2500\n"
     ]
    }
   ],
   "source": [
    "# apply LUC function with data\n",
    "demand = [750, 100, 50, 100, 400, 1000]\n",
    "setupcost = 400\n",
    "holdingcost = 2\n",
    "\n",
    "(forecast, tc) =luc(demand, setupcost, holdingcost)"
   ]
  },
  {
   "cell_type": "code",
   "execution_count": null,
   "metadata": {},
   "outputs": [],
   "source": []
  },
  {
   "cell_type": "code",
   "execution_count": 3,
   "metadata": {},
   "outputs": [],
   "source": [
    "# Part b)\n",
    "# define EOQ function\n",
    "def eoq_func (demand, setupcost, holdingcost, usage, lagrange):\n",
    "    \"Function returns EOQ and used capacity for multiple products\"\n",
    "    \n",
    "    if not (len(demand) == len(setupcost) and len(setupcost) == len(holdingcost) and len(holdingcost) == len(usage)):\n",
    "    # check whether all products have all required information    \n",
    "        print(\"Not enough information to calculate!\")\n",
    "    else: \n",
    "        import math\n",
    "        import numpy as np\n",
    "        \n",
    "        eoq = np.zeros(len(demand))\n",
    "        used_capacity = 0\n",
    "        for i in range(len(demand)):\n",
    "            eoq[i] = math.sqrt(2 * demand[i] * setupcost[i] / (holdingcost[i] + 2 * usage[i] * lagrange))\n",
    "            used_capacity += usage[i] * eoq[i]\n",
    "        \n",
    "        return (eoq, used_capacity);\n",
    "\n",
    "    \n",
    "# define Lagrange multiplier EOQ function for Warehouse scheduling problem\n",
    "def lagrange_func (demand, setupcost, holdingcost, usage, capacity = None):\n",
    "    \"Lagrange multiplier solution for Warehouse scheduling problem\"\n",
    "    \n",
    "    # Unconstrained case\n",
    "    if capacity is None:\n",
    "        lagrange = 0\n",
    "        (eoq, used_capacity) = eoq_func(demand, setupcost, holdingcost, usage, lagrange)\n",
    "    \n",
    "    # Constrained case\n",
    "    else:\n",
    "        lb = 0\n",
    "        ub = max(demand)  \n",
    "\n",
    "        while (ub-lb > 0.01):\n",
    "            lagrange = 0.5*(lb+ub)\n",
    "            (eoq, used_capacity) = eoq_func(demand, setupcost, holdingcost, usage, lagrange)\n",
    "            if used_capacity > capacity: \n",
    "                lb = lagrange\n",
    "            else: ub = lagrange\n",
    "\n",
    "    print(\"Unconstrained solution is:\")\n",
    "    print(eoq)\n",
    "    print(\"Used capacity: \", used_capacity)\n",
    "    print(\"Lagrange multiplier:\", lagrange)\n",
    "    return (eoq, used_capacity, lagrange);\n"
   ]
  },
  {
   "cell_type": "code",
   "execution_count": 4,
   "metadata": {},
   "outputs": [
    {
     "name": "stdout",
     "output_type": "stream",
     "text": [
      "Unconstrained solution is:\n",
      "[ 76.78255698 158.3024045  106.32126171]\n",
      "Used capacity:  499.70862769151796\n",
      "Lagrange multiplier: 2.740478515625\n"
     ]
    }
   ],
   "source": [
    "# applied Langrage function with data\n",
    "setupcost = [500, 1000, 700]\n",
    "holdingcost = [3, 5, 10]\n",
    "demand = [50, 200, 125]\n",
    "usage = [1, 2, 1]\n",
    "capacity = 500\n",
    "\n",
    "(eoq, used_capacity, lagrange) = lagrange_func(demand, setupcost, holdingcost, usage, capacity)"
   ]
  },
  {
   "cell_type": "code",
   "execution_count": null,
   "metadata": {},
   "outputs": [],
   "source": []
  }
 ],
 "metadata": {
  "kernelspec": {
   "display_name": "Python 3",
   "language": "python",
   "name": "python3"
  },
  "language_info": {
   "codemirror_mode": {
    "name": "ipython",
    "version": 3
   },
   "file_extension": ".py",
   "mimetype": "text/x-python",
   "name": "python",
   "nbconvert_exporter": "python",
   "pygments_lexer": "ipython3",
   "version": "3.7.3"
  }
 },
 "nbformat": 4,
 "nbformat_minor": 2
}
