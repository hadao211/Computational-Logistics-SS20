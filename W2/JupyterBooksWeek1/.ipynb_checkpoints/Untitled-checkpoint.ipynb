{
 "cells": [
  {
   "cell_type": "code",
   "execution_count": 15,
   "metadata": {},
   "outputs": [],
   "source": [
    "# define Exponential Smoothing function \n",
    "def exp_smoothing (observations, starting, alpha):\n",
    "    \"A function to calculate Exponential Smoothing forecast with smoothing constant alpha\"\n",
    "    \n",
    "    import numpy as np\n",
    "    \n",
    "    periods = len(observations)\n",
    "    forecast = np.zeros(periods)\n",
    "    forecast[0] = start\n",
    "    \n",
    "    for i in range(periods - 1): \n",
    "        forecast[i+1] = alpha * observations[i] + (1 - alpha) * forecast[i]\n",
    "    \n",
    "    return forecast;"
   ]
  },
  {
   "cell_type": "code",
   "execution_count": 16,
   "metadata": {},
   "outputs": [
    {
     "data": {
      "text/plain": [
       "array([100.    ,  90.    ,  92.5   ,  83.75  ,  71.875 ,  95.9375])"
      ]
     },
     "execution_count": 16,
     "metadata": {},
     "output_type": "execute_result"
    }
   ],
   "source": [
    "# apply Exponential Smoothing function with data\n",
    "start = 100\n",
    "alpha = 0.5\n",
    "demand = [80, 95, 75, 60, 120, 100]\n",
    "\n",
    "exp_smoothing(demand, start, alpha)"
   ]
  },
  {
   "cell_type": "code",
   "execution_count": 47,
   "metadata": {},
   "outputs": [],
   "source": [
    "# define Moving Average with data\n",
    "def mov_avg (observations, n):\n",
    "    \"A function to calculate forecast by Moving Average over n periods\"\n",
    "    \n",
    "    import numpy as np\n",
    "    # what if number of observations < n ? => show error?\n",
    "    \n",
    "    max_p = len(observations) - n + 1 #number of forecast periods, can only calculate a^ from period n\n",
    "    forecast = np.empty(max_p)\n",
    "    \n",
    "    for i in range(max_p):\n",
    "        start_p = i \n",
    "        end_p = n + i\n",
    "        forecast[i] = np.mean(observations[start_p : end_p])\n",
    "    \n",
    "    return forecast;"
   ]
  },
  {
   "cell_type": "code",
   "execution_count": 48,
   "metadata": {},
   "outputs": [],
   "source": [
    "demand = [80, 95, 75, 60, 120, 100]\n",
    "forecast = mov_avg(demand, 3)"
   ]
  },
  {
   "cell_type": "code",
   "execution_count": 49,
   "metadata": {},
   "outputs": [
    {
     "data": {
      "image/png": "[encoded data removed]",
      "text/plain": [
       "<Figure size 432x288 with 1 Axes>"
      ]
     },
     "metadata": {
      "needs_background": "light"
     },
     "output_type": "display_data"
    }
   ],
   "source": [
    "import matplotlib.pyplot as plt\n",
    "\n",
    "plt.plot([3,4,5,6],demand[2:6],'bs')\n",
    "plt.plot([3,4,5,6],forecast,'g^')\n",
    "plt.xlabel(\"Time\")\n",
    "plt.ylabel(\"Forecast\")\n",
    "plt.show()"
   ]
  },
  {
   "cell_type": "code",
   "execution_count": 50,
   "metadata": {},
   "outputs": [],
   "source": [
    "def luc (demand, setupcost, holdingcost):\n",
    "    \"Least unit cost algorithm\"\n",
    "    \n",
    "    import numpy as np\n",
    "    \n",
    "    periods = len(demand)\n",
    "    lotsize = np.zeros(periods)\n",
    "\n",
    "    k = 0 #current period\n",
    "    z = k + 1 #period to compare with current period\n",
    "    tcost = setupcost #total cost to order from period k UNTIL period z\n",
    "                      #initial value = setup cost \n",
    "    tdemand = demand[k] #sum of demand from period k UNTIL period z\n",
    "                        #initial value = demand in period k\n",
    "    lotsize[k] = demand[k]\n",
    "    \n",
    "    totalcost = setupcost #total cost of the order strategy\n",
    "    \n",
    "    while z < periods:\n",
    "        new_tcost = tcost + holdingcost * (z-k) * demand[z]\n",
    "        new_tdemand = tdemand + demand[z]\n",
    "        \n",
    "        if (tcost / tdemand) >= (new_tcost / new_tdemand): #compare cost per unit\n",
    "            #cost per unit NOT increase => include demand of period z in current lot size\n",
    "            lotsize[k] += demand[z]\n",
    "            totalcost += holdingcost * (z-k) * demand[z] #update total cost by holding cost of new future demand of period z\n",
    "            \n",
    "            tcost = new_tcost\n",
    "            tdemand = new_tdemand\n",
    "            z = z+1\n",
    "        else: #cost per unit increase => start a new lotsize          \n",
    "            k = z \n",
    "            z = k+1 \n",
    "            tcost = setupcost\n",
    "            tdemand = demand[k]\n",
    "            \n",
    "            lotsize[k] = demand[k]\n",
    "            totalcost += setupcost #update total cost by setup cost for new order\n",
    "    \n",
    "    print(\"Lot-size orders in each period are: \")\n",
    "    print(lotsize)\n",
    "    print(\"Total ordering cost is \", totalcost)\n",
    "    return (lotsize, totalcost);"
   ]
  },
  {
   "cell_type": "code",
   "execution_count": 51,
   "metadata": {},
   "outputs": [
    {
     "name": "stdout",
     "output_type": "stream",
     "text": [
      "Lot-size orders in each period are: \n",
      "[ 750.  150.    0.  500.    0. 1000.]\n",
      "Total ordering cost is  2500\n"
     ]
    },
    {
     "data": {
      "text/plain": [
       "(array([ 750.,  150.,    0.,  500.,    0., 1000.]), 2500)"
      ]
     },
     "execution_count": 51,
     "metadata": {},
     "output_type": "execute_result"
    }
   ],
   "source": [
    "demand = [750, 100, 50, 100, 400, 1000]\n",
    "setupcost = 400\n",
    "holdingcost = 2\n",
    "\n",
    "luc(demand, setupcost, holdingcost)"
   ]
  },
  {
   "cell_type": "code",
   "execution_count": 22,
   "metadata": {},
   "outputs": [
    {
     "name": "stdout",
     "output_type": "stream",
     "text": [
      "Transportation quantities: \n",
      "[[3. 2. 0. 0.]\n",
      " [0. 4. 4. 0.]\n",
      " [0. 0. 2. 5.]]\n",
      "Total cost: 101.0\n"
     ]
    },
    {
     "ename": "ModuleNotFoundError",
     "evalue": "No module named 'graphviz'",
     "output_type": "error",
     "traceback": [
      "\u001b[1;31m---------------------------------------------------------------------------\u001b[0m",
      "\u001b[1;31mModuleNotFoundError\u001b[0m                       Traceback (most recent call last)",
      "\u001b[1;32m<ipython-input-22-29c86a189e4d>\u001b[0m in \u001b[0;36m<module>\u001b[1;34m\u001b[0m\n\u001b[0;32m     22\u001b[0m \u001b[1;31m# conda install python-graphviz\u001b[0m\u001b[1;33m\u001b[0m\u001b[1;33m\u001b[0m\u001b[1;33m\u001b[0m\u001b[0m\n\u001b[0;32m     23\u001b[0m \u001b[1;33m\u001b[0m\u001b[0m\n\u001b[1;32m---> 24\u001b[1;33m \u001b[1;32mfrom\u001b[0m \u001b[0mgraphviz\u001b[0m \u001b[1;32mimport\u001b[0m \u001b[0mDigraph\u001b[0m\u001b[1;33m\u001b[0m\u001b[1;33m\u001b[0m\u001b[0m\n\u001b[0m\u001b[0;32m     25\u001b[0m \u001b[1;33m\u001b[0m\u001b[0m\n\u001b[0;32m     26\u001b[0m \u001b[0mf\u001b[0m \u001b[1;33m=\u001b[0m \u001b[0mDigraph\u001b[0m\u001b[1;33m(\u001b[0m\u001b[0mcomment\u001b[0m\u001b[1;33m=\u001b[0m\u001b[1;34m'TPP'\u001b[0m\u001b[1;33m)\u001b[0m\u001b[1;33m\u001b[0m\u001b[1;33m\u001b[0m\u001b[0m\n",
      "\u001b[1;31mModuleNotFoundError\u001b[0m: No module named 'graphviz'"
     ]
    }
   ],
   "source": [
    "# Transportation Problem\n",
    "import numpy as np\n",
    "capacity = [5,8,7]\n",
    "demand = [3,6,6,5]\n",
    "cost = [[4,5,2,7],[5,8,6,2],[8,9,4,3]] # list of list\n",
    "transport = np.zeros((3,4)) # matrix\n",
    "# North-West corner rule\n",
    "rc = capacity\n",
    "rd = demand\n",
    "tc = 0\n",
    "for i in range(3):\n",
    "  for j in range(4):\n",
    "    if (rc[i] > 0 and rd[j] > 0):\n",
    "      transport[i,j] = min(rc[i],rd[j]) #[i,j] for matrix\n",
    "      rc[i] = rc[i]-transport[i,j]\n",
    "      rd[j] = rd[j]-transport[i,j]\n",
    "      tc = tc+transport[i,j]*cost[i][j] #[][] for list of list\n",
    "print(\"Transportation quantities: \")\n",
    "print(transport)\n",
    "print(\"Total cost: \"+str(tc))\n",
    "\n",
    "# conda install python-graphviz\n",
    "\n",
    "from graphviz import Digraph\n",
    "\n",
    "f = Digraph(comment='TPP')\n",
    "\n",
    "for i in range(3):\n",
    "  f.node('C'+str(i+1))\n",
    "for j in range(4):\n",
    "  f.node('D'+str(j+1))\n",
    "\n",
    "for i in range(3):\n",
    "  for j in range(4):\n",
    "    if transport[i,j]>0:\n",
    "      f.edge('C'+str(i+1),'D'+str(j+1),label=str(transport[i,j]))\n",
    "\n",
    "f.view()\n"
   ]
  },
  {
   "cell_type": "code",
   "execution_count": 29,
   "metadata": {},
   "outputs": [
    {
     "name": "stdout",
     "output_type": "stream",
     "text": [
      "Transportation quantities: \n",
      "[[3. 2. 0. 0.]\n",
      " [0. 4. 0. 4.]\n",
      " [0. 0. 6. 1.]]\n",
      "Total cost: 89.0\n"
     ]
    }
   ],
   "source": [
    "# Column-minimum method\n",
    "capacity = [5,8,7]\n",
    "demand = [3,6,6,5]\n",
    "cost = [[4,5,2,7],[5,8,6,2],[8,9,4,3]] # list of list\n",
    "\n",
    "n = 3 # number of rows/sources\n",
    "m = 4 # number of columns/sinks\n",
    "\n",
    "if sum(capacity) < sum(demand):\n",
    "    print (\"Cannot fulfilled all demand !\")\n",
    "else:\n",
    "    \n",
    "    import numpy as np\n",
    "    transport = np.zeros((n,m)) # matrix\n",
    "\n",
    "    import copy\n",
    "    rc = copy.deepcopy(capacity)\n",
    "    rd = copy.deepcopy(demand)\n",
    "    tc = 0\n",
    "\n",
    "    for j in range(m): #iterate over sinks\n",
    "\n",
    "        cost_col = [list[j] for list in cost] #generate a list of cost unit from each source to sink j\n",
    "        cost_col = [(c,idx) for idx,c in enumerate(cost_col)] #include index of source with the corresponding cost unit\n",
    "        ranked_sources = [x[1] for x in sorted(cost_col)] #rank sources in ascending order of cost unit list\n",
    "\n",
    "        temp_index = 0 #iterate from left to right of the cost unit list\n",
    "        while (rd[j] > 0) and (temp_index < n): \n",
    "            current_source = ranked_sources[temp_index]\n",
    "            if rc[current_source] > 0 :\n",
    "                transport[current_source, j] = min(rc[current_source], rd[j])\n",
    "                rd[j]                -= transport[current_source, j] #calculate remaining demand\n",
    "                rc[current_source]   -= transport[current_source, j] #calculate remaining capacity\n",
    "                tc                   += transport[current_source, j] * cost[current_source][j]\n",
    "            else: temp_index += 1\n",
    "\n",
    "    print(\"Transportation quantities: \")\n",
    "    print(transport)\n",
    "    print(\"Total cost: \"+str(tc))\n"
   ]
  },
  {
   "cell_type": "code",
   "execution_count": 35,
   "metadata": {},
   "outputs": [
    {
     "name": "stdout",
     "output_type": "stream",
     "text": [
      "Transportation quantities: \n",
      "[[0. 0. 5. 0.]\n",
      " [3. 0. 0. 5.]\n",
      " [0. 6. 1. 0.]]\n",
      "Total cost: 93.0\n"
     ]
    }
   ],
   "source": [
    "# Matrix-minimum method\n",
    "capacity = [5,8,7]\n",
    "demand = [3,6,6,5]\n",
    "cost = [[4,5,2,7],[5,8,6,2],[8,9,4,3]] # list of list\n",
    "\n",
    "n = 3 # number of rows/sources\n",
    "m = 4 # number of columns/sinks\n",
    "\n",
    "if sum(capacity) < sum(demand):\n",
    "    print (\"Cannot fulfilled all demand !\")\n",
    "else:\n",
    "    \n",
    "    import numpy as np\n",
    "    transport = np.zeros((n,m)) # matrix\n",
    "\n",
    "\n",
    "    import copy\n",
    "    rc = copy.deepcopy(capacity)\n",
    "    rd = copy.deepcopy(demand)\n",
    "    tc = 0\n",
    "    \n",
    "    temp_cost = []\n",
    "    for i in range(n): #iterate over sources\n",
    "        for j in range(m): #iterate over sinks\n",
    "            temp_cost.append((cost[i][j], (i, j)))\n",
    "    ranked_connections = [x[1] for x in sorted(temp_cost)]        \n",
    "    \n",
    "    temp_index = 0 #iterate from left to right of the cost unit list    \n",
    "    while sum(rd) > 0:    \n",
    "        current_source = ranked_connections[temp_index][0]\n",
    "        current_sink = ranked_connections[temp_index][1]\n",
    "        \n",
    "        if (rd[current_sink] > 0) and (rc[current_source] > 0):\n",
    "            transport[current_source, current_sink] = min(rc[current_source], rd[current_sink])\n",
    "            rd[current_sink]        -= transport[current_source, current_sink] #calculate remaining demand\n",
    "            rc[current_source]      -= transport[current_source, current_sink] #calculate remaining capacity\n",
    "            tc                      += transport[current_source, current_sink] * cost[current_source][current_sink]            \n",
    "        else:\n",
    "            temp_index += 1\n",
    "            continue\n",
    "\n",
    "    print(\"Transportation quantities: \")\n",
    "    print(transport)\n",
    "    print(\"Total cost: \"+str(tc))\n"
   ]
  },
  {
   "cell_type": "code",
   "execution_count": 20,
   "metadata": {},
   "outputs": [
    {
     "name": "stdout",
     "output_type": "stream",
     "text": [
      "18.0\n",
      "[0, 2, 3, 1, 5, 4, 0]\n"
     ]
    }
   ],
   "source": [
    "# Travelling salesman - Nearest Neighbor\n",
    "distance = [[100, 3, 5, 2, 6, 4], [2, 100, 7, 5, 1, 3],[2, 4, 100, 3, 2, 6], [5, 3, 6, 100, 4, 4],[1, 4, 5, 2, 100, 6],[6, 5, 7, 3, 3, 100]]\n",
    "nodes = 6 # index as 0 ... nodes-1\n",
    "\n",
    "tour = [0, 0] #start and end at node 0\n",
    "length = 0 #total length of current tour\n",
    "\n",
    "import numpy as np\n",
    "\n",
    "for i in range(1, nodes) : #add nodes in order of 1 -> nodes-1\n",
    "    length_change = np.zeros(len(tour) - 1) #list of change in length for each possible position to insert new node\n",
    "    \n",
    "    for position in range(len(tour) - 1): #iterate through possible positions in current tour\n",
    "        temp_tour = tour[: position+1] + [i] + tour[position+1 :]\n",
    "        \n",
    "        #calculate the change in length between current tour and temp tour\n",
    "        pre_ins_node = tour[position]\n",
    "        nex_ins_node = tour[position + 1]\n",
    "        if pre_ins_node == nex_ins_node:\n",
    "            length_change[position] = distance[pre_ins_node][i] + distance[i][nex_ins_node]\n",
    "        else:\n",
    "            length_change[position] = distance[pre_ins_node][i] + distance[i][nex_ins_node] - distance[pre_ins_node][nex_ins_node]\n",
    "    \n",
    "    min_position = np.argmin(length_change) #get the position which create the shortest length change\n",
    "    length += length_change[min_position]\n",
    "    tour = tour[: min_position+1] + [i] + tour[min_position+1 :]\n",
    "\n",
    "print(length)\n",
    "print(tour)"
   ]
  }
 ],
 "metadata": {
  "kernelspec": {
   "display_name": "Python 3",
   "language": "python",
   "name": "python3"
  },
  "language_info": {
   "codemirror_mode": {
    "name": "ipython",
    "version": 3
   },
   "file_extension": ".py",
   "mimetype": "text/x-python",
   "name": "python",
   "nbconvert_exporter": "python",
   "pygments_lexer": "ipython3",
   "version": "3.7.3"
  }
 },
 "nbformat": 4,
 "nbformat_minor": 2
}
