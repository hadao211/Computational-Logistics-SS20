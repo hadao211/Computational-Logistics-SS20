{
 "cells": [
  {
   "cell_type": "code",
   "execution_count": null,
   "metadata": {},
   "outputs": [],
   "source": []
  },
  {
   "cell_type": "code",
   "execution_count": 7,
   "metadata": {},
   "outputs": [
    {
     "name": "stdout",
     "output_type": "stream",
     "text": [
      "129.09944487358058\n",
      "282.842712474619\n",
      "132.28756555322954\n",
      "Used capacity: 827.0724353760481\n",
      "Error: too low capacity\n",
      "76.78255698435468\n",
      "158.3024044969039\n",
      "106.32126171335544\n"
     ]
    }
   ],
   "source": [
    "# Lagrange multiplier EOQ\n",
    "import math\n",
    "# define parameters\n",
    "setupcost = [500, 1000, 700]\n",
    "holdingcost = [3, 5, 10]\n",
    "demand = [50, 200, 125]\n",
    "usage = [1, 2, 1]\n",
    "capacity = 500\n",
    "\n",
    "sum = 0\n",
    "for i in range(3):\n",
    "    eoq = math.sqrt(2*demand[i]*setupcost[i]/holdingcost[i])\n",
    "    sum = sum+usage[i]*eoq\n",
    "    print(eoq)\n",
    "print(\"Used capacity: \"+str(sum))\n",
    "#print(sum)\n",
    "if sum > capacity:\n",
    "    print(\"Error: too low capacity\")\n",
    "else: print(\"Feasible\")\n",
    "\n",
    "lb = 0; ub = 200 # bi-section search, by lower bound & upper bound\n",
    "while (ub-lb > 0.01):\n",
    "    l = 0.5*(lb+ub) # starting point of search = middle point between lb and ub\n",
    "    sum = 0\n",
    "    for i in range(3):\n",
    "      eoq = math.sqrt(2*demand[i]*setupcost[i]/(holdingcost[i]+2*usage[i]*l))\n",
    "      sum = sum+usage[i]*eoq\n",
    "    if sum > capacity: #if with current lambda, over capacity => low lb => increase lb (lb = lambda) => increase lambda\n",
    "      lb = l\n",
    "    else: ub = l #if less than capacity => high ub => decrease ub (ub = lambda) => decrease lambda\n",
    "for i in range(3):\n",
    "  eoq = math.sqrt(2*demand[i]*setupcost[i]/(holdingcost[i]+2*usage[i]*l))\n",
    "  print(eoq)\n",
    "\n",
    "    "
   ]
  },
  {
   "cell_type": "code",
   "execution_count": null,
   "metadata": {},
   "outputs": [],
   "source": []
  },
  {
   "cell_type": "code",
   "execution_count": null,
   "metadata": {},
   "outputs": [],
   "source": []
  }
 ],
 "metadata": {
  "kernelspec": {
   "display_name": "Python 3",
   "language": "python",
   "name": "python3"
  },
  "language_info": {
   "codemirror_mode": {
    "name": "ipython",
    "version": 3
   },
   "file_extension": ".py",
   "mimetype": "text/x-python",
   "name": "python",
   "nbconvert_exporter": "python",
   "pygments_lexer": "ipython3",
   "version": "3.7.3"
  }
 },
 "nbformat": 4,
 "nbformat_minor": 4
}
