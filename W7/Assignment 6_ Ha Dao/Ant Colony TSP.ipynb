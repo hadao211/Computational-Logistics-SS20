{
 "cells": [
  {
   "cell_type": "code",
   "execution_count": 1,
   "metadata": {},
   "outputs": [],
   "source": [
    "import numpy as np\n",
    "import pandas as pd\n",
    "import math"
   ]
  },
  {
   "cell_type": "code",
   "execution_count": 2,
   "metadata": {},
   "outputs": [],
   "source": [
    "# define function to download data\n",
    "def load_data(url, filename):\n",
    "    import urllib.request\n",
    "    from zipfile import ZipFile\n",
    "    \n",
    "    response = urllib.request.urlretrieve(\n",
    "        url,filename)\n",
    "    #unzip\n",
    "    with ZipFile(filename, 'r') as zip_ref:\n",
    "        zip_ref.extractall()"
   ]
  },
  {
   "cell_type": "code",
   "execution_count": 3,
   "metadata": {},
   "outputs": [],
   "source": [
    "# define fuction to read data from xml file\n",
    "def import_data(filename):\n",
    "    import xml.etree.ElementTree as et \n",
    "    xtree = et.parse(filename)\n",
    "    xroot = xtree.getroot()\n",
    "    \n",
    "    return xroot;"
   ]
  },
  {
   "cell_type": "code",
   "execution_count": 4,
   "metadata": {},
   "outputs": [],
   "source": [
    "# define function to create distance matrix\n",
    "def dist_matrix(cities, xroot):\n",
    "    #create distance matrix\n",
    "    import numpy as np\n",
    "    distance = np.zeros((cities,cities))\n",
    "    \n",
    "    #import data\n",
    "    import xml.etree.ElementTree as et\n",
    "    from_node = 0\n",
    "    for child in xroot.iter('vertex'):\n",
    "        for child1 in child:\n",
    "            dist = float(child1.attrib.get('cost'))\n",
    "            to_node = int(child1.text)\n",
    "            distance[from_node, to_node] = dist\n",
    "\n",
    "        from_node += 1\n",
    "\n",
    "#     max_distance = np.nanmax(distance)\n",
    "#     for i in range(cities):#\n",
    "#         distance[i,i] = max_distance*10 #very large number for distance to itself => no revisited \n",
    "        \n",
    "    return distance "
   ]
  },
  {
   "cell_type": "code",
   "execution_count": null,
   "metadata": {},
   "outputs": [],
   "source": []
  },
  {
   "cell_type": "code",
   "execution_count": null,
   "metadata": {},
   "outputs": [],
   "source": []
  },
  {
   "cell_type": "code",
   "execution_count": 5,
   "metadata": {},
   "outputs": [],
   "source": [
    "# function to calculate priori attractiveness of a decision \n",
    "# desirablity /visibility = inverse of the distance between two nodes (local information)\n",
    "def visibility (distance):\n",
    "    vis = np.zeros(distance.shape, dtype = np.float64)\n",
    "    for i in range(distance.shape[0]):\n",
    "        for j in range(distance.shape[1]):\n",
    "            if distance[i,j] != 0:\n",
    "                vis[i,j] = 1.0/distance[i,j]\n",
    "                \n",
    "    return vis"
   ]
  },
  {
   "cell_type": "code",
   "execution_count": 6,
   "metadata": {},
   "outputs": [],
   "source": [
    "#define class Agent (ant) and its function\n",
    "class Agent:\n",
    "    import numpy as np\n",
    "    import pandas as pd\n",
    "    import math\n",
    "    \n",
    "    def __init__(self, k, cities, distance): #initialization\n",
    "        self.index = k\n",
    "        \n",
    "        #randomly distribute the ant\n",
    "        c = np.random.randint(low = 1, high = cities)\n",
    "        self.currCity = c  \n",
    "        \n",
    "        self.visited = [0, c] #start at depot\n",
    "        self.cost = distance[0,c]\n",
    "        self.unvisited = [x for x in range(1,cities) if x!=c] \n",
    "        self.transition_probs = []\n",
    "        self.tour = [(0,c)]\n",
    "    \n",
    "    def reset_agent(self): #reset whenever starting new iteration => ant return to depot\n",
    "        self.currCity = 0 \n",
    "        self.visited = [0]\n",
    "        self.cost = 0\n",
    "        self.unvisited = [x for x in range(1,cities)]\n",
    "        self.transition_probs = []\n",
    "        self.tour = []\n",
    "        \n",
    "    # get current transition prob (of unvisited city)\n",
    "    def get_trans_prob(self, tau_list, vis_list, j): #j in unvisited\n",
    "        tau_part = math.pow(tau_list[self.currCity,j], ALPHA)\n",
    "        vis_part = math.pow(vis_list[self.currCity,j], BETA)\n",
    "        \n",
    "        return tau_part*vis_part\n",
    "    \n",
    "\n",
    "    def move(self, distance, tau_list, vis_list):\n",
    "        \n",
    "        while (self.unvisited): #loop while the unvisited list is not empty\n",
    "            for j in self.unvisited:\n",
    "                self.transition_probs.append(self.get_trans_prob(tau_list, vis_list, j))\n",
    "                \n",
    "            s = np.sum(self.transition_probs)\n",
    "            for j in range(len(self.transition_probs)): \n",
    "                self.transition_probs[j]= self.transition_probs[j] / s #normalize\n",
    "            \n",
    "            nextCity = np.random.choice(self.unvisited,p=self.transition_probs) #random select next city based on trans_prob\n",
    "            \n",
    "            self.tour.append((self.currCity, nextCity)) #update tour\n",
    "            self.visited.append(nextCity) #update into visited\n",
    "            self.unvisited.remove(nextCity) #remove from unvisited\n",
    "            self.cost += distance[self.currCity, nextCity] #update length of the tour\n",
    "            \n",
    "            self.currCity=nextCity #update current position\n",
    "            self.transition_probs=[] #reset transition prob\n",
    "        \n",
    "        \n",
    "        #return to depot\n",
    "        self.tour.append((self.currCity, 0)) #update tour\n",
    "        self.cost += distance[self.currCity, 0] #update length of the tour\n",
    "        "
   ]
  },
  {
   "cell_type": "code",
   "execution_count": null,
   "metadata": {},
   "outputs": [],
   "source": []
  },
  {
   "cell_type": "code",
   "execution_count": null,
   "metadata": {},
   "outputs": [],
   "source": []
  },
  {
   "cell_type": "code",
   "execution_count": 7,
   "metadata": {},
   "outputs": [],
   "source": [
    "# 120 cities\n",
    "cities = 120\n",
    "\n",
    "di = pd.read_excel(\"gr120.xlsx\",sheet_name=\"DistanceMatrix\")\n",
    "distance=di.values\n",
    "\n",
    "# for i in range(cities):\n",
    "#     distance[i,i] = 10000"
   ]
  },
  {
   "cell_type": "code",
   "execution_count": 8,
   "metadata": {},
   "outputs": [],
   "source": [
    "# Medium size data set: # of nodes = 152\n",
    "url1 = 'http://comopt.ifi.uni-heidelberg.de/software/TSPLIB95/XML-TSPLIB/instances/pr152.xml.zip'\n",
    "zip1 = 'pr152.xml.zip'\n",
    "file1 = 'pr152.xml'\n",
    "cities1 = 152\n",
    "\n",
    "load_data(url1, zip1)\n",
    "xroot1 = import_data(file1)\n",
    "distance1 = dist_matrix(cities1, xroot1)"
   ]
  },
  {
   "cell_type": "code",
   "execution_count": 9,
   "metadata": {},
   "outputs": [],
   "source": [
    "# Larger size data set: # of nodes = 264\n",
    "url2 = 'http://comopt.ifi.uni-heidelberg.de/software/TSPLIB95/XML-TSPLIB/instances/pr264.xml.zip'\n",
    "zip2 = 'pr264.xml.zip'\n",
    "file2 = 'pr264.xml'\n",
    "cities2 = 264\n",
    "\n",
    "load_data(url2, zip2)\n",
    "xroot2 = import_data(file2)\n",
    "distance2 = dist_matrix(cities2, xroot2)"
   ]
  },
  {
   "cell_type": "code",
   "execution_count": null,
   "metadata": {},
   "outputs": [],
   "source": []
  },
  {
   "cell_type": "code",
   "execution_count": null,
   "metadata": {},
   "outputs": [],
   "source": []
  },
  {
   "cell_type": "code",
   "execution_count": 10,
   "metadata": {},
   "outputs": [],
   "source": [
    "#Parameters"
   ]
  },
  {
   "cell_type": "code",
   "execution_count": 11,
   "metadata": {},
   "outputs": [],
   "source": [
    "iterations = 100 #number of iterations\n",
    "\n",
    "# intensities \n",
    "intensity = 0.0001\n",
    "\n",
    "# # of ants: default value = # of cities\n",
    "# too many ants will reinforce not optimal solutions (visit un-optimal tour too often)\n",
    "# too few ants would not produce cooperative effect due to pheromone decay\n",
    "agents = cities #number of agents\n",
    "\n",
    "# Relative weight of feedback: how greedy the algorithm is => EXPLOITATION EFFECT \n",
    "# alpha = 0 => extremly greedy (alpha >= 0) => control the influence of the amount of pheromone deposited \n",
    "ALPHA = 2\n",
    "\n",
    "# Relative weight of problem information: how fast the ants is converge to a steady solution => EXPLORATION EFFECT\n",
    "# beta >= 1 => control desirability of state transition (i.e. 1/d)\n",
    "BETA = 3\n",
    "\n",
    "# Trail increment: how much pheromone is deposited in between steps in the process\n",
    "# ontrol the level of exploration undertaken by the ants\n",
    "Q = 1\n",
    "\n",
    "# Pheromone evaporation rate (Forgetting rate)\n",
    "# small = slow evaporation => more amplification of the initial random fluctuation\n",
    "# high = fast evaporation => evaporate quickly (less influence of memory on decision) => constantly doing random searches\n",
    "RHO = 0.1"
   ]
  },
  {
   "cell_type": "code",
   "execution_count": null,
   "metadata": {},
   "outputs": [],
   "source": []
  },
  {
   "cell_type": "code",
   "execution_count": 12,
   "metadata": {},
   "outputs": [],
   "source": [
    "ds = visibility(distance)\n",
    "taus = intensity * np.ones(distance.shape)"
   ]
  },
  {
   "cell_type": "code",
   "execution_count": null,
   "metadata": {},
   "outputs": [],
   "source": []
  },
  {
   "cell_type": "code",
   "execution_count": null,
   "metadata": {},
   "outputs": [],
   "source": []
  },
  {
   "cell_type": "code",
   "execution_count": 13,
   "metadata": {},
   "outputs": [
    {
     "name": "stdout",
     "output_type": "stream",
     "text": [
      "13961\n",
      "13625\n",
      "13191\n",
      "12448\n",
      "11360\n",
      "11331\n",
      "[(0, 31), (31, 29), (29, 28), (28, 119), (119, 13), (13, 43), (43, 45), (45, 49), (49, 97), (97, 16), (16, 117), (117, 48), (48, 40), (40, 55), (55, 6), (6, 37), (37, 71), (71, 39), (39, 7), (7, 69), (69, 33), (33, 3), (3, 25), (25, 70), (70, 115), (115, 89), (89, 35), (35, 103), (103, 111), (111, 101), (101, 47), (47, 46), (46, 88), (88, 54), (54, 5), (5, 83), (83, 34), (34, 9), (9, 98), (98, 61), (61, 36), (36, 66), (66, 56), (56, 82), (82, 72), (72, 62), (62, 4), (4, 79), (79, 114), (114, 1), (1, 8), (8, 118), (118, 102), (102, 22), (22, 50), (50, 10), (10, 20), (20, 108), (108, 92), (92, 63), (63, 76), (76, 52), (52, 26), (26, 100), (100, 113), (113, 105), (105, 109), (109, 38), (38, 94), (94, 96), (96, 11), (11, 87), (87, 81), (81, 2), (2, 95), (95, 53), (53, 15), (15, 60), (60, 75), (75, 73), (73, 104), (104, 27), (27, 44), (44, 77), (77, 93), (93, 85), (85, 21), (21, 84), (84, 106), (106, 19), (19, 112), (112, 68), (68, 64), (64, 42), (42, 107), (107, 18), (18, 24), (24, 116), (116, 30), (30, 65), (65, 17), (17, 74), (74, 86), (86, 91), (91, 59), (59, 23), (23, 110), (110, 80), (80, 14), (14, 58), (58, 41), (41, 32), (32, 99), (99, 57), (57, 78), (78, 67), (67, 90), (90, 51), (51, 12), (12, 0)]\n",
      "11331\n"
     ]
    }
   ],
   "source": [
    "#main algorithm\n",
    "\n",
    "best_cost = np.max(distance)*(cities+1) #upperbound\n",
    "best_tour = []\n",
    "\n",
    "#run iterations\n",
    "colony = []\n",
    "for k in range(agents):\n",
    "    ant = Agent(k, cities, distance)\n",
    "    colony.append(ant)\n",
    "\n",
    "for it in range(iterations):\n",
    "    \n",
    "    delta_tau = np.zeros((agents, cities, cities))\n",
    "    \n",
    "    for k in range(agents):\n",
    "        colony[k].move(distance, taus, ds)\n",
    "        tour_k = colony[k].tour\n",
    "        L_k = colony[k].cost    \n",
    "        colony[k].reset_agent()\n",
    "        \n",
    "        #print(L_k,'   ', best_cost)\n",
    "        #print(tour_k)\n",
    "        \n",
    "        if L_k < best_cost:\n",
    "            best_cost = L_k\n",
    "            best_tour = tour_k\n",
    "            print(best_cost)\n",
    "        \n",
    "        for i in range(cities):\n",
    "            for j in range(cities):\n",
    "                if (i,j) in colony[k].tour:\n",
    "                    delta_tau[k,i,j] = Q/L_k\n",
    "        \n",
    "    for i in range(cities):\n",
    "        for j in range(cities):\n",
    "            taus[i,j] = RHO*taus[i,j] + sum( [delta_tau[k,i,j] for k in range(agents)] )\n",
    "            \n",
    "print(best_tour)\n",
    "print(best_cost)"
   ]
  },
  {
   "cell_type": "code",
   "execution_count": 14,
   "metadata": {},
   "outputs": [
    {
     "data": {
      "text/plain": [
       "(152, 152)"
      ]
     },
     "execution_count": 14,
     "metadata": {},
     "output_type": "execute_result"
    }
   ],
   "source": [
    "distance1.shape"
   ]
  }
 ],
 "metadata": {
  "kernelspec": {
   "display_name": "Python 3",
   "language": "python",
   "name": "python3"
  },
  "language_info": {
   "codemirror_mode": {
    "name": "ipython",
    "version": 3
   },
   "file_extension": ".py",
   "mimetype": "text/x-python",
   "name": "python",
   "nbconvert_exporter": "python",
   "pygments_lexer": "ipython3",
   "version": "3.7.3"
  }
 },
 "nbformat": 4,
 "nbformat_minor": 2
}
