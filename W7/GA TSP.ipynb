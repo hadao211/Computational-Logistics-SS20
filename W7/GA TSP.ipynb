{
 "cells": [
  {
   "cell_type": "code",
   "execution_count": 217,
   "metadata": {},
   "outputs": [],
   "source": [
    "# define function to download data\n",
    "def load_data(url, filename):\n",
    "    import urllib.request\n",
    "    from zipfile import ZipFile\n",
    "    \n",
    "    response = urllib.request.urlretrieve(\n",
    "        url,filename)\n",
    "    #unzip\n",
    "    with ZipFile(filename, 'r') as zip_ref:\n",
    "        zip_ref.extractall()"
   ]
  },
  {
   "cell_type": "code",
   "execution_count": 218,
   "metadata": {},
   "outputs": [],
   "source": [
    "# define fuction to read data from xml file\n",
    "def import_data(filename):\n",
    "    import xml.etree.ElementTree as et \n",
    "    xtree = et.parse(filename)\n",
    "    xroot = xtree.getroot()\n",
    "    \n",
    "    return xroot;"
   ]
  },
  {
   "cell_type": "code",
   "execution_count": 219,
   "metadata": {},
   "outputs": [],
   "source": [
    "# define function to create distance matrix\n",
    "def dist_matrix(cities, xroot):\n",
    "    #create distance matrix\n",
    "    import numpy as np\n",
    "    distance = np.zeros((cities,cities))\n",
    "    \n",
    "    #import data\n",
    "    import xml.etree.ElementTree as et\n",
    "    from_node = 0\n",
    "    for child in xroot.iter('vertex'):\n",
    "        for child1 in child:\n",
    "            dist = float(child1.attrib.get('cost'))\n",
    "            to_node = int(child1.text)\n",
    "            distance[from_node, to_node] = dist\n",
    "\n",
    "        from_node += 1\n",
    "    \n",
    "    max_distance = np.nanmax(distance)\n",
    "    for i in range(cities):#\n",
    "        distance[i,i] = max_distance*10 #very large number for distance to itself => no revisited \n",
    "\n",
    "    return distance "
   ]
  },
  {
   "cell_type": "code",
   "execution_count": null,
   "metadata": {},
   "outputs": [],
   "source": []
  },
  {
   "cell_type": "code",
   "execution_count": 220,
   "metadata": {},
   "outputs": [],
   "source": [
    "# encoding a tour\n",
    "def encode(detour):\n",
    "    cities = len(detour)\n",
    "    master = [x for x in range(cities)]\n",
    "    entour = []\n",
    "    \n",
    "    for i in range(cities):\n",
    "        entour.append(master.index(detour[i]))\n",
    "        master.remove(detour[i])\n",
    "    \n",
    "    return entour"
   ]
  },
  {
   "cell_type": "code",
   "execution_count": 221,
   "metadata": {},
   "outputs": [],
   "source": [
    "#decoding an individual\n",
    "def decode(entour):\n",
    "    cities = len(entour)    \n",
    "    master = [x for x in range(cities)]\n",
    "    detour = []\n",
    "    \n",
    "    for i in range(cities):\n",
    "        detour.append(master[entour[i]])\n",
    "        master.remove(master[entour[i]])\n",
    "    \n",
    "    return detour"
   ]
  },
  {
   "cell_type": "code",
   "execution_count": null,
   "metadata": {},
   "outputs": [],
   "source": []
  },
  {
   "cell_type": "code",
   "execution_count": 222,
   "metadata": {},
   "outputs": [],
   "source": [
    "# define function to swap 2 edges of nodes with index m and n (starting index 0)  \n",
    "def tour_swap (tour, m, n):\n",
    "    new_tour = copy.deepcopy(tour)\n",
    "    new_tour[m:n+1] = reversed(new_tour[m:n+1])\n",
    "    return new_tour"
   ]
  },
  {
   "cell_type": "code",
   "execution_count": 223,
   "metadata": {},
   "outputs": [],
   "source": [
    "def two_opt (distance, tour):\n",
    "    import copy\n",
    "    \n",
    "    best_tour = tour\n",
    "    best_delta = 0\n",
    "    improvement = True\n",
    "    \n",
    "    while improvement: \n",
    "        improvement = False\n",
    "        for i in range(1,len(tour)-2):\n",
    "            for j in range(i+1, len(tour)-1):\n",
    "                temp_tour = tour_swap(tour, i, j)\n",
    "                delta = totalcost(distance, tour[(i-1):(j+2)]) - totalcost(distance, temp_tour[(i-1):(j+2)]) #improvement = positive delta\n",
    "                \n",
    "                if delta > best_delta:\n",
    "                    best_tour = copy.deepcopy(temp_tour)\n",
    "                    best_delta = delta\n",
    "                    improvement = True\n",
    "    \n",
    "    return best_tour, totalcost(best_tour)"
   ]
  },
  {
   "cell_type": "code",
   "execution_count": 224,
   "metadata": {},
   "outputs": [],
   "source": [
    "# define function to calculate the length of the tour \n",
    "def totalcost(distance, tour):\n",
    "    length = 0\n",
    "    for i in range(len(tour)-1):\n",
    "        length += distance[tour[i]][tour[i+1]]\n",
    "    return length"
   ]
  },
  {
   "cell_type": "code",
   "execution_count": null,
   "metadata": {},
   "outputs": [],
   "source": []
  },
  {
   "cell_type": "code",
   "execution_count": 225,
   "metadata": {},
   "outputs": [],
   "source": [
    "#evaluate a tour\n",
    "def evaluate(distance, tour):\n",
    "    length = 0\n",
    "    for i in range(len(tour)-1):\n",
    "        length += distance[tour[i]][tour[i+1]]\n",
    "\n",
    "    length += distance[tour[-1]][tour[0]] #return to starting point\n",
    "  \n",
    "    return length"
   ]
  },
  {
   "cell_type": "code",
   "execution_count": 226,
   "metadata": {},
   "outputs": [],
   "source": [
    "#format of a solution\n",
    "def create_solution(distance, entour, codetype = 'encode'):\n",
    "    if codetype == 'encode':\n",
    "        tour = decode(entour)\n",
    "    elif codetype == 'permutation':\n",
    "        tour = entour\n",
    "    else:\n",
    "        raise ValueError(\"Wrong codetype\")\n",
    "\n",
    "    solution = [evaluate(distance, tour), entour]\n",
    "    \n",
    "    return solution"
   ]
  },
  {
   "cell_type": "code",
   "execution_count": null,
   "metadata": {},
   "outputs": [],
   "source": []
  },
  {
   "cell_type": "code",
   "execution_count": 227,
   "metadata": {},
   "outputs": [],
   "source": [
    "# random initialize\n",
    "def initialize(cities, distance, pop_size, codetype = 'encode'):\n",
    "    solution_pop = []\n",
    "    entour_pop = []\n",
    "    \n",
    "    while len(entour_pop) < pop_size: #iterate to get pop_size candidates \n",
    "        entour = []\n",
    "        \n",
    "        if codetype == 'encode':    \n",
    "            for i in range(cities):\n",
    "                entour.append(np.random.randint(0,cities-i))  #position <= # of remaning cities\n",
    "        elif codetype == 'permutation':\n",
    "            entour = np.arange(cities)\n",
    "            np.random.shuffle(entour)\n",
    "            entour = list(entour)\n",
    "        else:\n",
    "            raise ValueError(\"Wrong codetype\")            \n",
    "            \n",
    "        if entour not in entour_pop:\n",
    "            entour_pop.append(entour)\n",
    "            solution_pop.append(create_solution(distance, entour, codetype))\n",
    "    \n",
    "    return solution_pop #return a population of solution candidates"
   ]
  },
  {
   "cell_type": "code",
   "execution_count": null,
   "metadata": {},
   "outputs": [],
   "source": []
  },
  {
   "cell_type": "code",
   "execution_count": 228,
   "metadata": {},
   "outputs": [],
   "source": [
    "# selection\n",
    "def select(solution_pop, offspring_size, selecttype = 'fitness', tournament_size = None):\n",
    "    offspring = []\n",
    "    expected = np.mean([ sol[0] for sol in solution_pop])\n",
    "    pop_size = len(solution_pop)\n",
    "    f = [ (2*expected - solution_pop[i][0]) for i in range(pop_size)] #calculate f of each candidate\n",
    "    sum_f = sum(f)\n",
    "\n",
    "    if selecttype == 'tournament':\n",
    "        #tournament size = # of solutions selected for each tournament\n",
    "        if tournament_size is None: \n",
    "            tournament_size = len(solution_pop)//4\n",
    "        \n",
    "        for i in range(offspring_size):\n",
    "            tournament = np.random.choice(np.arange(pop_size), size = tournament_size, replace = False) #random select k index\n",
    "            tour_f = [f[i] for i in tournament]\n",
    "            winner = tournament[np.argmax(tour_f)] #return index of winner\n",
    "            offspring.append(solution_pop[winner])\n",
    "            \n",
    "        return offspring\n",
    "    \n",
    "    \n",
    "    elif selecttype == 'rank': #rank selection\n",
    "        f_index = [(value, idx) for (idx, value) in enumerate(f)]\n",
    "        f_index = sorted(f_index, reverse = True) #sort based on value\n",
    "        rank_index = [(idx, rank) for (rank, (value,idx)) in enumerate(f_index)] #get rank\n",
    "        rank_index = sorted(rank_index) #sorted base on index\n",
    "        rank = [r[1] for r in rank_index] #get a list of rank sorted on index\n",
    "        \n",
    "        eMax = 1 + np.random.random()\n",
    "        eMin = 2 - eMax\n",
    "        prob = [ (1/pop_size) * (eMax - (eMax - eMin)*(rank[i] - 1)/(pop_size-1)) for i in range(pop_size)] #individual prob\n",
    "        \n",
    "        prob_range = [ sum(prob[0:i+1]) for i in range(pop_size)] #cumulative prob of each candidate\n",
    "        \n",
    "    elif selecttype == 'fitness': #default selection mechanism\n",
    "        prob_range = [ sum(f[0:i+1])/sum_f for i in range(pop_size)] #cumulative prob of each candidate\n",
    "    \n",
    "    else:\n",
    "        raise ValueError(\"Wrong selecttype\")        \n",
    "    \n",
    "    \n",
    "    for i in range(offspring_size):\n",
    "        p = np.random.random()\n",
    "\n",
    "        for j in range(pop_size):\n",
    "            if prob_range[j] >= p:\n",
    "                offspring.append(solution_pop[j])\n",
    "                break\n",
    "        \n",
    "    return offspring"
   ]
  },
  {
   "cell_type": "code",
   "execution_count": null,
   "metadata": {},
   "outputs": [],
   "source": []
  },
  {
   "cell_type": "code",
   "execution_count": 229,
   "metadata": {},
   "outputs": [],
   "source": [
    "#recombination and mutation\n",
    "def recomb(cities, distance, solution_pop, offspring,\n",
    "           recprob, muprob, crossprob = 0.5, mulocprob = 0.5, crosstype = 'uniform', codetype = 'encode'):\n",
    "\n",
    "    pop = [s[1] for s in solution_pop] #set of decision\n",
    "    new_solution_pop = []\n",
    "    \n",
    "    for k in range(len(offspring)//2): \n",
    "\n",
    "        #recombination\n",
    "        if np.random.random() < recprob:\n",
    "            child = []\n",
    "            \n",
    "            #crossover\n",
    "            if crosstype == 'uniform': #uniform crossover\n",
    "                for i in range(cities):\n",
    "                    if np.random.random() < crossprob:\n",
    "                        child.append(offspring[2*k][1][i]) #from offspring1\n",
    "                    else: \n",
    "                        child.append(offspring[2*k+1][1][i]) #from offspring2\n",
    "            \n",
    "            elif crosstype == '1point': #1 point crossover\n",
    "                cp=np.random.randint(1,cities-1)\n",
    "                child = offspring[2*k][1][:cp] + offspring[2*k+1][1][cp:]\n",
    "            \n",
    "            elif crosstype == '2point': #2 point crossover\n",
    "                cp1=np.random.randint(1,cities-2)\n",
    "                cp2=np.random.randint(cp1+1,cities)\n",
    "                child = offspring[2*k][1][:cp1] + offspring[2*k+1][1][cp1:cp2] + offspring[2*k][1][cp2:]\n",
    "            else:\n",
    "                raise ValueError(\"Wrong selecttype\")\n",
    "            \n",
    "            \n",
    "            #mutation\n",
    "            if np.random.random() < muprob:\n",
    "                if codetype == 'permutation':\n",
    "                    (loc1, loc2) = np.random.choice(child, size = 2, replace = False)\n",
    "                    temp = child[loc1]\n",
    "                    child[loc1] = child[loc2]\n",
    "                    child[loc2] = temp\n",
    "                    \n",
    "                elif codetype == 'encode':\n",
    "                    for i in range(cities):\n",
    "                        if np.random.random() < mulocprob:\n",
    "                            child[i] = min(cities-1-i,child[i]+1)\n",
    "                        else: child[i] = max(0,child[i]-1)\n",
    "                else:\n",
    "                    raise ValueError(\"Wrong codetype\")\n",
    "\n",
    "\n",
    "            #add to population\n",
    "            if child not in pop:\n",
    "                pop.append(child)\n",
    "                new_solution_pop.append(create_solution(distance, child, codetype))\n",
    "            \n",
    "    return new_solution_pop"
   ]
  },
  {
   "cell_type": "code",
   "execution_count": 230,
   "metadata": {},
   "outputs": [],
   "source": [
    "# replacement\n",
    "def replace(solution_pop, new_solution_pop, pop_size, reptype = 'best', selecttype = None):\n",
    "    pop = []\n",
    "    \n",
    "    if reptype == 'complete':\n",
    "        return new_solution_pop\n",
    "    \n",
    "    elif reptype == 'best':\n",
    "        total_pop = solution_pop + new_solution_pop\n",
    "        sortedpop = sorted(total_pop) #sorted by cost of a solution\n",
    "        pop = sortedpop[0:pop_size]\n",
    "        \n",
    "    elif reptype == 'select':\n",
    "        total_pop = solution_pop + new_solution_pop\n",
    "        pop = select(total_pop, pop_size, selecttype)\n",
    "    \n",
    "    return pop "
   ]
  },
  {
   "cell_type": "code",
   "execution_count": null,
   "metadata": {},
   "outputs": [],
   "source": []
  },
  {
   "cell_type": "code",
   "execution_count": null,
   "metadata": {},
   "outputs": [],
   "source": []
  },
  {
   "cell_type": "code",
   "execution_count": null,
   "metadata": {},
   "outputs": [],
   "source": []
  },
  {
   "cell_type": "code",
   "execution_count": null,
   "metadata": {},
   "outputs": [],
   "source": []
  },
  {
   "cell_type": "code",
   "execution_count": null,
   "metadata": {},
   "outputs": [],
   "source": []
  },
  {
   "cell_type": "code",
   "execution_count": null,
   "metadata": {},
   "outputs": [],
   "source": []
  },
  {
   "cell_type": "markdown",
   "metadata": {},
   "source": [
    "Problem specific\n",
    "• Solution representation => encode vs permutation\n",
    "• Evaluation of solutions: fitness => 2-opt\n",
    "• Design of genetic operators recombination and crossover (uniform vs 1-point vs 2-point)\n",
    "\n",
    "Generic parameters\n",
    "• Population size\n",
    "• Number of newly generated solutions in each iteration\n",
    "• Selection mechanism (fitness or rank)\n",
    "• Recombination and mutation probabilities\n",
    "• Replacement strategy\n",
    "• Termination criterion\n"
   ]
  },
  {
   "cell_type": "code",
   "execution_count": null,
   "metadata": {},
   "outputs": [],
   "source": []
  },
  {
   "cell_type": "code",
   "execution_count": 231,
   "metadata": {},
   "outputs": [],
   "source": [
    "import numpy as np\n",
    "import pandas as pd\n",
    "import math\n",
    "import copy"
   ]
  },
  {
   "cell_type": "code",
   "execution_count": 232,
   "metadata": {},
   "outputs": [],
   "source": [
    "# 120 cities\n",
    "cities = 120\n",
    "\n",
    "di = pd.read_excel(\"gr120.xlsx\",sheet_name=\"DistanceMatrix\")\n",
    "distance=di.values\n",
    "\n",
    "for i in range(cities):\n",
    "    distance[i,i] = 10000"
   ]
  },
  {
   "cell_type": "code",
   "execution_count": 233,
   "metadata": {},
   "outputs": [],
   "source": [
    "# Medium size data set: # of nodes = 152\n",
    "url1 = 'http://comopt.ifi.uni-heidelberg.de/software/TSPLIB95/XML-TSPLIB/instances/pr152.xml.zip'\n",
    "zip1 = 'pr152.xml.zip'\n",
    "file1 = 'pr152.xml'\n",
    "cities1 = 152\n",
    "\n",
    "load_data(url1, zip1)\n",
    "xroot1 = import_data(file1)\n",
    "distance1 = dist_matrix(cities1, xroot1)"
   ]
  },
  {
   "cell_type": "code",
   "execution_count": 234,
   "metadata": {},
   "outputs": [],
   "source": [
    "# Larger size data set: # of nodes = 264\n",
    "url2 = 'http://comopt.ifi.uni-heidelberg.de/software/TSPLIB95/XML-TSPLIB/instances/pr264.xml.zip'\n",
    "zip2 = 'pr264.xml.zip'\n",
    "file2 = 'pr264.xml'\n",
    "cities2 = 264\n",
    "\n",
    "load_data(url2, zip2)\n",
    "xroot2 = import_data(file2)\n",
    "distance2 = dist_matrix(cities2, xroot2)"
   ]
  },
  {
   "cell_type": "code",
   "execution_count": null,
   "metadata": {},
   "outputs": [],
   "source": []
  },
  {
   "cell_type": "code",
   "execution_count": null,
   "metadata": {},
   "outputs": [],
   "source": []
  },
  {
   "cell_type": "code",
   "execution_count": 235,
   "metadata": {},
   "outputs": [],
   "source": [
    "#parameters\n",
    "pop_size = 100\n",
    "offspring_size = 500\n",
    "iterations = 100\n",
    "recombination = 0.9\n",
    "crossover = 0.5\n",
    "mutation = 0.3\n",
    "loc_mutation = 0.3"
   ]
  },
  {
   "cell_type": "code",
   "execution_count": 248,
   "metadata": {},
   "outputs": [],
   "source": [
    "codetype = 'encode'\n",
    "selecttype = 'tournament'\n",
    "crosstype = '2point'\n",
    "reptype = 'best'"
   ]
  },
  {
   "cell_type": "code",
   "execution_count": 250,
   "metadata": {},
   "outputs": [],
   "source": [
    "#main algorithm    \n",
    "solution_pop = initialize(cities, distance, pop_size, codetype = codetype )\n",
    "\n",
    "for it in range(iterations):\n",
    "    offspring = select(solution_pop, offspring_size, selecttype = selecttype)\n",
    "    new_solution_pop = recomb(cities, distance, solution_pop, offspring,\n",
    "                          recprob = recombination, muprob = mutation, crossprob = crossover, mulocprob = loc_mutation, \n",
    "                          crosstype = crosstype, codetype = codetype)\n",
    "\n",
    "    solution_pop = replace(solution_pop, new_solution_pop, pop_size, reptype = reptype)"
   ]
  },
  {
   "cell_type": "code",
   "execution_count": 251,
   "metadata": {},
   "outputs": [
    {
     "name": "stdout",
     "output_type": "stream",
     "text": [
      "Best objective value 43111\n",
      "Decision [70, 94, 111, 62, 25, 111, 96, 27, 83, 96, 39, 90, 105, 58, 89, 68, 83, 86, 36, 63, 42, 10, 21, 61, 87, 54, 31, 43, 73, 26, 37, 3, 31, 67, 3, 54, 60, 30, 65, 52, 54, 74, 12, 14, 53, 19, 9, 69, 27, 21, 0, 63, 28, 59, 64, 53, 42, 58, 0, 6, 41, 31, 48, 50, 20, 0, 25, 2, 24, 41, 13, 32, 3, 8, 25, 32, 3, 12, 18, 34, 7, 0, 8, 19, 18, 21, 2, 10, 19, 10, 3, 4, 8, 19, 12, 11, 19, 5, 16, 2, 10, 14, 12, 9, 0, 8, 3, 0, 5, 4, 7, 7, 2, 2, 3, 1, 0, 0, 0, 0]\n"
     ]
    }
   ],
   "source": [
    "best_solution = solution_pop[0]\n",
    "print('Best objective value', best_solution[0])\n",
    "print('Decision', best_solution[1])"
   ]
  },
  {
   "cell_type": "code",
   "execution_count": 112,
   "metadata": {},
   "outputs": [
    {
     "data": {
      "text/plain": [
       "53541"
      ]
     },
     "execution_count": 112,
     "metadata": {},
     "output_type": "execute_result"
    }
   ],
   "source": [
    "totalcost(decode([112, 17, 87, 0, 94, 0, 47, 96, 66, 21, 31, 39, 69, 84, 75, 48, 98, 16, 69, 70, 84, 19, 89, 73, 34, 28, 11, 7, 4, 55, 68, 51, 50, 48, 74, 4, 11, 15, 80, 52, 17, 15, 51, 25, 74, 57, 64, 29, 32, 40, 53, 66, 45, 16, 62, 63, 17, 42, 6, 18, 3, 34, 9, 17, 2, 0, 37, 48, 11, 12, 29, 11, 10, 9, 20, 6, 27, 18, 13, 27, 16, 38, 12, 9, 3, 13, 28, 25, 12, 13, 14, 13, 23, 1, 21, 24, 10, 6, 9, 20, 17, 15, 0, 12, 2, 8, 3, 6, 1, 4, 1, 6, 0, 0, 3, 1, 2, 2, 1, 0]))"
   ]
  },
  {
   "cell_type": "code",
   "execution_count": 140,
   "metadata": {},
   "outputs": [
    {
     "name": "stdout",
     "output_type": "stream",
     "text": [
      "[ 18  92  85 117  71   7  89  41   6 118  77  34  45  87  88  96 100 105\n",
      "  30  48  74  19  59  73 108   5  83  51  60 109  31  46 112  58 119  61\n",
      "  20  49  13  57  25  32  80   1  50 104  39  24 114  86  93  38  81 111\n",
      "  29  43   8  63  65   4 101  79  27  67   3  75   9 113 116  17  94  68\n",
      "  98  53 115   2  23  64  15  69  12  70  28  78 106  95 102  52 110  47\n",
      "  62  91  55  37  10  97  14  33  42  84 107  22  11  36  66  54  16  56\n",
      "  72  21   0  76  40  35  44  26  90  99 103  82]\n"
     ]
    }
   ],
   "source": [
    "start = np.arange(cities)\n",
    "entour = np.random.shuffle(start)\n",
    "print(start)"
   ]
  },
  {
   "cell_type": "code",
   "execution_count": 214,
   "metadata": {},
   "outputs": [
    {
     "ename": "AttributeError",
     "evalue": "module 'numpy.random' has no attribute 'randrange'",
     "output_type": "error",
     "traceback": [
      "\u001b[1;31m---------------------------------------------------------------------------\u001b[0m",
      "\u001b[1;31mAttributeError\u001b[0m                            Traceback (most recent call last)",
      "\u001b[1;32m<ipython-input-214-63d1c841ec9d>\u001b[0m in \u001b[0;36m<module>\u001b[1;34m\u001b[0m\n\u001b[1;32m----> 1\u001b[1;33m \u001b[0mhelp\u001b[0m\u001b[1;33m(\u001b[0m\u001b[0mnp\u001b[0m\u001b[1;33m.\u001b[0m\u001b[0mrandom\u001b[0m\u001b[1;33m.\u001b[0m\u001b[0mrandrange\u001b[0m\u001b[1;33m)\u001b[0m\u001b[1;33m\u001b[0m\u001b[1;33m\u001b[0m\u001b[0m\n\u001b[0m",
      "\u001b[1;31mAttributeError\u001b[0m: module 'numpy.random' has no attribute 'randrange'"
     ]
    }
   ],
   "source": [
    "help(np.random.randrange)"
   ]
  }
 ],
 "metadata": {
  "kernelspec": {
   "display_name": "Python 3",
   "language": "python",
   "name": "python3"
  },
  "language_info": {
   "codemirror_mode": {
    "name": "ipython",
    "version": 3
   },
   "file_extension": ".py",
   "mimetype": "text/x-python",
   "name": "python",
   "nbconvert_exporter": "python",
   "pygments_lexer": "ipython3",
   "version": "3.7.3"
  }
 },
 "nbformat": 4,
 "nbformat_minor": 2
}
