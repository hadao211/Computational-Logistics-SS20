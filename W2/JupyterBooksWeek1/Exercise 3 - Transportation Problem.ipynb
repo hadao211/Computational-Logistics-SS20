{
 "cells": [
  {
   "cell_type": "code",
   "execution_count": 1,
   "metadata": {},
   "outputs": [
    {
     "name": "stdout",
     "output_type": "stream",
     "text": [
      "Transportation quantities: \n",
      "[[3. 2. 0. 0.]\n",
      " [0. 4. 0. 4.]\n",
      " [0. 0. 6. 1.]]\n",
      "Total cost: 89.0\n"
     ]
    }
   ],
   "source": [
    "# Part a)\n",
    "# Column-minimum method\n",
    "capacity = [5,8,7]\n",
    "demand = [3,6,6,5]\n",
    "cost = [[4,5,2,7],[5,8,6,2],[8,9,4,3]] # list of list\n",
    "\n",
    "n = 3 # number of rows/sources\n",
    "m = 4 # number of columns/sinks\n",
    "\n",
    "if sum(capacity) < sum(demand):\n",
    "    print (\"Cannot fulfilled all demand !\")\n",
    "else:\n",
    "    \n",
    "    import numpy as np\n",
    "    transport = np.zeros((n,m)) # matrix\n",
    "\n",
    "    import copy\n",
    "    rc = copy.deepcopy(capacity)\n",
    "    rd = copy.deepcopy(demand)\n",
    "    tc = 0\n",
    "\n",
    "    for j in range(m): #iterate over sinks\n",
    "\n",
    "        cost_col = [list[j] for list in cost] #generate a list of cost unit from each source to sink j\n",
    "        cost_col = [(c,idx) for idx,c in enumerate(cost_col)] #include index of source with the corresponding cost unit\n",
    "        ranked_sources = [x[1] for x in sorted(cost_col)] #rank sources in ascending order of cost unit list\n",
    "\n",
    "        temp_index = 0 #iterate from left to right of the cost unit list\n",
    "        while (rd[j] > 0) and (temp_index < n): \n",
    "            current_source = ranked_sources[temp_index]\n",
    "            if rc[current_source] > 0 :\n",
    "                transport[current_source, j] = min(rc[current_source], rd[j])\n",
    "                rd[j]                -= transport[current_source, j] #calculate remaining demand\n",
    "                rc[current_source]   -= transport[current_source, j] #calculate remaining capacity\n",
    "                tc                   += transport[current_source, j] * cost[current_source][j]\n",
    "            else: temp_index += 1\n",
    "\n",
    "    print(\"Transportation quantities: \")\n",
    "    print(transport)\n",
    "    print(\"Total cost: \"+str(tc))"
   ]
  },
  {
   "cell_type": "code",
   "execution_count": null,
   "metadata": {},
   "outputs": [],
   "source": []
  },
  {
   "cell_type": "code",
   "execution_count": 2,
   "metadata": {},
   "outputs": [
    {
     "name": "stdout",
     "output_type": "stream",
     "text": [
      "Transportation quantities: \n",
      "[[0. 0. 5. 0.]\n",
      " [3. 0. 0. 5.]\n",
      " [0. 6. 1. 0.]]\n",
      "Total cost: 93.0\n"
     ]
    }
   ],
   "source": [
    "# Matrix-minimum method\n",
    "capacity = [5,8,7]\n",
    "demand = [3,6,6,5]\n",
    "cost = [[4,5,2,7],[5,8,6,2],[8,9,4,3]] # list of list\n",
    "\n",
    "n = 3 # number of rows/sources\n",
    "m = 4 # number of columns/sinks\n",
    "\n",
    "if sum(capacity) < sum(demand):\n",
    "    print (\"Cannot fulfilled all demand !\")\n",
    "else:\n",
    "    \n",
    "    import numpy as np\n",
    "    transport = np.zeros((n,m)) # matrix\n",
    "\n",
    "\n",
    "    import copy\n",
    "    rc = copy.deepcopy(capacity)\n",
    "    rd = copy.deepcopy(demand)\n",
    "    tc = 0\n",
    "    \n",
    "    temp_cost = []\n",
    "    for i in range(n): #iterate over sources\n",
    "        for j in range(m): #iterate over sinks\n",
    "            temp_cost.append((cost[i][j], (i, j)))\n",
    "    ranked_connections = [x[1] for x in sorted(temp_cost)]        \n",
    "    \n",
    "    temp_index = 0 #iterate from left to right of the cost unit list    \n",
    "    while sum(rd) > 0:    \n",
    "        current_source = ranked_connections[temp_index][0]\n",
    "        current_sink = ranked_connections[temp_index][1]\n",
    "        \n",
    "        if (rd[current_sink] > 0) and (rc[current_source] > 0):\n",
    "            transport[current_source, current_sink] = min(rc[current_source], rd[current_sink])\n",
    "            rd[current_sink]        -= transport[current_source, current_sink] #calculate remaining demand\n",
    "            rc[current_source]      -= transport[current_source, current_sink] #calculate remaining capacity\n",
    "            tc                      += transport[current_source, current_sink] * cost[current_source][current_sink]            \n",
    "        else:\n",
    "            temp_index += 1\n",
    "            continue\n",
    "\n",
    "    print(\"Transportation quantities: \")\n",
    "    print(transport)\n",
    "    print(\"Total cost: \"+str(tc))\n"
   ]
  },
  {
   "cell_type": "code",
   "execution_count": null,
   "metadata": {},
   "outputs": [],
   "source": []
  }
 ],
 "metadata": {
  "kernelspec": {
   "display_name": "Python 3",
   "language": "python",
   "name": "python3"
  },
  "language_info": {
   "codemirror_mode": {
    "name": "ipython",
    "version": 3
   },
   "file_extension": ".py",
   "mimetype": "text/x-python",
   "name": "python",
   "nbconvert_exporter": "python",
   "pygments_lexer": "ipython3",
   "version": "3.7.3"
  }
 },
 "nbformat": 4,
 "nbformat_minor": 2
}
