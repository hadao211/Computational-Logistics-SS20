{
 "cells": [
  {
   "cell_type": "code",
   "execution_count": 3,
   "metadata": {},
   "outputs": [
    {
     "name": "stdout",
     "output_type": "stream",
     "text": [
      "Tour: [0, 2, 3, 1, 5, 4, 0]\n",
      "Total length of the tour is: 18.0\n"
     ]
    }
   ],
   "source": [
    "# Part a)\n",
    "# Travelling salesman - Successive insertion\n",
    "distance = [[100, 3, 5, 2, 6, 4], [2, 100, 7, 5, 1, 3],[2, 4, 100, 3, 2, 6], [5, 3, 6, 100, 4, 4],[1, 4, 5, 2, 100, 6],[6, 5, 7, 3, 3, 100]]\n",
    "nodes = 6 # index as 0 ... nodes-1\n",
    "\n",
    "tour = [0, 0] #start and end at node 0\n",
    "length = 0 #total length of current tour\n",
    "\n",
    "import numpy as np\n",
    "\n",
    "for i in range(1, nodes) : #add nodes in order of 1 -> nodes-1\n",
    "    length_change = np.zeros(len(tour) - 1) #list of change in length for each possible position to insert new node\n",
    "    \n",
    "    for position in range(len(tour) - 1): #iterate through possible positions in current tour\n",
    "        #temp_tour = tour[: position+1] + [i] + tour[position+1 :]\n",
    "        \n",
    "        #calculate the change in length between current tour and temp tour\n",
    "        pre_ins_node = tour[position]\n",
    "        nex_ins_node = tour[position + 1]\n",
    "        if pre_ins_node == nex_ins_node:\n",
    "            length_change[position] = distance[pre_ins_node][i] + distance[i][nex_ins_node]\n",
    "        else:\n",
    "            length_change[position] = distance[pre_ins_node][i] + distance[i][nex_ins_node] - distance[pre_ins_node][nex_ins_node]\n",
    "    \n",
    "    min_position = np.argmin(length_change) #get the position which create the shortest length change\n",
    "    length += length_change[min_position]\n",
    "    tour = tour[: min_position+1] + [i] + tour[min_position+1 :]\n",
    "\n",
    "print(\"Tour:\", tour)\n",
    "print(\"Total length of the tour is:\", length)"
   ]
  },
  {
   "cell_type": "code",
   "execution_count": null,
   "metadata": {},
   "outputs": [],
   "source": []
  },
  {
   "cell_type": "code",
   "execution_count": 2,
   "metadata": {},
   "outputs": [
    {
     "data": {
      "text/plain": [
       "'Digraph.gv.pdf'"
      ]
     },
     "execution_count": 2,
     "metadata": {},
     "output_type": "execute_result"
    }
   ],
   "source": [
    "# Part b)\n",
    "# Visualize the route determined\n",
    "\n",
    "from graphviz import Digraph\n",
    "\n",
    "f = Digraph(comment='TPP')\n",
    "\n",
    "for i in range(len(tour)): \n",
    "    f.node(str(tour[i]))\n",
    "\n",
    "for i in range(len(tour)-1):\n",
    "    this_node = tour[i]\n",
    "    next_node = tour[i+1]\n",
    "    f.edge(str(this_node), str(next_node), label=str(distance[this_node][next_node]))\n",
    "    \n",
    "f.view()\n"
   ]
  },
  {
   "cell_type": "code",
   "execution_count": null,
   "metadata": {},
   "outputs": [],
   "source": []
  },
  {
   "cell_type": "code",
   "execution_count": 3,
   "metadata": {},
   "outputs": [],
   "source": [
    "# Part c)\n",
    "# Improve solution by using 2-opt\n",
    "\n",
    "# define function to swap 2 edges of nodes with index m and n (starting index 0)  \n",
    "def two_opt_swap (tour, m, n):\n",
    "    import copy\n",
    "    new_tour = copy.deepcopy(tour)\n",
    "    new_tour[m:n+1] = reversed(new_tour[m:n+1])\n",
    "    return new_tour\n",
    "\n",
    "# define function to calculate the length of the tour \n",
    "##### comment: only calculate the cost in swap edges and reverse tour => reduce computation time\n",
    "def totalcost(tour):\n",
    "    length = 0\n",
    "    for i in range(len(tour)-1):\n",
    "        length += distance[tour[i]][tour[i+1]]\n",
    "    return length"
   ]
  },
  {
   "cell_type": "code",
   "execution_count": 4,
   "metadata": {},
   "outputs": [],
   "source": [
    "# define 2-opt function\n",
    "def two_opt (tour):\n",
    "    import copy\n",
    "    \n",
    "    best_tour = tour\n",
    "    improvement = True\n",
    "    \n",
    "    while improvement: \n",
    "        improvement = False\n",
    "        for i in range(1,len(tour)-2):\n",
    "            for j in range(i+1, len(tour)-1):\n",
    "                temp_tour = two_opt_swap(tour, i, j)\n",
    "                if totalcost(temp_tour) < totalcost(best_tour):\n",
    "                    best_tour = copy.deepcopy(temp_tour)\n",
    "                    improvement = True\n",
    "    \n",
    "    return best_tour, totalcost(best_tour)\n"
   ]
  },
  {
   "cell_type": "code",
   "execution_count": 5,
   "metadata": {},
   "outputs": [
    {
     "name": "stdout",
     "output_type": "stream",
     "text": [
      "Nearest neighbor solution is [0, 3, 1, 4, 2, 5, 0]\n",
      "Total length of Nearest neighbor solution: 23\n",
      "Solution after improving by 2-opt is [0, 3, 1, 5, 2, 4, 0]\n",
      "Total length of improved solution: 18\n"
     ]
    }
   ],
   "source": [
    "# apply 2-opt method to Nearest neighbor solution\n",
    "\n",
    "# parameters\n",
    "distance = [[100, 3, 5, 2, 6, 4], [2, 100, 7, 5, 1, 3],[2, 4, 100, 3, 2, 6], [5, 3, 6, 100, 4, 4],[1, 4, 5, 2, 100, 6],[6, 5, 7, 3, 3, 100]]\n",
    "position = 0\n",
    "tour = [0]\n",
    "length = 0\n",
    "\n",
    "# get result from Nearest neighbor approach (as from lecture)\n",
    "for i in range(5):\n",
    "    nn = 0\n",
    "    nd = 100 #starting distance => maximum value\n",
    "    for j in range(6):  \n",
    "        if (j not in tour) and (distance[position][j]<nd): #node not in the tour yet\n",
    "            nd = distance[position][j]\n",
    "            nn = j\n",
    "    tour.append(nn) # append the list\n",
    "    length = length + nd\n",
    "    position = nn\n",
    "tour.append(0)\n",
    "length = length + distance[position][0]\n",
    "print(\"Nearest neighbor solution is\", tour)\n",
    "print(\"Total length of Nearest neighbor solution:\", length)\n",
    "\n",
    "#improve by 2-opt\n",
    "new_tour, new_length = two_opt(tour)\n",
    "print(\"Solution after improving by 2-opt is\", new_tour)\n",
    "print(\"Total length of improved solution:\", new_length)"
   ]
  },
  {
   "cell_type": "code",
   "execution_count": null,
   "metadata": {},
   "outputs": [],
   "source": []
  }
 ],
 "metadata": {
  "kernelspec": {
   "display_name": "Python 3",
   "language": "python",
   "name": "python3"
  },
  "language_info": {
   "codemirror_mode": {
    "name": "ipython",
    "version": 3
   },
   "file_extension": ".py",
   "mimetype": "text/x-python",
   "name": "python",
   "nbconvert_exporter": "python",
   "pygments_lexer": "ipython3",
   "version": "3.7.3"
  }
 },
 "nbformat": 4,
 "nbformat_minor": 2
}
